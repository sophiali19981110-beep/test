{
  "nbformat": 4,
  "nbformat_minor": 0,
  "metadata": {
    "colab": {
      "provenance": [],
      "gpuType": "T4",
      "include_colab_link": true
    },
    "kernelspec": {
      "name": "python3",
      "display_name": "Python 3"
    },
    "language_info": {
      "name": "python"
    },
    "accelerator": "GPU"
  },
  "cells": [
    {
      "cell_type": "markdown",
      "metadata": {
        "id": "view-in-github",
        "colab_type": "text"
      },
      "source": [
        "<a href=\"https://colab.research.google.com/github/sophiali19981110-beep/test/blob/main/YOLOv8.ipynb\" target=\"_parent\"><img src=\"https://colab.research.google.com/assets/colab-badge.svg\" alt=\"Open In Colab\"/></a>"
      ]
    },
    {
      "cell_type": "code",
      "source": [
        "!pip install ultralytics"
      ],
      "metadata": {
        "colab": {
          "base_uri": "https://localhost:8080/"
        },
        "id": "NTiCkYBovemD",
        "outputId": "44c190dc-de95-42eb-dd7b-364bd44bbae1",
        "collapsed": true
      },
      "execution_count": null,
      "outputs": [
        {
          "output_type": "stream",
          "name": "stdout",
          "text": [
            "Collecting ultralytics\n",
            "  Downloading ultralytics-8.3.159-py3-none-any.whl.metadata (37 kB)\n",
            "Requirement already satisfied: numpy>=1.23.0 in /usr/local/lib/python3.11/dist-packages (from ultralytics) (2.0.2)\n",
            "Requirement already satisfied: matplotlib>=3.3.0 in /usr/local/lib/python3.11/dist-packages (from ultralytics) (3.10.0)\n",
            "Requirement already satisfied: opencv-python>=4.6.0 in /usr/local/lib/python3.11/dist-packages (from ultralytics) (4.11.0.86)\n",
            "Requirement already satisfied: pillow>=7.1.2 in /usr/local/lib/python3.11/dist-packages (from ultralytics) (11.2.1)\n",
            "Requirement already satisfied: pyyaml>=5.3.1 in /usr/local/lib/python3.11/dist-packages (from ultralytics) (6.0.2)\n",
            "Requirement already satisfied: requests>=2.23.0 in /usr/local/lib/python3.11/dist-packages (from ultralytics) (2.32.3)\n",
            "Requirement already satisfied: scipy>=1.4.1 in /usr/local/lib/python3.11/dist-packages (from ultralytics) (1.15.3)\n",
            "Requirement already satisfied: torch>=1.8.0 in /usr/local/lib/python3.11/dist-packages (from ultralytics) (2.6.0+cu124)\n",
            "Requirement already satisfied: torchvision>=0.9.0 in /usr/local/lib/python3.11/dist-packages (from ultralytics) (0.21.0+cu124)\n",
            "Requirement already satisfied: tqdm>=4.64.0 in /usr/local/lib/python3.11/dist-packages (from ultralytics) (4.67.1)\n",
            "Requirement already satisfied: psutil in /usr/local/lib/python3.11/dist-packages (from ultralytics) (5.9.5)\n",
            "Requirement already satisfied: py-cpuinfo in /usr/local/lib/python3.11/dist-packages (from ultralytics) (9.0.0)\n",
            "Requirement already satisfied: pandas>=1.1.4 in /usr/local/lib/python3.11/dist-packages (from ultralytics) (2.2.2)\n",
            "Collecting ultralytics-thop>=2.0.0 (from ultralytics)\n",
            "  Downloading ultralytics_thop-2.0.14-py3-none-any.whl.metadata (9.4 kB)\n",
            "Requirement already satisfied: contourpy>=1.0.1 in /usr/local/lib/python3.11/dist-packages (from matplotlib>=3.3.0->ultralytics) (1.3.2)\n",
            "Requirement already satisfied: cycler>=0.10 in /usr/local/lib/python3.11/dist-packages (from matplotlib>=3.3.0->ultralytics) (0.12.1)\n",
            "Requirement already satisfied: fonttools>=4.22.0 in /usr/local/lib/python3.11/dist-packages (from matplotlib>=3.3.0->ultralytics) (4.58.4)\n",
            "Requirement already satisfied: kiwisolver>=1.3.1 in /usr/local/lib/python3.11/dist-packages (from matplotlib>=3.3.0->ultralytics) (1.4.8)\n",
            "Requirement already satisfied: packaging>=20.0 in /usr/local/lib/python3.11/dist-packages (from matplotlib>=3.3.0->ultralytics) (24.2)\n",
            "Requirement already satisfied: pyparsing>=2.3.1 in /usr/local/lib/python3.11/dist-packages (from matplotlib>=3.3.0->ultralytics) (3.2.3)\n",
            "Requirement already satisfied: python-dateutil>=2.7 in /usr/local/lib/python3.11/dist-packages (from matplotlib>=3.3.0->ultralytics) (2.9.0.post0)\n",
            "Requirement already satisfied: pytz>=2020.1 in /usr/local/lib/python3.11/dist-packages (from pandas>=1.1.4->ultralytics) (2025.2)\n",
            "Requirement already satisfied: tzdata>=2022.7 in /usr/local/lib/python3.11/dist-packages (from pandas>=1.1.4->ultralytics) (2025.2)\n",
            "Requirement already satisfied: charset-normalizer<4,>=2 in /usr/local/lib/python3.11/dist-packages (from requests>=2.23.0->ultralytics) (3.4.2)\n",
            "Requirement already satisfied: idna<4,>=2.5 in /usr/local/lib/python3.11/dist-packages (from requests>=2.23.0->ultralytics) (3.10)\n",
            "Requirement already satisfied: urllib3<3,>=1.21.1 in /usr/local/lib/python3.11/dist-packages (from requests>=2.23.0->ultralytics) (2.4.0)\n",
            "Requirement already satisfied: certifi>=2017.4.17 in /usr/local/lib/python3.11/dist-packages (from requests>=2.23.0->ultralytics) (2025.6.15)\n",
            "Requirement already satisfied: filelock in /usr/local/lib/python3.11/dist-packages (from torch>=1.8.0->ultralytics) (3.18.0)\n",
            "Requirement already satisfied: typing-extensions>=4.10.0 in /usr/local/lib/python3.11/dist-packages (from torch>=1.8.0->ultralytics) (4.14.0)\n",
            "Requirement already satisfied: networkx in /usr/local/lib/python3.11/dist-packages (from torch>=1.8.0->ultralytics) (3.5)\n",
            "Requirement already satisfied: jinja2 in /usr/local/lib/python3.11/dist-packages (from torch>=1.8.0->ultralytics) (3.1.6)\n",
            "Requirement already satisfied: fsspec in /usr/local/lib/python3.11/dist-packages (from torch>=1.8.0->ultralytics) (2025.3.2)\n",
            "Collecting nvidia-cuda-nvrtc-cu12==12.4.127 (from torch>=1.8.0->ultralytics)\n",
            "  Downloading nvidia_cuda_nvrtc_cu12-12.4.127-py3-none-manylinux2014_x86_64.whl.metadata (1.5 kB)\n",
            "Collecting nvidia-cuda-runtime-cu12==12.4.127 (from torch>=1.8.0->ultralytics)\n",
            "  Downloading nvidia_cuda_runtime_cu12-12.4.127-py3-none-manylinux2014_x86_64.whl.metadata (1.5 kB)\n",
            "Collecting nvidia-cuda-cupti-cu12==12.4.127 (from torch>=1.8.0->ultralytics)\n",
            "  Downloading nvidia_cuda_cupti_cu12-12.4.127-py3-none-manylinux2014_x86_64.whl.metadata (1.6 kB)\n",
            "Collecting nvidia-cudnn-cu12==9.1.0.70 (from torch>=1.8.0->ultralytics)\n",
            "  Downloading nvidia_cudnn_cu12-9.1.0.70-py3-none-manylinux2014_x86_64.whl.metadata (1.6 kB)\n",
            "Collecting nvidia-cublas-cu12==12.4.5.8 (from torch>=1.8.0->ultralytics)\n",
            "  Downloading nvidia_cublas_cu12-12.4.5.8-py3-none-manylinux2014_x86_64.whl.metadata (1.5 kB)\n",
            "Collecting nvidia-cufft-cu12==11.2.1.3 (from torch>=1.8.0->ultralytics)\n",
            "  Downloading nvidia_cufft_cu12-11.2.1.3-py3-none-manylinux2014_x86_64.whl.metadata (1.5 kB)\n",
            "Collecting nvidia-curand-cu12==10.3.5.147 (from torch>=1.8.0->ultralytics)\n",
            "  Downloading nvidia_curand_cu12-10.3.5.147-py3-none-manylinux2014_x86_64.whl.metadata (1.5 kB)\n",
            "Collecting nvidia-cusolver-cu12==11.6.1.9 (from torch>=1.8.0->ultralytics)\n",
            "  Downloading nvidia_cusolver_cu12-11.6.1.9-py3-none-manylinux2014_x86_64.whl.metadata (1.6 kB)\n",
            "Collecting nvidia-cusparse-cu12==12.3.1.170 (from torch>=1.8.0->ultralytics)\n",
            "  Downloading nvidia_cusparse_cu12-12.3.1.170-py3-none-manylinux2014_x86_64.whl.metadata (1.6 kB)\n",
            "Requirement already satisfied: nvidia-cusparselt-cu12==0.6.2 in /usr/local/lib/python3.11/dist-packages (from torch>=1.8.0->ultralytics) (0.6.2)\n",
            "Requirement already satisfied: nvidia-nccl-cu12==2.21.5 in /usr/local/lib/python3.11/dist-packages (from torch>=1.8.0->ultralytics) (2.21.5)\n",
            "Requirement already satisfied: nvidia-nvtx-cu12==12.4.127 in /usr/local/lib/python3.11/dist-packages (from torch>=1.8.0->ultralytics) (12.4.127)\n",
            "Collecting nvidia-nvjitlink-cu12==12.4.127 (from torch>=1.8.0->ultralytics)\n",
            "  Downloading nvidia_nvjitlink_cu12-12.4.127-py3-none-manylinux2014_x86_64.whl.metadata (1.5 kB)\n",
            "Requirement already satisfied: triton==3.2.0 in /usr/local/lib/python3.11/dist-packages (from torch>=1.8.0->ultralytics) (3.2.0)\n",
            "Requirement already satisfied: sympy==1.13.1 in /usr/local/lib/python3.11/dist-packages (from torch>=1.8.0->ultralytics) (1.13.1)\n",
            "Requirement already satisfied: mpmath<1.4,>=1.1.0 in /usr/local/lib/python3.11/dist-packages (from sympy==1.13.1->torch>=1.8.0->ultralytics) (1.3.0)\n",
            "Requirement already satisfied: six>=1.5 in /usr/local/lib/python3.11/dist-packages (from python-dateutil>=2.7->matplotlib>=3.3.0->ultralytics) (1.17.0)\n",
            "Requirement already satisfied: MarkupSafe>=2.0 in /usr/local/lib/python3.11/dist-packages (from jinja2->torch>=1.8.0->ultralytics) (3.0.2)\n",
            "Downloading ultralytics-8.3.159-py3-none-any.whl (1.0 MB)\n",
            "\u001b[2K   \u001b[90m━━━━━━━━━━━━━━━━━━━━━━━━━━━━━━━━━━━━━━━━\u001b[0m \u001b[32m1.0/1.0 MB\u001b[0m \u001b[31m16.2 MB/s\u001b[0m eta \u001b[36m0:00:00\u001b[0m\n",
            "\u001b[?25hDownloading nvidia_cublas_cu12-12.4.5.8-py3-none-manylinux2014_x86_64.whl (363.4 MB)\n",
            "\u001b[2K   \u001b[90m━━━━━━━━━━━━━━━━━━━━━━━━━━━━━━━━━━━━━━━━\u001b[0m \u001b[32m363.4/363.4 MB\u001b[0m \u001b[31m4.5 MB/s\u001b[0m eta \u001b[36m0:00:00\u001b[0m\n",
            "\u001b[?25hDownloading nvidia_cuda_cupti_cu12-12.4.127-py3-none-manylinux2014_x86_64.whl (13.8 MB)\n",
            "\u001b[2K   \u001b[90m━━━━━━━━━━━━━━━━━━━━━━━━━━━━━━━━━━━━━━━━\u001b[0m \u001b[32m13.8/13.8 MB\u001b[0m \u001b[31m111.1 MB/s\u001b[0m eta \u001b[36m0:00:00\u001b[0m\n",
            "\u001b[?25hDownloading nvidia_cuda_nvrtc_cu12-12.4.127-py3-none-manylinux2014_x86_64.whl (24.6 MB)\n",
            "\u001b[2K   \u001b[90m━━━━━━━━━━━━━━━━━━━━━━━━━━━━━━━━━━━━━━━━\u001b[0m \u001b[32m24.6/24.6 MB\u001b[0m \u001b[31m90.8 MB/s\u001b[0m eta \u001b[36m0:00:00\u001b[0m\n",
            "\u001b[?25hDownloading nvidia_cuda_runtime_cu12-12.4.127-py3-none-manylinux2014_x86_64.whl (883 kB)\n",
            "\u001b[2K   \u001b[90m━━━━━━━━━━━━━━━━━━━━━━━━━━━━━━━━━━━━━━━━\u001b[0m \u001b[32m883.7/883.7 kB\u001b[0m \u001b[31m52.4 MB/s\u001b[0m eta \u001b[36m0:00:00\u001b[0m\n",
            "\u001b[?25hDownloading nvidia_cudnn_cu12-9.1.0.70-py3-none-manylinux2014_x86_64.whl (664.8 MB)\n",
            "\u001b[2K   \u001b[90m━━━━━━━━━━━━━━━━━━━━━━━━━━━━━━━━━━━━━━━━\u001b[0m \u001b[32m664.8/664.8 MB\u001b[0m \u001b[31m3.4 MB/s\u001b[0m eta \u001b[36m0:00:00\u001b[0m\n",
            "\u001b[?25hDownloading nvidia_cufft_cu12-11.2.1.3-py3-none-manylinux2014_x86_64.whl (211.5 MB)\n",
            "\u001b[2K   \u001b[90m━━━━━━━━━━━━━━━━━━━━━━━━━━━━━━━━━━━━━━━━\u001b[0m \u001b[32m211.5/211.5 MB\u001b[0m \u001b[31m5.5 MB/s\u001b[0m eta \u001b[36m0:00:00\u001b[0m\n",
            "\u001b[?25hDownloading nvidia_curand_cu12-10.3.5.147-py3-none-manylinux2014_x86_64.whl (56.3 MB)\n",
            "\u001b[2K   \u001b[90m━━━━━━━━━━━━━━━━━━━━━━━━━━━━━━━━━━━━━━━━\u001b[0m \u001b[32m56.3/56.3 MB\u001b[0m \u001b[31m12.6 MB/s\u001b[0m eta \u001b[36m0:00:00\u001b[0m\n",
            "\u001b[?25hDownloading nvidia_cusolver_cu12-11.6.1.9-py3-none-manylinux2014_x86_64.whl (127.9 MB)\n",
            "\u001b[2K   \u001b[90m━━━━━━━━━━━━━━━━━━━━━━━━━━━━━━━━━━━━━━━━\u001b[0m \u001b[32m127.9/127.9 MB\u001b[0m \u001b[31m7.5 MB/s\u001b[0m eta \u001b[36m0:00:00\u001b[0m\n",
            "\u001b[?25hDownloading nvidia_cusparse_cu12-12.3.1.170-py3-none-manylinux2014_x86_64.whl (207.5 MB)\n",
            "\u001b[2K   \u001b[90m━━━━━━━━━━━━━━━━━━━━━━━━━━━━━━━━━━━━━━━━\u001b[0m \u001b[32m207.5/207.5 MB\u001b[0m \u001b[31m6.4 MB/s\u001b[0m eta \u001b[36m0:00:00\u001b[0m\n",
            "\u001b[?25hDownloading nvidia_nvjitlink_cu12-12.4.127-py3-none-manylinux2014_x86_64.whl (21.1 MB)\n",
            "\u001b[2K   \u001b[90m━━━━━━━━━━━━━━━━━━━━━━━━━━━━━━━━━━━━━━━━\u001b[0m \u001b[32m21.1/21.1 MB\u001b[0m \u001b[31m97.3 MB/s\u001b[0m eta \u001b[36m0:00:00\u001b[0m\n",
            "\u001b[?25hDownloading ultralytics_thop-2.0.14-py3-none-any.whl (26 kB)\n",
            "Installing collected packages: nvidia-nvjitlink-cu12, nvidia-curand-cu12, nvidia-cufft-cu12, nvidia-cuda-runtime-cu12, nvidia-cuda-nvrtc-cu12, nvidia-cuda-cupti-cu12, nvidia-cublas-cu12, nvidia-cusparse-cu12, nvidia-cudnn-cu12, nvidia-cusolver-cu12, ultralytics-thop, ultralytics\n",
            "  Attempting uninstall: nvidia-nvjitlink-cu12\n",
            "    Found existing installation: nvidia-nvjitlink-cu12 12.5.82\n",
            "    Uninstalling nvidia-nvjitlink-cu12-12.5.82:\n",
            "      Successfully uninstalled nvidia-nvjitlink-cu12-12.5.82\n",
            "  Attempting uninstall: nvidia-curand-cu12\n",
            "    Found existing installation: nvidia-curand-cu12 10.3.6.82\n",
            "    Uninstalling nvidia-curand-cu12-10.3.6.82:\n",
            "      Successfully uninstalled nvidia-curand-cu12-10.3.6.82\n",
            "  Attempting uninstall: nvidia-cufft-cu12\n",
            "    Found existing installation: nvidia-cufft-cu12 11.2.3.61\n",
            "    Uninstalling nvidia-cufft-cu12-11.2.3.61:\n",
            "      Successfully uninstalled nvidia-cufft-cu12-11.2.3.61\n",
            "  Attempting uninstall: nvidia-cuda-runtime-cu12\n",
            "    Found existing installation: nvidia-cuda-runtime-cu12 12.5.82\n",
            "    Uninstalling nvidia-cuda-runtime-cu12-12.5.82:\n",
            "      Successfully uninstalled nvidia-cuda-runtime-cu12-12.5.82\n",
            "  Attempting uninstall: nvidia-cuda-nvrtc-cu12\n",
            "    Found existing installation: nvidia-cuda-nvrtc-cu12 12.5.82\n",
            "    Uninstalling nvidia-cuda-nvrtc-cu12-12.5.82:\n",
            "      Successfully uninstalled nvidia-cuda-nvrtc-cu12-12.5.82\n",
            "  Attempting uninstall: nvidia-cuda-cupti-cu12\n",
            "    Found existing installation: nvidia-cuda-cupti-cu12 12.5.82\n",
            "    Uninstalling nvidia-cuda-cupti-cu12-12.5.82:\n",
            "      Successfully uninstalled nvidia-cuda-cupti-cu12-12.5.82\n",
            "  Attempting uninstall: nvidia-cublas-cu12\n",
            "    Found existing installation: nvidia-cublas-cu12 12.5.3.2\n",
            "    Uninstalling nvidia-cublas-cu12-12.5.3.2:\n",
            "      Successfully uninstalled nvidia-cublas-cu12-12.5.3.2\n",
            "  Attempting uninstall: nvidia-cusparse-cu12\n",
            "    Found existing installation: nvidia-cusparse-cu12 12.5.1.3\n",
            "    Uninstalling nvidia-cusparse-cu12-12.5.1.3:\n",
            "      Successfully uninstalled nvidia-cusparse-cu12-12.5.1.3\n",
            "  Attempting uninstall: nvidia-cudnn-cu12\n",
            "    Found existing installation: nvidia-cudnn-cu12 9.3.0.75\n",
            "    Uninstalling nvidia-cudnn-cu12-9.3.0.75:\n",
            "      Successfully uninstalled nvidia-cudnn-cu12-9.3.0.75\n",
            "  Attempting uninstall: nvidia-cusolver-cu12\n",
            "    Found existing installation: nvidia-cusolver-cu12 11.6.3.83\n",
            "    Uninstalling nvidia-cusolver-cu12-11.6.3.83:\n",
            "      Successfully uninstalled nvidia-cusolver-cu12-11.6.3.83\n",
            "Successfully installed nvidia-cublas-cu12-12.4.5.8 nvidia-cuda-cupti-cu12-12.4.127 nvidia-cuda-nvrtc-cu12-12.4.127 nvidia-cuda-runtime-cu12-12.4.127 nvidia-cudnn-cu12-9.1.0.70 nvidia-cufft-cu12-11.2.1.3 nvidia-curand-cu12-10.3.5.147 nvidia-cusolver-cu12-11.6.1.9 nvidia-cusparse-cu12-12.3.1.170 nvidia-nvjitlink-cu12-12.4.127 ultralytics-8.3.159 ultralytics-thop-2.0.14\n"
          ]
        }
      ]
    },
    {
      "cell_type": "code",
      "execution_count": null,
      "metadata": {
        "id": "zibNIfdTuwR8",
        "collapsed": true,
        "colab": {
          "base_uri": "https://localhost:8080/"
        },
        "outputId": "0aaf2456-ace0-47a9-8040-211cbe6089e4"
      },
      "outputs": [
        {
          "output_type": "stream",
          "name": "stdout",
          "text": [
            "Creating new Ultralytics Settings v0.0.6 file ✅ \n",
            "View Ultralytics Settings with 'yolo settings' or at '/root/.config/Ultralytics/settings.json'\n",
            "Update Settings with 'yolo settings key=value', i.e. 'yolo settings runs_dir=path/to/dir'. For help see https://docs.ultralytics.com/quickstart/#ultralytics-settings.\n"
          ]
        }
      ],
      "source": [
        "from ultralytics import YOLO"
      ]
    },
    {
      "cell_type": "code",
      "source": [
        "!rm -rf sample_data_"
      ],
      "metadata": {
        "id": "3BNmpMT380PL"
      },
      "execution_count": null,
      "outputs": []
    },
    {
      "cell_type": "code",
      "source": [
        "!unzip exdark_outdoor700.zip\n",
        "!unzip sample_data.zip"
      ],
      "metadata": {
        "colab": {
          "base_uri": "https://localhost:8080/"
        },
        "collapsed": true,
        "id": "EWGfL4fm83ju",
        "outputId": "a1de15ed-026a-458f-8fc2-bb67884e5ffd"
      },
      "execution_count": null,
      "outputs": [
        {
          "output_type": "stream",
          "name": "stdout",
          "text": [
            "Archive:  exdark_outdoor700.zip\n",
            "   creating: exdark_outdoor700/\n",
            "   creating: exdark_outdoor700/Annotations/\n",
            "  inflating: exdark_outdoor700/Annotations/2015_00004.jpg.xml  \n",
            "  inflating: exdark_outdoor700/Annotations/2015_00011.jpg.xml  \n",
            "  inflating: exdark_outdoor700/Annotations/2015_00012.jpg.xml  \n",
            "  inflating: exdark_outdoor700/Annotations/2015_00013.jpg.xml  \n",
            "  inflating: exdark_outdoor700/Annotations/2015_00016.jpg.xml  \n",
            "  inflating: exdark_outdoor700/Annotations/2015_00023.jpg.xml  \n",
            "  inflating: exdark_outdoor700/Annotations/2015_00024.JPG.xml  \n",
            "  inflating: exdark_outdoor700/Annotations/2015_00033.jpg.xml  \n",
            "  inflating: exdark_outdoor700/Annotations/2015_00034.jpg.xml  \n",
            "  inflating: exdark_outdoor700/Annotations/2015_00035.jpg.xml  \n",
            "  inflating: exdark_outdoor700/Annotations/2015_00039.jpg.xml  \n",
            "  inflating: exdark_outdoor700/Annotations/2015_00041.jpg.xml  \n",
            "  inflating: exdark_outdoor700/Annotations/2015_00046.jpg.xml  \n",
            "  inflating: exdark_outdoor700/Annotations/2015_00047.jpg.xml  \n",
            "  inflating: exdark_outdoor700/Annotations/2015_00051.jpg.xml  \n",
            "  inflating: exdark_outdoor700/Annotations/2015_00055.jpg.xml  \n",
            "  inflating: exdark_outdoor700/Annotations/2015_00056.jpg.xml  \n",
            "  inflating: exdark_outdoor700/Annotations/2015_00058.jpg.xml  \n",
            "  inflating: exdark_outdoor700/Annotations/2015_00060.jpg.xml  \n",
            "  inflating: exdark_outdoor700/Annotations/2015_00064.jpg.xml  \n",
            "  inflating: exdark_outdoor700/Annotations/2015_00067.jpg.xml  \n",
            "  inflating: exdark_outdoor700/Annotations/2015_00073.jpg.xml  \n",
            "  inflating: exdark_outdoor700/Annotations/2015_00077.jpg.xml  \n",
            "  inflating: exdark_outdoor700/Annotations/2015_00080.jpg.xml  \n",
            "  inflating: exdark_outdoor700/Annotations/2015_00082.jpg.xml  \n",
            "  inflating: exdark_outdoor700/Annotations/2015_00087.jpg.xml  \n",
            "  inflating: exdark_outdoor700/Annotations/2015_00089.jpg.xml  \n",
            "  inflating: exdark_outdoor700/Annotations/2015_00090.jpg.xml  \n",
            "  inflating: exdark_outdoor700/Annotations/2015_00102.jpg.xml  \n",
            "  inflating: exdark_outdoor700/Annotations/2015_00106.jpg.xml  \n",
            "  inflating: exdark_outdoor700/Annotations/2015_00107.jpg.xml  \n",
            "  inflating: exdark_outdoor700/Annotations/2015_00109.jpg.xml  \n",
            "  inflating: exdark_outdoor700/Annotations/2015_00114.jpg.xml  \n",
            "  inflating: exdark_outdoor700/Annotations/2015_00116.jpg.xml  \n",
            "  inflating: exdark_outdoor700/Annotations/2015_00118.jpg.xml  \n",
            "  inflating: exdark_outdoor700/Annotations/2015_00119.jpg.xml  \n",
            "  inflating: exdark_outdoor700/Annotations/2015_00120.jpg.xml  \n",
            "  inflating: exdark_outdoor700/Annotations/2015_00121.jpg.xml  \n",
            "  inflating: exdark_outdoor700/Annotations/2015_00125.jpg.xml  \n",
            "  inflating: exdark_outdoor700/Annotations/2015_00131.jpg.xml  \n",
            "  inflating: exdark_outdoor700/Annotations/2015_00135.jpg.xml  \n",
            "  inflating: exdark_outdoor700/Annotations/2015_00137.jpg.xml  \n",
            "  inflating: exdark_outdoor700/Annotations/2015_00143.jpg.xml  \n",
            "  inflating: exdark_outdoor700/Annotations/2015_00144.jpg.xml  \n",
            "  inflating: exdark_outdoor700/Annotations/2015_00150.jpg.xml  \n",
            "  inflating: exdark_outdoor700/Annotations/2015_00155.jpg.xml  \n",
            "  inflating: exdark_outdoor700/Annotations/2015_00158.jpg.xml  \n",
            "  inflating: exdark_outdoor700/Annotations/2015_00160.jpg.xml  \n",
            "  inflating: exdark_outdoor700/Annotations/2015_00168.jpg.xml  \n",
            "  inflating: exdark_outdoor700/Annotations/2015_00174.jpg.xml  \n",
            "  inflating: exdark_outdoor700/Annotations/2015_00178.jpg.xml  \n",
            "  inflating: exdark_outdoor700/Annotations/2015_00182.jpg.xml  \n",
            "  inflating: exdark_outdoor700/Annotations/2015_00189.jpg.xml  \n",
            "  inflating: exdark_outdoor700/Annotations/2015_00190.jpg.xml  \n",
            "  inflating: exdark_outdoor700/Annotations/2015_00192.jpg.xml  \n",
            "  inflating: exdark_outdoor700/Annotations/2015_00197.png.xml  \n",
            "  inflating: exdark_outdoor700/Annotations/2015_00199.jpg.xml  \n",
            "  inflating: exdark_outdoor700/Annotations/2015_00205.jpg.xml  \n",
            "  inflating: exdark_outdoor700/Annotations/2015_00212.jpg.xml  \n",
            "  inflating: exdark_outdoor700/Annotations/2015_00215.jpg.xml  \n",
            "  inflating: exdark_outdoor700/Annotations/2015_00219.jpg.xml  \n",
            "  inflating: exdark_outdoor700/Annotations/2015_00220.jpg.xml  \n",
            "  inflating: exdark_outdoor700/Annotations/2015_00229.jpg.xml  \n",
            "  inflating: exdark_outdoor700/Annotations/2015_00231.jpg.xml  \n",
            "  inflating: exdark_outdoor700/Annotations/2015_00232.jpg.xml  \n",
            "  inflating: exdark_outdoor700/Annotations/2015_00233.jpg.xml  \n",
            "  inflating: exdark_outdoor700/Annotations/2015_00234.jpg.xml  \n",
            "  inflating: exdark_outdoor700/Annotations/2015_00235.jpg.xml  \n",
            "  inflating: exdark_outdoor700/Annotations/2015_00242.jpg.xml  \n",
            "  inflating: exdark_outdoor700/Annotations/2015_00245.jpg.xml  \n",
            "  inflating: exdark_outdoor700/Annotations/2015_00247.jpg.xml  \n",
            "  inflating: exdark_outdoor700/Annotations/2015_00249.jpg.xml  \n",
            "  inflating: exdark_outdoor700/Annotations/2015_00250.jpg.xml  \n",
            "  inflating: exdark_outdoor700/Annotations/2015_00654.jpg.xml  \n",
            "  inflating: exdark_outdoor700/Annotations/2015_00657.jpg.xml  \n",
            "  inflating: exdark_outdoor700/Annotations/2015_00659.jpg.xml  \n",
            "  inflating: exdark_outdoor700/Annotations/2015_00662.jpg.xml  \n",
            "  inflating: exdark_outdoor700/Annotations/2015_00668.jpg.xml  \n",
            "  inflating: exdark_outdoor700/Annotations/2015_00669.jpg.xml  \n",
            "  inflating: exdark_outdoor700/Annotations/2015_00671.jpg.xml  \n",
            "  inflating: exdark_outdoor700/Annotations/2015_00674.jpg.xml  \n",
            "  inflating: exdark_outdoor700/Annotations/2015_00675.jpg.xml  \n",
            "  inflating: exdark_outdoor700/Annotations/2015_00679.jpg.xml  \n",
            "  inflating: exdark_outdoor700/Annotations/2015_00681.jpg.xml  \n",
            "  inflating: exdark_outdoor700/Annotations/2015_00684.jpg.xml  \n",
            "  inflating: exdark_outdoor700/Annotations/2015_00686.jpg.xml  \n",
            "  inflating: exdark_outdoor700/Annotations/2015_00689.jpg.xml  \n",
            "  inflating: exdark_outdoor700/Annotations/2015_00691.jpg.xml  \n",
            "  inflating: exdark_outdoor700/Annotations/2015_00692.jpg.xml  \n",
            "  inflating: exdark_outdoor700/Annotations/2015_00701.jpg.xml  \n",
            "  inflating: exdark_outdoor700/Annotations/2015_00706.jpg.xml  \n",
            "  inflating: exdark_outdoor700/Annotations/2015_00713.jpg.xml  \n",
            "  inflating: exdark_outdoor700/Annotations/2015_00714.jpg.xml  \n",
            "  inflating: exdark_outdoor700/Annotations/2015_00715.jpg.xml  \n",
            "  inflating: exdark_outdoor700/Annotations/2015_00716.jpg.xml  \n",
            "  inflating: exdark_outdoor700/Annotations/2015_00717.jpg.xml  \n",
            "  inflating: exdark_outdoor700/Annotations/2015_00718.jpg.xml  \n",
            "  inflating: exdark_outdoor700/Annotations/2015_00719.jpg.xml  \n",
            "  inflating: exdark_outdoor700/Annotations/2015_00720.jpg.xml  \n",
            "  inflating: exdark_outdoor700/Annotations/2015_00724.jpg.xml  \n",
            "  inflating: exdark_outdoor700/Annotations/2015_00727.jpg.xml  \n",
            "  inflating: exdark_outdoor700/Annotations/2015_00734.jpg.xml  \n",
            "  inflating: exdark_outdoor700/Annotations/2015_00735.jpg.xml  \n",
            "  inflating: exdark_outdoor700/Annotations/2015_00739.jpg.xml  \n",
            "  inflating: exdark_outdoor700/Annotations/2015_00746.jpg.xml  \n",
            "  inflating: exdark_outdoor700/Annotations/2015_00752.jpg.xml  \n",
            "  inflating: exdark_outdoor700/Annotations/2015_00756.jpg.xml  \n",
            "  inflating: exdark_outdoor700/Annotations/2015_00760.jpg.xml  \n",
            "  inflating: exdark_outdoor700/Annotations/2015_00761.jpg.xml  \n",
            "  inflating: exdark_outdoor700/Annotations/2015_00762.jpg.xml  \n",
            "  inflating: exdark_outdoor700/Annotations/2015_00767.jpg.xml  \n",
            "  inflating: exdark_outdoor700/Annotations/2015_00769.jpg.xml  \n",
            "  inflating: exdark_outdoor700/Annotations/2015_00771.jpg.xml  \n",
            "  inflating: exdark_outdoor700/Annotations/2015_00777.jpg.xml  \n",
            "  inflating: exdark_outdoor700/Annotations/2015_00786.jpg.xml  \n",
            "  inflating: exdark_outdoor700/Annotations/2015_00787.jpg.xml  \n",
            "  inflating: exdark_outdoor700/Annotations/2015_00788.jpg.xml  \n",
            "  inflating: exdark_outdoor700/Annotations/2015_00790.jpg.xml  \n",
            "  inflating: exdark_outdoor700/Annotations/2015_00799.jpg.xml  \n",
            "  inflating: exdark_outdoor700/Annotations/2015_00802.jpg.xml  \n",
            "  inflating: exdark_outdoor700/Annotations/2015_00803.jpg.xml  \n",
            "  inflating: exdark_outdoor700/Annotations/2015_00804.jpg.xml  \n",
            "  inflating: exdark_outdoor700/Annotations/2015_00805.jpg.xml  \n",
            "  inflating: exdark_outdoor700/Annotations/2015_00807.jpg.xml  \n",
            "  inflating: exdark_outdoor700/Annotations/2015_00808.jpg.xml  \n",
            "  inflating: exdark_outdoor700/Annotations/2015_00810.jpg.xml  \n",
            "  inflating: exdark_outdoor700/Annotations/2015_00813.jpg.xml  \n",
            "  inflating: exdark_outdoor700/Annotations/2015_00817.jpg.xml  \n",
            "  inflating: exdark_outdoor700/Annotations/2015_00821.jpg.xml  \n",
            "  inflating: exdark_outdoor700/Annotations/2015_00822.jpg.xml  \n",
            "  inflating: exdark_outdoor700/Annotations/2015_00823.jpg.xml  \n",
            "  inflating: exdark_outdoor700/Annotations/2015_00826.jpg.xml  \n",
            "  inflating: exdark_outdoor700/Annotations/2015_00829.jpg.xml  \n",
            "  inflating: exdark_outdoor700/Annotations/2015_00830.jpg.xml  \n",
            "  inflating: exdark_outdoor700/Annotations/2015_00832.jpg.xml  \n",
            "  inflating: exdark_outdoor700/Annotations/2015_00835.jpg.xml  \n",
            "  inflating: exdark_outdoor700/Annotations/2015_00841.jpg.xml  \n",
            "  inflating: exdark_outdoor700/Annotations/2015_00842.jpg.xml  \n",
            "  inflating: exdark_outdoor700/Annotations/2015_00844.jpg.xml  \n",
            "  inflating: exdark_outdoor700/Annotations/2015_00847.jpg.xml  \n",
            "  inflating: exdark_outdoor700/Annotations/2015_00854.jpg.xml  \n",
            "  inflating: exdark_outdoor700/Annotations/2015_00857.jpg.xml  \n",
            "  inflating: exdark_outdoor700/Annotations/2015_00858.jpg.xml  \n",
            "  inflating: exdark_outdoor700/Annotations/2015_00859.jpg.xml  \n",
            "  inflating: exdark_outdoor700/Annotations/2015_00860.jpg.xml  \n",
            "  inflating: exdark_outdoor700/Annotations/2015_00861.jpg.xml  \n",
            "  inflating: exdark_outdoor700/Annotations/2015_00862.jpg.xml  \n",
            "  inflating: exdark_outdoor700/Annotations/2015_00864.jpg.xml  \n",
            "  inflating: exdark_outdoor700/Annotations/2015_00866.jpg.xml  \n",
            "  inflating: exdark_outdoor700/Annotations/2015_00868.jpg.xml  \n",
            "  inflating: exdark_outdoor700/Annotations/2015_00869.jpg.xml  \n",
            "  inflating: exdark_outdoor700/Annotations/2015_00870.jpg.xml  \n",
            "  inflating: exdark_outdoor700/Annotations/2015_00874.jpg.xml  \n",
            "  inflating: exdark_outdoor700/Annotations/2015_00875.jpg.xml  \n",
            "  inflating: exdark_outdoor700/Annotations/2015_00876.jpg.xml  \n",
            "  inflating: exdark_outdoor700/Annotations/2015_00877.jpg.xml  \n",
            "  inflating: exdark_outdoor700/Annotations/2015_00878.jpg.xml  \n",
            "  inflating: exdark_outdoor700/Annotations/2015_00879.jpg.xml  \n",
            "  inflating: exdark_outdoor700/Annotations/2015_00880.jpg.xml  \n",
            "  inflating: exdark_outdoor700/Annotations/2015_00884.jpg.xml  \n",
            "  inflating: exdark_outdoor700/Annotations/2015_00885.jpg.xml  \n",
            "  inflating: exdark_outdoor700/Annotations/2015_00887.jpg.xml  \n",
            "  inflating: exdark_outdoor700/Annotations/2015_00890.jpg.xml  \n",
            "  inflating: exdark_outdoor700/Annotations/2015_00893.jpg.xml  \n",
            "  inflating: exdark_outdoor700/Annotations/2015_00895.jpg.xml  \n",
            "  inflating: exdark_outdoor700/Annotations/2015_00899.jpg.xml  \n",
            "  inflating: exdark_outdoor700/Annotations/2015_01349.jpg.xml  \n",
            "  inflating: exdark_outdoor700/Annotations/2015_01355.jpg.xml  \n",
            "  inflating: exdark_outdoor700/Annotations/2015_01357.jpg.xml  \n",
            "  inflating: exdark_outdoor700/Annotations/2015_01361.jpg.xml  \n",
            "  inflating: exdark_outdoor700/Annotations/2015_01363.jpg.xml  \n",
            "  inflating: exdark_outdoor700/Annotations/2015_01379.jpg.xml  \n",
            "  inflating: exdark_outdoor700/Annotations/2015_01383.jpg.xml  \n",
            "  inflating: exdark_outdoor700/Annotations/2015_01388.jpg.xml  \n",
            "  inflating: exdark_outdoor700/Annotations/2015_01430.jpg.xml  \n",
            "  inflating: exdark_outdoor700/Annotations/2015_01448.jpg.xml  \n",
            "  inflating: exdark_outdoor700/Annotations/2015_01452.jpg.xml  \n",
            "  inflating: exdark_outdoor700/Annotations/2015_01466.jpg.xml  \n",
            "  inflating: exdark_outdoor700/Annotations/2015_01469.jpg.xml  \n",
            "  inflating: exdark_outdoor700/Annotations/2015_01470.jpg.xml  \n",
            "  inflating: exdark_outdoor700/Annotations/2015_01481.jpg.xml  \n",
            "  inflating: exdark_outdoor700/Annotations/2015_01483.jpg.xml  \n",
            "  inflating: exdark_outdoor700/Annotations/2015_01490.jpg.xml  \n",
            "  inflating: exdark_outdoor700/Annotations/2015_01493.jpg.xml  \n",
            "  inflating: exdark_outdoor700/Annotations/2015_01502.jpg.xml  \n",
            "  inflating: exdark_outdoor700/Annotations/2015_01515.jpg.xml  \n",
            "  inflating: exdark_outdoor700/Annotations/2015_01535.jpg.xml  \n",
            "  inflating: exdark_outdoor700/Annotations/2015_01553.jpg.xml  \n",
            "  inflating: exdark_outdoor700/Annotations/2015_01557.jpg.xml  \n",
            "  inflating: exdark_outdoor700/Annotations/2015_01560.jpg.xml  \n",
            "  inflating: exdark_outdoor700/Annotations/2015_01569.jpg.xml  \n",
            "  inflating: exdark_outdoor700/Annotations/2015_01573.jpg.xml  \n",
            "  inflating: exdark_outdoor700/Annotations/2015_01575.jpg.xml  \n",
            "  inflating: exdark_outdoor700/Annotations/2015_01580.jpg.xml  \n",
            "  inflating: exdark_outdoor700/Annotations/2015_01885.png.xml  \n",
            "  inflating: exdark_outdoor700/Annotations/2015_01890.png.xml  \n",
            "  inflating: exdark_outdoor700/Annotations/2015_01893.jpg.xml  \n",
            "  inflating: exdark_outdoor700/Annotations/2015_01899.jpg.xml  \n",
            "  inflating: exdark_outdoor700/Annotations/2015_01900.jpg.xml  \n",
            "  inflating: exdark_outdoor700/Annotations/2015_01901.jpg.xml  \n",
            "  inflating: exdark_outdoor700/Annotations/2015_01902.jpg.xml  \n",
            "  inflating: exdark_outdoor700/Annotations/2015_01904.jpg.xml  \n",
            "  inflating: exdark_outdoor700/Annotations/2015_01906.jpg.xml  \n",
            "  inflating: exdark_outdoor700/Annotations/2015_01912.jpg.xml  \n",
            "  inflating: exdark_outdoor700/Annotations/2015_01916.jpg.xml  \n",
            "  inflating: exdark_outdoor700/Annotations/2015_01917.jpg.xml  \n",
            "  inflating: exdark_outdoor700/Annotations/2015_01918.jpg.xml  \n",
            "  inflating: exdark_outdoor700/Annotations/2015_01926.jpg.xml  \n",
            "  inflating: exdark_outdoor700/Annotations/2015_01928.jpg.xml  \n",
            "  inflating: exdark_outdoor700/Annotations/2015_01930.jpg.xml  \n",
            "  inflating: exdark_outdoor700/Annotations/2015_01937.jpg.xml  \n",
            "  inflating: exdark_outdoor700/Annotations/2015_01940.jpg.xml  \n",
            "  inflating: exdark_outdoor700/Annotations/2015_01941.jpg.xml  \n",
            "  inflating: exdark_outdoor700/Annotations/2015_01945.jpg.xml  \n",
            "  inflating: exdark_outdoor700/Annotations/2015_01950.jpg.xml  \n",
            "  inflating: exdark_outdoor700/Annotations/2015_01951.jpg.xml  \n",
            "  inflating: exdark_outdoor700/Annotations/2015_01952.jpg.xml  \n",
            "  inflating: exdark_outdoor700/Annotations/2015_01954.jpg.xml  \n",
            "  inflating: exdark_outdoor700/Annotations/2015_01956.jpg.xml  \n",
            "  inflating: exdark_outdoor700/Annotations/2015_01957.jpg.xml  \n",
            "  inflating: exdark_outdoor700/Annotations/2015_01961.jpg.xml  \n",
            "  inflating: exdark_outdoor700/Annotations/2015_01965.jpg.xml  \n",
            "  inflating: exdark_outdoor700/Annotations/2015_01966.jpg.xml  \n",
            "  inflating: exdark_outdoor700/Annotations/2015_01971.jpg.xml  \n",
            "  inflating: exdark_outdoor700/Annotations/2015_01974.jpg.xml  \n",
            "  inflating: exdark_outdoor700/Annotations/2015_01978.jpg.xml  \n",
            "  inflating: exdark_outdoor700/Annotations/2015_01980.jpg.xml  \n",
            "  inflating: exdark_outdoor700/Annotations/2015_01984.jpg.xml  \n",
            "  inflating: exdark_outdoor700/Annotations/2015_01986.jpg.xml  \n",
            "  inflating: exdark_outdoor700/Annotations/2015_01987.jpg.xml  \n",
            "  inflating: exdark_outdoor700/Annotations/2015_01992.jpg.xml  \n",
            "  inflating: exdark_outdoor700/Annotations/2015_01993.jpg.xml  \n",
            "  inflating: exdark_outdoor700/Annotations/2015_01994.jpg.xml  \n",
            "  inflating: exdark_outdoor700/Annotations/2015_01995.jpg.xml  \n",
            "  inflating: exdark_outdoor700/Annotations/2015_02004.jpg.xml  \n",
            "  inflating: exdark_outdoor700/Annotations/2015_02007.jpg.xml  \n",
            "  inflating: exdark_outdoor700/Annotations/2015_02008.jpg.xml  \n",
            "  inflating: exdark_outdoor700/Annotations/2015_02009.jpg.xml  \n",
            "  inflating: exdark_outdoor700/Annotations/2015_02013.jpg.xml  \n",
            "  inflating: exdark_outdoor700/Annotations/2015_02014.jpg.xml  \n",
            "  inflating: exdark_outdoor700/Annotations/2015_02018.jpg.xml  \n",
            "  inflating: exdark_outdoor700/Annotations/2015_02020.jpg.xml  \n",
            "  inflating: exdark_outdoor700/Annotations/2015_02021.jpg.xml  \n",
            "  inflating: exdark_outdoor700/Annotations/2015_02024.jpg.xml  \n",
            "  inflating: exdark_outdoor700/Annotations/2015_02028.jpg.xml  \n",
            "  inflating: exdark_outdoor700/Annotations/2015_02029.jpg.xml  \n",
            "  inflating: exdark_outdoor700/Annotations/2015_02040.jpg.xml  \n",
            "  inflating: exdark_outdoor700/Annotations/2015_02042.jpg.xml  \n",
            "  inflating: exdark_outdoor700/Annotations/2015_02043.jpg.xml  \n",
            "  inflating: exdark_outdoor700/Annotations/2015_02050.jpg.xml  \n",
            "  inflating: exdark_outdoor700/Annotations/2015_02051.jpg.xml  \n",
            "  inflating: exdark_outdoor700/Annotations/2015_02057.jpg.xml  \n",
            "  inflating: exdark_outdoor700/Annotations/2015_02058.jpg.xml  \n",
            "  inflating: exdark_outdoor700/Annotations/2015_02060.jpg.xml  \n",
            "  inflating: exdark_outdoor700/Annotations/2015_02061.jpg.xml  \n",
            "  inflating: exdark_outdoor700/Annotations/2015_02063.jpg.xml  \n",
            "  inflating: exdark_outdoor700/Annotations/2015_02066.jpg.xml  \n",
            "  inflating: exdark_outdoor700/Annotations/2015_02073.jpg.xml  \n",
            "  inflating: exdark_outdoor700/Annotations/2015_02081.jpg.xml  \n",
            "  inflating: exdark_outdoor700/Annotations/2015_02082.jpg.xml  \n",
            "  inflating: exdark_outdoor700/Annotations/2015_02085.jpg.xml  \n",
            "  inflating: exdark_outdoor700/Annotations/2015_02087.jpg.xml  \n",
            "  inflating: exdark_outdoor700/Annotations/2015_02089.jpg.xml  \n",
            "  inflating: exdark_outdoor700/Annotations/2015_02090.jpg.xml  \n",
            "  inflating: exdark_outdoor700/Annotations/2015_02093.jpg.xml  \n",
            "  inflating: exdark_outdoor700/Annotations/2015_02102.jpg.xml  \n",
            "  inflating: exdark_outdoor700/Annotations/2015_02105.jpg.xml  \n",
            "  inflating: exdark_outdoor700/Annotations/2015_02110.jpg.xml  \n",
            "  inflating: exdark_outdoor700/Annotations/2015_02111.jpg.xml  \n",
            "  inflating: exdark_outdoor700/Annotations/2015_02113.jpg.xml  \n",
            "  inflating: exdark_outdoor700/Annotations/2015_02117.jpg.xml  \n",
            "  inflating: exdark_outdoor700/Annotations/2015_02118.jpg.xml  \n",
            "  inflating: exdark_outdoor700/Annotations/2015_02119.jpg.xml  \n",
            "  inflating: exdark_outdoor700/Annotations/2015_02122.jpg.xml  \n",
            "  inflating: exdark_outdoor700/Annotations/2015_02124.jpg.xml  \n",
            "  inflating: exdark_outdoor700/Annotations/2015_02126.jpg.xml  \n",
            "  inflating: exdark_outdoor700/Annotations/2015_02128.jpg.xml  \n",
            "  inflating: exdark_outdoor700/Annotations/2015_02409.jpg.xml  \n",
            "  inflating: exdark_outdoor700/Annotations/2015_02412.jpg.xml  \n",
            "  inflating: exdark_outdoor700/Annotations/2015_02413.jpg.xml  \n",
            "  inflating: exdark_outdoor700/Annotations/2015_02416.png.xml  \n",
            "  inflating: exdark_outdoor700/Annotations/2015_02422.jpg.xml  \n",
            "  inflating: exdark_outdoor700/Annotations/2015_02423.jpg.xml  \n",
            "  inflating: exdark_outdoor700/Annotations/2015_02424.jpg.xml  \n",
            "  inflating: exdark_outdoor700/Annotations/2015_02425.jpg.xml  \n",
            "  inflating: exdark_outdoor700/Annotations/2015_02430.jpg.xml  \n",
            "  inflating: exdark_outdoor700/Annotations/2015_02432.jpg.xml  \n",
            "  inflating: exdark_outdoor700/Annotations/2015_02434.jpg.xml  \n",
            "  inflating: exdark_outdoor700/Annotations/2015_02435.jpg.xml  \n",
            "  inflating: exdark_outdoor700/Annotations/2015_02437.jpg.xml  \n",
            "  inflating: exdark_outdoor700/Annotations/2015_02439.jpg.xml  \n",
            "  inflating: exdark_outdoor700/Annotations/2015_02441.jpg.xml  \n",
            "  inflating: exdark_outdoor700/Annotations/2015_02443.jpg.xml  \n",
            "  inflating: exdark_outdoor700/Annotations/2015_02444.jpg.xml  \n",
            "  inflating: exdark_outdoor700/Annotations/2015_02445.jpg.xml  \n",
            "  inflating: exdark_outdoor700/Annotations/2015_02447.jpg.xml  \n",
            "  inflating: exdark_outdoor700/Annotations/2015_02449.jpg.xml  \n",
            "  inflating: exdark_outdoor700/Annotations/2015_02451.jpg.xml  \n",
            "  inflating: exdark_outdoor700/Annotations/2015_02452.jpg.xml  \n",
            "  inflating: exdark_outdoor700/Annotations/2015_02454.jpg.xml  \n",
            "  inflating: exdark_outdoor700/Annotations/2015_02455.jpg.xml  \n",
            "  inflating: exdark_outdoor700/Annotations/2015_02457.jpg.xml  \n",
            "  inflating: exdark_outdoor700/Annotations/2015_02459.jpg.xml  \n",
            "  inflating: exdark_outdoor700/Annotations/2015_02461.jpg.xml  \n",
            "  inflating: exdark_outdoor700/Annotations/2015_02463.jpg.xml  \n",
            "  inflating: exdark_outdoor700/Annotations/2015_02465.jpg.xml  \n",
            "  inflating: exdark_outdoor700/Annotations/2015_02468.jpg.xml  \n",
            "  inflating: exdark_outdoor700/Annotations/2015_02469.jpg.xml  \n",
            "  inflating: exdark_outdoor700/Annotations/2015_02470.jpg.xml  \n",
            "  inflating: exdark_outdoor700/Annotations/2015_02474.jpg.xml  \n",
            "  inflating: exdark_outdoor700/Annotations/2015_02476.jpg.xml  \n",
            "  inflating: exdark_outdoor700/Annotations/2015_02477.jpg.xml  \n",
            "  inflating: exdark_outdoor700/Annotations/2015_02478.jpg.xml  \n",
            "  inflating: exdark_outdoor700/Annotations/2015_02484.jpg.xml  \n",
            "  inflating: exdark_outdoor700/Annotations/2015_02487.jpg.xml  \n",
            "  inflating: exdark_outdoor700/Annotations/2015_02488.jpg.xml  \n",
            "  inflating: exdark_outdoor700/Annotations/2015_02489.jpg.xml  \n",
            "  inflating: exdark_outdoor700/Annotations/2015_02491.jpg.xml  \n",
            "  inflating: exdark_outdoor700/Annotations/2015_02495.jpg.xml  \n",
            "  inflating: exdark_outdoor700/Annotations/2015_02496.jpg.xml  \n",
            "  inflating: exdark_outdoor700/Annotations/2015_02499.jpg.xml  \n",
            "  inflating: exdark_outdoor700/Annotations/2015_02506.jpg.xml  \n",
            "  inflating: exdark_outdoor700/Annotations/2015_02507.jpg.xml  \n",
            "  inflating: exdark_outdoor700/Annotations/2015_02508.jpg.xml  \n",
            "  inflating: exdark_outdoor700/Annotations/2015_02510.jpg.xml  \n",
            "  inflating: exdark_outdoor700/Annotations/2015_02511.jpg.xml  \n",
            "  inflating: exdark_outdoor700/Annotations/2015_02512.jpg.xml  \n",
            "  inflating: exdark_outdoor700/Annotations/2015_02514.jpg.xml  \n",
            "  inflating: exdark_outdoor700/Annotations/2015_02517.jpg.xml  \n",
            "  inflating: exdark_outdoor700/Annotations/2015_02519.jpg.xml  \n",
            "  inflating: exdark_outdoor700/Annotations/2015_02522.jpg.xml  \n",
            "  inflating: exdark_outdoor700/Annotations/2015_02529.jpg.xml  \n",
            "  inflating: exdark_outdoor700/Annotations/2015_02530.jpg.xml  \n",
            "  inflating: exdark_outdoor700/Annotations/2015_02531.jpg.xml  \n",
            "  inflating: exdark_outdoor700/Annotations/2015_02533.jpg.xml  \n",
            "  inflating: exdark_outdoor700/Annotations/2015_02535.jpg.xml  \n",
            "  inflating: exdark_outdoor700/Annotations/2015_02536.jpg.xml  \n",
            "  inflating: exdark_outdoor700/Annotations/2015_02537.jpg.xml  \n",
            "  inflating: exdark_outdoor700/Annotations/2015_02546.jpg.xml  \n",
            "  inflating: exdark_outdoor700/Annotations/2015_02547.jpg.xml  \n",
            "  inflating: exdark_outdoor700/Annotations/2015_02549.jpg.xml  \n",
            "  inflating: exdark_outdoor700/Annotations/2015_02553.jpg.xml  \n",
            "  inflating: exdark_outdoor700/Annotations/2015_02555.jpg.xml  \n",
            "  inflating: exdark_outdoor700/Annotations/2015_02558.jpg.xml  \n",
            "  inflating: exdark_outdoor700/Annotations/2015_02561.jpg.xml  \n",
            "  inflating: exdark_outdoor700/Annotations/2015_02563.jpg.xml  \n",
            "  inflating: exdark_outdoor700/Annotations/2015_02566.jpg.xml  \n",
            "  inflating: exdark_outdoor700/Annotations/2015_02569.jpg.xml  \n",
            "  inflating: exdark_outdoor700/Annotations/2015_02570.jpg.xml  \n",
            "  inflating: exdark_outdoor700/Annotations/2015_02572.jpg.xml  \n",
            "  inflating: exdark_outdoor700/Annotations/2015_02574.jpg.xml  \n",
            "  inflating: exdark_outdoor700/Annotations/2015_02582.jpg.xml  \n",
            "  inflating: exdark_outdoor700/Annotations/2015_02585.jpg.xml  \n",
            "  inflating: exdark_outdoor700/Annotations/2015_02588.jpg.xml  \n",
            "  inflating: exdark_outdoor700/Annotations/2015_02590.jpg.xml  \n",
            "  inflating: exdark_outdoor700/Annotations/2015_02594.jpg.xml  \n",
            "  inflating: exdark_outdoor700/Annotations/2015_02595.jpg.xml  \n",
            "  inflating: exdark_outdoor700/Annotations/2015_02596.jpg.xml  \n",
            "  inflating: exdark_outdoor700/Annotations/2015_02597.jpg.xml  \n",
            "  inflating: exdark_outdoor700/Annotations/2015_02598.jpg.xml  \n",
            "  inflating: exdark_outdoor700/Annotations/2015_02599.jpg.xml  \n",
            "  inflating: exdark_outdoor700/Annotations/2015_02600.jpg.xml  \n",
            "  inflating: exdark_outdoor700/Annotations/2015_02603.jpg.xml  \n",
            "  inflating: exdark_outdoor700/Annotations/2015_02605.jpg.xml  \n",
            "  inflating: exdark_outdoor700/Annotations/2015_02606.jpg.xml  \n",
            "  inflating: exdark_outdoor700/Annotations/2015_02607.jpg.xml  \n",
            "  inflating: exdark_outdoor700/Annotations/2015_02609.jpg.xml  \n",
            "  inflating: exdark_outdoor700/Annotations/2015_02612.jpg.xml  \n",
            "  inflating: exdark_outdoor700/Annotations/2015_02613.jpg.xml  \n",
            "  inflating: exdark_outdoor700/Annotations/2015_02618.JPEG.xml  \n",
            "  inflating: exdark_outdoor700/Annotations/2015_02619.JPEG.xml  \n",
            "  inflating: exdark_outdoor700/Annotations/2015_02623.JPEG.xml  \n",
            "  inflating: exdark_outdoor700/Annotations/2015_02629.jpg.xml  \n",
            "  inflating: exdark_outdoor700/Annotations/2015_02631.jpg.xml  \n",
            "  inflating: exdark_outdoor700/Annotations/2015_02632.jpg.xml  \n",
            "  inflating: exdark_outdoor700/Annotations/2015_02634.jpg.xml  \n",
            "  inflating: exdark_outdoor700/Annotations/2015_02640.jpg.xml  \n",
            "  inflating: exdark_outdoor700/Annotations/2015_02641.jpg.xml  \n",
            "  inflating: exdark_outdoor700/Annotations/2015_02642.JPG.xml  \n",
            "  inflating: exdark_outdoor700/Annotations/2015_02645.JPG.xml  \n",
            "  inflating: exdark_outdoor700/Annotations/2015_02647.JPG.xml  \n",
            "  inflating: exdark_outdoor700/Annotations/2015_02650.JPG.xml  \n",
            "  inflating: exdark_outdoor700/Annotations/2015_02652.JPG.xml  \n",
            "  inflating: exdark_outdoor700/Annotations/2015_03055.jpg.xml  \n",
            "  inflating: exdark_outdoor700/Annotations/2015_03058.jpg.xml  \n",
            "  inflating: exdark_outdoor700/Annotations/2015_03062.jpg.xml  \n",
            "  inflating: exdark_outdoor700/Annotations/2015_03064.jpg.xml  \n",
            "  inflating: exdark_outdoor700/Annotations/2015_03065.jpg.xml  \n",
            "  inflating: exdark_outdoor700/Annotations/2015_03070.jpg.xml  \n",
            "  inflating: exdark_outdoor700/Annotations/2015_03073.jpg.xml  \n",
            "  inflating: exdark_outdoor700/Annotations/2015_03074.jpg.xml  \n",
            "  inflating: exdark_outdoor700/Annotations/2015_03080.jpg.xml  \n",
            "  inflating: exdark_outdoor700/Annotations/2015_03082.jpg.xml  \n",
            "  inflating: exdark_outdoor700/Annotations/2015_03084.jpg.xml  \n",
            "  inflating: exdark_outdoor700/Annotations/2015_03090.jpg.xml  \n",
            "  inflating: exdark_outdoor700/Annotations/2015_03094.jpg.xml  \n",
            "  inflating: exdark_outdoor700/Annotations/2015_03099.jpg.xml  \n",
            "  inflating: exdark_outdoor700/Annotations/2015_03101.jpg.xml  \n",
            "  inflating: exdark_outdoor700/Annotations/2015_03103.jpg.xml  \n",
            "  inflating: exdark_outdoor700/Annotations/2015_03116.jpg.xml  \n",
            "  inflating: exdark_outdoor700/Annotations/2015_03124.jpg.xml  \n",
            "  inflating: exdark_outdoor700/Annotations/2015_03134.jpg.xml  \n",
            "  inflating: exdark_outdoor700/Annotations/2015_03136.jpg.xml  \n",
            "  inflating: exdark_outdoor700/Annotations/2015_03144.jpg.xml  \n",
            "  inflating: exdark_outdoor700/Annotations/2015_03147.jpg.xml  \n",
            "  inflating: exdark_outdoor700/Annotations/2015_03151.jpg.xml  \n",
            "  inflating: exdark_outdoor700/Annotations/2015_03157.jpg.xml  \n",
            "  inflating: exdark_outdoor700/Annotations/2015_03158.jpg.xml  \n",
            "  inflating: exdark_outdoor700/Annotations/2015_03159.jpg.xml  \n",
            "  inflating: exdark_outdoor700/Annotations/2015_03167.jpg.xml  \n",
            "  inflating: exdark_outdoor700/Annotations/2015_03179.jpg.xml  \n",
            "  inflating: exdark_outdoor700/Annotations/2015_03195.jpg.xml  \n",
            "  inflating: exdark_outdoor700/Annotations/2015_03196.jpg.xml  \n",
            "  inflating: exdark_outdoor700/Annotations/2015_03200.jpg.xml  \n",
            "  inflating: exdark_outdoor700/Annotations/2015_03204.jpg.xml  \n",
            "  inflating: exdark_outdoor700/Annotations/2015_03205.jpg.xml  \n",
            "  inflating: exdark_outdoor700/Annotations/2015_03206.jpg.xml  \n",
            "  inflating: exdark_outdoor700/Annotations/2015_03212.jpg.xml  \n",
            "  inflating: exdark_outdoor700/Annotations/2015_03226.jpg.xml  \n",
            "  inflating: exdark_outdoor700/Annotations/2015_03234.jpg.xml  \n",
            "  inflating: exdark_outdoor700/Annotations/2015_03235.jpg.xml  \n",
            "  inflating: exdark_outdoor700/Annotations/2015_03238.jpg.xml  \n",
            "  inflating: exdark_outdoor700/Annotations/2015_03244.jpg.xml  \n",
            "  inflating: exdark_outdoor700/Annotations/2015_03250.jpg.xml  \n",
            "  inflating: exdark_outdoor700/Annotations/2015_03255.jpg.xml  \n",
            "  inflating: exdark_outdoor700/Annotations/2015_03257.jpg.xml  \n",
            "  inflating: exdark_outdoor700/Annotations/2015_03262.jpg.xml  \n",
            "  inflating: exdark_outdoor700/Annotations/2015_03268.jpg.xml  \n",
            "  inflating: exdark_outdoor700/Annotations/2015_03273.jpg.xml  \n",
            "  inflating: exdark_outdoor700/Annotations/2015_03274.jpg.xml  \n",
            "  inflating: exdark_outdoor700/Annotations/2015_03282.jpg.xml  \n",
            "  inflating: exdark_outdoor700/Annotations/2015_03286.jpg.xml  \n",
            "  inflating: exdark_outdoor700/Annotations/2015_03287.jpg.xml  \n",
            "  inflating: exdark_outdoor700/Annotations/2015_03794.jpg.xml  \n",
            "  inflating: exdark_outdoor700/Annotations/2015_03806.jpg.xml  \n",
            "  inflating: exdark_outdoor700/Annotations/2015_03817.jpg.xml  \n",
            "  inflating: exdark_outdoor700/Annotations/2015_03818.jpg.xml  \n",
            "  inflating: exdark_outdoor700/Annotations/2015_03820.jpg.xml  \n",
            "  inflating: exdark_outdoor700/Annotations/2015_03827.jpg.xml  \n",
            "  inflating: exdark_outdoor700/Annotations/2015_03829.jpg.xml  \n",
            "  inflating: exdark_outdoor700/Annotations/2015_03833.jpg.xml  \n",
            "  inflating: exdark_outdoor700/Annotations/2015_03838.jpg.xml  \n",
            "  inflating: exdark_outdoor700/Annotations/2015_03850.jpg.xml  \n",
            "  inflating: exdark_outdoor700/Annotations/2015_03854.jpg.xml  \n",
            "  inflating: exdark_outdoor700/Annotations/2015_03860.jpg.xml  \n",
            "  inflating: exdark_outdoor700/Annotations/2015_03865.jpg.xml  \n",
            "  inflating: exdark_outdoor700/Annotations/2015_03874.jpg.xml  \n",
            "  inflating: exdark_outdoor700/Annotations/2015_03883.jpg.xml  \n",
            "  inflating: exdark_outdoor700/Annotations/2015_03934.JPG.xml  \n",
            "  inflating: exdark_outdoor700/Annotations/2015_03938.jpg.xml  \n",
            "  inflating: exdark_outdoor700/Annotations/2015_03941.jpg.xml  \n",
            "  inflating: exdark_outdoor700/Annotations/2015_03944.jpg.xml  \n",
            "  inflating: exdark_outdoor700/Annotations/2015_03956.jpg.xml  \n",
            "  inflating: exdark_outdoor700/Annotations/2015_03964.jpg.xml  \n",
            "  inflating: exdark_outdoor700/Annotations/2015_03966.jpg.xml  \n",
            "  inflating: exdark_outdoor700/Annotations/2015_03983.jpg.xml  \n",
            "  inflating: exdark_outdoor700/Annotations/2015_03986.jpg.xml  \n",
            "  inflating: exdark_outdoor700/Annotations/2015_03999.jpg.xml  \n",
            "  inflating: exdark_outdoor700/Annotations/2015_04470.jpg.xml  \n",
            "  inflating: exdark_outdoor700/Annotations/2015_04509.jpg.xml  \n",
            "  inflating: exdark_outdoor700/Annotations/2015_04515.jpg.xml  \n",
            "  inflating: exdark_outdoor700/Annotations/2015_04528.jpg.xml  \n",
            "  inflating: exdark_outdoor700/Annotations/2015_04598.jpg.xml  \n",
            "  inflating: exdark_outdoor700/Annotations/2015_04612.jpg.xml  \n",
            "  inflating: exdark_outdoor700/Annotations/2015_04944.jpg.xml  \n",
            "  inflating: exdark_outdoor700/Annotations/2015_04956.jpg.xml  \n",
            "  inflating: exdark_outdoor700/Annotations/2015_04959.jpg.xml  \n",
            "  inflating: exdark_outdoor700/Annotations/2015_04960.jpg.xml  \n",
            "  inflating: exdark_outdoor700/Annotations/2015_04963.jpg.xml  \n",
            "  inflating: exdark_outdoor700/Annotations/2015_04964.jpg.xml  \n",
            "  inflating: exdark_outdoor700/Annotations/2015_04968.jpg.xml  \n",
            "  inflating: exdark_outdoor700/Annotations/2015_04969.jpg.xml  \n",
            "  inflating: exdark_outdoor700/Annotations/2015_04977.jpg.xml  \n",
            "  inflating: exdark_outdoor700/Annotations/2015_04978.jpg.xml  \n",
            "  inflating: exdark_outdoor700/Annotations/2015_04980.jpg.xml  \n",
            "  inflating: exdark_outdoor700/Annotations/2015_04982.jpg.xml  \n",
            "  inflating: exdark_outdoor700/Annotations/2015_04983.jpg.xml  \n",
            "  inflating: exdark_outdoor700/Annotations/2015_04986.jpg.xml  \n",
            "  inflating: exdark_outdoor700/Annotations/2015_04988.jpg.xml  \n",
            "  inflating: exdark_outdoor700/Annotations/2015_04991.jpg.xml  \n",
            "  inflating: exdark_outdoor700/Annotations/2015_04998.jpg.xml  \n",
            "  inflating: exdark_outdoor700/Annotations/2015_05001.jpg.xml  \n",
            "  inflating: exdark_outdoor700/Annotations/2015_05002.jpg.xml  \n",
            "  inflating: exdark_outdoor700/Annotations/2015_05009.jpg.xml  \n",
            "  inflating: exdark_outdoor700/Annotations/2015_05015.jpg.xml  \n",
            "  inflating: exdark_outdoor700/Annotations/2015_05017.jpg.xml  \n",
            "  inflating: exdark_outdoor700/Annotations/2015_05026.jpg.xml  \n",
            "  inflating: exdark_outdoor700/Annotations/2015_05027.jpg.xml  \n",
            "  inflating: exdark_outdoor700/Annotations/2015_05028.jpg.xml  \n",
            "  inflating: exdark_outdoor700/Annotations/2015_05030.jpg.xml  \n",
            "  inflating: exdark_outdoor700/Annotations/2015_05031.jpg.xml  \n",
            "  inflating: exdark_outdoor700/Annotations/2015_05033.jpg.xml  \n",
            "  inflating: exdark_outdoor700/Annotations/2015_05036.jpg.xml  \n",
            "  inflating: exdark_outdoor700/Annotations/2015_05041.jpg.xml  \n",
            "  inflating: exdark_outdoor700/Annotations/2015_05042.jpg.xml  \n",
            "  inflating: exdark_outdoor700/Annotations/2015_05044.jpg.xml  \n",
            "  inflating: exdark_outdoor700/Annotations/2015_05045.jpg.xml  \n",
            "  inflating: exdark_outdoor700/Annotations/2015_05056.jpg.xml  \n",
            "  inflating: exdark_outdoor700/Annotations/2015_05066.jpg.xml  \n",
            "  inflating: exdark_outdoor700/Annotations/2015_05070.jpg.xml  \n",
            "  inflating: exdark_outdoor700/Annotations/2015_05083.jpg.xml  \n",
            "  inflating: exdark_outdoor700/Annotations/2015_05090.jpg.xml  \n",
            "  inflating: exdark_outdoor700/Annotations/2015_05094.jpg.xml  \n",
            "  inflating: exdark_outdoor700/Annotations/2015_05097.jpg.xml  \n",
            "  inflating: exdark_outdoor700/Annotations/2015_05101.jpg.xml  \n",
            "  inflating: exdark_outdoor700/Annotations/2015_05103.jpg.xml  \n",
            "  inflating: exdark_outdoor700/Annotations/2015_05107.jpg.xml  \n",
            "  inflating: exdark_outdoor700/Annotations/2015_05110.jpg.xml  \n",
            "  inflating: exdark_outdoor700/Annotations/2015_05120.jpg.xml  \n",
            "  inflating: exdark_outdoor700/Annotations/2015_05126.jpg.xml  \n",
            "  inflating: exdark_outdoor700/Annotations/2015_05129.jpg.xml  \n",
            "  inflating: exdark_outdoor700/Annotations/2015_05131.jpg.xml  \n",
            "  inflating: exdark_outdoor700/Annotations/2015_05135.jpg.xml  \n",
            "  inflating: exdark_outdoor700/Annotations/2015_05139.jpg.xml  \n",
            "  inflating: exdark_outdoor700/Annotations/2015_05141.jpg.xml  \n",
            "  inflating: exdark_outdoor700/Annotations/2015_05143.jpg.xml  \n",
            "  inflating: exdark_outdoor700/Annotations/2015_05144.jpg.xml  \n",
            "  inflating: exdark_outdoor700/Annotations/2015_05147.jpg.xml  \n",
            "  inflating: exdark_outdoor700/Annotations/2015_05148.jpg.xml  \n",
            "  inflating: exdark_outdoor700/Annotations/2015_05153.jpg.xml  \n",
            "  inflating: exdark_outdoor700/Annotations/2015_05154.jpg.xml  \n",
            "  inflating: exdark_outdoor700/Annotations/2015_05160.jpg.xml  \n",
            "  inflating: exdark_outdoor700/Annotations/2015_05161.jpg.xml  \n",
            "  inflating: exdark_outdoor700/Annotations/2015_05162.jpg.xml  \n",
            "  inflating: exdark_outdoor700/Annotations/2015_05164.jpg.xml  \n",
            "  inflating: exdark_outdoor700/Annotations/2015_05165.jpg.xml  \n",
            "  inflating: exdark_outdoor700/Annotations/2015_05172.jpg.xml  \n",
            "  inflating: exdark_outdoor700/Annotations/2015_05176.jpg.xml  \n",
            "  inflating: exdark_outdoor700/Annotations/2015_05178.jpg.xml  \n",
            "  inflating: exdark_outdoor700/Annotations/2015_05181.jpg.xml  \n",
            "  inflating: exdark_outdoor700/Annotations/2015_05182.jpg.xml  \n",
            "  inflating: exdark_outdoor700/Annotations/2015_05185.jpg.xml  \n",
            "  inflating: exdark_outdoor700/Annotations/2015_05189.jpg.xml  \n",
            "  inflating: exdark_outdoor700/Annotations/2015_05192.jpg.xml  \n",
            "  inflating: exdark_outdoor700/Annotations/2015_05745.jpg.xml  \n",
            "  inflating: exdark_outdoor700/Annotations/2015_05759.jpg.xml  \n",
            "  inflating: exdark_outdoor700/Annotations/2015_05766.jpg.xml  \n",
            "  inflating: exdark_outdoor700/Annotations/2015_05767.jpg.xml  \n",
            "  inflating: exdark_outdoor700/Annotations/2015_05773.jpg.xml  \n",
            "  inflating: exdark_outdoor700/Annotations/2015_05780.jpg.xml  \n",
            "  inflating: exdark_outdoor700/Annotations/2015_05781.jpg.xml  \n",
            "  inflating: exdark_outdoor700/Annotations/2015_05787.jpg.xml  \n",
            "  inflating: exdark_outdoor700/Annotations/2015_05789.jpg.xml  \n",
            "  inflating: exdark_outdoor700/Annotations/2015_05791.jpg.xml  \n",
            "  inflating: exdark_outdoor700/Annotations/2015_05795.jpg.xml  \n",
            "  inflating: exdark_outdoor700/Annotations/2015_05800.jpg.xml  \n",
            "  inflating: exdark_outdoor700/Annotations/2015_05802.jpg.xml  \n",
            "  inflating: exdark_outdoor700/Annotations/2015_05804.jpg.xml  \n",
            "  inflating: exdark_outdoor700/Annotations/2015_05805.jpg.xml  \n",
            "  inflating: exdark_outdoor700/Annotations/2015_05815.jpg.xml  \n",
            "  inflating: exdark_outdoor700/Annotations/2015_05816.jpg.xml  \n",
            "  inflating: exdark_outdoor700/Annotations/2015_05819.jpg.xml  \n",
            "  inflating: exdark_outdoor700/Annotations/2015_05820.jpg.xml  \n",
            "  inflating: exdark_outdoor700/Annotations/2015_05821.jpg.xml  \n",
            "  inflating: exdark_outdoor700/Annotations/2015_05823.jpg.xml  \n",
            "  inflating: exdark_outdoor700/Annotations/2015_05828.jpg.xml  \n",
            "  inflating: exdark_outdoor700/Annotations/2015_05829.jpg.xml  \n",
            "  inflating: exdark_outdoor700/Annotations/2015_05832.jpg.xml  \n",
            "  inflating: exdark_outdoor700/Annotations/2015_05843.jpg.xml  \n",
            "  inflating: exdark_outdoor700/Annotations/2015_05845.jpg.xml  \n",
            "  inflating: exdark_outdoor700/Annotations/2015_05846.jpg.xml  \n",
            "  inflating: exdark_outdoor700/Annotations/2015_05847.jpg.xml  \n",
            "  inflating: exdark_outdoor700/Annotations/2015_05848.jpg.xml  \n",
            "  inflating: exdark_outdoor700/Annotations/2015_05850.jpg.xml  \n",
            "  inflating: exdark_outdoor700/Annotations/2015_05851.jpg.xml  \n",
            "  inflating: exdark_outdoor700/Annotations/2015_05853.jpg.xml  \n",
            "  inflating: exdark_outdoor700/Annotations/2015_05854.jpg.xml  \n",
            "  inflating: exdark_outdoor700/Annotations/2015_05855.jpg.xml  \n",
            "  inflating: exdark_outdoor700/Annotations/2015_05858.jpg.xml  \n",
            "  inflating: exdark_outdoor700/Annotations/2015_05860.jpg.xml  \n",
            "  inflating: exdark_outdoor700/Annotations/2015_05863.jpg.xml  \n",
            "  inflating: exdark_outdoor700/Annotations/2015_05864.jpg.xml  \n",
            "  inflating: exdark_outdoor700/Annotations/2015_05866.jpg.xml  \n",
            "  inflating: exdark_outdoor700/Annotations/2015_05867.jpg.xml  \n",
            "  inflating: exdark_outdoor700/Annotations/2015_05868.jpg.xml  \n",
            "  inflating: exdark_outdoor700/Annotations/2015_05871.jpg.xml  \n",
            "  inflating: exdark_outdoor700/Annotations/2015_05874.jpg.xml  \n",
            "  inflating: exdark_outdoor700/Annotations/2015_05877.jpg.xml  \n",
            "  inflating: exdark_outdoor700/Annotations/2015_05878.jpg.xml  \n",
            "  inflating: exdark_outdoor700/Annotations/2015_05883.jpg.xml  \n",
            "  inflating: exdark_outdoor700/Annotations/2015_05893.jpg.xml  \n",
            "  inflating: exdark_outdoor700/Annotations/2015_05894.jpg.xml  \n",
            "  inflating: exdark_outdoor700/Annotations/2015_05895.jpg.xml  \n",
            "  inflating: exdark_outdoor700/Annotations/2015_05898.jpg.xml  \n",
            "  inflating: exdark_outdoor700/Annotations/2015_05900.jpg.xml  \n",
            "  inflating: exdark_outdoor700/Annotations/2015_05901.jpg.xml  \n",
            "  inflating: exdark_outdoor700/Annotations/2015_05908.jpg.xml  \n",
            "  inflating: exdark_outdoor700/Annotations/2015_05911.jpg.xml  \n",
            "  inflating: exdark_outdoor700/Annotations/2015_05917.jpg.xml  \n",
            "  inflating: exdark_outdoor700/Annotations/2015_05921.jpg.xml  \n",
            "  inflating: exdark_outdoor700/Annotations/2015_05922.jpg.xml  \n",
            "  inflating: exdark_outdoor700/Annotations/2015_05929.jpg.xml  \n",
            "  inflating: exdark_outdoor700/Annotations/2015_05932.jpg.xml  \n",
            "  inflating: exdark_outdoor700/Annotations/2015_05933.jpg.xml  \n",
            "  inflating: exdark_outdoor700/Annotations/2015_05934.jpg.xml  \n",
            "  inflating: exdark_outdoor700/Annotations/2015_05937.jpg.xml  \n",
            "  inflating: exdark_outdoor700/Annotations/2015_05940.jpg.xml  \n",
            "  inflating: exdark_outdoor700/Annotations/2015_05941.jpg.xml  \n",
            "  inflating: exdark_outdoor700/Annotations/2015_05942.jpg.xml  \n",
            "  inflating: exdark_outdoor700/Annotations/2015_05943.jpg.xml  \n",
            "  inflating: exdark_outdoor700/Annotations/2015_05946.jpg.xml  \n",
            "  inflating: exdark_outdoor700/Annotations/2015_05949.jpg.xml  \n",
            "  inflating: exdark_outdoor700/Annotations/2015_05950.jpg.xml  \n",
            "  inflating: exdark_outdoor700/Annotations/2015_05952.jpg.xml  \n",
            "  inflating: exdark_outdoor700/Annotations/2015_05956.jpg.xml  \n",
            "  inflating: exdark_outdoor700/Annotations/2015_05957.jpg.xml  \n",
            "  inflating: exdark_outdoor700/Annotations/2015_05958.jpg.xml  \n",
            "  inflating: exdark_outdoor700/Annotations/2015_05959.jpg.xml  \n",
            "  inflating: exdark_outdoor700/Annotations/2015_05961.jpg.xml  \n",
            "  inflating: exdark_outdoor700/Annotations/2015_05969.jpg.xml  \n",
            "  inflating: exdark_outdoor700/Annotations/2015_05970.jpg.xml  \n",
            "  inflating: exdark_outdoor700/Annotations/2015_05971.jpg.xml  \n",
            "  inflating: exdark_outdoor700/Annotations/2015_05973.jpg.xml  \n",
            "  inflating: exdark_outdoor700/Annotations/2015_05974.jpg.xml  \n",
            "  inflating: exdark_outdoor700/Annotations/2015_05975.jpg.xml  \n",
            "  inflating: exdark_outdoor700/Annotations/2015_05976.jpg.xml  \n",
            "  inflating: exdark_outdoor700/Annotations/2015_05978.jpg.xml  \n",
            "  inflating: exdark_outdoor700/Annotations/2015_05980.jpg.xml  \n",
            "  inflating: exdark_outdoor700/Annotations/2015_05981.jpg.xml  \n",
            "  inflating: exdark_outdoor700/Annotations/2015_05982.jpg.xml  \n",
            "  inflating: exdark_outdoor700/Annotations/2015_05983.jpg.xml  \n",
            "  inflating: exdark_outdoor700/Annotations/2015_05988.jpg.xml  \n",
            "  inflating: exdark_outdoor700/Annotations/2015_05992.jpg.xml  \n",
            "  inflating: exdark_outdoor700/Annotations/2015_05993.jpg.xml  \n",
            "  inflating: exdark_outdoor700/Annotations/2015_05994.jpg.xml  \n",
            "  inflating: exdark_outdoor700/Annotations/2015_06248.jpg.xml  \n",
            "  inflating: exdark_outdoor700/Annotations/2015_06249.jpg.xml  \n",
            "  inflating: exdark_outdoor700/Annotations/2015_06252.jpg.xml  \n",
            "  inflating: exdark_outdoor700/Annotations/2015_06254.jpg.xml  \n",
            "  inflating: exdark_outdoor700/Annotations/2015_06259.jpg.xml  \n",
            "  inflating: exdark_outdoor700/Annotations/2015_06261.jpg.xml  \n",
            "  inflating: exdark_outdoor700/Annotations/2015_06265.jpg.xml  \n",
            "  inflating: exdark_outdoor700/Annotations/2015_06266.jpg.xml  \n",
            "  inflating: exdark_outdoor700/Annotations/2015_06268.jpg.xml  \n",
            "  inflating: exdark_outdoor700/Annotations/2015_06271.jpg.xml  \n",
            "  inflating: exdark_outdoor700/Annotations/2015_06272.jpg.xml  \n",
            "  inflating: exdark_outdoor700/Annotations/2015_06280.jpg.xml  \n",
            "  inflating: exdark_outdoor700/Annotations/2015_06282.jpg.xml  \n",
            "  inflating: exdark_outdoor700/Annotations/2015_06290.jpg.xml  \n",
            "  inflating: exdark_outdoor700/Annotations/2015_06291.jpg.xml  \n",
            "  inflating: exdark_outdoor700/Annotations/2015_06296.jpg.xml  \n",
            "  inflating: exdark_outdoor700/Annotations/2015_06302.jpg.xml  \n",
            "  inflating: exdark_outdoor700/Annotations/2015_06308.jpg.xml  \n",
            "  inflating: exdark_outdoor700/Annotations/2015_06309.jpg.xml  \n",
            "  inflating: exdark_outdoor700/Annotations/2015_06314.jpg.xml  \n",
            "  inflating: exdark_outdoor700/Annotations/2015_06317.jpg.xml  \n",
            "  inflating: exdark_outdoor700/Annotations/2015_06318.jpg.xml  \n",
            "  inflating: exdark_outdoor700/Annotations/2015_06325.jpg.xml  \n",
            "  inflating: exdark_outdoor700/Annotations/2015_06327.jpg.xml  \n",
            "  inflating: exdark_outdoor700/Annotations/2015_06333.jpg.xml  \n",
            "  inflating: exdark_outdoor700/Annotations/2015_06334.jpg.xml  \n",
            "  inflating: exdark_outdoor700/Annotations/2015_06335.jpg.xml  \n",
            "  inflating: exdark_outdoor700/Annotations/2015_06338.jpg.xml  \n",
            "  inflating: exdark_outdoor700/Annotations/2015_06341.jpg.xml  \n",
            "  inflating: exdark_outdoor700/Annotations/2015_06342.jpg.xml  \n",
            "  inflating: exdark_outdoor700/Annotations/2015_06344.jpg.xml  \n",
            "  inflating: exdark_outdoor700/Annotations/2015_06349.jpg.xml  \n",
            "  inflating: exdark_outdoor700/Annotations/2015_06351.jpg.xml  \n",
            "  inflating: exdark_outdoor700/Annotations/2015_06353.jpg.xml  \n",
            "  inflating: exdark_outdoor700/Annotations/2015_06358.jpg.xml  \n",
            "  inflating: exdark_outdoor700/Annotations/2015_06366.jpg.xml  \n",
            "  inflating: exdark_outdoor700/Annotations/2015_06367.jpg.xml  \n",
            "  inflating: exdark_outdoor700/Annotations/2015_06371.jpg.xml  \n",
            "  inflating: exdark_outdoor700/Annotations/2015_06378.jpg.xml  \n",
            "  inflating: exdark_outdoor700/Annotations/2015_06379.jpg.xml  \n",
            "  inflating: exdark_outdoor700/Annotations/2015_06380.jpg.xml  \n",
            "  inflating: exdark_outdoor700/Annotations/2015_06387.jpg.xml  \n",
            "  inflating: exdark_outdoor700/Annotations/2015_06389.jpg.xml  \n",
            "  inflating: exdark_outdoor700/Annotations/2015_06392.jpg.xml  \n",
            "  inflating: exdark_outdoor700/Annotations/2015_06394.jpg.xml  \n",
            "  inflating: exdark_outdoor700/Annotations/2015_06395.jpg.xml  \n",
            "  inflating: exdark_outdoor700/Annotations/2015_06397.jpg.xml  \n",
            "  inflating: exdark_outdoor700/Annotations/2015_06406.jpg.xml  \n",
            "  inflating: exdark_outdoor700/Annotations/2015_06407.jpg.xml  \n",
            "  inflating: exdark_outdoor700/Annotations/2015_06417.jpg.xml  \n",
            "  inflating: exdark_outdoor700/Annotations/2015_06419.jpg.xml  \n",
            "  inflating: exdark_outdoor700/Annotations/2015_06427.jpg.xml  \n",
            "  inflating: exdark_outdoor700/Annotations/2015_06428.jpg.xml  \n",
            "  inflating: exdark_outdoor700/Annotations/2015_06446.jpg.xml  \n",
            "  inflating: exdark_outdoor700/Annotations/2015_06454.jpg.xml  \n",
            "  inflating: exdark_outdoor700/Annotations/2015_06459.jpg.xml  \n",
            "  inflating: exdark_outdoor700/Annotations/2015_06474.jpeg.xml  \n",
            "  inflating: exdark_outdoor700/Annotations/2015_06866.jpg.xml  \n",
            "  inflating: exdark_outdoor700/Annotations/2015_06889.jpg.xml  \n",
            "  inflating: exdark_outdoor700/Annotations/2015_06891.jpg.xml  \n",
            "  inflating: exdark_outdoor700/Annotations/2015_06894.jpg.xml  \n",
            "  inflating: exdark_outdoor700/Annotations/2015_06931.jpg.xml  \n",
            "  inflating: exdark_outdoor700/Annotations/2015_06957.jpg.xml  \n",
            "  inflating: exdark_outdoor700/Annotations/2015_06966.jpg.xml  \n",
            "  inflating: exdark_outdoor700/Annotations/2015_06974.jpg.xml  \n",
            "  inflating: exdark_outdoor700/Annotations/2015_06998.jpg.xml  \n",
            "  inflating: exdark_outdoor700/Annotations/2015_07002.jpg.xml  \n",
            "  inflating: exdark_outdoor700/Annotations/2015_07006.jpg.xml  \n",
            "  inflating: exdark_outdoor700/Annotations/2015_07017.jpg.xml  \n",
            "  inflating: exdark_outdoor700/Annotations/2015_07035.jpg.xml  \n",
            "  inflating: exdark_outdoor700/Annotations/2015_07041.jpg.xml  \n",
            "  inflating: exdark_outdoor700/Annotations/2015_07069.jpg.xml  \n",
            "  inflating: exdark_outdoor700/Annotations/2015_07073.jpg.xml  \n",
            "  inflating: exdark_outdoor700/Annotations/2015_07088.jpg.xml  \n",
            "  inflating: exdark_outdoor700/Annotations/2015_07090.jpg.xml  \n",
            "   creating: exdark_outdoor700/JPEGImages/\n",
            "  inflating: exdark_outdoor700/JPEGImages/2015_00004.jpg  \n",
            "  inflating: exdark_outdoor700/JPEGImages/2015_00011.jpg  \n",
            "  inflating: exdark_outdoor700/JPEGImages/2015_00012.jpg  \n",
            "  inflating: exdark_outdoor700/JPEGImages/2015_00013.jpg  \n",
            "  inflating: exdark_outdoor700/JPEGImages/2015_00016.jpg  \n",
            "  inflating: exdark_outdoor700/JPEGImages/2015_00023.jpg  \n",
            "  inflating: exdark_outdoor700/JPEGImages/2015_00024.JPG  \n",
            "  inflating: exdark_outdoor700/JPEGImages/2015_00033.jpg  \n",
            "  inflating: exdark_outdoor700/JPEGImages/2015_00034.jpg  \n",
            "  inflating: exdark_outdoor700/JPEGImages/2015_00035.jpg  \n",
            "  inflating: exdark_outdoor700/JPEGImages/2015_00039.jpg  \n",
            "  inflating: exdark_outdoor700/JPEGImages/2015_00041.jpg  \n",
            "  inflating: exdark_outdoor700/JPEGImages/2015_00046.jpg  \n",
            "  inflating: exdark_outdoor700/JPEGImages/2015_00047.jpg  \n",
            "  inflating: exdark_outdoor700/JPEGImages/2015_00051.jpg  \n",
            "  inflating: exdark_outdoor700/JPEGImages/2015_00055.jpg  \n",
            "  inflating: exdark_outdoor700/JPEGImages/2015_00056.jpg  \n",
            "  inflating: exdark_outdoor700/JPEGImages/2015_00058.jpg  \n",
            "  inflating: exdark_outdoor700/JPEGImages/2015_00060.jpg  \n",
            "  inflating: exdark_outdoor700/JPEGImages/2015_00064.jpg  \n",
            "  inflating: exdark_outdoor700/JPEGImages/2015_00067.jpg  \n",
            "  inflating: exdark_outdoor700/JPEGImages/2015_00073.jpg  \n",
            "  inflating: exdark_outdoor700/JPEGImages/2015_00077.jpg  \n",
            "  inflating: exdark_outdoor700/JPEGImages/2015_00080.jpg  \n",
            "  inflating: exdark_outdoor700/JPEGImages/2015_00082.jpg  \n",
            "  inflating: exdark_outdoor700/JPEGImages/2015_00087.jpg  \n",
            "  inflating: exdark_outdoor700/JPEGImages/2015_00089.jpg  \n",
            "  inflating: exdark_outdoor700/JPEGImages/2015_00090.jpg  \n",
            "  inflating: exdark_outdoor700/JPEGImages/2015_00102.jpg  \n",
            "  inflating: exdark_outdoor700/JPEGImages/2015_00106.jpg  \n",
            "  inflating: exdark_outdoor700/JPEGImages/2015_00107.jpg  \n",
            "  inflating: exdark_outdoor700/JPEGImages/2015_00109.jpg  \n",
            "  inflating: exdark_outdoor700/JPEGImages/2015_00114.jpg  \n",
            "  inflating: exdark_outdoor700/JPEGImages/2015_00116.jpg  \n",
            "  inflating: exdark_outdoor700/JPEGImages/2015_00118.jpg  \n",
            "  inflating: exdark_outdoor700/JPEGImages/2015_00119.jpg  \n",
            "  inflating: exdark_outdoor700/JPEGImages/2015_00120.jpg  \n",
            "  inflating: exdark_outdoor700/JPEGImages/2015_00121.jpg  \n",
            "  inflating: exdark_outdoor700/JPEGImages/2015_00125.jpg  \n",
            "  inflating: exdark_outdoor700/JPEGImages/2015_00131.jpg  \n",
            "  inflating: exdark_outdoor700/JPEGImages/2015_00135.jpg  \n",
            "  inflating: exdark_outdoor700/JPEGImages/2015_00137.jpg  \n",
            "  inflating: exdark_outdoor700/JPEGImages/2015_00143.jpg  \n",
            "  inflating: exdark_outdoor700/JPEGImages/2015_00144.jpg  \n",
            "  inflating: exdark_outdoor700/JPEGImages/2015_00150.jpg  \n",
            "  inflating: exdark_outdoor700/JPEGImages/2015_00155.jpg  \n",
            "  inflating: exdark_outdoor700/JPEGImages/2015_00158.jpg  \n",
            "  inflating: exdark_outdoor700/JPEGImages/2015_00160.jpg  \n",
            "  inflating: exdark_outdoor700/JPEGImages/2015_00168.jpg  \n",
            "  inflating: exdark_outdoor700/JPEGImages/2015_00174.jpg  \n",
            "  inflating: exdark_outdoor700/JPEGImages/2015_00178.jpg  \n",
            "  inflating: exdark_outdoor700/JPEGImages/2015_00182.jpg  \n",
            "  inflating: exdark_outdoor700/JPEGImages/2015_00189.jpg  \n",
            "  inflating: exdark_outdoor700/JPEGImages/2015_00190.jpg  \n",
            "  inflating: exdark_outdoor700/JPEGImages/2015_00192.jpg  \n",
            "  inflating: exdark_outdoor700/JPEGImages/2015_00197.png  \n",
            "  inflating: exdark_outdoor700/JPEGImages/2015_00199.jpg  \n",
            "  inflating: exdark_outdoor700/JPEGImages/2015_00205.jpg  \n",
            "  inflating: exdark_outdoor700/JPEGImages/2015_00212.jpg  \n",
            "  inflating: exdark_outdoor700/JPEGImages/2015_00215.jpg  \n",
            "  inflating: exdark_outdoor700/JPEGImages/2015_00219.jpg  \n",
            "  inflating: exdark_outdoor700/JPEGImages/2015_00220.jpg  \n",
            "  inflating: exdark_outdoor700/JPEGImages/2015_00229.jpg  \n",
            "  inflating: exdark_outdoor700/JPEGImages/2015_00231.jpg  \n",
            "  inflating: exdark_outdoor700/JPEGImages/2015_00232.jpg  \n",
            "  inflating: exdark_outdoor700/JPEGImages/2015_00233.jpg  \n",
            "  inflating: exdark_outdoor700/JPEGImages/2015_00234.jpg  \n",
            "  inflating: exdark_outdoor700/JPEGImages/2015_00235.jpg  \n",
            "  inflating: exdark_outdoor700/JPEGImages/2015_00242.jpg  \n",
            "  inflating: exdark_outdoor700/JPEGImages/2015_00245.jpg  \n",
            "  inflating: exdark_outdoor700/JPEGImages/2015_00247.jpg  \n",
            "  inflating: exdark_outdoor700/JPEGImages/2015_00249.jpg  \n",
            "  inflating: exdark_outdoor700/JPEGImages/2015_00250.jpg  \n",
            "  inflating: exdark_outdoor700/JPEGImages/2015_00654.jpg  \n",
            "  inflating: exdark_outdoor700/JPEGImages/2015_00657.jpg  \n",
            "  inflating: exdark_outdoor700/JPEGImages/2015_00659.jpg  \n",
            "  inflating: exdark_outdoor700/JPEGImages/2015_00662.jpg  \n",
            "  inflating: exdark_outdoor700/JPEGImages/2015_00668.jpg  \n",
            "  inflating: exdark_outdoor700/JPEGImages/2015_00669.jpg  \n",
            "  inflating: exdark_outdoor700/JPEGImages/2015_00671.jpg  \n",
            "  inflating: exdark_outdoor700/JPEGImages/2015_00674.jpg  \n",
            "  inflating: exdark_outdoor700/JPEGImages/2015_00675.jpg  \n",
            "  inflating: exdark_outdoor700/JPEGImages/2015_00679.jpg  \n",
            "  inflating: exdark_outdoor700/JPEGImages/2015_00681.jpg  \n",
            "  inflating: exdark_outdoor700/JPEGImages/2015_00684.jpg  \n",
            "  inflating: exdark_outdoor700/JPEGImages/2015_00686.jpg  \n",
            "  inflating: exdark_outdoor700/JPEGImages/2015_00689.jpg  \n",
            "  inflating: exdark_outdoor700/JPEGImages/2015_00691.jpg  \n",
            "  inflating: exdark_outdoor700/JPEGImages/2015_00692.jpg  \n",
            "  inflating: exdark_outdoor700/JPEGImages/2015_00701.jpg  \n",
            "  inflating: exdark_outdoor700/JPEGImages/2015_00706.jpg  \n",
            "  inflating: exdark_outdoor700/JPEGImages/2015_00713.jpg  \n",
            "  inflating: exdark_outdoor700/JPEGImages/2015_00714.jpg  \n",
            "  inflating: exdark_outdoor700/JPEGImages/2015_00715.jpg  \n",
            "  inflating: exdark_outdoor700/JPEGImages/2015_00716.jpg  \n",
            "  inflating: exdark_outdoor700/JPEGImages/2015_00717.jpg  \n",
            "  inflating: exdark_outdoor700/JPEGImages/2015_00718.jpg  \n",
            "  inflating: exdark_outdoor700/JPEGImages/2015_00719.jpg  \n",
            "  inflating: exdark_outdoor700/JPEGImages/2015_00720.jpg  \n",
            "  inflating: exdark_outdoor700/JPEGImages/2015_00724.jpg  \n",
            "  inflating: exdark_outdoor700/JPEGImages/2015_00727.jpg  \n",
            "  inflating: exdark_outdoor700/JPEGImages/2015_00734.jpg  \n",
            "  inflating: exdark_outdoor700/JPEGImages/2015_00735.jpg  \n",
            "  inflating: exdark_outdoor700/JPEGImages/2015_00739.jpg  \n",
            "  inflating: exdark_outdoor700/JPEGImages/2015_00746.jpg  \n",
            "  inflating: exdark_outdoor700/JPEGImages/2015_00752.jpg  \n",
            "  inflating: exdark_outdoor700/JPEGImages/2015_00756.jpg  \n",
            "  inflating: exdark_outdoor700/JPEGImages/2015_00760.jpg  \n",
            "  inflating: exdark_outdoor700/JPEGImages/2015_00761.jpg  \n",
            "  inflating: exdark_outdoor700/JPEGImages/2015_00762.jpg  \n",
            "  inflating: exdark_outdoor700/JPEGImages/2015_00767.jpg  \n",
            "  inflating: exdark_outdoor700/JPEGImages/2015_00769.jpg  \n",
            "  inflating: exdark_outdoor700/JPEGImages/2015_00771.jpg  \n",
            "  inflating: exdark_outdoor700/JPEGImages/2015_00777.jpg  \n",
            "  inflating: exdark_outdoor700/JPEGImages/2015_00786.jpg  \n",
            "  inflating: exdark_outdoor700/JPEGImages/2015_00787.jpg  \n",
            "  inflating: exdark_outdoor700/JPEGImages/2015_00788.jpg  \n",
            "  inflating: exdark_outdoor700/JPEGImages/2015_00790.jpg  \n",
            "  inflating: exdark_outdoor700/JPEGImages/2015_00799.jpg  \n",
            "  inflating: exdark_outdoor700/JPEGImages/2015_00802.jpg  \n",
            "  inflating: exdark_outdoor700/JPEGImages/2015_00803.jpg  \n",
            "  inflating: exdark_outdoor700/JPEGImages/2015_00804.jpg  \n",
            "  inflating: exdark_outdoor700/JPEGImages/2015_00805.jpg  \n",
            "  inflating: exdark_outdoor700/JPEGImages/2015_00807.jpg  \n",
            "  inflating: exdark_outdoor700/JPEGImages/2015_00808.jpg  \n",
            "  inflating: exdark_outdoor700/JPEGImages/2015_00810.jpg  \n",
            "  inflating: exdark_outdoor700/JPEGImages/2015_00813.jpg  \n",
            "  inflating: exdark_outdoor700/JPEGImages/2015_00817.jpg  \n",
            "  inflating: exdark_outdoor700/JPEGImages/2015_00821.jpg  \n",
            "  inflating: exdark_outdoor700/JPEGImages/2015_00822.jpg  \n",
            "  inflating: exdark_outdoor700/JPEGImages/2015_00823.jpg  \n",
            "  inflating: exdark_outdoor700/JPEGImages/2015_00826.jpg  \n",
            "  inflating: exdark_outdoor700/JPEGImages/2015_00829.jpg  \n",
            "  inflating: exdark_outdoor700/JPEGImages/2015_00830.jpg  \n",
            "  inflating: exdark_outdoor700/JPEGImages/2015_00832.jpg  \n",
            "  inflating: exdark_outdoor700/JPEGImages/2015_00835.jpg  \n",
            "  inflating: exdark_outdoor700/JPEGImages/2015_00841.jpg  \n",
            "  inflating: exdark_outdoor700/JPEGImages/2015_00842.jpg  \n",
            "  inflating: exdark_outdoor700/JPEGImages/2015_00844.jpg  \n",
            "  inflating: exdark_outdoor700/JPEGImages/2015_00847.jpg  \n",
            "  inflating: exdark_outdoor700/JPEGImages/2015_00854.jpg  \n",
            "  inflating: exdark_outdoor700/JPEGImages/2015_00857.jpg  \n",
            "  inflating: exdark_outdoor700/JPEGImages/2015_00858.jpg  \n",
            "  inflating: exdark_outdoor700/JPEGImages/2015_00859.jpg  \n",
            "  inflating: exdark_outdoor700/JPEGImages/2015_00860.jpg  \n",
            "  inflating: exdark_outdoor700/JPEGImages/2015_00861.jpg  \n",
            "  inflating: exdark_outdoor700/JPEGImages/2015_00862.jpg  \n",
            "  inflating: exdark_outdoor700/JPEGImages/2015_00864.jpg  \n",
            "  inflating: exdark_outdoor700/JPEGImages/2015_00866.jpg  \n",
            "  inflating: exdark_outdoor700/JPEGImages/2015_00868.jpg  \n",
            "  inflating: exdark_outdoor700/JPEGImages/2015_00869.jpg  \n",
            "  inflating: exdark_outdoor700/JPEGImages/2015_00870.jpg  \n",
            "  inflating: exdark_outdoor700/JPEGImages/2015_00874.jpg  \n",
            "  inflating: exdark_outdoor700/JPEGImages/2015_00875.jpg  \n",
            "  inflating: exdark_outdoor700/JPEGImages/2015_00876.jpg  \n",
            "  inflating: exdark_outdoor700/JPEGImages/2015_00877.jpg  \n",
            "  inflating: exdark_outdoor700/JPEGImages/2015_00878.jpg  \n",
            "  inflating: exdark_outdoor700/JPEGImages/2015_00879.jpg  \n",
            "  inflating: exdark_outdoor700/JPEGImages/2015_00880.jpg  \n",
            "  inflating: exdark_outdoor700/JPEGImages/2015_00884.jpg  \n",
            "  inflating: exdark_outdoor700/JPEGImages/2015_00885.jpg  \n",
            "  inflating: exdark_outdoor700/JPEGImages/2015_00887.jpg  \n",
            "  inflating: exdark_outdoor700/JPEGImages/2015_00890.jpg  \n",
            "  inflating: exdark_outdoor700/JPEGImages/2015_00893.jpg  \n",
            "  inflating: exdark_outdoor700/JPEGImages/2015_00895.jpg  \n",
            "  inflating: exdark_outdoor700/JPEGImages/2015_00899.jpg  \n",
            "  inflating: exdark_outdoor700/JPEGImages/2015_01349.jpg  \n",
            "  inflating: exdark_outdoor700/JPEGImages/2015_01355.jpg  \n",
            "  inflating: exdark_outdoor700/JPEGImages/2015_01357.jpg  \n",
            "  inflating: exdark_outdoor700/JPEGImages/2015_01361.jpg  \n",
            "  inflating: exdark_outdoor700/JPEGImages/2015_01363.jpg  \n",
            "  inflating: exdark_outdoor700/JPEGImages/2015_01379.jpg  \n",
            "  inflating: exdark_outdoor700/JPEGImages/2015_01383.jpg  \n",
            "  inflating: exdark_outdoor700/JPEGImages/2015_01388.jpg  \n",
            "  inflating: exdark_outdoor700/JPEGImages/2015_01430.jpg  \n",
            "  inflating: exdark_outdoor700/JPEGImages/2015_01448.jpg  \n",
            "  inflating: exdark_outdoor700/JPEGImages/2015_01452.jpg  \n",
            "  inflating: exdark_outdoor700/JPEGImages/2015_01466.jpg  \n",
            "  inflating: exdark_outdoor700/JPEGImages/2015_01469.jpg  \n",
            "  inflating: exdark_outdoor700/JPEGImages/2015_01470.jpg  \n",
            "  inflating: exdark_outdoor700/JPEGImages/2015_01481.jpg  \n",
            "  inflating: exdark_outdoor700/JPEGImages/2015_01483.jpg  \n",
            "  inflating: exdark_outdoor700/JPEGImages/2015_01490.jpg  \n",
            "  inflating: exdark_outdoor700/JPEGImages/2015_01493.jpg  \n",
            "  inflating: exdark_outdoor700/JPEGImages/2015_01502.jpg  \n",
            "  inflating: exdark_outdoor700/JPEGImages/2015_01515.jpg  \n",
            "  inflating: exdark_outdoor700/JPEGImages/2015_01535.jpg  \n",
            "  inflating: exdark_outdoor700/JPEGImages/2015_01553.jpg  \n",
            "  inflating: exdark_outdoor700/JPEGImages/2015_01557.jpg  \n",
            "  inflating: exdark_outdoor700/JPEGImages/2015_01560.jpg  \n",
            "  inflating: exdark_outdoor700/JPEGImages/2015_01569.jpg  \n",
            "  inflating: exdark_outdoor700/JPEGImages/2015_01573.jpg  \n",
            "  inflating: exdark_outdoor700/JPEGImages/2015_01575.jpg  \n",
            "  inflating: exdark_outdoor700/JPEGImages/2015_01580.jpg  \n",
            "  inflating: exdark_outdoor700/JPEGImages/2015_01885.png  \n",
            "  inflating: exdark_outdoor700/JPEGImages/2015_01890.png  \n",
            "  inflating: exdark_outdoor700/JPEGImages/2015_01893.jpg  \n",
            "  inflating: exdark_outdoor700/JPEGImages/2015_01899.jpg  \n",
            "  inflating: exdark_outdoor700/JPEGImages/2015_01900.jpg  \n",
            "  inflating: exdark_outdoor700/JPEGImages/2015_01901.jpg  \n",
            "  inflating: exdark_outdoor700/JPEGImages/2015_01902.jpg  \n",
            "  inflating: exdark_outdoor700/JPEGImages/2015_01904.jpg  \n",
            "  inflating: exdark_outdoor700/JPEGImages/2015_01906.jpg  \n",
            "  inflating: exdark_outdoor700/JPEGImages/2015_01912.jpg  \n",
            "  inflating: exdark_outdoor700/JPEGImages/2015_01916.jpg  \n",
            "  inflating: exdark_outdoor700/JPEGImages/2015_01917.jpg  \n",
            "  inflating: exdark_outdoor700/JPEGImages/2015_01918.jpg  \n",
            "  inflating: exdark_outdoor700/JPEGImages/2015_01926.jpg  \n",
            "  inflating: exdark_outdoor700/JPEGImages/2015_01928.jpg  \n",
            "  inflating: exdark_outdoor700/JPEGImages/2015_01930.jpg  \n",
            "  inflating: exdark_outdoor700/JPEGImages/2015_01937.jpg  \n",
            "  inflating: exdark_outdoor700/JPEGImages/2015_01940.jpg  \n",
            "  inflating: exdark_outdoor700/JPEGImages/2015_01941.jpg  \n",
            "  inflating: exdark_outdoor700/JPEGImages/2015_01945.jpg  \n",
            "  inflating: exdark_outdoor700/JPEGImages/2015_01950.jpg  \n",
            "  inflating: exdark_outdoor700/JPEGImages/2015_01951.jpg  \n",
            "  inflating: exdark_outdoor700/JPEGImages/2015_01952.jpg  \n",
            "  inflating: exdark_outdoor700/JPEGImages/2015_01954.jpg  \n",
            "  inflating: exdark_outdoor700/JPEGImages/2015_01956.jpg  \n",
            "  inflating: exdark_outdoor700/JPEGImages/2015_01957.jpg  \n",
            "  inflating: exdark_outdoor700/JPEGImages/2015_01961.jpg  \n",
            "  inflating: exdark_outdoor700/JPEGImages/2015_01965.jpg  \n",
            "  inflating: exdark_outdoor700/JPEGImages/2015_01966.jpg  \n",
            "  inflating: exdark_outdoor700/JPEGImages/2015_01971.jpg  \n",
            "  inflating: exdark_outdoor700/JPEGImages/2015_01974.jpg  \n",
            "  inflating: exdark_outdoor700/JPEGImages/2015_01978.jpg  \n",
            "  inflating: exdark_outdoor700/JPEGImages/2015_01980.jpg  \n",
            "  inflating: exdark_outdoor700/JPEGImages/2015_01984.jpg  \n",
            "  inflating: exdark_outdoor700/JPEGImages/2015_01986.jpg  \n",
            "  inflating: exdark_outdoor700/JPEGImages/2015_01987.jpg  \n",
            "  inflating: exdark_outdoor700/JPEGImages/2015_01992.jpg  \n",
            "  inflating: exdark_outdoor700/JPEGImages/2015_01993.jpg  \n",
            "  inflating: exdark_outdoor700/JPEGImages/2015_01994.jpg  \n",
            "  inflating: exdark_outdoor700/JPEGImages/2015_01995.jpg  \n",
            "  inflating: exdark_outdoor700/JPEGImages/2015_02004.jpg  \n",
            "  inflating: exdark_outdoor700/JPEGImages/2015_02007.jpg  \n",
            "  inflating: exdark_outdoor700/JPEGImages/2015_02008.jpg  \n",
            "  inflating: exdark_outdoor700/JPEGImages/2015_02009.jpg  \n",
            "  inflating: exdark_outdoor700/JPEGImages/2015_02013.jpg  \n",
            "  inflating: exdark_outdoor700/JPEGImages/2015_02014.jpg  \n",
            "  inflating: exdark_outdoor700/JPEGImages/2015_02018.jpg  \n",
            "  inflating: exdark_outdoor700/JPEGImages/2015_02020.jpg  \n",
            "  inflating: exdark_outdoor700/JPEGImages/2015_02021.jpg  \n",
            "  inflating: exdark_outdoor700/JPEGImages/2015_02024.jpg  \n",
            "  inflating: exdark_outdoor700/JPEGImages/2015_02028.jpg  \n",
            "  inflating: exdark_outdoor700/JPEGImages/2015_02029.jpg  \n",
            "  inflating: exdark_outdoor700/JPEGImages/2015_02040.jpg  \n",
            "  inflating: exdark_outdoor700/JPEGImages/2015_02042.jpg  \n",
            "  inflating: exdark_outdoor700/JPEGImages/2015_02043.jpg  \n",
            "  inflating: exdark_outdoor700/JPEGImages/2015_02050.jpg  \n",
            "  inflating: exdark_outdoor700/JPEGImages/2015_02051.jpg  \n",
            "  inflating: exdark_outdoor700/JPEGImages/2015_02057.jpg  \n",
            "  inflating: exdark_outdoor700/JPEGImages/2015_02058.jpg  \n",
            "  inflating: exdark_outdoor700/JPEGImages/2015_02060.jpg  \n",
            "  inflating: exdark_outdoor700/JPEGImages/2015_02061.jpg  \n",
            "  inflating: exdark_outdoor700/JPEGImages/2015_02063.jpg  \n",
            "  inflating: exdark_outdoor700/JPEGImages/2015_02066.jpg  \n",
            "  inflating: exdark_outdoor700/JPEGImages/2015_02073.jpg  \n",
            "  inflating: exdark_outdoor700/JPEGImages/2015_02081.jpg  \n",
            "  inflating: exdark_outdoor700/JPEGImages/2015_02082.jpg  \n",
            "  inflating: exdark_outdoor700/JPEGImages/2015_02085.jpg  \n",
            "  inflating: exdark_outdoor700/JPEGImages/2015_02087.jpg  \n",
            "  inflating: exdark_outdoor700/JPEGImages/2015_02089.jpg  \n",
            "  inflating: exdark_outdoor700/JPEGImages/2015_02090.jpg  \n",
            "  inflating: exdark_outdoor700/JPEGImages/2015_02093.jpg  \n",
            "  inflating: exdark_outdoor700/JPEGImages/2015_02102.jpg  \n",
            "  inflating: exdark_outdoor700/JPEGImages/2015_02105.jpg  \n",
            "  inflating: exdark_outdoor700/JPEGImages/2015_02110.jpg  \n",
            "  inflating: exdark_outdoor700/JPEGImages/2015_02111.jpg  \n",
            "  inflating: exdark_outdoor700/JPEGImages/2015_02113.jpg  \n",
            "  inflating: exdark_outdoor700/JPEGImages/2015_02117.jpg  \n",
            "  inflating: exdark_outdoor700/JPEGImages/2015_02118.jpg  \n",
            "  inflating: exdark_outdoor700/JPEGImages/2015_02119.jpg  \n",
            "  inflating: exdark_outdoor700/JPEGImages/2015_02122.jpg  \n",
            "  inflating: exdark_outdoor700/JPEGImages/2015_02124.jpg  \n",
            "  inflating: exdark_outdoor700/JPEGImages/2015_02126.jpg  \n",
            "  inflating: exdark_outdoor700/JPEGImages/2015_02128.jpg  \n",
            "  inflating: exdark_outdoor700/JPEGImages/2015_02409.jpg  \n",
            "  inflating: exdark_outdoor700/JPEGImages/2015_02412.jpg  \n",
            "  inflating: exdark_outdoor700/JPEGImages/2015_02413.jpg  \n",
            "  inflating: exdark_outdoor700/JPEGImages/2015_02416.png  \n",
            "  inflating: exdark_outdoor700/JPEGImages/2015_02422.jpg  \n",
            "  inflating: exdark_outdoor700/JPEGImages/2015_02423.jpg  \n",
            "  inflating: exdark_outdoor700/JPEGImages/2015_02424.jpg  \n",
            "  inflating: exdark_outdoor700/JPEGImages/2015_02425.jpg  \n",
            "  inflating: exdark_outdoor700/JPEGImages/2015_02430.jpg  \n",
            "  inflating: exdark_outdoor700/JPEGImages/2015_02432.jpg  \n",
            "  inflating: exdark_outdoor700/JPEGImages/2015_02434.jpg  \n",
            "  inflating: exdark_outdoor700/JPEGImages/2015_02435.jpg  \n",
            "  inflating: exdark_outdoor700/JPEGImages/2015_02437.jpg  \n",
            "  inflating: exdark_outdoor700/JPEGImages/2015_02439.jpg  \n",
            "  inflating: exdark_outdoor700/JPEGImages/2015_02441.jpg  \n",
            "  inflating: exdark_outdoor700/JPEGImages/2015_02443.jpg  \n",
            "  inflating: exdark_outdoor700/JPEGImages/2015_02444.jpg  \n",
            "  inflating: exdark_outdoor700/JPEGImages/2015_02445.jpg  \n",
            "  inflating: exdark_outdoor700/JPEGImages/2015_02447.jpg  \n",
            "  inflating: exdark_outdoor700/JPEGImages/2015_02449.jpg  \n",
            "  inflating: exdark_outdoor700/JPEGImages/2015_02451.jpg  \n",
            "  inflating: exdark_outdoor700/JPEGImages/2015_02452.jpg  \n",
            "  inflating: exdark_outdoor700/JPEGImages/2015_02454.jpg  \n",
            "  inflating: exdark_outdoor700/JPEGImages/2015_02455.jpg  \n",
            "  inflating: exdark_outdoor700/JPEGImages/2015_02457.jpg  \n",
            "  inflating: exdark_outdoor700/JPEGImages/2015_02459.jpg  \n",
            "  inflating: exdark_outdoor700/JPEGImages/2015_02461.jpg  \n",
            "  inflating: exdark_outdoor700/JPEGImages/2015_02463.jpg  \n",
            "  inflating: exdark_outdoor700/JPEGImages/2015_02465.jpg  \n",
            "  inflating: exdark_outdoor700/JPEGImages/2015_02468.jpg  \n",
            "  inflating: exdark_outdoor700/JPEGImages/2015_02469.jpg  \n",
            "  inflating: exdark_outdoor700/JPEGImages/2015_02470.jpg  \n",
            "  inflating: exdark_outdoor700/JPEGImages/2015_02474.jpg  \n",
            "  inflating: exdark_outdoor700/JPEGImages/2015_02476.jpg  \n",
            "  inflating: exdark_outdoor700/JPEGImages/2015_02477.jpg  \n",
            "  inflating: exdark_outdoor700/JPEGImages/2015_02478.jpg  \n",
            "  inflating: exdark_outdoor700/JPEGImages/2015_02484.jpg  \n",
            "  inflating: exdark_outdoor700/JPEGImages/2015_02487.jpg  \n",
            "  inflating: exdark_outdoor700/JPEGImages/2015_02488.jpg  \n",
            "  inflating: exdark_outdoor700/JPEGImages/2015_02489.jpg  \n",
            "  inflating: exdark_outdoor700/JPEGImages/2015_02491.jpg  \n",
            "  inflating: exdark_outdoor700/JPEGImages/2015_02495.jpg  \n",
            "  inflating: exdark_outdoor700/JPEGImages/2015_02496.jpg  \n",
            "  inflating: exdark_outdoor700/JPEGImages/2015_02499.jpg  \n",
            "  inflating: exdark_outdoor700/JPEGImages/2015_02506.jpg  \n",
            "  inflating: exdark_outdoor700/JPEGImages/2015_02507.jpg  \n",
            "  inflating: exdark_outdoor700/JPEGImages/2015_02508.jpg  \n",
            "  inflating: exdark_outdoor700/JPEGImages/2015_02510.jpg  \n",
            "  inflating: exdark_outdoor700/JPEGImages/2015_02511.jpg  \n",
            "  inflating: exdark_outdoor700/JPEGImages/2015_02512.jpg  \n",
            "  inflating: exdark_outdoor700/JPEGImages/2015_02514.jpg  \n",
            "  inflating: exdark_outdoor700/JPEGImages/2015_02517.jpg  \n",
            "  inflating: exdark_outdoor700/JPEGImages/2015_02519.jpg  \n",
            "  inflating: exdark_outdoor700/JPEGImages/2015_02522.jpg  \n",
            "  inflating: exdark_outdoor700/JPEGImages/2015_02529.jpg  \n",
            "  inflating: exdark_outdoor700/JPEGImages/2015_02530.jpg  \n",
            "  inflating: exdark_outdoor700/JPEGImages/2015_02531.jpg  \n",
            "  inflating: exdark_outdoor700/JPEGImages/2015_02533.jpg  \n",
            "  inflating: exdark_outdoor700/JPEGImages/2015_02535.jpg  \n",
            "  inflating: exdark_outdoor700/JPEGImages/2015_02536.jpg  \n",
            "  inflating: exdark_outdoor700/JPEGImages/2015_02537.jpg  \n",
            "  inflating: exdark_outdoor700/JPEGImages/2015_02546.jpg  \n",
            "  inflating: exdark_outdoor700/JPEGImages/2015_02547.jpg  \n",
            "  inflating: exdark_outdoor700/JPEGImages/2015_02549.jpg  \n",
            "  inflating: exdark_outdoor700/JPEGImages/2015_02553.jpg  \n",
            "  inflating: exdark_outdoor700/JPEGImages/2015_02555.jpg  \n",
            "  inflating: exdark_outdoor700/JPEGImages/2015_02558.jpg  \n",
            "  inflating: exdark_outdoor700/JPEGImages/2015_02561.jpg  \n",
            "  inflating: exdark_outdoor700/JPEGImages/2015_02563.jpg  \n",
            "  inflating: exdark_outdoor700/JPEGImages/2015_02566.jpg  \n",
            "  inflating: exdark_outdoor700/JPEGImages/2015_02569.jpg  \n",
            "  inflating: exdark_outdoor700/JPEGImages/2015_02570.jpg  \n",
            "  inflating: exdark_outdoor700/JPEGImages/2015_02572.jpg  \n",
            "  inflating: exdark_outdoor700/JPEGImages/2015_02574.jpg  \n",
            "  inflating: exdark_outdoor700/JPEGImages/2015_02582.jpg  \n",
            "  inflating: exdark_outdoor700/JPEGImages/2015_02585.jpg  \n",
            "  inflating: exdark_outdoor700/JPEGImages/2015_02588.jpg  \n",
            "  inflating: exdark_outdoor700/JPEGImages/2015_02590.jpg  \n",
            "  inflating: exdark_outdoor700/JPEGImages/2015_02594.jpg  \n",
            "  inflating: exdark_outdoor700/JPEGImages/2015_02595.jpg  \n",
            "  inflating: exdark_outdoor700/JPEGImages/2015_02596.jpg  \n",
            "  inflating: exdark_outdoor700/JPEGImages/2015_02597.jpg  \n",
            "  inflating: exdark_outdoor700/JPEGImages/2015_02598.jpg  \n",
            "  inflating: exdark_outdoor700/JPEGImages/2015_02599.jpg  \n",
            "  inflating: exdark_outdoor700/JPEGImages/2015_02600.jpg  \n",
            "  inflating: exdark_outdoor700/JPEGImages/2015_02603.jpg  \n",
            "  inflating: exdark_outdoor700/JPEGImages/2015_02605.jpg  \n",
            "  inflating: exdark_outdoor700/JPEGImages/2015_02606.jpg  \n",
            "  inflating: exdark_outdoor700/JPEGImages/2015_02607.jpg  \n",
            "  inflating: exdark_outdoor700/JPEGImages/2015_02609.jpg  \n",
            "  inflating: exdark_outdoor700/JPEGImages/2015_02612.jpg  \n",
            "  inflating: exdark_outdoor700/JPEGImages/2015_02613.jpg  \n",
            "  inflating: exdark_outdoor700/JPEGImages/2015_02618.JPEG  \n",
            "  inflating: exdark_outdoor700/JPEGImages/2015_02619.JPEG  \n",
            "  inflating: exdark_outdoor700/JPEGImages/2015_02623.JPEG  \n",
            "  inflating: exdark_outdoor700/JPEGImages/2015_02629.jpg  \n",
            "  inflating: exdark_outdoor700/JPEGImages/2015_02631.jpg  \n",
            "  inflating: exdark_outdoor700/JPEGImages/2015_02632.jpg  \n",
            "  inflating: exdark_outdoor700/JPEGImages/2015_02634.jpg  \n",
            "  inflating: exdark_outdoor700/JPEGImages/2015_02640.jpg  \n",
            "  inflating: exdark_outdoor700/JPEGImages/2015_02641.jpg  \n",
            "  inflating: exdark_outdoor700/JPEGImages/2015_02642.JPG  \n",
            "  inflating: exdark_outdoor700/JPEGImages/2015_02645.JPG  \n",
            "  inflating: exdark_outdoor700/JPEGImages/2015_02647.JPG  \n",
            "  inflating: exdark_outdoor700/JPEGImages/2015_02650.JPG  \n",
            "  inflating: exdark_outdoor700/JPEGImages/2015_02652.JPG  \n",
            "  inflating: exdark_outdoor700/JPEGImages/2015_03055.jpg  \n",
            "  inflating: exdark_outdoor700/JPEGImages/2015_03058.jpg  \n",
            "  inflating: exdark_outdoor700/JPEGImages/2015_03062.jpg  \n",
            "  inflating: exdark_outdoor700/JPEGImages/2015_03064.jpg  \n",
            "  inflating: exdark_outdoor700/JPEGImages/2015_03065.jpg  \n",
            "  inflating: exdark_outdoor700/JPEGImages/2015_03070.jpg  \n",
            "  inflating: exdark_outdoor700/JPEGImages/2015_03073.jpg  \n",
            "  inflating: exdark_outdoor700/JPEGImages/2015_03074.jpg  \n",
            "  inflating: exdark_outdoor700/JPEGImages/2015_03080.jpg  \n",
            "  inflating: exdark_outdoor700/JPEGImages/2015_03082.jpg  \n",
            "  inflating: exdark_outdoor700/JPEGImages/2015_03084.jpg  \n",
            "  inflating: exdark_outdoor700/JPEGImages/2015_03090.jpg  \n",
            "  inflating: exdark_outdoor700/JPEGImages/2015_03094.jpg  \n",
            "  inflating: exdark_outdoor700/JPEGImages/2015_03099.jpg  \n",
            "  inflating: exdark_outdoor700/JPEGImages/2015_03101.jpg  \n",
            "  inflating: exdark_outdoor700/JPEGImages/2015_03103.jpg  \n",
            "  inflating: exdark_outdoor700/JPEGImages/2015_03116.jpg  \n",
            "  inflating: exdark_outdoor700/JPEGImages/2015_03124.jpg  \n",
            "  inflating: exdark_outdoor700/JPEGImages/2015_03134.jpg  \n",
            "  inflating: exdark_outdoor700/JPEGImages/2015_03136.jpg  \n",
            "  inflating: exdark_outdoor700/JPEGImages/2015_03144.jpg  \n",
            "  inflating: exdark_outdoor700/JPEGImages/2015_03147.jpg  \n",
            "  inflating: exdark_outdoor700/JPEGImages/2015_03151.jpg  \n",
            "  inflating: exdark_outdoor700/JPEGImages/2015_03157.jpg  \n",
            "  inflating: exdark_outdoor700/JPEGImages/2015_03158.jpg  \n",
            "  inflating: exdark_outdoor700/JPEGImages/2015_03159.jpg  \n",
            "  inflating: exdark_outdoor700/JPEGImages/2015_03167.jpg  \n",
            "  inflating: exdark_outdoor700/JPEGImages/2015_03179.jpg  \n",
            "  inflating: exdark_outdoor700/JPEGImages/2015_03195.jpg  \n",
            "  inflating: exdark_outdoor700/JPEGImages/2015_03196.jpg  \n",
            "  inflating: exdark_outdoor700/JPEGImages/2015_03200.jpg  \n",
            "  inflating: exdark_outdoor700/JPEGImages/2015_03204.jpg  \n",
            "  inflating: exdark_outdoor700/JPEGImages/2015_03205.jpg  \n",
            "  inflating: exdark_outdoor700/JPEGImages/2015_03206.jpg  \n",
            "  inflating: exdark_outdoor700/JPEGImages/2015_03212.jpg  \n",
            "  inflating: exdark_outdoor700/JPEGImages/2015_03226.jpg  \n",
            "  inflating: exdark_outdoor700/JPEGImages/2015_03234.jpg  \n",
            "  inflating: exdark_outdoor700/JPEGImages/2015_03235.jpg  \n",
            "  inflating: exdark_outdoor700/JPEGImages/2015_03238.jpg  \n",
            "  inflating: exdark_outdoor700/JPEGImages/2015_03244.jpg  \n",
            "  inflating: exdark_outdoor700/JPEGImages/2015_03250.jpg  \n",
            "  inflating: exdark_outdoor700/JPEGImages/2015_03255.jpg  \n",
            "  inflating: exdark_outdoor700/JPEGImages/2015_03257.jpg  \n",
            "  inflating: exdark_outdoor700/JPEGImages/2015_03262.jpg  \n",
            "  inflating: exdark_outdoor700/JPEGImages/2015_03268.jpg  \n",
            "  inflating: exdark_outdoor700/JPEGImages/2015_03273.jpg  \n",
            "  inflating: exdark_outdoor700/JPEGImages/2015_03274.jpg  \n",
            "  inflating: exdark_outdoor700/JPEGImages/2015_03282.jpg  \n",
            "  inflating: exdark_outdoor700/JPEGImages/2015_03286.jpg  \n",
            "  inflating: exdark_outdoor700/JPEGImages/2015_03287.jpg  \n",
            "  inflating: exdark_outdoor700/JPEGImages/2015_03794.jpg  \n",
            "  inflating: exdark_outdoor700/JPEGImages/2015_03806.jpg  \n",
            "  inflating: exdark_outdoor700/JPEGImages/2015_03817.jpg  \n",
            "  inflating: exdark_outdoor700/JPEGImages/2015_03818.jpg  \n",
            "  inflating: exdark_outdoor700/JPEGImages/2015_03820.jpg  \n",
            "  inflating: exdark_outdoor700/JPEGImages/2015_03827.jpg  \n",
            "  inflating: exdark_outdoor700/JPEGImages/2015_03829.jpg  \n",
            "  inflating: exdark_outdoor700/JPEGImages/2015_03833.jpg  \n",
            "  inflating: exdark_outdoor700/JPEGImages/2015_03838.jpg  \n",
            "  inflating: exdark_outdoor700/JPEGImages/2015_03850.jpg  \n",
            "  inflating: exdark_outdoor700/JPEGImages/2015_03854.jpg  \n",
            "  inflating: exdark_outdoor700/JPEGImages/2015_03860.jpg  \n",
            "  inflating: exdark_outdoor700/JPEGImages/2015_03865.jpg  \n",
            "  inflating: exdark_outdoor700/JPEGImages/2015_03874.jpg  \n",
            "  inflating: exdark_outdoor700/JPEGImages/2015_03883.jpg  \n",
            "  inflating: exdark_outdoor700/JPEGImages/2015_03934.JPG  \n",
            "  inflating: exdark_outdoor700/JPEGImages/2015_03938.jpg  \n",
            "  inflating: exdark_outdoor700/JPEGImages/2015_03941.jpg  \n",
            "  inflating: exdark_outdoor700/JPEGImages/2015_03944.jpg  \n",
            "  inflating: exdark_outdoor700/JPEGImages/2015_03956.jpg  \n",
            "  inflating: exdark_outdoor700/JPEGImages/2015_03964.jpg  \n",
            "  inflating: exdark_outdoor700/JPEGImages/2015_03966.jpg  \n",
            "  inflating: exdark_outdoor700/JPEGImages/2015_03983.jpg  \n",
            "  inflating: exdark_outdoor700/JPEGImages/2015_03986.jpg  \n",
            "  inflating: exdark_outdoor700/JPEGImages/2015_03999.jpg  \n",
            "  inflating: exdark_outdoor700/JPEGImages/2015_04470.jpg  \n",
            "  inflating: exdark_outdoor700/JPEGImages/2015_04509.jpg  \n",
            "  inflating: exdark_outdoor700/JPEGImages/2015_04515.jpg  \n",
            "  inflating: exdark_outdoor700/JPEGImages/2015_04528.jpg  \n",
            "  inflating: exdark_outdoor700/JPEGImages/2015_04598.jpg  \n",
            "  inflating: exdark_outdoor700/JPEGImages/2015_04612.jpg  \n",
            "  inflating: exdark_outdoor700/JPEGImages/2015_04944.jpg  \n",
            "  inflating: exdark_outdoor700/JPEGImages/2015_04956.jpg  \n",
            "  inflating: exdark_outdoor700/JPEGImages/2015_04959.jpg  \n",
            "  inflating: exdark_outdoor700/JPEGImages/2015_04960.jpg  \n",
            "  inflating: exdark_outdoor700/JPEGImages/2015_04963.jpg  \n",
            "  inflating: exdark_outdoor700/JPEGImages/2015_04964.jpg  \n",
            "  inflating: exdark_outdoor700/JPEGImages/2015_04968.jpg  \n",
            "  inflating: exdark_outdoor700/JPEGImages/2015_04969.jpg  \n",
            "  inflating: exdark_outdoor700/JPEGImages/2015_04977.jpg  \n",
            "  inflating: exdark_outdoor700/JPEGImages/2015_04978.jpg  \n",
            "  inflating: exdark_outdoor700/JPEGImages/2015_04980.jpg  \n",
            "  inflating: exdark_outdoor700/JPEGImages/2015_04982.jpg  \n",
            "  inflating: exdark_outdoor700/JPEGImages/2015_04983.jpg  \n",
            "  inflating: exdark_outdoor700/JPEGImages/2015_04986.jpg  \n",
            "  inflating: exdark_outdoor700/JPEGImages/2015_04988.jpg  \n",
            "  inflating: exdark_outdoor700/JPEGImages/2015_04991.jpg  \n",
            "  inflating: exdark_outdoor700/JPEGImages/2015_04998.jpg  \n",
            "  inflating: exdark_outdoor700/JPEGImages/2015_05001.jpg  \n",
            "  inflating: exdark_outdoor700/JPEGImages/2015_05002.jpg  \n",
            "  inflating: exdark_outdoor700/JPEGImages/2015_05009.jpg  \n",
            "  inflating: exdark_outdoor700/JPEGImages/2015_05015.jpg  \n",
            "  inflating: exdark_outdoor700/JPEGImages/2015_05017.jpg  \n",
            "  inflating: exdark_outdoor700/JPEGImages/2015_05026.jpg  \n",
            "  inflating: exdark_outdoor700/JPEGImages/2015_05027.jpg  \n",
            "  inflating: exdark_outdoor700/JPEGImages/2015_05028.jpg  \n",
            "  inflating: exdark_outdoor700/JPEGImages/2015_05030.jpg  \n",
            "  inflating: exdark_outdoor700/JPEGImages/2015_05031.jpg  \n",
            "  inflating: exdark_outdoor700/JPEGImages/2015_05033.jpg  \n",
            "  inflating: exdark_outdoor700/JPEGImages/2015_05036.jpg  \n",
            "  inflating: exdark_outdoor700/JPEGImages/2015_05041.jpg  \n",
            "  inflating: exdark_outdoor700/JPEGImages/2015_05042.jpg  \n",
            "  inflating: exdark_outdoor700/JPEGImages/2015_05044.jpg  \n",
            "  inflating: exdark_outdoor700/JPEGImages/2015_05045.jpg  \n",
            "  inflating: exdark_outdoor700/JPEGImages/2015_05056.jpg  \n",
            "  inflating: exdark_outdoor700/JPEGImages/2015_05066.jpg  \n",
            "  inflating: exdark_outdoor700/JPEGImages/2015_05070.jpg  \n",
            "  inflating: exdark_outdoor700/JPEGImages/2015_05083.jpg  \n",
            "  inflating: exdark_outdoor700/JPEGImages/2015_05090.jpg  \n",
            "  inflating: exdark_outdoor700/JPEGImages/2015_05094.jpg  \n",
            "  inflating: exdark_outdoor700/JPEGImages/2015_05097.jpg  \n",
            "  inflating: exdark_outdoor700/JPEGImages/2015_05101.jpg  \n",
            "  inflating: exdark_outdoor700/JPEGImages/2015_05103.jpg  \n",
            "  inflating: exdark_outdoor700/JPEGImages/2015_05107.jpg  \n",
            "  inflating: exdark_outdoor700/JPEGImages/2015_05110.jpg  \n",
            "  inflating: exdark_outdoor700/JPEGImages/2015_05120.jpg  \n",
            "  inflating: exdark_outdoor700/JPEGImages/2015_05126.jpg  \n",
            "  inflating: exdark_outdoor700/JPEGImages/2015_05129.jpg  \n",
            "  inflating: exdark_outdoor700/JPEGImages/2015_05131.jpg  \n",
            "  inflating: exdark_outdoor700/JPEGImages/2015_05135.jpg  \n",
            "  inflating: exdark_outdoor700/JPEGImages/2015_05139.jpg  \n",
            "  inflating: exdark_outdoor700/JPEGImages/2015_05141.jpg  \n",
            "  inflating: exdark_outdoor700/JPEGImages/2015_05143.jpg  \n",
            "  inflating: exdark_outdoor700/JPEGImages/2015_05144.jpg  \n",
            "  inflating: exdark_outdoor700/JPEGImages/2015_05147.jpg  \n",
            "  inflating: exdark_outdoor700/JPEGImages/2015_05148.jpg  \n",
            "  inflating: exdark_outdoor700/JPEGImages/2015_05153.jpg  \n",
            "  inflating: exdark_outdoor700/JPEGImages/2015_05154.jpg  \n",
            "  inflating: exdark_outdoor700/JPEGImages/2015_05160.jpg  \n",
            "  inflating: exdark_outdoor700/JPEGImages/2015_05161.jpg  \n",
            "  inflating: exdark_outdoor700/JPEGImages/2015_05162.jpg  \n",
            "  inflating: exdark_outdoor700/JPEGImages/2015_05164.jpg  \n",
            "  inflating: exdark_outdoor700/JPEGImages/2015_05165.jpg  \n",
            "  inflating: exdark_outdoor700/JPEGImages/2015_05172.jpg  \n",
            "  inflating: exdark_outdoor700/JPEGImages/2015_05176.jpg  \n",
            "  inflating: exdark_outdoor700/JPEGImages/2015_05178.jpg  \n",
            "  inflating: exdark_outdoor700/JPEGImages/2015_05181.jpg  \n",
            "  inflating: exdark_outdoor700/JPEGImages/2015_05182.jpg  \n",
            "  inflating: exdark_outdoor700/JPEGImages/2015_05185.jpg  \n",
            "  inflating: exdark_outdoor700/JPEGImages/2015_05189.jpg  \n",
            "  inflating: exdark_outdoor700/JPEGImages/2015_05192.jpg  \n",
            "  inflating: exdark_outdoor700/JPEGImages/2015_05745.jpg  \n",
            "  inflating: exdark_outdoor700/JPEGImages/2015_05759.jpg  \n",
            "  inflating: exdark_outdoor700/JPEGImages/2015_05766.jpg  \n",
            "  inflating: exdark_outdoor700/JPEGImages/2015_05767.jpg  \n",
            "  inflating: exdark_outdoor700/JPEGImages/2015_05773.jpg  \n",
            "  inflating: exdark_outdoor700/JPEGImages/2015_05780.jpg  \n",
            "  inflating: exdark_outdoor700/JPEGImages/2015_05781.jpg  \n",
            "  inflating: exdark_outdoor700/JPEGImages/2015_05787.jpg  \n",
            "  inflating: exdark_outdoor700/JPEGImages/2015_05789.jpg  \n",
            "  inflating: exdark_outdoor700/JPEGImages/2015_05791.jpg  \n",
            "  inflating: exdark_outdoor700/JPEGImages/2015_05795.jpg  \n",
            "  inflating: exdark_outdoor700/JPEGImages/2015_05800.jpg  \n",
            "  inflating: exdark_outdoor700/JPEGImages/2015_05802.jpg  \n",
            "  inflating: exdark_outdoor700/JPEGImages/2015_05804.jpg  \n",
            "  inflating: exdark_outdoor700/JPEGImages/2015_05805.jpg  \n",
            "  inflating: exdark_outdoor700/JPEGImages/2015_05815.jpg  \n",
            "  inflating: exdark_outdoor700/JPEGImages/2015_05816.jpg  \n",
            "  inflating: exdark_outdoor700/JPEGImages/2015_05819.jpg  \n",
            "  inflating: exdark_outdoor700/JPEGImages/2015_05820.jpg  \n",
            "  inflating: exdark_outdoor700/JPEGImages/2015_05821.jpg  \n",
            "  inflating: exdark_outdoor700/JPEGImages/2015_05823.jpg  \n",
            "  inflating: exdark_outdoor700/JPEGImages/2015_05828.jpg  \n",
            "  inflating: exdark_outdoor700/JPEGImages/2015_05829.jpg  \n",
            "  inflating: exdark_outdoor700/JPEGImages/2015_05832.jpg  \n",
            "  inflating: exdark_outdoor700/JPEGImages/2015_05843.jpg  \n",
            "  inflating: exdark_outdoor700/JPEGImages/2015_05845.jpg  \n",
            "  inflating: exdark_outdoor700/JPEGImages/2015_05846.jpg  \n",
            "  inflating: exdark_outdoor700/JPEGImages/2015_05847.jpg  \n",
            "  inflating: exdark_outdoor700/JPEGImages/2015_05848.jpg  \n",
            "  inflating: exdark_outdoor700/JPEGImages/2015_05850.jpg  \n",
            "  inflating: exdark_outdoor700/JPEGImages/2015_05851.jpg  \n",
            "  inflating: exdark_outdoor700/JPEGImages/2015_05853.jpg  \n",
            "  inflating: exdark_outdoor700/JPEGImages/2015_05854.jpg  \n",
            "  inflating: exdark_outdoor700/JPEGImages/2015_05855.jpg  \n",
            "  inflating: exdark_outdoor700/JPEGImages/2015_05858.jpg  \n",
            "  inflating: exdark_outdoor700/JPEGImages/2015_05860.jpg  \n",
            "  inflating: exdark_outdoor700/JPEGImages/2015_05863.jpg  \n",
            "  inflating: exdark_outdoor700/JPEGImages/2015_05864.jpg  \n",
            "  inflating: exdark_outdoor700/JPEGImages/2015_05866.jpg  \n",
            "  inflating: exdark_outdoor700/JPEGImages/2015_05867.jpg  \n",
            "  inflating: exdark_outdoor700/JPEGImages/2015_05868.jpg  \n",
            "  inflating: exdark_outdoor700/JPEGImages/2015_05871.jpg  \n",
            "  inflating: exdark_outdoor700/JPEGImages/2015_05874.jpg  \n",
            "  inflating: exdark_outdoor700/JPEGImages/2015_05877.jpg  \n",
            "  inflating: exdark_outdoor700/JPEGImages/2015_05878.jpg  \n",
            "  inflating: exdark_outdoor700/JPEGImages/2015_05883.jpg  \n",
            "  inflating: exdark_outdoor700/JPEGImages/2015_05893.jpg  \n",
            "  inflating: exdark_outdoor700/JPEGImages/2015_05894.jpg  \n",
            "  inflating: exdark_outdoor700/JPEGImages/2015_05895.jpg  \n",
            "  inflating: exdark_outdoor700/JPEGImages/2015_05898.jpg  \n",
            "  inflating: exdark_outdoor700/JPEGImages/2015_05900.jpg  \n",
            "  inflating: exdark_outdoor700/JPEGImages/2015_05901.jpg  \n",
            "  inflating: exdark_outdoor700/JPEGImages/2015_05908.jpg  \n",
            "  inflating: exdark_outdoor700/JPEGImages/2015_05911.jpg  \n",
            "  inflating: exdark_outdoor700/JPEGImages/2015_05917.jpg  \n",
            "  inflating: exdark_outdoor700/JPEGImages/2015_05921.jpg  \n",
            "  inflating: exdark_outdoor700/JPEGImages/2015_05922.jpg  \n",
            "  inflating: exdark_outdoor700/JPEGImages/2015_05929.jpg  \n",
            "  inflating: exdark_outdoor700/JPEGImages/2015_05932.jpg  \n",
            "  inflating: exdark_outdoor700/JPEGImages/2015_05933.jpg  \n",
            "  inflating: exdark_outdoor700/JPEGImages/2015_05934.jpg  \n",
            "  inflating: exdark_outdoor700/JPEGImages/2015_05937.jpg  \n",
            "  inflating: exdark_outdoor700/JPEGImages/2015_05940.jpg  \n",
            "  inflating: exdark_outdoor700/JPEGImages/2015_05941.jpg  \n",
            "  inflating: exdark_outdoor700/JPEGImages/2015_05942.jpg  \n",
            "  inflating: exdark_outdoor700/JPEGImages/2015_05943.jpg  \n",
            "  inflating: exdark_outdoor700/JPEGImages/2015_05946.jpg  \n",
            "  inflating: exdark_outdoor700/JPEGImages/2015_05949.jpg  \n",
            "  inflating: exdark_outdoor700/JPEGImages/2015_05950.jpg  \n",
            "  inflating: exdark_outdoor700/JPEGImages/2015_05952.jpg  \n",
            "  inflating: exdark_outdoor700/JPEGImages/2015_05956.jpg  \n",
            "  inflating: exdark_outdoor700/JPEGImages/2015_05957.jpg  \n",
            "  inflating: exdark_outdoor700/JPEGImages/2015_05958.jpg  \n",
            "  inflating: exdark_outdoor700/JPEGImages/2015_05959.jpg  \n",
            "  inflating: exdark_outdoor700/JPEGImages/2015_05961.jpg  \n",
            "  inflating: exdark_outdoor700/JPEGImages/2015_05969.jpg  \n",
            "  inflating: exdark_outdoor700/JPEGImages/2015_05970.jpg  \n",
            "  inflating: exdark_outdoor700/JPEGImages/2015_05971.jpg  \n",
            "  inflating: exdark_outdoor700/JPEGImages/2015_05973.jpg  \n",
            "  inflating: exdark_outdoor700/JPEGImages/2015_05974.jpg  \n",
            "  inflating: exdark_outdoor700/JPEGImages/2015_05975.jpg  \n",
            "  inflating: exdark_outdoor700/JPEGImages/2015_05976.jpg  \n",
            "  inflating: exdark_outdoor700/JPEGImages/2015_05978.jpg  \n",
            "  inflating: exdark_outdoor700/JPEGImages/2015_05980.jpg  \n",
            "  inflating: exdark_outdoor700/JPEGImages/2015_05981.jpg  \n",
            "  inflating: exdark_outdoor700/JPEGImages/2015_05982.jpg  \n",
            "  inflating: exdark_outdoor700/JPEGImages/2015_05983.jpg  \n",
            "  inflating: exdark_outdoor700/JPEGImages/2015_05988.jpg  \n",
            "  inflating: exdark_outdoor700/JPEGImages/2015_05992.jpg  \n",
            "  inflating: exdark_outdoor700/JPEGImages/2015_05993.jpg  \n",
            "  inflating: exdark_outdoor700/JPEGImages/2015_05994.jpg  \n",
            "  inflating: exdark_outdoor700/JPEGImages/2015_06248.jpg  \n",
            "  inflating: exdark_outdoor700/JPEGImages/2015_06249.jpg  \n",
            "  inflating: exdark_outdoor700/JPEGImages/2015_06252.jpg  \n",
            "  inflating: exdark_outdoor700/JPEGImages/2015_06254.jpg  \n",
            "  inflating: exdark_outdoor700/JPEGImages/2015_06259.jpg  \n",
            "  inflating: exdark_outdoor700/JPEGImages/2015_06261.jpg  \n",
            "  inflating: exdark_outdoor700/JPEGImages/2015_06265.jpg  \n",
            "  inflating: exdark_outdoor700/JPEGImages/2015_06266.jpg  \n",
            "  inflating: exdark_outdoor700/JPEGImages/2015_06268.jpg  \n",
            "  inflating: exdark_outdoor700/JPEGImages/2015_06271.jpg  \n",
            "  inflating: exdark_outdoor700/JPEGImages/2015_06272.jpg  \n",
            "  inflating: exdark_outdoor700/JPEGImages/2015_06280.jpg  \n",
            "  inflating: exdark_outdoor700/JPEGImages/2015_06282.jpg  \n",
            "  inflating: exdark_outdoor700/JPEGImages/2015_06290.jpg  \n",
            "  inflating: exdark_outdoor700/JPEGImages/2015_06291.jpg  \n",
            "  inflating: exdark_outdoor700/JPEGImages/2015_06296.jpg  \n",
            "  inflating: exdark_outdoor700/JPEGImages/2015_06302.jpg  \n",
            "  inflating: exdark_outdoor700/JPEGImages/2015_06308.jpg  \n",
            "  inflating: exdark_outdoor700/JPEGImages/2015_06309.jpg  \n",
            "  inflating: exdark_outdoor700/JPEGImages/2015_06314.jpg  \n",
            "  inflating: exdark_outdoor700/JPEGImages/2015_06317.jpg  \n",
            "  inflating: exdark_outdoor700/JPEGImages/2015_06318.jpg  \n",
            "  inflating: exdark_outdoor700/JPEGImages/2015_06325.jpg  \n",
            "  inflating: exdark_outdoor700/JPEGImages/2015_06327.jpg  \n",
            "  inflating: exdark_outdoor700/JPEGImages/2015_06333.jpg  \n",
            "  inflating: exdark_outdoor700/JPEGImages/2015_06334.jpg  \n",
            "  inflating: exdark_outdoor700/JPEGImages/2015_06335.jpg  \n",
            "  inflating: exdark_outdoor700/JPEGImages/2015_06338.jpg  \n",
            "  inflating: exdark_outdoor700/JPEGImages/2015_06341.jpg  \n",
            "  inflating: exdark_outdoor700/JPEGImages/2015_06342.jpg  \n",
            "  inflating: exdark_outdoor700/JPEGImages/2015_06344.jpg  \n",
            "  inflating: exdark_outdoor700/JPEGImages/2015_06349.jpg  \n",
            "  inflating: exdark_outdoor700/JPEGImages/2015_06351.jpg  \n",
            "  inflating: exdark_outdoor700/JPEGImages/2015_06353.jpg  \n",
            "  inflating: exdark_outdoor700/JPEGImages/2015_06358.jpg  \n",
            "  inflating: exdark_outdoor700/JPEGImages/2015_06366.jpg  \n",
            "  inflating: exdark_outdoor700/JPEGImages/2015_06367.jpg  \n",
            "  inflating: exdark_outdoor700/JPEGImages/2015_06371.jpg  \n",
            "  inflating: exdark_outdoor700/JPEGImages/2015_06378.jpg  \n",
            "  inflating: exdark_outdoor700/JPEGImages/2015_06379.jpg  \n",
            "  inflating: exdark_outdoor700/JPEGImages/2015_06380.jpg  \n",
            "  inflating: exdark_outdoor700/JPEGImages/2015_06387.jpg  \n",
            "  inflating: exdark_outdoor700/JPEGImages/2015_06389.jpg  \n",
            "  inflating: exdark_outdoor700/JPEGImages/2015_06392.jpg  \n",
            "  inflating: exdark_outdoor700/JPEGImages/2015_06394.jpg  \n",
            "  inflating: exdark_outdoor700/JPEGImages/2015_06395.jpg  \n",
            "  inflating: exdark_outdoor700/JPEGImages/2015_06397.jpg  \n",
            "  inflating: exdark_outdoor700/JPEGImages/2015_06406.jpg  \n",
            "  inflating: exdark_outdoor700/JPEGImages/2015_06407.jpg  \n",
            "  inflating: exdark_outdoor700/JPEGImages/2015_06417.jpg  \n",
            "  inflating: exdark_outdoor700/JPEGImages/2015_06419.jpg  \n",
            "  inflating: exdark_outdoor700/JPEGImages/2015_06427.jpg  \n",
            "  inflating: exdark_outdoor700/JPEGImages/2015_06428.jpg  \n",
            "  inflating: exdark_outdoor700/JPEGImages/2015_06446.jpg  \n",
            "  inflating: exdark_outdoor700/JPEGImages/2015_06454.jpg  \n",
            "  inflating: exdark_outdoor700/JPEGImages/2015_06459.jpg  \n",
            "  inflating: exdark_outdoor700/JPEGImages/2015_06474.jpeg  \n",
            "  inflating: exdark_outdoor700/JPEGImages/2015_06866.jpg  \n",
            "  inflating: exdark_outdoor700/JPEGImages/2015_06889.jpg  \n",
            "  inflating: exdark_outdoor700/JPEGImages/2015_06891.jpg  \n",
            "  inflating: exdark_outdoor700/JPEGImages/2015_06894.jpg  \n",
            "  inflating: exdark_outdoor700/JPEGImages/2015_06931.jpg  \n",
            "  inflating: exdark_outdoor700/JPEGImages/2015_06957.jpg  \n",
            "  inflating: exdark_outdoor700/JPEGImages/2015_06966.jpg  \n",
            "  inflating: exdark_outdoor700/JPEGImages/2015_06974.jpg  \n",
            "  inflating: exdark_outdoor700/JPEGImages/2015_06998.jpg  \n",
            "  inflating: exdark_outdoor700/JPEGImages/2015_07002.jpg  \n",
            "  inflating: exdark_outdoor700/JPEGImages/2015_07006.jpg  \n",
            "  inflating: exdark_outdoor700/JPEGImages/2015_07017.jpg  \n",
            "  inflating: exdark_outdoor700/JPEGImages/2015_07035.jpg  \n",
            "  inflating: exdark_outdoor700/JPEGImages/2015_07041.jpg  \n",
            "  inflating: exdark_outdoor700/JPEGImages/2015_07069.jpg  \n",
            "  inflating: exdark_outdoor700/JPEGImages/2015_07073.jpg  \n",
            "  inflating: exdark_outdoor700/JPEGImages/2015_07088.jpg  \n",
            "  inflating: exdark_outdoor700/JPEGImages/2015_07090.jpg  \n",
            "  inflating: exdark_outdoor700/train_outdoor.txt  \n",
            "Archive:  sample_data.zip\n",
            "   creating: sample_data/\n",
            "   creating: sample_data/exdark/\n",
            "   creating: sample_data/exdark/Annotations/\n",
            "  inflating: sample_data/exdark/Annotations/2015_00003.png.xml  \n",
            "  inflating: sample_data/exdark/Annotations/2015_00008.jpg.xml  \n",
            "  inflating: sample_data/exdark/Annotations/2015_00015.jpg.xml  \n",
            "  inflating: sample_data/exdark/Annotations/2015_00016.jpg.xml  \n",
            "  inflating: sample_data/exdark/Annotations/2015_00025.jpg.xml  \n",
            "  inflating: sample_data/exdark/Annotations/2015_00041.jpg.xml  \n",
            "  inflating: sample_data/exdark/Annotations/2015_00046.jpg.xml  \n",
            "  inflating: sample_data/exdark/Annotations/2015_00056.jpg.xml  \n",
            "  inflating: sample_data/exdark/Annotations/2015_00059.jpg.xml  \n",
            "  inflating: sample_data/exdark/Annotations/2015_00067.jpg.xml  \n",
            "  inflating: sample_data/exdark/Annotations/2015_00070.jpg.xml  \n",
            "  inflating: sample_data/exdark/Annotations/2015_00071.jpg.xml  \n",
            "  inflating: sample_data/exdark/Annotations/2015_00097.jpg.xml  \n",
            "  inflating: sample_data/exdark/Annotations/2015_00102.jpg.xml  \n",
            "  inflating: sample_data/exdark/Annotations/2015_00105.jpg.xml  \n",
            "  inflating: sample_data/exdark/Annotations/2015_00123.jpg.xml  \n",
            "  inflating: sample_data/exdark/Annotations/2015_00127.jpg.xml  \n",
            "  inflating: sample_data/exdark/Annotations/2015_00129.jpg.xml  \n",
            "  inflating: sample_data/exdark/Annotations/2015_00139.jpg.xml  \n",
            "  inflating: sample_data/exdark/Annotations/2015_00140.jpg.xml  \n",
            "  inflating: sample_data/exdark/Annotations/2015_00144.jpg.xml  \n",
            "  inflating: sample_data/exdark/Annotations/2015_00147.jpg.xml  \n",
            "  inflating: sample_data/exdark/Annotations/2015_00150.jpg.xml  \n",
            "  inflating: sample_data/exdark/Annotations/2015_00151.jpg.xml  \n",
            "  inflating: sample_data/exdark/Annotations/2015_00154.jpg.xml  \n",
            "  inflating: sample_data/exdark/Annotations/2015_00155.jpg.xml  \n",
            "  inflating: sample_data/exdark/Annotations/2015_00170.jpg.xml  \n",
            "  inflating: sample_data/exdark/Annotations/2015_00173.jpg.xml  \n",
            "  inflating: sample_data/exdark/Annotations/2015_00185.jpg.xml  \n",
            "  inflating: sample_data/exdark/Annotations/2015_00188.jpg.xml  \n",
            "  inflating: sample_data/exdark/Annotations/2015_00197.png.xml  \n",
            "  inflating: sample_data/exdark/Annotations/2015_00200.jpg.xml  \n",
            "  inflating: sample_data/exdark/Annotations/2015_00202.jpg.xml  \n",
            "  inflating: sample_data/exdark/Annotations/2015_00204.jpg.xml  \n",
            "  inflating: sample_data/exdark/Annotations/2015_00209.jpg.xml  \n",
            "  inflating: sample_data/exdark/Annotations/2015_00217.jpg.xml  \n",
            "  inflating: sample_data/exdark/Annotations/2015_00220.jpg.xml  \n",
            "  inflating: sample_data/exdark/Annotations/2015_00228.jpg.xml  \n",
            "  inflating: sample_data/exdark/Annotations/2015_00235.jpg.xml  \n",
            "  inflating: sample_data/exdark/Annotations/2015_00239.jpg.xml  \n",
            "  inflating: sample_data/exdark/Annotations/2015_00240.jpg.xml  \n",
            "  inflating: sample_data/exdark/Annotations/2015_00246.jpg.xml  \n",
            "  inflating: sample_data/exdark/Annotations/2015_00255.jpg.xml  \n",
            "  inflating: sample_data/exdark/Annotations/2015_00267.jpg.xml  \n",
            "  inflating: sample_data/exdark/Annotations/2015_00270.jpg.xml  \n",
            "  inflating: sample_data/exdark/Annotations/2015_00281.jpg.xml  \n",
            "  inflating: sample_data/exdark/Annotations/2015_00332.jpg.xml  \n",
            "  inflating: sample_data/exdark/Annotations/2015_00354.jpg.xml  \n",
            "  inflating: sample_data/exdark/Annotations/2015_00355.jpg.xml  \n",
            "  inflating: sample_data/exdark/Annotations/2015_00362.jpg.xml  \n",
            "  inflating: sample_data/exdark/Annotations/2015_00369.jpg.xml  \n",
            "  inflating: sample_data/exdark/Annotations/2015_00370.jpg.xml  \n",
            "  inflating: sample_data/exdark/Annotations/2015_00372.jpg.xml  \n",
            "  inflating: sample_data/exdark/Annotations/2015_00373.jpg.xml  \n",
            "  inflating: sample_data/exdark/Annotations/2015_00377.jpg.xml  \n",
            "  inflating: sample_data/exdark/Annotations/2015_00392.jpg.xml  \n",
            "  inflating: sample_data/exdark/Annotations/2015_00393.jpg.xml  \n",
            "  inflating: sample_data/exdark/Annotations/2015_00408.jpg.xml  \n",
            "  inflating: sample_data/exdark/Annotations/2015_00422.jpg.xml  \n",
            "  inflating: sample_data/exdark/Annotations/2015_00451.jpg.xml  \n",
            "  inflating: sample_data/exdark/Annotations/2015_00453.jpg.xml  \n",
            "  inflating: sample_data/exdark/Annotations/2015_00476.jpg.xml  \n",
            "  inflating: sample_data/exdark/Annotations/2015_00482.jpg.xml  \n",
            "  inflating: sample_data/exdark/Annotations/2015_00484.jpg.xml  \n",
            "  inflating: sample_data/exdark/Annotations/2015_00488.jpg.xml  \n",
            "  inflating: sample_data/exdark/Annotations/2015_00493.jpg.xml  \n",
            "  inflating: sample_data/exdark/Annotations/2015_00508.jpg.xml  \n",
            "  inflating: sample_data/exdark/Annotations/2015_00548.jpg.xml  \n",
            "  inflating: sample_data/exdark/Annotations/2015_00561.jpg.xml  \n",
            "  inflating: sample_data/exdark/Annotations/2015_00599.jpg.xml  \n",
            "  inflating: sample_data/exdark/Annotations/2015_00621.jpg.xml  \n",
            "  inflating: sample_data/exdark/Annotations/2015_00630.jpg.xml  \n",
            "  inflating: sample_data/exdark/Annotations/2015_00632.jpg.xml  \n",
            "  inflating: sample_data/exdark/Annotations/2015_00641.jpg.xml  \n",
            "  inflating: sample_data/exdark/Annotations/2015_00661.jpg.xml  \n",
            "  inflating: sample_data/exdark/Annotations/2015_00669.jpg.xml  \n",
            "  inflating: sample_data/exdark/Annotations/2015_00671.jpg.xml  \n",
            "  inflating: sample_data/exdark/Annotations/2015_00676.jpg.xml  \n",
            "  inflating: sample_data/exdark/Annotations/2015_00684.jpg.xml  \n",
            "  inflating: sample_data/exdark/Annotations/2015_00697.jpg.xml  \n",
            "  inflating: sample_data/exdark/Annotations/2015_00699.jpg.xml  \n",
            "  inflating: sample_data/exdark/Annotations/2015_00706.jpg.xml  \n",
            "  inflating: sample_data/exdark/Annotations/2015_00727.jpg.xml  \n",
            "  inflating: sample_data/exdark/Annotations/2015_00732.jpg.xml  \n",
            "  inflating: sample_data/exdark/Annotations/2015_00737.jpg.xml  \n",
            "  inflating: sample_data/exdark/Annotations/2015_00740.jpg.xml  \n",
            "  inflating: sample_data/exdark/Annotations/2015_00741.jpg.xml  \n",
            "  inflating: sample_data/exdark/Annotations/2015_00744.jpg.xml  \n",
            "  inflating: sample_data/exdark/Annotations/2015_00747.jpg.xml  \n",
            "  inflating: sample_data/exdark/Annotations/2015_00748.jpg.xml  \n",
            "  inflating: sample_data/exdark/Annotations/2015_00752.jpg.xml  \n",
            "  inflating: sample_data/exdark/Annotations/2015_00764.jpg.xml  \n",
            "  inflating: sample_data/exdark/Annotations/2015_00779.jpg.xml  \n",
            "  inflating: sample_data/exdark/Annotations/2015_00804.jpg.xml  \n",
            "  inflating: sample_data/exdark/Annotations/2015_00808.jpg.xml  \n",
            "  inflating: sample_data/exdark/Annotations/2015_00822.jpg.xml  \n",
            "  inflating: sample_data/exdark/Annotations/2015_00826.jpg.xml  \n",
            "  inflating: sample_data/exdark/Annotations/2015_00844.jpg.xml  \n",
            "  inflating: sample_data/exdark/Annotations/2015_00847.jpg.xml  \n",
            "  inflating: sample_data/exdark/Annotations/2015_00848.jpg.xml  \n",
            "  inflating: sample_data/exdark/Annotations/2015_00850.jpg.xml  \n",
            "  inflating: sample_data/exdark/Annotations/2015_00853.jpg.xml  \n",
            "  inflating: sample_data/exdark/Annotations/2015_00855.jpg.xml  \n",
            "  inflating: sample_data/exdark/Annotations/2015_00862.jpg.xml  \n",
            "  inflating: sample_data/exdark/Annotations/2015_00864.jpg.xml  \n",
            "  inflating: sample_data/exdark/Annotations/2015_00866.jpg.xml  \n",
            "  inflating: sample_data/exdark/Annotations/2015_00872.jpg.xml  \n",
            "  inflating: sample_data/exdark/Annotations/2015_00875.jpg.xml  \n",
            "  inflating: sample_data/exdark/Annotations/2015_00881.jpg.xml  \n",
            "  inflating: sample_data/exdark/Annotations/2015_00883.jpg.xml  \n",
            "  inflating: sample_data/exdark/Annotations/2015_00884.jpg.xml  \n",
            "  inflating: sample_data/exdark/Annotations/2015_00886.jpg.xml  \n",
            "  inflating: sample_data/exdark/Annotations/2015_00891.jpg.xml  \n",
            "  inflating: sample_data/exdark/Annotations/2015_00902.jpg.xml  \n",
            "  inflating: sample_data/exdark/Annotations/2015_00903.jpg.xml  \n",
            "  inflating: sample_data/exdark/Annotations/2015_00905.jpg.xml  \n",
            "  inflating: sample_data/exdark/Annotations/2015_00909.jpg.xml  \n",
            "  inflating: sample_data/exdark/Annotations/2015_00919.jpg.xml  \n",
            "  inflating: sample_data/exdark/Annotations/2015_00922.jpg.xml  \n",
            "  inflating: sample_data/exdark/Annotations/2015_00946.jpg.xml  \n",
            "  inflating: sample_data/exdark/Annotations/2015_00953.jpg.xml  \n",
            "  inflating: sample_data/exdark/Annotations/2015_00955.jpg.xml  \n",
            "  inflating: sample_data/exdark/Annotations/2015_00956.jpg.xml  \n",
            "  inflating: sample_data/exdark/Annotations/2015_00959.jpg.xml  \n",
            "  inflating: sample_data/exdark/Annotations/2015_00967.jpg.xml  \n",
            "  inflating: sample_data/exdark/Annotations/2015_00978.jpg.xml  \n",
            "  inflating: sample_data/exdark/Annotations/2015_00991.jpg.xml  \n",
            "  inflating: sample_data/exdark/Annotations/2015_01000.jpg.xml  \n",
            "  inflating: sample_data/exdark/Annotations/2015_01023.jpg.xml  \n",
            "  inflating: sample_data/exdark/Annotations/2015_01026.jpeg.xml  \n",
            "  inflating: sample_data/exdark/Annotations/2015_01030.png.xml  \n",
            "  inflating: sample_data/exdark/Annotations/2015_01042.jpg.xml  \n",
            "  inflating: sample_data/exdark/Annotations/2015_01074.jpg.xml  \n",
            "  inflating: sample_data/exdark/Annotations/2015_01080.jpg.xml  \n",
            "  inflating: sample_data/exdark/Annotations/2015_01116.jpg.xml  \n",
            "  inflating: sample_data/exdark/Annotations/2015_01118.jpg.xml  \n",
            "  inflating: sample_data/exdark/Annotations/2015_01129.jpg.xml  \n",
            "  inflating: sample_data/exdark/Annotations/2015_01131.jpg.xml  \n",
            "  inflating: sample_data/exdark/Annotations/2015_01139.jpg.xml  \n",
            "  inflating: sample_data/exdark/Annotations/2015_01143.jpg.xml  \n",
            "  inflating: sample_data/exdark/Annotations/2015_01145.jpg.xml  \n",
            "  inflating: sample_data/exdark/Annotations/2015_01175.jpeg.xml  \n",
            "  inflating: sample_data/exdark/Annotations/2015_01180.jpeg.xml  \n",
            "  inflating: sample_data/exdark/Annotations/2015_01209.jpg.xml  \n",
            "  inflating: sample_data/exdark/Annotations/2015_01222.jpg.xml  \n",
            "  inflating: sample_data/exdark/Annotations/2015_01230.jpg.xml  \n",
            "  inflating: sample_data/exdark/Annotations/2015_01244.jpg.xml  \n",
            "  inflating: sample_data/exdark/Annotations/2015_01245.jpg.xml  \n",
            "  inflating: sample_data/exdark/Annotations/2015_01269.jpg.xml  \n",
            "  inflating: sample_data/exdark/Annotations/2015_01270.jpg.xml  \n",
            "  inflating: sample_data/exdark/Annotations/2015_01280.jpg.xml  \n",
            "  inflating: sample_data/exdark/Annotations/2015_01298.jpg.xml  \n",
            "  inflating: sample_data/exdark/Annotations/2015_01322.png.xml  \n",
            "  inflating: sample_data/exdark/Annotations/2015_01325.png.xml  \n",
            "  inflating: sample_data/exdark/Annotations/2015_01329.jpg.xml  \n",
            "  inflating: sample_data/exdark/Annotations/2015_01355.jpg.xml  \n",
            "  inflating: sample_data/exdark/Annotations/2015_01363.jpg.xml  \n",
            "  inflating: sample_data/exdark/Annotations/2015_01377.jpg.xml  \n",
            "  inflating: sample_data/exdark/Annotations/2015_01388.jpg.xml  \n",
            "  inflating: sample_data/exdark/Annotations/2015_01396.jpg.xml  \n",
            "  inflating: sample_data/exdark/Annotations/2015_01416.jpg.xml  \n",
            "  inflating: sample_data/exdark/Annotations/2015_01457.jpg.xml  \n",
            "  inflating: sample_data/exdark/Annotations/2015_01541.jpg.xml  \n",
            "  inflating: sample_data/exdark/Annotations/2015_01543.jpg.xml  \n",
            "  inflating: sample_data/exdark/Annotations/2015_01557.jpg.xml  \n",
            "  inflating: sample_data/exdark/Annotations/2015_01560.jpg.xml  \n",
            "  inflating: sample_data/exdark/Annotations/2015_01575.jpg.xml  \n",
            "  inflating: sample_data/exdark/Annotations/2015_01580.jpg.xml  \n",
            "  inflating: sample_data/exdark/Annotations/2015_01840.jpg.xml  \n",
            "  inflating: sample_data/exdark/Annotations/2015_01851.jpg.xml  \n",
            "  inflating: sample_data/exdark/Annotations/2015_01882.png.xml  \n",
            "  inflating: sample_data/exdark/Annotations/2015_01893.jpg.xml  \n",
            "  inflating: sample_data/exdark/Annotations/2015_01899.jpg.xml  \n",
            "  inflating: sample_data/exdark/Annotations/2015_01900.jpg.xml  \n",
            "  inflating: sample_data/exdark/Annotations/2015_01922.jpg.xml  \n",
            "  inflating: sample_data/exdark/Annotations/2015_01931.jpg.xml  \n",
            "  inflating: sample_data/exdark/Annotations/2015_01932.jpg.xml  \n",
            "  inflating: sample_data/exdark/Annotations/2015_01942.jpg.xml  \n",
            "  inflating: sample_data/exdark/Annotations/2015_01960.jpg.xml  \n",
            "  inflating: sample_data/exdark/Annotations/2015_01969.jpg.xml  \n",
            "  inflating: sample_data/exdark/Annotations/2015_01975.jpg.xml  \n",
            "  inflating: sample_data/exdark/Annotations/2015_01978.jpg.xml  \n",
            "  inflating: sample_data/exdark/Annotations/2015_01995.jpg.xml  \n",
            "  inflating: sample_data/exdark/Annotations/2015_01996.jpg.xml  \n",
            "  inflating: sample_data/exdark/Annotations/2015_02008.jpg.xml  \n",
            "  inflating: sample_data/exdark/Annotations/2015_02021.jpg.xml  \n",
            "  inflating: sample_data/exdark/Annotations/2015_02024.jpg.xml  \n",
            "  inflating: sample_data/exdark/Annotations/2015_02028.jpg.xml  \n",
            "  inflating: sample_data/exdark/Annotations/2015_02036.jpg.xml  \n",
            "  inflating: sample_data/exdark/Annotations/2015_02059.jpg.xml  \n",
            "  inflating: sample_data/exdark/Annotations/2015_02067.jpg.xml  \n",
            "  inflating: sample_data/exdark/Annotations/2015_02072.jpg.xml  \n",
            "  inflating: sample_data/exdark/Annotations/2015_02073.jpg.xml  \n",
            "  inflating: sample_data/exdark/Annotations/2015_02075.jpg.xml  \n",
            "  inflating: sample_data/exdark/Annotations/2015_02079.jpg.xml  \n",
            "  inflating: sample_data/exdark/Annotations/2015_02090.jpg.xml  \n",
            "  inflating: sample_data/exdark/Annotations/2015_02096.jpg.xml  \n",
            "  inflating: sample_data/exdark/Annotations/2015_02097.jpg.xml  \n",
            "  inflating: sample_data/exdark/Annotations/2015_02107.jpg.xml  \n",
            "  inflating: sample_data/exdark/Annotations/2015_02109.jpg.xml  \n",
            "  inflating: sample_data/exdark/Annotations/2015_02110.jpg.xml  \n",
            "  inflating: sample_data/exdark/Annotations/2015_02113.jpg.xml  \n",
            "  inflating: sample_data/exdark/Annotations/2015_02121.jpg.xml  \n",
            "  inflating: sample_data/exdark/Annotations/2015_02129.jpg.xml  \n",
            "  inflating: sample_data/exdark/Annotations/2015_02134.jpg.xml  \n",
            "  inflating: sample_data/exdark/Annotations/2015_02135.jpg.xml  \n",
            "  inflating: sample_data/exdark/Annotations/2015_02149.jpg.xml  \n",
            "  inflating: sample_data/exdark/Annotations/2015_02152.jpg.xml  \n",
            "  inflating: sample_data/exdark/Annotations/2015_02188.jpg.xml  \n",
            "  inflating: sample_data/exdark/Annotations/2015_02193.jpg.xml  \n",
            "  inflating: sample_data/exdark/Annotations/2015_02201.jpg.xml  \n",
            "  inflating: sample_data/exdark/Annotations/2015_02202.jpg.xml  \n",
            "  inflating: sample_data/exdark/Annotations/2015_02205.jpg.xml  \n",
            "  inflating: sample_data/exdark/Annotations/2015_02231.jpg.xml  \n",
            "  inflating: sample_data/exdark/Annotations/2015_02249.jpg.xml  \n",
            "  inflating: sample_data/exdark/Annotations/2015_02250.jpg.xml  \n",
            "  inflating: sample_data/exdark/Annotations/2015_02258.jpg.xml  \n",
            "  inflating: sample_data/exdark/Annotations/2015_02279.jpg.xml  \n",
            "  inflating: sample_data/exdark/Annotations/2015_02290.jpg.xml  \n",
            "  inflating: sample_data/exdark/Annotations/2015_02299.jpg.xml  \n",
            "  inflating: sample_data/exdark/Annotations/2015_02303.jpg.xml  \n",
            "  inflating: sample_data/exdark/Annotations/2015_02304.jpg.xml  \n",
            "  inflating: sample_data/exdark/Annotations/2015_02310.jpg.xml  \n",
            "  inflating: sample_data/exdark/Annotations/2015_02358.jpeg.xml  \n",
            "  inflating: sample_data/exdark/Annotations/2015_02364.jpg.xml  \n",
            "  inflating: sample_data/exdark/Annotations/2015_02420.jpg.xml  \n",
            "  inflating: sample_data/exdark/Annotations/2015_02427.jpg.xml  \n",
            "  inflating: sample_data/exdark/Annotations/2015_02431.jpg.xml  \n",
            "  inflating: sample_data/exdark/Annotations/2015_02443.jpg.xml  \n",
            "  inflating: sample_data/exdark/Annotations/2015_02469.jpg.xml  \n",
            "  inflating: sample_data/exdark/Annotations/2015_02474.jpg.xml  \n",
            "  inflating: sample_data/exdark/Annotations/2015_02475.jpg.xml  \n",
            "  inflating: sample_data/exdark/Annotations/2015_02476.jpg.xml  \n",
            "  inflating: sample_data/exdark/Annotations/2015_02488.jpg.xml  \n",
            "  inflating: sample_data/exdark/Annotations/2015_02501.jpg.xml  \n",
            "  inflating: sample_data/exdark/Annotations/2015_02508.jpg.xml  \n",
            "  inflating: sample_data/exdark/Annotations/2015_02531.jpg.xml  \n",
            "  inflating: sample_data/exdark/Annotations/2015_02536.jpg.xml  \n",
            "  inflating: sample_data/exdark/Annotations/2015_02540.jpg.xml  \n",
            "  inflating: sample_data/exdark/Annotations/2015_02541.jpg.xml  \n",
            "  inflating: sample_data/exdark/Annotations/2015_02551.jpg.xml  \n",
            "  inflating: sample_data/exdark/Annotations/2015_02552.jpg.xml  \n",
            "  inflating: sample_data/exdark/Annotations/2015_02558.jpg.xml  \n",
            "  inflating: sample_data/exdark/Annotations/2015_02570.jpg.xml  \n",
            "  inflating: sample_data/exdark/Annotations/2015_02580.jpg.xml  \n",
            "  inflating: sample_data/exdark/Annotations/2015_02585.jpg.xml  \n",
            "  inflating: sample_data/exdark/Annotations/2015_02606.jpg.xml  \n",
            "  inflating: sample_data/exdark/Annotations/2015_02607.jpg.xml  \n",
            "  inflating: sample_data/exdark/Annotations/2015_02612.jpg.xml  \n",
            "  inflating: sample_data/exdark/Annotations/2015_02623.jpeg.xml  \n",
            "  inflating: sample_data/exdark/Annotations/2015_02637.jpg.xml  \n",
            "  inflating: sample_data/exdark/Annotations/2015_02640.jpg.xml  \n",
            "  inflating: sample_data/exdark/Annotations/2015_02649.jpg.xml  \n",
            "  inflating: sample_data/exdark/Annotations/2015_02654.jpg.xml  \n",
            "  inflating: sample_data/exdark/Annotations/2015_02671.jpg.xml  \n",
            "  inflating: sample_data/exdark/Annotations/2015_02674.jpg.xml  \n",
            "  inflating: sample_data/exdark/Annotations/2015_02678.jpg.xml  \n",
            "  inflating: sample_data/exdark/Annotations/2015_02697.jpg.xml  \n",
            "  inflating: sample_data/exdark/Annotations/2015_02701.jpg.xml  \n",
            "  inflating: sample_data/exdark/Annotations/2015_02706.jpg.xml  \n",
            "  inflating: sample_data/exdark/Annotations/2015_02708.jpg.xml  \n",
            "  inflating: sample_data/exdark/Annotations/2015_02731.jpg.xml  \n",
            "  inflating: sample_data/exdark/Annotations/2015_02738.jpg.xml  \n",
            "  inflating: sample_data/exdark/Annotations/2015_02740.jpg.xml  \n",
            "  inflating: sample_data/exdark/Annotations/2015_02767.jpg.xml  \n",
            "  inflating: sample_data/exdark/Annotations/2015_02780.jpg.xml  \n",
            "  inflating: sample_data/exdark/Annotations/2015_02781.jpg.xml  \n",
            "  inflating: sample_data/exdark/Annotations/2015_02805.jpg.xml  \n",
            "  inflating: sample_data/exdark/Annotations/2015_02806.jpg.xml  \n",
            "  inflating: sample_data/exdark/Annotations/2015_02814.jpg.xml  \n",
            "  inflating: sample_data/exdark/Annotations/2015_02817.jpg.xml  \n",
            "  inflating: sample_data/exdark/Annotations/2015_02837.jpg.xml  \n",
            "  inflating: sample_data/exdark/Annotations/2015_02852.jpg.xml  \n",
            "  inflating: sample_data/exdark/Annotations/2015_02855.jpg.xml  \n",
            "  inflating: sample_data/exdark/Annotations/2015_02860.jpg.xml  \n",
            "  inflating: sample_data/exdark/Annotations/2015_02868.jpeg.xml  \n",
            "  inflating: sample_data/exdark/Annotations/2015_02882.jpg.xml  \n",
            "  inflating: sample_data/exdark/Annotations/2015_02892.jpg.xml  \n",
            "  inflating: sample_data/exdark/Annotations/2015_02920.jpg.xml  \n",
            "  inflating: sample_data/exdark/Annotations/2015_02953.jpg.xml  \n",
            "  inflating: sample_data/exdark/Annotations/2015_02970.jpg.xml  \n",
            "  inflating: sample_data/exdark/Annotations/2015_02981.jpg.xml  \n",
            "  inflating: sample_data/exdark/Annotations/2015_02982.jpg.xml  \n",
            "  inflating: sample_data/exdark/Annotations/2015_03007.png.xml  \n",
            "  inflating: sample_data/exdark/Annotations/2015_03015.png.xml  \n",
            "  inflating: sample_data/exdark/Annotations/2015_03020.png.xml  \n",
            "  inflating: sample_data/exdark/Annotations/2015_03051.jpg.xml  \n",
            "  inflating: sample_data/exdark/Annotations/2015_03065.jpg.xml  \n",
            "  inflating: sample_data/exdark/Annotations/2015_03074.jpg.xml  \n",
            "  inflating: sample_data/exdark/Annotations/2015_03099.jpg.xml  \n",
            "  inflating: sample_data/exdark/Annotations/2015_03102.jpg.xml  \n",
            "  inflating: sample_data/exdark/Annotations/2015_03107.jpg.xml  \n",
            "  inflating: sample_data/exdark/Annotations/2015_03116.jpg.xml  \n",
            "  inflating: sample_data/exdark/Annotations/2015_03132.jpg.xml  \n",
            "  inflating: sample_data/exdark/Annotations/2015_03143.jpg.xml  \n",
            "  inflating: sample_data/exdark/Annotations/2015_03144.jpg.xml  \n",
            "  inflating: sample_data/exdark/Annotations/2015_03152.jpg.xml  \n",
            "  inflating: sample_data/exdark/Annotations/2015_03153.jpg.xml  \n",
            "  inflating: sample_data/exdark/Annotations/2015_03177.jpg.xml  \n",
            "  inflating: sample_data/exdark/Annotations/2015_03196.jpg.xml  \n",
            "  inflating: sample_data/exdark/Annotations/2015_03204.jpg.xml  \n",
            "  inflating: sample_data/exdark/Annotations/2015_03207.jpg.xml  \n",
            "  inflating: sample_data/exdark/Annotations/2015_03208.jpg.xml  \n",
            "  inflating: sample_data/exdark/Annotations/2015_03214.jpg.xml  \n",
            "  inflating: sample_data/exdark/Annotations/2015_03238.jpg.xml  \n",
            "  inflating: sample_data/exdark/Annotations/2015_03256.jpg.xml  \n",
            "  inflating: sample_data/exdark/Annotations/2015_03269.jpg.xml  \n",
            "  inflating: sample_data/exdark/Annotations/2015_03286.jpg.xml  \n",
            "  inflating: sample_data/exdark/Annotations/2015_03288.jpg.xml  \n",
            "  inflating: sample_data/exdark/Annotations/2015_03298.jpg.xml  \n",
            "  inflating: sample_data/exdark/Annotations/2015_03299.jpg.xml  \n",
            "  inflating: sample_data/exdark/Annotations/2015_03346.jpg.xml  \n",
            "  inflating: sample_data/exdark/Annotations/2015_03395.jpg.xml  \n",
            "  inflating: sample_data/exdark/Annotations/2015_03397.jpg.xml  \n",
            "  inflating: sample_data/exdark/Annotations/2015_03405.jpg.xml  \n",
            "  inflating: sample_data/exdark/Annotations/2015_03442.jpg.xml  \n",
            "  inflating: sample_data/exdark/Annotations/2015_03578.jpg.xml  \n",
            "  inflating: sample_data/exdark/Annotations/2015_03644.png.xml  \n",
            "  inflating: sample_data/exdark/Annotations/2015_03740.png.xml  \n",
            "  inflating: sample_data/exdark/Annotations/2015_03822.jpg.xml  \n",
            "  inflating: sample_data/exdark/Annotations/2015_03824.jpg.xml  \n",
            "  inflating: sample_data/exdark/Annotations/2015_03838.jpg.xml  \n",
            "  inflating: sample_data/exdark/Annotations/2015_03839.jpg.xml  \n",
            "  inflating: sample_data/exdark/Annotations/2015_03843.jpg.xml  \n",
            "  inflating: sample_data/exdark/Annotations/2015_03849.jpg.xml  \n",
            "  inflating: sample_data/exdark/Annotations/2015_03883.jpg.xml  \n",
            "  inflating: sample_data/exdark/Annotations/2015_03915.jpg.xml  \n",
            "  inflating: sample_data/exdark/Annotations/2015_03933.jpg.xml  \n",
            "  inflating: sample_data/exdark/Annotations/2015_03952.jpg.xml  \n",
            "  inflating: sample_data/exdark/Annotations/2015_03966.jpg.xml  \n",
            "  inflating: sample_data/exdark/Annotations/2015_03987.jpg.xml  \n",
            "  inflating: sample_data/exdark/Annotations/2015_04001.jpg.xml  \n",
            "  inflating: sample_data/exdark/Annotations/2015_04161.jpeg.xml  \n",
            "  inflating: sample_data/exdark/Annotations/2015_04241.jpg.xml  \n",
            "  inflating: sample_data/exdark/Annotations/2015_04598.jpg.xml  \n",
            "  inflating: sample_data/exdark/Annotations/2015_04961.jpg.xml  \n",
            "  inflating: sample_data/exdark/Annotations/2015_04966.jpg.xml  \n",
            "  inflating: sample_data/exdark/Annotations/2015_04968.jpg.xml  \n",
            "  inflating: sample_data/exdark/Annotations/2015_04975.jpg.xml  \n",
            "  inflating: sample_data/exdark/Annotations/2015_04985.jpg.xml  \n",
            "  inflating: sample_data/exdark/Annotations/2015_04986.jpg.xml  \n",
            "  inflating: sample_data/exdark/Annotations/2015_04995.jpg.xml  \n",
            "  inflating: sample_data/exdark/Annotations/2015_04996.jpg.xml  \n",
            "  inflating: sample_data/exdark/Annotations/2015_04997.jpg.xml  \n",
            "  inflating: sample_data/exdark/Annotations/2015_04999.jpg.xml  \n",
            "  inflating: sample_data/exdark/Annotations/2015_05005.jpg.xml  \n",
            "  inflating: sample_data/exdark/Annotations/2015_05020.jpg.xml  \n",
            "  inflating: sample_data/exdark/Annotations/2015_05023.jpg.xml  \n",
            "  inflating: sample_data/exdark/Annotations/2015_05037.jpg.xml  \n",
            "  inflating: sample_data/exdark/Annotations/2015_05048.jpg.xml  \n",
            "  inflating: sample_data/exdark/Annotations/2015_05061.jpg.xml  \n",
            "  inflating: sample_data/exdark/Annotations/2015_05083.jpg.xml  \n",
            "  inflating: sample_data/exdark/Annotations/2015_05085.jpg.xml  \n",
            "  inflating: sample_data/exdark/Annotations/2015_05090.jpg.xml  \n",
            "  inflating: sample_data/exdark/Annotations/2015_05101.jpg.xml  \n",
            "  inflating: sample_data/exdark/Annotations/2015_05109.jpg.xml  \n",
            "  inflating: sample_data/exdark/Annotations/2015_05113.jpg.xml  \n",
            "  inflating: sample_data/exdark/Annotations/2015_05116.jpg.xml  \n",
            "  inflating: sample_data/exdark/Annotations/2015_05120.jpg.xml  \n",
            "  inflating: sample_data/exdark/Annotations/2015_05130.jpg.xml  \n",
            "  inflating: sample_data/exdark/Annotations/2015_05133.jpg.xml  \n",
            "  inflating: sample_data/exdark/Annotations/2015_05154.jpg.xml  \n",
            "  inflating: sample_data/exdark/Annotations/2015_05164.jpg.xml  \n",
            "  inflating: sample_data/exdark/Annotations/2015_05165.jpg.xml  \n",
            "  inflating: sample_data/exdark/Annotations/2015_05170.jpg.xml  \n",
            "  inflating: sample_data/exdark/Annotations/2015_05177.jpg.xml  \n",
            "  inflating: sample_data/exdark/Annotations/2015_05188.jpg.xml  \n",
            "  inflating: sample_data/exdark/Annotations/2015_05203.jpg.xml  \n",
            "  inflating: sample_data/exdark/Annotations/2015_05217.jpg.xml  \n",
            "  inflating: sample_data/exdark/Annotations/2015_05254.jpg.xml  \n",
            "  inflating: sample_data/exdark/Annotations/2015_05276.jpg.xml  \n",
            "  inflating: sample_data/exdark/Annotations/2015_05314.jpg.xml  \n",
            "  inflating: sample_data/exdark/Annotations/2015_05343.jpg.xml  \n",
            "  inflating: sample_data/exdark/Annotations/2015_05432.jpg.xml  \n",
            "  inflating: sample_data/exdark/Annotations/2015_05455.jpg.xml  \n",
            "  inflating: sample_data/exdark/Annotations/2015_05457.jpg.xml  \n",
            "  inflating: sample_data/exdark/Annotations/2015_05459.jpg.xml  \n",
            "  inflating: sample_data/exdark/Annotations/2015_05483.jpg.xml  \n",
            "  inflating: sample_data/exdark/Annotations/2015_05497.jpeg.xml  \n",
            "  inflating: sample_data/exdark/Annotations/2015_05617.jpg.xml  \n",
            "  inflating: sample_data/exdark/Annotations/2015_05691.png.xml  \n",
            "  inflating: sample_data/exdark/Annotations/2015_05733.jpg.xml  \n",
            "  inflating: sample_data/exdark/Annotations/2015_05746.jpg.xml  \n",
            "  inflating: sample_data/exdark/Annotations/2015_05751.jpg.xml  \n",
            "  inflating: sample_data/exdark/Annotations/2015_05754.jpg.xml  \n",
            "  inflating: sample_data/exdark/Annotations/2015_05757.jpg.xml  \n",
            "  inflating: sample_data/exdark/Annotations/2015_05759.jpg.xml  \n",
            "  inflating: sample_data/exdark/Annotations/2015_05762.jpg.xml  \n",
            "  inflating: sample_data/exdark/Annotations/2015_05774.jpg.xml  \n",
            "  inflating: sample_data/exdark/Annotations/2015_05775.jpg.xml  \n",
            "  inflating: sample_data/exdark/Annotations/2015_05779.jpg.xml  \n",
            "  inflating: sample_data/exdark/Annotations/2015_05789.jpg.xml  \n",
            "  inflating: sample_data/exdark/Annotations/2015_05797.jpg.xml  \n",
            "  inflating: sample_data/exdark/Annotations/2015_05799.jpg.xml  \n",
            "  inflating: sample_data/exdark/Annotations/2015_05807.jpg.xml  \n",
            "  inflating: sample_data/exdark/Annotations/2015_05811.jpg.xml  \n",
            "  inflating: sample_data/exdark/Annotations/2015_05819.jpg.xml  \n",
            "  inflating: sample_data/exdark/Annotations/2015_05828.jpg.xml  \n",
            "  inflating: sample_data/exdark/Annotations/2015_05829.jpg.xml  \n",
            "  inflating: sample_data/exdark/Annotations/2015_05836.jpg.xml  \n",
            "  inflating: sample_data/exdark/Annotations/2015_05839.jpg.xml  \n",
            "  inflating: sample_data/exdark/Annotations/2015_05842.jpg.xml  \n",
            "  inflating: sample_data/exdark/Annotations/2015_05843.jpg.xml  \n",
            "  inflating: sample_data/exdark/Annotations/2015_05845.jpg.xml  \n",
            "  inflating: sample_data/exdark/Annotations/2015_05850.jpg.xml  \n",
            "  inflating: sample_data/exdark/Annotations/2015_05855.jpg.xml  \n",
            "  inflating: sample_data/exdark/Annotations/2015_05856.jpg.xml  \n",
            "  inflating: sample_data/exdark/Annotations/2015_05866.jpg.xml  \n",
            "  inflating: sample_data/exdark/Annotations/2015_05872.jpg.xml  \n",
            "  inflating: sample_data/exdark/Annotations/2015_05877.jpg.xml  \n",
            "  inflating: sample_data/exdark/Annotations/2015_05890.jpg.xml  \n",
            "  inflating: sample_data/exdark/Annotations/2015_05906.jpg.xml  \n",
            "  inflating: sample_data/exdark/Annotations/2015_05933.jpg.xml  \n",
            "  inflating: sample_data/exdark/Annotations/2015_05935.jpg.xml  \n",
            "  inflating: sample_data/exdark/Annotations/2015_05937.jpg.xml  \n",
            "  inflating: sample_data/exdark/Annotations/2015_05938.jpg.xml  \n",
            "  inflating: sample_data/exdark/Annotations/2015_05942.jpg.xml  \n",
            "  inflating: sample_data/exdark/Annotations/2015_05956.jpg.xml  \n",
            "  inflating: sample_data/exdark/Annotations/2015_05968.jpg.xml  \n",
            "  inflating: sample_data/exdark/Annotations/2015_05983.jpg.xml  \n",
            "  inflating: sample_data/exdark/Annotations/2015_05988.jpg.xml  \n",
            "  inflating: sample_data/exdark/Annotations/2015_05993.jpg.xml  \n",
            "  inflating: sample_data/exdark/Annotations/2015_06006.jpg.xml  \n",
            "  inflating: sample_data/exdark/Annotations/2015_06009.jpg.xml  \n",
            "  inflating: sample_data/exdark/Annotations/2015_06011.jpg.xml  \n",
            "  inflating: sample_data/exdark/Annotations/2015_06017.jpg.xml  \n",
            "  inflating: sample_data/exdark/Annotations/2015_06026.jpg.xml  \n",
            "  inflating: sample_data/exdark/Annotations/2015_06043.jpeg.xml  \n",
            "  inflating: sample_data/exdark/Annotations/2015_06049.jpg.xml  \n",
            "  inflating: sample_data/exdark/Annotations/2015_06051.jpg.xml  \n",
            "  inflating: sample_data/exdark/Annotations/2015_06052.jpg.xml  \n",
            "  inflating: sample_data/exdark/Annotations/2015_06067.jpg.xml  \n",
            "  inflating: sample_data/exdark/Annotations/2015_06082.jpg.xml  \n",
            "  inflating: sample_data/exdark/Annotations/2015_06092.png.xml  \n",
            "  inflating: sample_data/exdark/Annotations/2015_06104.jpg.xml  \n",
            "  inflating: sample_data/exdark/Annotations/2015_06117.jpg.xml  \n",
            "  inflating: sample_data/exdark/Annotations/2015_06123.jpg.xml  \n",
            "  inflating: sample_data/exdark/Annotations/2015_06125.jpg.xml  \n",
            "  inflating: sample_data/exdark/Annotations/2015_06134.jpg.xml  \n",
            "  inflating: sample_data/exdark/Annotations/2015_06143.jpeg.xml  \n",
            "  inflating: sample_data/exdark/Annotations/2015_06164.jpg.xml  \n",
            "  inflating: sample_data/exdark/Annotations/2015_06165.jpg.xml  \n",
            "  inflating: sample_data/exdark/Annotations/2015_06171.jpg.xml  \n",
            "  inflating: sample_data/exdark/Annotations/2015_06180.jpg.xml  \n",
            "  inflating: sample_data/exdark/Annotations/2015_06225.png.xml  \n",
            "  inflating: sample_data/exdark/Annotations/2015_06239.png.xml  \n",
            "  inflating: sample_data/exdark/Annotations/2015_06245.jpg.xml  \n",
            "  inflating: sample_data/exdark/Annotations/2015_06262.jpg.xml  \n",
            "  inflating: sample_data/exdark/Annotations/2015_06265.jpg.xml  \n",
            "  inflating: sample_data/exdark/Annotations/2015_06276.jpg.xml  \n",
            "  inflating: sample_data/exdark/Annotations/2015_06298.jpg.xml  \n",
            "  inflating: sample_data/exdark/Annotations/2015_06307.jpg.xml  \n",
            "  inflating: sample_data/exdark/Annotations/2015_06309.jpg.xml  \n",
            "  inflating: sample_data/exdark/Annotations/2015_06310.jpg.xml  \n",
            "  inflating: sample_data/exdark/Annotations/2015_06312.jpg.xml  \n",
            "  inflating: sample_data/exdark/Annotations/2015_06324.jpg.xml  \n",
            "  inflating: sample_data/exdark/Annotations/2015_06330.jpg.xml  \n",
            "  inflating: sample_data/exdark/Annotations/2015_06332.jpg.xml  \n",
            "  inflating: sample_data/exdark/Annotations/2015_06336.jpg.xml  \n",
            "  inflating: sample_data/exdark/Annotations/2015_06344.jpg.xml  \n",
            "  inflating: sample_data/exdark/Annotations/2015_06345.jpg.xml  \n",
            "  inflating: sample_data/exdark/Annotations/2015_06349.jpg.xml  \n",
            "  inflating: sample_data/exdark/Annotations/2015_06350.jpg.xml  \n",
            "  inflating: sample_data/exdark/Annotations/2015_06358.jpg.xml  \n",
            "  inflating: sample_data/exdark/Annotations/2015_06362.jpg.xml  \n",
            "  inflating: sample_data/exdark/Annotations/2015_06363.jpg.xml  \n",
            "  inflating: sample_data/exdark/Annotations/2015_06364.jpg.xml  \n",
            "  inflating: sample_data/exdark/Annotations/2015_06380.jpg.xml  \n",
            "  inflating: sample_data/exdark/Annotations/2015_06392.jpg.xml  \n",
            "  inflating: sample_data/exdark/Annotations/2015_06396.jpg.xml  \n",
            "  inflating: sample_data/exdark/Annotations/2015_06414.jpg.xml  \n",
            "  inflating: sample_data/exdark/Annotations/2015_06455.jpg.xml  \n",
            "  inflating: sample_data/exdark/Annotations/2015_06459.jpg.xml  \n",
            "  inflating: sample_data/exdark/Annotations/2015_06470.jpg.xml  \n",
            "  inflating: sample_data/exdark/Annotations/2015_06481.jpg.xml  \n",
            "  inflating: sample_data/exdark/Annotations/2015_06541.jpg.xml  \n",
            "  inflating: sample_data/exdark/Annotations/2015_06551.jpg.xml  \n",
            "  inflating: sample_data/exdark/Annotations/2015_06565.jpg.xml  \n",
            "  inflating: sample_data/exdark/Annotations/2015_06569.jpg.xml  \n",
            "  inflating: sample_data/exdark/Annotations/2015_06608.jpg.xml  \n",
            "  inflating: sample_data/exdark/Annotations/2015_06621.jpg.xml  \n",
            "  inflating: sample_data/exdark/Annotations/2015_06625.jpg.xml  \n",
            "  inflating: sample_data/exdark/Annotations/2015_06689.jpg.xml  \n",
            "  inflating: sample_data/exdark/Annotations/2015_06707.jpg.xml  \n",
            "  inflating: sample_data/exdark/Annotations/2015_06717.jpg.xml  \n",
            "  inflating: sample_data/exdark/Annotations/2015_06739.jpg.xml  \n",
            "  inflating: sample_data/exdark/Annotations/2015_06749.jpg.xml  \n",
            "  inflating: sample_data/exdark/Annotations/2015_06781.jpg.xml  \n",
            "  inflating: sample_data/exdark/Annotations/2015_06851.jpg.xml  \n",
            "  inflating: sample_data/exdark/Annotations/2015_06892.jpg.xml  \n",
            "  inflating: sample_data/exdark/Annotations/2015_06894.jpg.xml  \n",
            "  inflating: sample_data/exdark/Annotations/2015_06931.jpg.xml  \n",
            "  inflating: sample_data/exdark/Annotations/2015_06997.jpg.xml  \n",
            "  inflating: sample_data/exdark/Annotations/2015_07039.jpg.xml  \n",
            "  inflating: sample_data/exdark/Annotations/2015_07050.jpg.xml  \n",
            "  inflating: sample_data/exdark/Annotations/2015_07197.jpg.xml  \n",
            "  inflating: sample_data/exdark/Annotations/2015_07255.jpg.xml  \n",
            "  inflating: sample_data/exdark/Annotations/2015_07279.jpg.xml  \n",
            "  inflating: sample_data/exdark/Annotations/2015_07281.jpg.xml  \n",
            "  inflating: sample_data/exdark/Annotations/2015_07340.png.xml  \n",
            "   creating: sample_data/exdark/JPEGImages/\n",
            "  inflating: sample_data/exdark/JPEGImages/2015_00003.png  \n",
            "  inflating: sample_data/exdark/JPEGImages/2015_00008.jpg  \n",
            "  inflating: sample_data/exdark/JPEGImages/2015_00015.jpg  \n",
            "  inflating: sample_data/exdark/JPEGImages/2015_00016.jpg  \n",
            "  inflating: sample_data/exdark/JPEGImages/2015_00025.jpg  \n",
            "  inflating: sample_data/exdark/JPEGImages/2015_00041.jpg  \n",
            "  inflating: sample_data/exdark/JPEGImages/2015_00046.jpg  \n",
            "  inflating: sample_data/exdark/JPEGImages/2015_00056.jpg  \n",
            "  inflating: sample_data/exdark/JPEGImages/2015_00059.jpg  \n",
            "  inflating: sample_data/exdark/JPEGImages/2015_00067.jpg  \n",
            "  inflating: sample_data/exdark/JPEGImages/2015_00070.jpg  \n",
            "  inflating: sample_data/exdark/JPEGImages/2015_00071.jpg  \n",
            "  inflating: sample_data/exdark/JPEGImages/2015_00097.jpg  \n",
            "  inflating: sample_data/exdark/JPEGImages/2015_00102.jpg  \n",
            "  inflating: sample_data/exdark/JPEGImages/2015_00105.jpg  \n",
            "  inflating: sample_data/exdark/JPEGImages/2015_00123.jpg  \n",
            "  inflating: sample_data/exdark/JPEGImages/2015_00127.jpg  \n",
            "  inflating: sample_data/exdark/JPEGImages/2015_00129.jpg  \n",
            "  inflating: sample_data/exdark/JPEGImages/2015_00139.jpg  \n",
            "  inflating: sample_data/exdark/JPEGImages/2015_00140.jpg  \n",
            "  inflating: sample_data/exdark/JPEGImages/2015_00144.jpg  \n",
            "  inflating: sample_data/exdark/JPEGImages/2015_00147.jpg  \n",
            "  inflating: sample_data/exdark/JPEGImages/2015_00150.jpg  \n",
            "  inflating: sample_data/exdark/JPEGImages/2015_00151.jpg  \n",
            "  inflating: sample_data/exdark/JPEGImages/2015_00154.jpg  \n",
            "  inflating: sample_data/exdark/JPEGImages/2015_00155.jpg  \n",
            "  inflating: sample_data/exdark/JPEGImages/2015_00170.jpg  \n",
            "  inflating: sample_data/exdark/JPEGImages/2015_00173.jpg  \n",
            "  inflating: sample_data/exdark/JPEGImages/2015_00185.jpg  \n",
            "  inflating: sample_data/exdark/JPEGImages/2015_00188.jpg  \n",
            "  inflating: sample_data/exdark/JPEGImages/2015_00197.png  \n",
            "  inflating: sample_data/exdark/JPEGImages/2015_00200.jpg  \n",
            "  inflating: sample_data/exdark/JPEGImages/2015_00202.jpg  \n",
            "  inflating: sample_data/exdark/JPEGImages/2015_00204.jpg  \n",
            "  inflating: sample_data/exdark/JPEGImages/2015_00209.jpg  \n",
            "  inflating: sample_data/exdark/JPEGImages/2015_00217.jpg  \n",
            "  inflating: sample_data/exdark/JPEGImages/2015_00220.jpg  \n",
            "  inflating: sample_data/exdark/JPEGImages/2015_00228.jpg  \n",
            "  inflating: sample_data/exdark/JPEGImages/2015_00235.jpg  \n",
            "  inflating: sample_data/exdark/JPEGImages/2015_00239.jpg  \n",
            "  inflating: sample_data/exdark/JPEGImages/2015_00240.jpg  \n",
            "  inflating: sample_data/exdark/JPEGImages/2015_00246.jpg  \n",
            "  inflating: sample_data/exdark/JPEGImages/2015_00255.jpg  \n",
            "  inflating: sample_data/exdark/JPEGImages/2015_00267.jpg  \n",
            "  inflating: sample_data/exdark/JPEGImages/2015_00270.jpg  \n",
            "  inflating: sample_data/exdark/JPEGImages/2015_00281.jpg  \n",
            "  inflating: sample_data/exdark/JPEGImages/2015_00332.jpg  \n",
            "  inflating: sample_data/exdark/JPEGImages/2015_00354.jpg  \n",
            "  inflating: sample_data/exdark/JPEGImages/2015_00355.jpg  \n",
            "  inflating: sample_data/exdark/JPEGImages/2015_00362.jpg  \n",
            "  inflating: sample_data/exdark/JPEGImages/2015_00369.jpg  \n",
            "  inflating: sample_data/exdark/JPEGImages/2015_00370.jpg  \n",
            "  inflating: sample_data/exdark/JPEGImages/2015_00372.jpg  \n",
            "  inflating: sample_data/exdark/JPEGImages/2015_00373.jpg  \n",
            "  inflating: sample_data/exdark/JPEGImages/2015_00377.jpg  \n",
            "  inflating: sample_data/exdark/JPEGImages/2015_00392.jpg  \n",
            "  inflating: sample_data/exdark/JPEGImages/2015_00393.jpg  \n",
            "  inflating: sample_data/exdark/JPEGImages/2015_00408.jpg  \n",
            "  inflating: sample_data/exdark/JPEGImages/2015_00422.jpg  \n",
            "  inflating: sample_data/exdark/JPEGImages/2015_00451.jpg  \n",
            "  inflating: sample_data/exdark/JPEGImages/2015_00453.jpg  \n",
            "  inflating: sample_data/exdark/JPEGImages/2015_00476.jpg  \n",
            "  inflating: sample_data/exdark/JPEGImages/2015_00482.jpg  \n",
            "  inflating: sample_data/exdark/JPEGImages/2015_00484.jpg  \n",
            "  inflating: sample_data/exdark/JPEGImages/2015_00488.jpg  \n",
            "  inflating: sample_data/exdark/JPEGImages/2015_00493.jpg  \n",
            "  inflating: sample_data/exdark/JPEGImages/2015_00508.jpg  \n",
            "  inflating: sample_data/exdark/JPEGImages/2015_00548.jpg  \n",
            "  inflating: sample_data/exdark/JPEGImages/2015_00561.jpg  \n",
            "  inflating: sample_data/exdark/JPEGImages/2015_00599.jpg  \n",
            "  inflating: sample_data/exdark/JPEGImages/2015_00621.jpg  \n",
            "  inflating: sample_data/exdark/JPEGImages/2015_00630.jpg  \n",
            "  inflating: sample_data/exdark/JPEGImages/2015_00632.jpg  \n",
            "  inflating: sample_data/exdark/JPEGImages/2015_00641.jpg  \n",
            "  inflating: sample_data/exdark/JPEGImages/2015_00661.jpg  \n",
            "  inflating: sample_data/exdark/JPEGImages/2015_00669.jpg  \n",
            "  inflating: sample_data/exdark/JPEGImages/2015_00671.jpg  \n",
            "  inflating: sample_data/exdark/JPEGImages/2015_00676.jpg  \n",
            "  inflating: sample_data/exdark/JPEGImages/2015_00684.jpg  \n",
            "  inflating: sample_data/exdark/JPEGImages/2015_00697.jpg  \n",
            "  inflating: sample_data/exdark/JPEGImages/2015_00699.jpg  \n",
            "  inflating: sample_data/exdark/JPEGImages/2015_00706.jpg  \n",
            "  inflating: sample_data/exdark/JPEGImages/2015_00727.jpg  \n",
            "  inflating: sample_data/exdark/JPEGImages/2015_00732.jpg  \n",
            "  inflating: sample_data/exdark/JPEGImages/2015_00737.jpg  \n",
            "  inflating: sample_data/exdark/JPEGImages/2015_00740.jpg  \n",
            "  inflating: sample_data/exdark/JPEGImages/2015_00741.jpg  \n",
            "  inflating: sample_data/exdark/JPEGImages/2015_00744.jpg  \n",
            "  inflating: sample_data/exdark/JPEGImages/2015_00747.jpg  \n",
            "  inflating: sample_data/exdark/JPEGImages/2015_00748.jpg  \n",
            "  inflating: sample_data/exdark/JPEGImages/2015_00752.jpg  \n",
            "  inflating: sample_data/exdark/JPEGImages/2015_00764.jpg  \n",
            "  inflating: sample_data/exdark/JPEGImages/2015_00779.jpg  \n",
            "  inflating: sample_data/exdark/JPEGImages/2015_00804.jpg  \n",
            "  inflating: sample_data/exdark/JPEGImages/2015_00808.jpg  \n",
            "  inflating: sample_data/exdark/JPEGImages/2015_00822.jpg  \n",
            "  inflating: sample_data/exdark/JPEGImages/2015_00826.jpg  \n",
            "  inflating: sample_data/exdark/JPEGImages/2015_00844.jpg  \n",
            "  inflating: sample_data/exdark/JPEGImages/2015_00847.jpg  \n",
            "  inflating: sample_data/exdark/JPEGImages/2015_00848.jpg  \n",
            "  inflating: sample_data/exdark/JPEGImages/2015_00850.jpg  \n",
            "  inflating: sample_data/exdark/JPEGImages/2015_00853.jpg  \n",
            "  inflating: sample_data/exdark/JPEGImages/2015_00855.jpg  \n",
            "  inflating: sample_data/exdark/JPEGImages/2015_00862.jpg  \n",
            "  inflating: sample_data/exdark/JPEGImages/2015_00864.jpg  \n",
            "  inflating: sample_data/exdark/JPEGImages/2015_00866.jpg  \n",
            "  inflating: sample_data/exdark/JPEGImages/2015_00872.jpg  \n",
            "  inflating: sample_data/exdark/JPEGImages/2015_00875.jpg  \n",
            "  inflating: sample_data/exdark/JPEGImages/2015_00881.jpg  \n",
            "  inflating: sample_data/exdark/JPEGImages/2015_00883.jpg  \n",
            "  inflating: sample_data/exdark/JPEGImages/2015_00884.jpg  \n",
            "  inflating: sample_data/exdark/JPEGImages/2015_00886.jpg  \n",
            "  inflating: sample_data/exdark/JPEGImages/2015_00891.jpg  \n",
            "  inflating: sample_data/exdark/JPEGImages/2015_00902.jpg  \n",
            "  inflating: sample_data/exdark/JPEGImages/2015_00903.jpg  \n",
            "  inflating: sample_data/exdark/JPEGImages/2015_00905.jpg  \n",
            "  inflating: sample_data/exdark/JPEGImages/2015_00909.jpg  \n",
            "  inflating: sample_data/exdark/JPEGImages/2015_00919.jpg  \n",
            "  inflating: sample_data/exdark/JPEGImages/2015_00922.jpg  \n",
            "  inflating: sample_data/exdark/JPEGImages/2015_00946.jpg  \n",
            "  inflating: sample_data/exdark/JPEGImages/2015_00953.jpg  \n",
            "  inflating: sample_data/exdark/JPEGImages/2015_00955.jpg  \n",
            "  inflating: sample_data/exdark/JPEGImages/2015_00956.jpg  \n",
            "  inflating: sample_data/exdark/JPEGImages/2015_00959.jpg  \n",
            "  inflating: sample_data/exdark/JPEGImages/2015_00967.jpg  \n",
            "  inflating: sample_data/exdark/JPEGImages/2015_00978.jpg  \n",
            "  inflating: sample_data/exdark/JPEGImages/2015_00991.jpg  \n",
            "  inflating: sample_data/exdark/JPEGImages/2015_01000.jpg  \n",
            "  inflating: sample_data/exdark/JPEGImages/2015_01023.jpg  \n",
            "  inflating: sample_data/exdark/JPEGImages/2015_01026.jpeg  \n",
            "  inflating: sample_data/exdark/JPEGImages/2015_01030.png  \n",
            "  inflating: sample_data/exdark/JPEGImages/2015_01042.jpg  \n",
            "  inflating: sample_data/exdark/JPEGImages/2015_01074.jpg  \n",
            "  inflating: sample_data/exdark/JPEGImages/2015_01080.jpg  \n",
            "  inflating: sample_data/exdark/JPEGImages/2015_01116.jpg  \n",
            "  inflating: sample_data/exdark/JPEGImages/2015_01118.jpg  \n",
            "  inflating: sample_data/exdark/JPEGImages/2015_01129.jpg  \n",
            "  inflating: sample_data/exdark/JPEGImages/2015_01131.jpg  \n",
            "  inflating: sample_data/exdark/JPEGImages/2015_01139.jpg  \n",
            "  inflating: sample_data/exdark/JPEGImages/2015_01143.jpg  \n",
            "  inflating: sample_data/exdark/JPEGImages/2015_01145.jpg  \n",
            "  inflating: sample_data/exdark/JPEGImages/2015_01175.jpeg  \n",
            "  inflating: sample_data/exdark/JPEGImages/2015_01180.jpeg  \n",
            "  inflating: sample_data/exdark/JPEGImages/2015_01209.jpg  \n",
            "  inflating: sample_data/exdark/JPEGImages/2015_01222.jpg  \n",
            "  inflating: sample_data/exdark/JPEGImages/2015_01230.jpg  \n",
            "  inflating: sample_data/exdark/JPEGImages/2015_01244.jpg  \n",
            "  inflating: sample_data/exdark/JPEGImages/2015_01245.jpg  \n",
            "  inflating: sample_data/exdark/JPEGImages/2015_01269.jpg  \n",
            "  inflating: sample_data/exdark/JPEGImages/2015_01270.jpg  \n",
            "  inflating: sample_data/exdark/JPEGImages/2015_01280.jpg  \n",
            "  inflating: sample_data/exdark/JPEGImages/2015_01298.jpg  \n",
            "  inflating: sample_data/exdark/JPEGImages/2015_01322.png  \n",
            "  inflating: sample_data/exdark/JPEGImages/2015_01325.png  \n",
            "  inflating: sample_data/exdark/JPEGImages/2015_01329.jpg  \n",
            "  inflating: sample_data/exdark/JPEGImages/2015_01355.jpg  \n",
            "  inflating: sample_data/exdark/JPEGImages/2015_01363.jpg  \n",
            "  inflating: sample_data/exdark/JPEGImages/2015_01377.jpg  \n",
            "  inflating: sample_data/exdark/JPEGImages/2015_01388.jpg  \n",
            "  inflating: sample_data/exdark/JPEGImages/2015_01396.jpg  \n",
            "  inflating: sample_data/exdark/JPEGImages/2015_01416.jpg  \n",
            "  inflating: sample_data/exdark/JPEGImages/2015_01457.jpg  \n",
            "  inflating: sample_data/exdark/JPEGImages/2015_01541.jpg  \n",
            "  inflating: sample_data/exdark/JPEGImages/2015_01543.jpg  \n",
            "  inflating: sample_data/exdark/JPEGImages/2015_01557.jpg  \n",
            "  inflating: sample_data/exdark/JPEGImages/2015_01560.jpg  \n",
            "  inflating: sample_data/exdark/JPEGImages/2015_01575.jpg  \n",
            "  inflating: sample_data/exdark/JPEGImages/2015_01580.jpg  \n",
            "  inflating: sample_data/exdark/JPEGImages/2015_01840.jpg  \n",
            "  inflating: sample_data/exdark/JPEGImages/2015_01851.jpg  \n",
            "  inflating: sample_data/exdark/JPEGImages/2015_01882.png  \n",
            "  inflating: sample_data/exdark/JPEGImages/2015_01893.jpg  \n",
            "  inflating: sample_data/exdark/JPEGImages/2015_01899.jpg  \n",
            "  inflating: sample_data/exdark/JPEGImages/2015_01900.jpg  \n",
            "  inflating: sample_data/exdark/JPEGImages/2015_01922.jpg  \n",
            "  inflating: sample_data/exdark/JPEGImages/2015_01931.jpg  \n",
            "  inflating: sample_data/exdark/JPEGImages/2015_01932.jpg  \n",
            "  inflating: sample_data/exdark/JPEGImages/2015_01942.jpg  \n",
            "  inflating: sample_data/exdark/JPEGImages/2015_01960.jpg  \n",
            "  inflating: sample_data/exdark/JPEGImages/2015_01969.jpg  \n",
            "  inflating: sample_data/exdark/JPEGImages/2015_01975.jpg  \n",
            "  inflating: sample_data/exdark/JPEGImages/2015_01978.jpg  \n",
            "  inflating: sample_data/exdark/JPEGImages/2015_01995.jpg  \n",
            "  inflating: sample_data/exdark/JPEGImages/2015_01996.jpg  \n",
            "  inflating: sample_data/exdark/JPEGImages/2015_02008.jpg  \n",
            "  inflating: sample_data/exdark/JPEGImages/2015_02021.jpg  \n",
            "  inflating: sample_data/exdark/JPEGImages/2015_02024.jpg  \n",
            "  inflating: sample_data/exdark/JPEGImages/2015_02028.jpg  \n",
            "  inflating: sample_data/exdark/JPEGImages/2015_02036.jpg  \n",
            "  inflating: sample_data/exdark/JPEGImages/2015_02059.jpg  \n",
            "  inflating: sample_data/exdark/JPEGImages/2015_02067.jpg  \n",
            "  inflating: sample_data/exdark/JPEGImages/2015_02072.jpg  \n",
            "  inflating: sample_data/exdark/JPEGImages/2015_02073.jpg  \n",
            "  inflating: sample_data/exdark/JPEGImages/2015_02075.jpg  \n",
            "  inflating: sample_data/exdark/JPEGImages/2015_02079.jpg  \n",
            "  inflating: sample_data/exdark/JPEGImages/2015_02090.jpg  \n",
            "  inflating: sample_data/exdark/JPEGImages/2015_02096.jpg  \n",
            "  inflating: sample_data/exdark/JPEGImages/2015_02097.jpg  \n",
            "  inflating: sample_data/exdark/JPEGImages/2015_02107.jpg  \n",
            "  inflating: sample_data/exdark/JPEGImages/2015_02109.jpg  \n",
            "  inflating: sample_data/exdark/JPEGImages/2015_02110.jpg  \n",
            "  inflating: sample_data/exdark/JPEGImages/2015_02113.jpg  \n",
            "  inflating: sample_data/exdark/JPEGImages/2015_02121.jpg  \n",
            "  inflating: sample_data/exdark/JPEGImages/2015_02129.jpg  \n",
            "  inflating: sample_data/exdark/JPEGImages/2015_02134.jpg  \n",
            "  inflating: sample_data/exdark/JPEGImages/2015_02135.jpg  \n",
            "  inflating: sample_data/exdark/JPEGImages/2015_02149.jpg  \n",
            "  inflating: sample_data/exdark/JPEGImages/2015_02152.jpg  \n",
            "  inflating: sample_data/exdark/JPEGImages/2015_02188.jpg  \n",
            "  inflating: sample_data/exdark/JPEGImages/2015_02193.jpg  \n",
            "  inflating: sample_data/exdark/JPEGImages/2015_02201.jpg  \n",
            "  inflating: sample_data/exdark/JPEGImages/2015_02202.jpg  \n",
            "  inflating: sample_data/exdark/JPEGImages/2015_02205.jpg  \n",
            "  inflating: sample_data/exdark/JPEGImages/2015_02231.jpg  \n",
            "  inflating: sample_data/exdark/JPEGImages/2015_02249.jpg  \n",
            "  inflating: sample_data/exdark/JPEGImages/2015_02250.jpg  \n",
            "  inflating: sample_data/exdark/JPEGImages/2015_02258.jpg  \n",
            "  inflating: sample_data/exdark/JPEGImages/2015_02279.jpg  \n",
            "  inflating: sample_data/exdark/JPEGImages/2015_02290.jpg  \n",
            "  inflating: sample_data/exdark/JPEGImages/2015_02299.jpg  \n",
            "  inflating: sample_data/exdark/JPEGImages/2015_02303.jpg  \n",
            "  inflating: sample_data/exdark/JPEGImages/2015_02304.jpg  \n",
            "  inflating: sample_data/exdark/JPEGImages/2015_02310.jpg  \n",
            "  inflating: sample_data/exdark/JPEGImages/2015_02358.jpeg  \n",
            "  inflating: sample_data/exdark/JPEGImages/2015_02364.jpg  \n",
            "  inflating: sample_data/exdark/JPEGImages/2015_02420.jpg  \n",
            "  inflating: sample_data/exdark/JPEGImages/2015_02427.jpg  \n",
            "  inflating: sample_data/exdark/JPEGImages/2015_02431.jpg  \n",
            "  inflating: sample_data/exdark/JPEGImages/2015_02443.jpg  \n",
            "  inflating: sample_data/exdark/JPEGImages/2015_02469.jpg  \n",
            "  inflating: sample_data/exdark/JPEGImages/2015_02474.jpg  \n",
            "  inflating: sample_data/exdark/JPEGImages/2015_02475.jpg  \n",
            "  inflating: sample_data/exdark/JPEGImages/2015_02476.jpg  \n",
            "  inflating: sample_data/exdark/JPEGImages/2015_02488.jpg  \n",
            "  inflating: sample_data/exdark/JPEGImages/2015_02501.jpg  \n",
            "  inflating: sample_data/exdark/JPEGImages/2015_02508.jpg  \n",
            "  inflating: sample_data/exdark/JPEGImages/2015_02531.jpg  \n",
            "  inflating: sample_data/exdark/JPEGImages/2015_02536.jpg  \n",
            "  inflating: sample_data/exdark/JPEGImages/2015_02540.jpg  \n",
            "  inflating: sample_data/exdark/JPEGImages/2015_02541.jpg  \n",
            "  inflating: sample_data/exdark/JPEGImages/2015_02551.jpg  \n",
            "  inflating: sample_data/exdark/JPEGImages/2015_02552.jpg  \n",
            "  inflating: sample_data/exdark/JPEGImages/2015_02558.jpg  \n",
            "  inflating: sample_data/exdark/JPEGImages/2015_02570.jpg  \n",
            "  inflating: sample_data/exdark/JPEGImages/2015_02580.jpg  \n",
            "  inflating: sample_data/exdark/JPEGImages/2015_02585.jpg  \n",
            "  inflating: sample_data/exdark/JPEGImages/2015_02606.jpg  \n",
            "  inflating: sample_data/exdark/JPEGImages/2015_02607.jpg  \n",
            "  inflating: sample_data/exdark/JPEGImages/2015_02612.jpg  \n",
            "  inflating: sample_data/exdark/JPEGImages/2015_02623.jpeg  \n",
            "  inflating: sample_data/exdark/JPEGImages/2015_02637.jpg  \n",
            "  inflating: sample_data/exdark/JPEGImages/2015_02640.jpg  \n",
            "  inflating: sample_data/exdark/JPEGImages/2015_02649.jpg  \n",
            "  inflating: sample_data/exdark/JPEGImages/2015_02654.jpg  \n",
            "  inflating: sample_data/exdark/JPEGImages/2015_02671.jpg  \n",
            "  inflating: sample_data/exdark/JPEGImages/2015_02674.jpg  \n",
            "  inflating: sample_data/exdark/JPEGImages/2015_02678.jpg  \n",
            "  inflating: sample_data/exdark/JPEGImages/2015_02697.jpg  \n",
            "  inflating: sample_data/exdark/JPEGImages/2015_02701.jpg  \n",
            "  inflating: sample_data/exdark/JPEGImages/2015_02706.jpg  \n",
            "  inflating: sample_data/exdark/JPEGImages/2015_02708.jpg  \n",
            "  inflating: sample_data/exdark/JPEGImages/2015_02731.jpg  \n",
            "  inflating: sample_data/exdark/JPEGImages/2015_02738.jpg  \n",
            "  inflating: sample_data/exdark/JPEGImages/2015_02740.jpg  \n",
            "  inflating: sample_data/exdark/JPEGImages/2015_02767.jpg  \n",
            "  inflating: sample_data/exdark/JPEGImages/2015_02780.jpg  \n",
            "  inflating: sample_data/exdark/JPEGImages/2015_02781.jpg  \n",
            "  inflating: sample_data/exdark/JPEGImages/2015_02805.jpg  \n",
            "  inflating: sample_data/exdark/JPEGImages/2015_02806.jpg  \n",
            "  inflating: sample_data/exdark/JPEGImages/2015_02814.jpg  \n",
            "  inflating: sample_data/exdark/JPEGImages/2015_02817.jpg  \n",
            "  inflating: sample_data/exdark/JPEGImages/2015_02837.jpg  \n",
            "  inflating: sample_data/exdark/JPEGImages/2015_02852.jpg  \n",
            "  inflating: sample_data/exdark/JPEGImages/2015_02855.jpg  \n",
            "  inflating: sample_data/exdark/JPEGImages/2015_02860.jpg  \n",
            "  inflating: sample_data/exdark/JPEGImages/2015_02868.jpeg  \n",
            "  inflating: sample_data/exdark/JPEGImages/2015_02882.jpg  \n",
            "  inflating: sample_data/exdark/JPEGImages/2015_02892.jpg  \n",
            "  inflating: sample_data/exdark/JPEGImages/2015_02920.jpg  \n",
            "  inflating: sample_data/exdark/JPEGImages/2015_02953.jpg  \n",
            "  inflating: sample_data/exdark/JPEGImages/2015_02970.jpg  \n",
            "  inflating: sample_data/exdark/JPEGImages/2015_02981.jpg  \n",
            "  inflating: sample_data/exdark/JPEGImages/2015_02982.jpg  \n",
            "  inflating: sample_data/exdark/JPEGImages/2015_03007.png  \n",
            "  inflating: sample_data/exdark/JPEGImages/2015_03015.png  \n",
            "  inflating: sample_data/exdark/JPEGImages/2015_03020.png  \n",
            "  inflating: sample_data/exdark/JPEGImages/2015_03051.jpg  \n",
            "  inflating: sample_data/exdark/JPEGImages/2015_03065.jpg  \n",
            "  inflating: sample_data/exdark/JPEGImages/2015_03074.jpg  \n",
            "  inflating: sample_data/exdark/JPEGImages/2015_03099.jpg  \n",
            "  inflating: sample_data/exdark/JPEGImages/2015_03102.jpg  \n",
            "  inflating: sample_data/exdark/JPEGImages/2015_03107.jpg  \n",
            "  inflating: sample_data/exdark/JPEGImages/2015_03116.jpg  \n",
            "  inflating: sample_data/exdark/JPEGImages/2015_03132.jpg  \n",
            "  inflating: sample_data/exdark/JPEGImages/2015_03143.jpg  \n",
            "  inflating: sample_data/exdark/JPEGImages/2015_03144.jpg  \n",
            "  inflating: sample_data/exdark/JPEGImages/2015_03152.jpg  \n",
            "  inflating: sample_data/exdark/JPEGImages/2015_03153.jpg  \n",
            "  inflating: sample_data/exdark/JPEGImages/2015_03177.jpg  \n",
            "  inflating: sample_data/exdark/JPEGImages/2015_03196.jpg  \n",
            "  inflating: sample_data/exdark/JPEGImages/2015_03204.jpg  \n",
            "  inflating: sample_data/exdark/JPEGImages/2015_03207.jpg  \n",
            "  inflating: sample_data/exdark/JPEGImages/2015_03208.jpg  \n",
            "  inflating: sample_data/exdark/JPEGImages/2015_03214.jpg  \n",
            "  inflating: sample_data/exdark/JPEGImages/2015_03238.jpg  \n",
            "  inflating: sample_data/exdark/JPEGImages/2015_03256.jpg  \n",
            "  inflating: sample_data/exdark/JPEGImages/2015_03269.jpg  \n",
            "  inflating: sample_data/exdark/JPEGImages/2015_03286.jpg  \n",
            "  inflating: sample_data/exdark/JPEGImages/2015_03288.jpg  \n",
            "  inflating: sample_data/exdark/JPEGImages/2015_03298.jpg  \n",
            "  inflating: sample_data/exdark/JPEGImages/2015_03299.jpg  \n",
            "  inflating: sample_data/exdark/JPEGImages/2015_03346.jpg  \n",
            "  inflating: sample_data/exdark/JPEGImages/2015_03395.jpg  \n",
            "  inflating: sample_data/exdark/JPEGImages/2015_03397.jpg  \n",
            "  inflating: sample_data/exdark/JPEGImages/2015_03405.jpg  \n",
            "  inflating: sample_data/exdark/JPEGImages/2015_03442.jpg  \n",
            "  inflating: sample_data/exdark/JPEGImages/2015_03578.jpg  \n",
            "  inflating: sample_data/exdark/JPEGImages/2015_03644.png  \n",
            "  inflating: sample_data/exdark/JPEGImages/2015_03740.png  \n",
            "  inflating: sample_data/exdark/JPEGImages/2015_03822.jpg  \n",
            "  inflating: sample_data/exdark/JPEGImages/2015_03824.jpg  \n",
            "  inflating: sample_data/exdark/JPEGImages/2015_03838.jpg  \n",
            "  inflating: sample_data/exdark/JPEGImages/2015_03839.jpg  \n",
            "  inflating: sample_data/exdark/JPEGImages/2015_03843.jpg  \n",
            "  inflating: sample_data/exdark/JPEGImages/2015_03849.jpg  \n",
            "  inflating: sample_data/exdark/JPEGImages/2015_03883.jpg  \n",
            "  inflating: sample_data/exdark/JPEGImages/2015_03915.jpg  \n",
            "  inflating: sample_data/exdark/JPEGImages/2015_03933.jpg  \n",
            "  inflating: sample_data/exdark/JPEGImages/2015_03952.jpg  \n",
            "  inflating: sample_data/exdark/JPEGImages/2015_03966.jpg  \n",
            "  inflating: sample_data/exdark/JPEGImages/2015_03987.jpg  \n",
            "  inflating: sample_data/exdark/JPEGImages/2015_04001.jpg  \n",
            "  inflating: sample_data/exdark/JPEGImages/2015_04161.jpeg  \n",
            "  inflating: sample_data/exdark/JPEGImages/2015_04241.jpg  \n",
            "  inflating: sample_data/exdark/JPEGImages/2015_04598.jpg  \n",
            "  inflating: sample_data/exdark/JPEGImages/2015_04961.jpg  \n",
            "  inflating: sample_data/exdark/JPEGImages/2015_04966.jpg  \n",
            "  inflating: sample_data/exdark/JPEGImages/2015_04968.jpg  \n",
            "  inflating: sample_data/exdark/JPEGImages/2015_04975.jpg  \n",
            "  inflating: sample_data/exdark/JPEGImages/2015_04985.jpg  \n",
            "  inflating: sample_data/exdark/JPEGImages/2015_04986.jpg  \n",
            "  inflating: sample_data/exdark/JPEGImages/2015_04995.jpg  \n",
            "  inflating: sample_data/exdark/JPEGImages/2015_04996.jpg  \n",
            "  inflating: sample_data/exdark/JPEGImages/2015_04997.jpg  \n",
            "  inflating: sample_data/exdark/JPEGImages/2015_04999.jpg  \n",
            "  inflating: sample_data/exdark/JPEGImages/2015_05005.jpg  \n",
            "  inflating: sample_data/exdark/JPEGImages/2015_05020.jpg  \n",
            "  inflating: sample_data/exdark/JPEGImages/2015_05023.jpg  \n",
            "  inflating: sample_data/exdark/JPEGImages/2015_05037.jpg  \n",
            "  inflating: sample_data/exdark/JPEGImages/2015_05048.jpg  \n",
            "  inflating: sample_data/exdark/JPEGImages/2015_05061.jpg  \n",
            "  inflating: sample_data/exdark/JPEGImages/2015_05083.jpg  \n",
            "  inflating: sample_data/exdark/JPEGImages/2015_05085.jpg  \n",
            "  inflating: sample_data/exdark/JPEGImages/2015_05090.jpg  \n",
            "  inflating: sample_data/exdark/JPEGImages/2015_05101.jpg  \n",
            "  inflating: sample_data/exdark/JPEGImages/2015_05109.jpg  \n",
            "  inflating: sample_data/exdark/JPEGImages/2015_05113.jpg  \n",
            "  inflating: sample_data/exdark/JPEGImages/2015_05116.jpg  \n",
            "  inflating: sample_data/exdark/JPEGImages/2015_05120.jpg  \n",
            "  inflating: sample_data/exdark/JPEGImages/2015_05130.jpg  \n",
            "  inflating: sample_data/exdark/JPEGImages/2015_05133.jpg  \n",
            "  inflating: sample_data/exdark/JPEGImages/2015_05154.jpg  \n",
            "  inflating: sample_data/exdark/JPEGImages/2015_05164.jpg  \n",
            "  inflating: sample_data/exdark/JPEGImages/2015_05165.jpg  \n",
            "  inflating: sample_data/exdark/JPEGImages/2015_05170.jpg  \n",
            "  inflating: sample_data/exdark/JPEGImages/2015_05177.jpg  \n",
            "  inflating: sample_data/exdark/JPEGImages/2015_05188.jpg  \n",
            "  inflating: sample_data/exdark/JPEGImages/2015_05203.jpg  \n",
            "  inflating: sample_data/exdark/JPEGImages/2015_05217.jpg  \n",
            "  inflating: sample_data/exdark/JPEGImages/2015_05254.jpg  \n",
            "  inflating: sample_data/exdark/JPEGImages/2015_05276.jpg  \n",
            "  inflating: sample_data/exdark/JPEGImages/2015_05314.jpg  \n",
            "  inflating: sample_data/exdark/JPEGImages/2015_05343.jpg  \n",
            "  inflating: sample_data/exdark/JPEGImages/2015_05432.jpg  \n",
            "  inflating: sample_data/exdark/JPEGImages/2015_05455.jpg  \n",
            "  inflating: sample_data/exdark/JPEGImages/2015_05457.jpg  \n",
            "  inflating: sample_data/exdark/JPEGImages/2015_05459.jpg  \n",
            "  inflating: sample_data/exdark/JPEGImages/2015_05483.jpg  \n",
            "  inflating: sample_data/exdark/JPEGImages/2015_05497.jpeg  \n",
            "  inflating: sample_data/exdark/JPEGImages/2015_05617.jpg  \n",
            "  inflating: sample_data/exdark/JPEGImages/2015_05691.png  \n",
            "  inflating: sample_data/exdark/JPEGImages/2015_05733.jpg  \n",
            "  inflating: sample_data/exdark/JPEGImages/2015_05746.jpg  \n",
            "  inflating: sample_data/exdark/JPEGImages/2015_05751.jpg  \n",
            "  inflating: sample_data/exdark/JPEGImages/2015_05754.jpg  \n",
            "  inflating: sample_data/exdark/JPEGImages/2015_05757.jpg  \n",
            "  inflating: sample_data/exdark/JPEGImages/2015_05759.jpg  \n",
            "  inflating: sample_data/exdark/JPEGImages/2015_05762.jpg  \n",
            "  inflating: sample_data/exdark/JPEGImages/2015_05774.jpg  \n",
            "  inflating: sample_data/exdark/JPEGImages/2015_05775.jpg  \n",
            "  inflating: sample_data/exdark/JPEGImages/2015_05779.jpg  \n",
            "  inflating: sample_data/exdark/JPEGImages/2015_05789.jpg  \n",
            "  inflating: sample_data/exdark/JPEGImages/2015_05797.jpg  \n",
            "  inflating: sample_data/exdark/JPEGImages/2015_05799.jpg  \n",
            "  inflating: sample_data/exdark/JPEGImages/2015_05807.jpg  \n",
            "  inflating: sample_data/exdark/JPEGImages/2015_05811.jpg  \n",
            "  inflating: sample_data/exdark/JPEGImages/2015_05819.jpg  \n",
            "  inflating: sample_data/exdark/JPEGImages/2015_05828.jpg  \n",
            "  inflating: sample_data/exdark/JPEGImages/2015_05829.jpg  \n",
            "  inflating: sample_data/exdark/JPEGImages/2015_05836.jpg  \n",
            "  inflating: sample_data/exdark/JPEGImages/2015_05839.jpg  \n",
            "  inflating: sample_data/exdark/JPEGImages/2015_05842.jpg  \n",
            "  inflating: sample_data/exdark/JPEGImages/2015_05843.jpg  \n",
            "  inflating: sample_data/exdark/JPEGImages/2015_05845.jpg  \n",
            "  inflating: sample_data/exdark/JPEGImages/2015_05850.jpg  \n",
            "  inflating: sample_data/exdark/JPEGImages/2015_05855.jpg  \n",
            "  inflating: sample_data/exdark/JPEGImages/2015_05856.jpg  \n",
            "  inflating: sample_data/exdark/JPEGImages/2015_05866.jpg  \n",
            "  inflating: sample_data/exdark/JPEGImages/2015_05872.jpg  \n",
            "  inflating: sample_data/exdark/JPEGImages/2015_05877.jpg  \n",
            "  inflating: sample_data/exdark/JPEGImages/2015_05890.jpg  \n",
            "  inflating: sample_data/exdark/JPEGImages/2015_05906.jpg  \n",
            "  inflating: sample_data/exdark/JPEGImages/2015_05933.jpg  \n",
            "  inflating: sample_data/exdark/JPEGImages/2015_05935.jpg  \n",
            "  inflating: sample_data/exdark/JPEGImages/2015_05937.jpg  \n",
            "  inflating: sample_data/exdark/JPEGImages/2015_05938.jpg  \n",
            "  inflating: sample_data/exdark/JPEGImages/2015_05942.jpg  \n",
            "  inflating: sample_data/exdark/JPEGImages/2015_05956.jpg  \n",
            "  inflating: sample_data/exdark/JPEGImages/2015_05968.jpg  \n",
            "  inflating: sample_data/exdark/JPEGImages/2015_05983.jpg  \n",
            "  inflating: sample_data/exdark/JPEGImages/2015_05988.jpg  \n",
            "  inflating: sample_data/exdark/JPEGImages/2015_05993.jpg  \n",
            "  inflating: sample_data/exdark/JPEGImages/2015_06006.jpg  \n",
            "  inflating: sample_data/exdark/JPEGImages/2015_06009.jpg  \n",
            "  inflating: sample_data/exdark/JPEGImages/2015_06011.jpg  \n",
            "  inflating: sample_data/exdark/JPEGImages/2015_06017.jpg  \n",
            "  inflating: sample_data/exdark/JPEGImages/2015_06026.jpg  \n",
            "  inflating: sample_data/exdark/JPEGImages/2015_06043.jpeg  \n",
            "  inflating: sample_data/exdark/JPEGImages/2015_06049.jpg  \n",
            "  inflating: sample_data/exdark/JPEGImages/2015_06051.jpg  \n",
            "  inflating: sample_data/exdark/JPEGImages/2015_06052.jpg  \n",
            "  inflating: sample_data/exdark/JPEGImages/2015_06067.jpg  \n",
            "  inflating: sample_data/exdark/JPEGImages/2015_06082.jpg  \n",
            "  inflating: sample_data/exdark/JPEGImages/2015_06092.png  \n",
            "  inflating: sample_data/exdark/JPEGImages/2015_06104.jpg  \n",
            "  inflating: sample_data/exdark/JPEGImages/2015_06117.jpg  \n",
            "  inflating: sample_data/exdark/JPEGImages/2015_06123.jpg  \n",
            "  inflating: sample_data/exdark/JPEGImages/2015_06125.jpg  \n",
            "  inflating: sample_data/exdark/JPEGImages/2015_06134.jpg  \n",
            "  inflating: sample_data/exdark/JPEGImages/2015_06143.jpeg  \n",
            "  inflating: sample_data/exdark/JPEGImages/2015_06164.jpg  \n",
            "  inflating: sample_data/exdark/JPEGImages/2015_06165.jpg  \n",
            "  inflating: sample_data/exdark/JPEGImages/2015_06171.jpg  \n",
            "  inflating: sample_data/exdark/JPEGImages/2015_06180.jpg  \n",
            "  inflating: sample_data/exdark/JPEGImages/2015_06225.png  \n",
            "  inflating: sample_data/exdark/JPEGImages/2015_06239.png  \n",
            "  inflating: sample_data/exdark/JPEGImages/2015_06245.jpg  \n",
            "  inflating: sample_data/exdark/JPEGImages/2015_06262.jpg  \n",
            "  inflating: sample_data/exdark/JPEGImages/2015_06265.jpg  \n",
            "  inflating: sample_data/exdark/JPEGImages/2015_06276.jpg  \n",
            "  inflating: sample_data/exdark/JPEGImages/2015_06298.jpg  \n",
            "  inflating: sample_data/exdark/JPEGImages/2015_06307.jpg  \n",
            "  inflating: sample_data/exdark/JPEGImages/2015_06309.jpg  \n",
            "  inflating: sample_data/exdark/JPEGImages/2015_06310.jpg  \n",
            "  inflating: sample_data/exdark/JPEGImages/2015_06312.jpg  \n",
            "  inflating: sample_data/exdark/JPEGImages/2015_06324.jpg  \n",
            "  inflating: sample_data/exdark/JPEGImages/2015_06330.jpg  \n",
            "  inflating: sample_data/exdark/JPEGImages/2015_06332.jpg  \n",
            "  inflating: sample_data/exdark/JPEGImages/2015_06336.jpg  \n",
            "  inflating: sample_data/exdark/JPEGImages/2015_06344.jpg  \n",
            "  inflating: sample_data/exdark/JPEGImages/2015_06345.jpg  \n",
            "  inflating: sample_data/exdark/JPEGImages/2015_06349.jpg  \n",
            "  inflating: sample_data/exdark/JPEGImages/2015_06350.jpg  \n",
            "  inflating: sample_data/exdark/JPEGImages/2015_06358.jpg  \n",
            "  inflating: sample_data/exdark/JPEGImages/2015_06362.jpg  \n",
            "  inflating: sample_data/exdark/JPEGImages/2015_06363.jpg  \n",
            "  inflating: sample_data/exdark/JPEGImages/2015_06364.jpg  \n",
            "  inflating: sample_data/exdark/JPEGImages/2015_06380.jpg  \n",
            "  inflating: sample_data/exdark/JPEGImages/2015_06392.jpg  \n",
            "  inflating: sample_data/exdark/JPEGImages/2015_06396.jpg  \n",
            "  inflating: sample_data/exdark/JPEGImages/2015_06414.jpg  \n",
            "  inflating: sample_data/exdark/JPEGImages/2015_06455.jpg  \n",
            "  inflating: sample_data/exdark/JPEGImages/2015_06459.jpg  \n",
            "  inflating: sample_data/exdark/JPEGImages/2015_06470.jpg  \n",
            "  inflating: sample_data/exdark/JPEGImages/2015_06481.jpg  \n",
            "  inflating: sample_data/exdark/JPEGImages/2015_06541.jpg  \n",
            "  inflating: sample_data/exdark/JPEGImages/2015_06551.jpg  \n",
            "  inflating: sample_data/exdark/JPEGImages/2015_06565.jpg  \n",
            "  inflating: sample_data/exdark/JPEGImages/2015_06569.jpg  \n",
            "  inflating: sample_data/exdark/JPEGImages/2015_06608.jpg  \n",
            "  inflating: sample_data/exdark/JPEGImages/2015_06621.jpg  \n",
            "  inflating: sample_data/exdark/JPEGImages/2015_06625.jpg  \n",
            "  inflating: sample_data/exdark/JPEGImages/2015_06689.jpg  \n",
            "  inflating: sample_data/exdark/JPEGImages/2015_06707.jpg  \n",
            "  inflating: sample_data/exdark/JPEGImages/2015_06717.jpg  \n",
            "  inflating: sample_data/exdark/JPEGImages/2015_06739.jpg  \n",
            "  inflating: sample_data/exdark/JPEGImages/2015_06749.jpg  \n",
            "  inflating: sample_data/exdark/JPEGImages/2015_06781.jpg  \n",
            "  inflating: sample_data/exdark/JPEGImages/2015_06851.jpg  \n",
            "  inflating: sample_data/exdark/JPEGImages/2015_06892.jpg  \n",
            "  inflating: sample_data/exdark/JPEGImages/2015_06894.jpg  \n",
            "  inflating: sample_data/exdark/JPEGImages/2015_06931.jpg  \n",
            "  inflating: sample_data/exdark/JPEGImages/2015_06997.jpg  \n",
            "  inflating: sample_data/exdark/JPEGImages/2015_07039.jpg  \n",
            "  inflating: sample_data/exdark/JPEGImages/2015_07050.jpg  \n",
            "  inflating: sample_data/exdark/JPEGImages/2015_07197.jpg  \n",
            "  inflating: sample_data/exdark/JPEGImages/2015_07255.jpg  \n",
            "  inflating: sample_data/exdark/JPEGImages/2015_07279.jpg  \n",
            "  inflating: sample_data/exdark/JPEGImages/2015_07281.jpg  \n",
            "  inflating: sample_data/exdark/JPEGImages/2015_07340.png  \n",
            "  inflating: sample_data/exdark/test.txt  \n",
            "  inflating: sample_data/exdark/train.txt  \n",
            "  inflating: sample_data/exdark/val.txt  \n"
          ]
        }
      ]
    },
    {
      "cell_type": "code",
      "source": [
        "model_coco8 = YOLO(\"yolov8n.pt\")"
      ],
      "metadata": {
        "id": "V4AONHNlwFLl",
        "collapsed": true
      },
      "execution_count": null,
      "outputs": []
    },
    {
      "cell_type": "code",
      "source": [
        "train_results_coco8 = model_coco8.train(\n",
        "    data=\"coco8.yaml\",\n",
        "    epochs=100,\n",
        "    imgsz=640,\n",
        "    device=0\n",
        "\n",
        ")"
      ],
      "metadata": {
        "colab": {
          "base_uri": "https://localhost:8080/"
        },
        "id": "gmutsCl2whwC",
        "outputId": "e8529767-aae4-4629-c1d1-332f267acce1",
        "collapsed": true
      },
      "execution_count": null,
      "outputs": [
        {
          "output_type": "stream",
          "name": "stdout",
          "text": [
            "Ultralytics 8.3.116 🚀 Python-3.11.12 torch-2.6.0+cu124 CUDA:0 (Tesla T4, 15095MiB)\n",
            "\u001b[34m\u001b[1mengine/trainer: \u001b[0mtask=detect, mode=train, model=yolov8n.pt, data=coco8.yaml, epochs=100, time=None, patience=100, batch=16, imgsz=640, save=True, save_period=-1, cache=False, device=0, workers=8, project=None, name=train4, exist_ok=False, pretrained=True, optimizer=auto, verbose=True, seed=0, deterministic=True, single_cls=False, rect=False, cos_lr=False, close_mosaic=10, resume=False, amp=True, fraction=1.0, profile=False, freeze=None, multi_scale=False, overlap_mask=True, mask_ratio=4, dropout=0.0, val=True, split=val, save_json=False, conf=None, iou=0.7, max_det=300, half=False, dnn=False, plots=True, source=None, vid_stride=1, stream_buffer=False, visualize=False, augment=False, agnostic_nms=False, classes=None, retina_masks=False, embed=None, show=False, save_frames=False, save_txt=False, save_conf=False, save_crop=False, show_labels=True, show_conf=True, show_boxes=True, line_width=None, format=torchscript, keras=False, optimize=False, int8=False, dynamic=False, simplify=True, opset=None, workspace=None, nms=False, lr0=0.01, lrf=0.01, momentum=0.937, weight_decay=0.0005, warmup_epochs=3.0, warmup_momentum=0.8, warmup_bias_lr=0.1, box=7.5, cls=0.5, dfl=1.5, pose=12.0, kobj=1.0, nbs=64, hsv_h=0.015, hsv_s=0.7, hsv_v=0.4, degrees=0.0, translate=0.1, scale=0.5, shear=0.0, perspective=0.0, flipud=0.0, fliplr=0.5, bgr=0.0, mosaic=1.0, mixup=0.0, copy_paste=0.0, copy_paste_mode=flip, auto_augment=randaugment, erasing=0.4, cfg=None, tracker=botsort.yaml, save_dir=runs/detect/train4\n",
            "\n",
            "                   from  n    params  module                                       arguments                     \n",
            "  0                  -1  1       464  ultralytics.nn.modules.conv.Conv             [3, 16, 3, 2]                 \n",
            "  1                  -1  1      4672  ultralytics.nn.modules.conv.Conv             [16, 32, 3, 2]                \n",
            "  2                  -1  1      7360  ultralytics.nn.modules.block.C2f             [32, 32, 1, True]             \n",
            "  3                  -1  1     18560  ultralytics.nn.modules.conv.Conv             [32, 64, 3, 2]                \n",
            "  4                  -1  2     49664  ultralytics.nn.modules.block.C2f             [64, 64, 2, True]             \n",
            "  5                  -1  1     73984  ultralytics.nn.modules.conv.Conv             [64, 128, 3, 2]               \n",
            "  6                  -1  2    197632  ultralytics.nn.modules.block.C2f             [128, 128, 2, True]           \n",
            "  7                  -1  1    295424  ultralytics.nn.modules.conv.Conv             [128, 256, 3, 2]              \n",
            "  8                  -1  1    460288  ultralytics.nn.modules.block.C2f             [256, 256, 1, True]           \n",
            "  9                  -1  1    164608  ultralytics.nn.modules.block.SPPF            [256, 256, 5]                 \n",
            " 10                  -1  1         0  torch.nn.modules.upsampling.Upsample         [None, 2, 'nearest']          \n",
            " 11             [-1, 6]  1         0  ultralytics.nn.modules.conv.Concat           [1]                           \n",
            " 12                  -1  1    148224  ultralytics.nn.modules.block.C2f             [384, 128, 1]                 \n",
            " 13                  -1  1         0  torch.nn.modules.upsampling.Upsample         [None, 2, 'nearest']          \n",
            " 14             [-1, 4]  1         0  ultralytics.nn.modules.conv.Concat           [1]                           \n",
            " 15                  -1  1     37248  ultralytics.nn.modules.block.C2f             [192, 64, 1]                  \n",
            " 16                  -1  1     36992  ultralytics.nn.modules.conv.Conv             [64, 64, 3, 2]                \n",
            " 17            [-1, 12]  1         0  ultralytics.nn.modules.conv.Concat           [1]                           \n",
            " 18                  -1  1    123648  ultralytics.nn.modules.block.C2f             [192, 128, 1]                 \n",
            " 19                  -1  1    147712  ultralytics.nn.modules.conv.Conv             [128, 128, 3, 2]              \n",
            " 20             [-1, 9]  1         0  ultralytics.nn.modules.conv.Concat           [1]                           \n",
            " 21                  -1  1    493056  ultralytics.nn.modules.block.C2f             [384, 256, 1]                 \n",
            " 22        [15, 18, 21]  1    897664  ultralytics.nn.modules.head.Detect           [80, [64, 128, 256]]          \n",
            "Model summary: 129 layers, 3,157,200 parameters, 3,157,184 gradients, 8.9 GFLOPs\n",
            "\n",
            "Transferred 355/355 items from pretrained weights\n",
            "Freezing layer 'model.22.dfl.conv.weight'\n",
            "\u001b[34m\u001b[1mAMP: \u001b[0mrunning Automatic Mixed Precision (AMP) checks...\n",
            "\u001b[34m\u001b[1mAMP: \u001b[0mchecks passed ✅\n",
            "\u001b[34m\u001b[1mtrain: \u001b[0mFast image access ✅ (ping: 0.1±0.1 ms, read: 786.1±196.8 MB/s, size: 50.0 KB)\n"
          ]
        },
        {
          "output_type": "stream",
          "name": "stderr",
          "text": [
            "\u001b[34m\u001b[1mtrain: \u001b[0mScanning /content/datasets/coco8/labels/train.cache... 4 images, 0 backgrounds, 0 corrupt: 100%|██████████| 4/4 [00:00<?, ?it/s]"
          ]
        },
        {
          "output_type": "stream",
          "name": "stdout",
          "text": [
            "\u001b[34m\u001b[1malbumentations: \u001b[0mBlur(p=0.01, blur_limit=(3, 7)), MedianBlur(p=0.01, blur_limit=(3, 7)), ToGray(p=0.01, num_output_channels=3, method='weighted_average'), CLAHE(p=0.01, clip_limit=(1.0, 4.0), tile_grid_size=(8, 8))\n"
          ]
        },
        {
          "output_type": "stream",
          "name": "stderr",
          "text": [
            "\n"
          ]
        },
        {
          "output_type": "stream",
          "name": "stdout",
          "text": [
            "\u001b[34m\u001b[1mval: \u001b[0mFast image access ✅ (ping: 0.0±0.0 ms, read: 336.9±66.5 MB/s, size: 54.0 KB)\n"
          ]
        },
        {
          "output_type": "stream",
          "name": "stderr",
          "text": [
            "\u001b[34m\u001b[1mval: \u001b[0mScanning /content/datasets/coco8/labels/val.cache... 4 images, 0 backgrounds, 0 corrupt: 100%|██████████| 4/4 [00:00<?, ?it/s]\n"
          ]
        },
        {
          "output_type": "stream",
          "name": "stdout",
          "text": [
            "Plotting labels to runs/detect/train4/labels.jpg... \n",
            "\u001b[34m\u001b[1moptimizer:\u001b[0m 'optimizer=auto' found, ignoring 'lr0=0.01' and 'momentum=0.937' and determining best 'optimizer', 'lr0' and 'momentum' automatically... \n",
            "\u001b[34m\u001b[1moptimizer:\u001b[0m AdamW(lr=0.000119, momentum=0.9) with parameter groups 57 weight(decay=0.0), 64 weight(decay=0.0005), 63 bias(decay=0.0)\n",
            "Image sizes 640 train, 640 val\n",
            "Using 2 dataloader workers\n",
            "Logging results to \u001b[1mruns/detect/train4\u001b[0m\n",
            "Starting training for 100 epochs...\n",
            "\n",
            "      Epoch    GPU_mem   box_loss   cls_loss   dfl_loss  Instances       Size\n"
          ]
        },
        {
          "output_type": "stream",
          "name": "stderr",
          "text": [
            "      1/100       1.5G       1.04       2.72      1.291         18        640: 100%|██████████| 1/1 [00:00<00:00,  6.35it/s]\n",
            "                 Class     Images  Instances      Box(P          R      mAP50  mAP50-95): 100%|██████████| 1/1 [00:00<00:00,  9.84it/s]"
          ]
        },
        {
          "output_type": "stream",
          "name": "stdout",
          "text": [
            "                   all          4         17      0.608      0.865      0.888       0.62\n"
          ]
        },
        {
          "output_type": "stream",
          "name": "stderr",
          "text": [
            "\n"
          ]
        },
        {
          "output_type": "stream",
          "name": "stdout",
          "text": [
            "\n",
            "      Epoch    GPU_mem   box_loss   cls_loss   dfl_loss  Instances       Size\n"
          ]
        },
        {
          "output_type": "stream",
          "name": "stderr",
          "text": [
            "      2/100       1.5G      1.251      2.964      1.619         22        640: 100%|██████████| 1/1 [00:00<00:00,  8.11it/s]\n",
            "                 Class     Images  Instances      Box(P          R      mAP50  mAP50-95): 100%|██████████| 1/1 [00:00<00:00, 10.37it/s]"
          ]
        },
        {
          "output_type": "stream",
          "name": "stdout",
          "text": [
            "                   all          4         17      0.581      0.887      0.888      0.617\n"
          ]
        },
        {
          "output_type": "stream",
          "name": "stderr",
          "text": [
            "\n"
          ]
        },
        {
          "output_type": "stream",
          "name": "stdout",
          "text": [
            "\n",
            "      Epoch    GPU_mem   box_loss   cls_loss   dfl_loss  Instances       Size\n"
          ]
        },
        {
          "output_type": "stream",
          "name": "stderr",
          "text": [
            "      3/100       1.5G      1.517      2.958       1.64         27        640: 100%|██████████| 1/1 [00:00<00:00,  8.40it/s]\n",
            "                 Class     Images  Instances      Box(P          R      mAP50  mAP50-95): 100%|██████████| 1/1 [00:00<00:00, 10.77it/s]"
          ]
        },
        {
          "output_type": "stream",
          "name": "stdout",
          "text": [
            "                   all          4         17      0.544      0.833      0.874      0.603\n"
          ]
        },
        {
          "output_type": "stream",
          "name": "stderr",
          "text": [
            "\n"
          ]
        },
        {
          "output_type": "stream",
          "name": "stdout",
          "text": [
            "\n",
            "      Epoch    GPU_mem   box_loss   cls_loss   dfl_loss  Instances       Size\n"
          ]
        },
        {
          "output_type": "stream",
          "name": "stderr",
          "text": [
            "      4/100       1.5G      1.291      2.868      1.567         33        640: 100%|██████████| 1/1 [00:00<00:00,  8.63it/s]\n",
            "                 Class     Images  Instances      Box(P          R      mAP50  mAP50-95): 100%|██████████| 1/1 [00:00<00:00, 19.21it/s]"
          ]
        },
        {
          "output_type": "stream",
          "name": "stdout",
          "text": [
            "                   all          4         17      0.541      0.833      0.872      0.602\n"
          ]
        },
        {
          "output_type": "stream",
          "name": "stderr",
          "text": [
            "\n"
          ]
        },
        {
          "output_type": "stream",
          "name": "stdout",
          "text": [
            "\n",
            "      Epoch    GPU_mem   box_loss   cls_loss   dfl_loss  Instances       Size\n"
          ]
        },
        {
          "output_type": "stream",
          "name": "stderr",
          "text": [
            "      5/100       1.5G      1.013      2.877      1.469         18        640: 100%|██████████| 1/1 [00:00<00:00,  7.23it/s]\n",
            "                 Class     Images  Instances      Box(P          R      mAP50  mAP50-95): 100%|██████████| 1/1 [00:00<00:00, 17.79it/s]"
          ]
        },
        {
          "output_type": "stream",
          "name": "stdout",
          "text": [
            "                   all          4         17      0.574      0.833      0.872      0.585\n"
          ]
        },
        {
          "output_type": "stream",
          "name": "stderr",
          "text": [
            "\n"
          ]
        },
        {
          "output_type": "stream",
          "name": "stdout",
          "text": [
            "\n",
            "      Epoch    GPU_mem   box_loss   cls_loss   dfl_loss  Instances       Size\n"
          ]
        },
        {
          "output_type": "stream",
          "name": "stderr",
          "text": [
            "      6/100       1.5G      1.214      4.189      1.581         23        640: 100%|██████████| 1/1 [00:00<00:00,  8.05it/s]\n",
            "                 Class     Images  Instances      Box(P          R      mAP50  mAP50-95): 100%|██████████| 1/1 [00:00<00:00, 14.15it/s]"
          ]
        },
        {
          "output_type": "stream",
          "name": "stdout",
          "text": [
            "                   all          4         17      0.689      0.583      0.886      0.587\n"
          ]
        },
        {
          "output_type": "stream",
          "name": "stderr",
          "text": [
            "\n"
          ]
        },
        {
          "output_type": "stream",
          "name": "stdout",
          "text": [
            "\n",
            "      Epoch    GPU_mem   box_loss   cls_loss   dfl_loss  Instances       Size\n"
          ]
        },
        {
          "output_type": "stream",
          "name": "stderr",
          "text": [
            "      7/100       1.5G      1.229      3.107      1.547         25        640: 100%|██████████| 1/1 [00:00<00:00,  7.61it/s]\n",
            "                 Class     Images  Instances      Box(P          R      mAP50  mAP50-95): 100%|██████████| 1/1 [00:00<00:00, 18.96it/s]\n"
          ]
        },
        {
          "output_type": "stream",
          "name": "stdout",
          "text": [
            "                   all          4         17       0.81      0.583      0.859      0.568\n",
            "\n",
            "      Epoch    GPU_mem   box_loss   cls_loss   dfl_loss  Instances       Size\n"
          ]
        },
        {
          "output_type": "stream",
          "name": "stderr",
          "text": [
            "      8/100       1.5G      1.391      3.015      1.502         50        640: 100%|██████████| 1/1 [00:00<00:00,  7.52it/s]\n",
            "                 Class     Images  Instances      Box(P          R      mAP50  mAP50-95): 100%|██████████| 1/1 [00:00<00:00, 13.23it/s]"
          ]
        },
        {
          "output_type": "stream",
          "name": "stdout",
          "text": [
            "                   all          4         17      0.779      0.583      0.886      0.559\n"
          ]
        },
        {
          "output_type": "stream",
          "name": "stderr",
          "text": [
            "\n"
          ]
        },
        {
          "output_type": "stream",
          "name": "stdout",
          "text": [
            "\n",
            "      Epoch    GPU_mem   box_loss   cls_loss   dfl_loss  Instances       Size\n"
          ]
        },
        {
          "output_type": "stream",
          "name": "stderr",
          "text": [
            "      9/100       1.5G      1.288       2.85      1.507         38        640: 100%|██████████| 1/1 [00:00<00:00,  5.42it/s]\n",
            "                 Class     Images  Instances      Box(P          R      mAP50  mAP50-95): 100%|██████████| 1/1 [00:00<00:00, 13.66it/s]"
          ]
        },
        {
          "output_type": "stream",
          "name": "stdout",
          "text": [
            "                   all          4         17      0.759      0.583      0.776      0.542\n"
          ]
        },
        {
          "output_type": "stream",
          "name": "stderr",
          "text": [
            "\n"
          ]
        },
        {
          "output_type": "stream",
          "name": "stdout",
          "text": [
            "\n",
            "      Epoch    GPU_mem   box_loss   cls_loss   dfl_loss  Instances       Size\n"
          ]
        },
        {
          "output_type": "stream",
          "name": "stderr",
          "text": [
            "     10/100       1.5G      1.362       2.85      1.487         26        640: 100%|██████████| 1/1 [00:00<00:00,  4.63it/s]\n",
            "                 Class     Images  Instances      Box(P          R      mAP50  mAP50-95): 100%|██████████| 1/1 [00:00<00:00, 12.16it/s]"
          ]
        },
        {
          "output_type": "stream",
          "name": "stdout",
          "text": [
            "                   all          4         17      0.721      0.583       0.77      0.518\n"
          ]
        },
        {
          "output_type": "stream",
          "name": "stderr",
          "text": [
            "\n"
          ]
        },
        {
          "output_type": "stream",
          "name": "stdout",
          "text": [
            "\n",
            "      Epoch    GPU_mem   box_loss   cls_loss   dfl_loss  Instances       Size\n"
          ]
        },
        {
          "output_type": "stream",
          "name": "stderr",
          "text": [
            "     11/100       1.5G     0.9977      2.204      1.215         28        640: 100%|██████████| 1/1 [00:00<00:00,  4.90it/s]\n",
            "                 Class     Images  Instances      Box(P          R      mAP50  mAP50-95): 100%|██████████| 1/1 [00:00<00:00, 14.53it/s]"
          ]
        },
        {
          "output_type": "stream",
          "name": "stdout",
          "text": [
            "                   all          4         17      0.686      0.583      0.744      0.511\n"
          ]
        },
        {
          "output_type": "stream",
          "name": "stderr",
          "text": [
            "\n"
          ]
        },
        {
          "output_type": "stream",
          "name": "stdout",
          "text": [
            "\n",
            "      Epoch    GPU_mem   box_loss   cls_loss   dfl_loss  Instances       Size\n"
          ]
        },
        {
          "output_type": "stream",
          "name": "stderr",
          "text": [
            "     12/100       1.5G     0.9525      2.032      1.447         21        640: 100%|██████████| 1/1 [00:00<00:00,  4.46it/s]\n",
            "                 Class     Images  Instances      Box(P          R      mAP50  mAP50-95): 100%|██████████| 1/1 [00:00<00:00, 15.22it/s]"
          ]
        },
        {
          "output_type": "stream",
          "name": "stdout",
          "text": [
            "                   all          4         17      0.673      0.583      0.744       0.51\n"
          ]
        },
        {
          "output_type": "stream",
          "name": "stderr",
          "text": [
            "\n"
          ]
        },
        {
          "output_type": "stream",
          "name": "stdout",
          "text": [
            "\n",
            "      Epoch    GPU_mem   box_loss   cls_loss   dfl_loss  Instances       Size\n"
          ]
        },
        {
          "output_type": "stream",
          "name": "stderr",
          "text": [
            "     13/100       1.5G     0.9849      2.169      1.336         27        640: 100%|██████████| 1/1 [00:00<00:00,  7.51it/s]\n",
            "                 Class     Images  Instances      Box(P          R      mAP50  mAP50-95): 100%|██████████| 1/1 [00:00<00:00,  6.19it/s]\n"
          ]
        },
        {
          "output_type": "stream",
          "name": "stdout",
          "text": [
            "                   all          4         17      0.666      0.583      0.743      0.511\n",
            "\n",
            "      Epoch    GPU_mem   box_loss   cls_loss   dfl_loss  Instances       Size\n"
          ]
        },
        {
          "output_type": "stream",
          "name": "stderr",
          "text": [
            "     14/100       1.5G     0.9174      2.012      1.329         23        640: 100%|██████████| 1/1 [00:00<00:00,  5.73it/s]\n",
            "                 Class     Images  Instances      Box(P          R      mAP50  mAP50-95): 100%|██████████| 1/1 [00:00<00:00, 14.06it/s]"
          ]
        },
        {
          "output_type": "stream",
          "name": "stdout",
          "text": [
            "                   all          4         17      0.801      0.417      0.743       0.51\n"
          ]
        },
        {
          "output_type": "stream",
          "name": "stderr",
          "text": [
            "\n"
          ]
        },
        {
          "output_type": "stream",
          "name": "stdout",
          "text": [
            "\n",
            "      Epoch    GPU_mem   box_loss   cls_loss   dfl_loss  Instances       Size\n"
          ]
        },
        {
          "output_type": "stream",
          "name": "stderr",
          "text": [
            "     15/100       1.5G      1.078      3.154      1.434         40        640: 100%|██████████| 1/1 [00:00<00:00,  5.10it/s]\n",
            "                 Class     Images  Instances      Box(P          R      mAP50  mAP50-95): 100%|██████████| 1/1 [00:00<00:00, 12.70it/s]"
          ]
        },
        {
          "output_type": "stream",
          "name": "stdout",
          "text": [
            "                   all          4         17      0.944      0.394      0.666      0.486\n"
          ]
        },
        {
          "output_type": "stream",
          "name": "stderr",
          "text": [
            "\n"
          ]
        },
        {
          "output_type": "stream",
          "name": "stdout",
          "text": [
            "\n",
            "      Epoch    GPU_mem   box_loss   cls_loss   dfl_loss  Instances       Size\n"
          ]
        },
        {
          "output_type": "stream",
          "name": "stderr",
          "text": [
            "     16/100       1.5G      0.657      3.209      1.137         14        640: 100%|██████████| 1/1 [00:00<00:00,  4.75it/s]\n",
            "                 Class     Images  Instances      Box(P          R      mAP50  mAP50-95): 100%|██████████| 1/1 [00:00<00:00, 15.29it/s]"
          ]
        },
        {
          "output_type": "stream",
          "name": "stdout",
          "text": [
            "                   all          4         17      0.946      0.392      0.665      0.508\n"
          ]
        },
        {
          "output_type": "stream",
          "name": "stderr",
          "text": [
            "\n"
          ]
        },
        {
          "output_type": "stream",
          "name": "stdout",
          "text": [
            "\n",
            "      Epoch    GPU_mem   box_loss   cls_loss   dfl_loss  Instances       Size\n"
          ]
        },
        {
          "output_type": "stream",
          "name": "stderr",
          "text": [
            "     17/100       1.5G     0.9559      2.904      1.329         40        640: 100%|██████████| 1/1 [00:00<00:00,  8.35it/s]\n",
            "                 Class     Images  Instances      Box(P          R      mAP50  mAP50-95): 100%|██████████| 1/1 [00:00<00:00, 13.43it/s]"
          ]
        },
        {
          "output_type": "stream",
          "name": "stdout",
          "text": [
            "                   all          4         17      0.945      0.393      0.665      0.507\n"
          ]
        },
        {
          "output_type": "stream",
          "name": "stderr",
          "text": [
            "\n"
          ]
        },
        {
          "output_type": "stream",
          "name": "stdout",
          "text": [
            "\n",
            "      Epoch    GPU_mem   box_loss   cls_loss   dfl_loss  Instances       Size\n"
          ]
        },
        {
          "output_type": "stream",
          "name": "stderr",
          "text": [
            "     18/100       1.5G     0.7523      2.032      1.173         29        640: 100%|██████████| 1/1 [00:00<00:00, 11.22it/s]\n",
            "                 Class     Images  Instances      Box(P          R      mAP50  mAP50-95): 100%|██████████| 1/1 [00:00<00:00, 10.55it/s]"
          ]
        },
        {
          "output_type": "stream",
          "name": "stdout",
          "text": [
            "                   all          4         17      0.945      0.393      0.665      0.507\n"
          ]
        },
        {
          "output_type": "stream",
          "name": "stderr",
          "text": [
            "\n"
          ]
        },
        {
          "output_type": "stream",
          "name": "stdout",
          "text": [
            "\n",
            "      Epoch    GPU_mem   box_loss   cls_loss   dfl_loss  Instances       Size\n"
          ]
        },
        {
          "output_type": "stream",
          "name": "stderr",
          "text": [
            "     19/100       1.5G     0.9597      2.181      1.265         29        640: 100%|██████████| 1/1 [00:00<00:00,  8.53it/s]\n",
            "                 Class     Images  Instances      Box(P          R      mAP50  mAP50-95): 100%|██████████| 1/1 [00:00<00:00, 19.43it/s]"
          ]
        },
        {
          "output_type": "stream",
          "name": "stdout",
          "text": [
            "                   all          4         17      0.941      0.374       0.66      0.499\n"
          ]
        },
        {
          "output_type": "stream",
          "name": "stderr",
          "text": [
            "\n"
          ]
        },
        {
          "output_type": "stream",
          "name": "stdout",
          "text": [
            "\n",
            "      Epoch    GPU_mem   box_loss   cls_loss   dfl_loss  Instances       Size\n"
          ]
        },
        {
          "output_type": "stream",
          "name": "stderr",
          "text": [
            "     20/100       1.5G      1.243      2.414      1.435         42        640: 100%|██████████| 1/1 [00:00<00:00, 10.23it/s]\n",
            "                 Class     Images  Instances      Box(P          R      mAP50  mAP50-95): 100%|██████████| 1/1 [00:00<00:00, 19.64it/s]"
          ]
        },
        {
          "output_type": "stream",
          "name": "stdout",
          "text": [
            "                   all          4         17      0.941      0.374       0.66      0.499\n"
          ]
        },
        {
          "output_type": "stream",
          "name": "stderr",
          "text": [
            "\n"
          ]
        },
        {
          "output_type": "stream",
          "name": "stdout",
          "text": [
            "\n",
            "      Epoch    GPU_mem   box_loss   cls_loss   dfl_loss  Instances       Size\n"
          ]
        },
        {
          "output_type": "stream",
          "name": "stderr",
          "text": [
            "     21/100       1.5G      1.212      3.514       1.63         12        640: 100%|██████████| 1/1 [00:00<00:00,  7.28it/s]\n",
            "                 Class     Images  Instances      Box(P          R      mAP50  mAP50-95): 100%|██████████| 1/1 [00:00<00:00, 19.74it/s]"
          ]
        },
        {
          "output_type": "stream",
          "name": "stdout",
          "text": [
            "                   all          4         17      0.938      0.374      0.618      0.448\n"
          ]
        },
        {
          "output_type": "stream",
          "name": "stderr",
          "text": [
            "\n"
          ]
        },
        {
          "output_type": "stream",
          "name": "stdout",
          "text": [
            "\n",
            "      Epoch    GPU_mem   box_loss   cls_loss   dfl_loss  Instances       Size\n"
          ]
        },
        {
          "output_type": "stream",
          "name": "stderr",
          "text": [
            "     22/100       1.5G      1.237      2.602      1.491         43        640: 100%|██████████| 1/1 [00:00<00:00, 10.48it/s]\n",
            "                 Class     Images  Instances      Box(P          R      mAP50  mAP50-95): 100%|██████████| 1/1 [00:00<00:00, 19.05it/s]"
          ]
        },
        {
          "output_type": "stream",
          "name": "stdout",
          "text": [
            "                   all          4         17      0.938      0.374      0.618      0.448\n"
          ]
        },
        {
          "output_type": "stream",
          "name": "stderr",
          "text": [
            "\n"
          ]
        },
        {
          "output_type": "stream",
          "name": "stdout",
          "text": [
            "\n",
            "      Epoch    GPU_mem   box_loss   cls_loss   dfl_loss  Instances       Size\n"
          ]
        },
        {
          "output_type": "stream",
          "name": "stderr",
          "text": [
            "     23/100       1.5G     0.8838      2.272      1.375         33        640: 100%|██████████| 1/1 [00:00<00:00,  8.09it/s]\n",
            "                 Class     Images  Instances      Box(P          R      mAP50  mAP50-95): 100%|██████████| 1/1 [00:00<00:00, 16.40it/s]"
          ]
        },
        {
          "output_type": "stream",
          "name": "stdout",
          "text": [
            "                   all          4         17      0.936      0.374      0.618       0.44\n"
          ]
        },
        {
          "output_type": "stream",
          "name": "stderr",
          "text": [
            "\n"
          ]
        },
        {
          "output_type": "stream",
          "name": "stdout",
          "text": [
            "\n",
            "      Epoch    GPU_mem   box_loss   cls_loss   dfl_loss  Instances       Size\n"
          ]
        },
        {
          "output_type": "stream",
          "name": "stderr",
          "text": [
            "     24/100       1.5G      1.115      2.606      1.497         29        640: 100%|██████████| 1/1 [00:00<00:00,  9.60it/s]\n",
            "                 Class     Images  Instances      Box(P          R      mAP50  mAP50-95): 100%|██████████| 1/1 [00:00<00:00, 19.77it/s]"
          ]
        },
        {
          "output_type": "stream",
          "name": "stdout",
          "text": [
            "                   all          4         17      0.936      0.374      0.618       0.44\n"
          ]
        },
        {
          "output_type": "stream",
          "name": "stderr",
          "text": [
            "\n"
          ]
        },
        {
          "output_type": "stream",
          "name": "stdout",
          "text": [
            "\n",
            "      Epoch    GPU_mem   box_loss   cls_loss   dfl_loss  Instances       Size\n"
          ]
        },
        {
          "output_type": "stream",
          "name": "stderr",
          "text": [
            "     25/100       1.5G     0.9857      1.695      1.436         18        640: 100%|██████████| 1/1 [00:00<00:00,  7.90it/s]\n",
            "                 Class     Images  Instances      Box(P          R      mAP50  mAP50-95): 100%|██████████| 1/1 [00:00<00:00, 18.75it/s]\n"
          ]
        },
        {
          "output_type": "stream",
          "name": "stdout",
          "text": [
            "                   all          4         17      0.934      0.374      0.617      0.428\n",
            "\n",
            "      Epoch    GPU_mem   box_loss   cls_loss   dfl_loss  Instances       Size\n"
          ]
        },
        {
          "output_type": "stream",
          "name": "stderr",
          "text": [
            "     26/100       1.5G     0.7145      1.539      1.126         22        640: 100%|██████████| 1/1 [00:00<00:00,  7.47it/s]\n",
            "                 Class     Images  Instances      Box(P          R      mAP50  mAP50-95): 100%|██████████| 1/1 [00:00<00:00, 15.64it/s]"
          ]
        },
        {
          "output_type": "stream",
          "name": "stdout",
          "text": [
            "                   all          4         17      0.934      0.374      0.617      0.428\n"
          ]
        },
        {
          "output_type": "stream",
          "name": "stderr",
          "text": [
            "\n"
          ]
        },
        {
          "output_type": "stream",
          "name": "stdout",
          "text": [
            "\n",
            "      Epoch    GPU_mem   box_loss   cls_loss   dfl_loss  Instances       Size\n"
          ]
        },
        {
          "output_type": "stream",
          "name": "stderr",
          "text": [
            "     27/100       1.5G     0.7591      1.378      1.161         29        640: 100%|██████████| 1/1 [00:00<00:00,  8.42it/s]\n",
            "                 Class     Images  Instances      Box(P          R      mAP50  mAP50-95): 100%|██████████| 1/1 [00:00<00:00, 18.28it/s]"
          ]
        },
        {
          "output_type": "stream",
          "name": "stdout",
          "text": [
            "                   all          4         17      0.931      0.373      0.575      0.414\n"
          ]
        },
        {
          "output_type": "stream",
          "name": "stderr",
          "text": [
            "\n"
          ]
        },
        {
          "output_type": "stream",
          "name": "stdout",
          "text": [
            "\n",
            "      Epoch    GPU_mem   box_loss   cls_loss   dfl_loss  Instances       Size\n"
          ]
        },
        {
          "output_type": "stream",
          "name": "stderr",
          "text": [
            "     28/100       1.5G     0.9325      1.452      1.296         38        640: 100%|██████████| 1/1 [00:00<00:00,  9.69it/s]\n",
            "                 Class     Images  Instances      Box(P          R      mAP50  mAP50-95): 100%|██████████| 1/1 [00:00<00:00, 18.80it/s]"
          ]
        },
        {
          "output_type": "stream",
          "name": "stdout",
          "text": [
            "                   all          4         17      0.931      0.373      0.575      0.414\n"
          ]
        },
        {
          "output_type": "stream",
          "name": "stderr",
          "text": [
            "\n"
          ]
        },
        {
          "output_type": "stream",
          "name": "stdout",
          "text": [
            "\n",
            "      Epoch    GPU_mem   box_loss   cls_loss   dfl_loss  Instances       Size\n"
          ]
        },
        {
          "output_type": "stream",
          "name": "stderr",
          "text": [
            "     29/100       1.5G     0.7543      1.732      1.161         18        640: 100%|██████████| 1/1 [00:00<00:00,  8.67it/s]\n",
            "                 Class     Images  Instances      Box(P          R      mAP50  mAP50-95): 100%|██████████| 1/1 [00:00<00:00, 18.84it/s]"
          ]
        },
        {
          "output_type": "stream",
          "name": "stdout",
          "text": [
            "                   all          4         17      0.935      0.374      0.575      0.412\n"
          ]
        },
        {
          "output_type": "stream",
          "name": "stderr",
          "text": [
            "\n"
          ]
        },
        {
          "output_type": "stream",
          "name": "stdout",
          "text": [
            "\n",
            "      Epoch    GPU_mem   box_loss   cls_loss   dfl_loss  Instances       Size\n"
          ]
        },
        {
          "output_type": "stream",
          "name": "stderr",
          "text": [
            "     30/100       1.5G     0.6675      1.271      1.145         22        640: 100%|██████████| 1/1 [00:00<00:00, 10.72it/s]\n",
            "                 Class     Images  Instances      Box(P          R      mAP50  mAP50-95): 100%|██████████| 1/1 [00:00<00:00, 19.93it/s]"
          ]
        },
        {
          "output_type": "stream",
          "name": "stdout",
          "text": [
            "                   all          4         17      0.935      0.374      0.575      0.412\n"
          ]
        },
        {
          "output_type": "stream",
          "name": "stderr",
          "text": [
            "\n"
          ]
        },
        {
          "output_type": "stream",
          "name": "stdout",
          "text": [
            "\n",
            "      Epoch    GPU_mem   box_loss   cls_loss   dfl_loss  Instances       Size\n"
          ]
        },
        {
          "output_type": "stream",
          "name": "stderr",
          "text": [
            "     31/100       1.5G      1.063      1.355       1.21         48        640: 100%|██████████| 1/1 [00:00<00:00,  8.35it/s]\n",
            "                 Class     Images  Instances      Box(P          R      mAP50  mAP50-95): 100%|██████████| 1/1 [00:00<00:00, 17.74it/s]"
          ]
        },
        {
          "output_type": "stream",
          "name": "stdout",
          "text": [
            "                   all          4         17      0.939      0.375       0.58      0.412\n"
          ]
        },
        {
          "output_type": "stream",
          "name": "stderr",
          "text": [
            "\n"
          ]
        },
        {
          "output_type": "stream",
          "name": "stdout",
          "text": [
            "\n",
            "      Epoch    GPU_mem   box_loss   cls_loss   dfl_loss  Instances       Size\n"
          ]
        },
        {
          "output_type": "stream",
          "name": "stderr",
          "text": [
            "     32/100       1.5G     0.9368      1.933      1.328         19        640: 100%|██████████| 1/1 [00:00<00:00, 10.64it/s]\n",
            "                 Class     Images  Instances      Box(P          R      mAP50  mAP50-95): 100%|██████████| 1/1 [00:00<00:00, 20.27it/s]"
          ]
        },
        {
          "output_type": "stream",
          "name": "stdout",
          "text": [
            "                   all          4         17      0.939      0.375       0.58      0.412\n"
          ]
        },
        {
          "output_type": "stream",
          "name": "stderr",
          "text": [
            "\n"
          ]
        },
        {
          "output_type": "stream",
          "name": "stdout",
          "text": [
            "\n",
            "      Epoch    GPU_mem   box_loss   cls_loss   dfl_loss  Instances       Size\n"
          ]
        },
        {
          "output_type": "stream",
          "name": "stderr",
          "text": [
            "     33/100       1.5G      1.093      1.375      1.391         34        640: 100%|██████████| 1/1 [00:00<00:00,  7.78it/s]\n",
            "                 Class     Images  Instances      Box(P          R      mAP50  mAP50-95): 100%|██████████| 1/1 [00:00<00:00, 20.07it/s]\n"
          ]
        },
        {
          "output_type": "stream",
          "name": "stdout",
          "text": [
            "                   all          4         17      0.937      0.374      0.499      0.345\n",
            "\n",
            "      Epoch    GPU_mem   box_loss   cls_loss   dfl_loss  Instances       Size\n"
          ]
        },
        {
          "output_type": "stream",
          "name": "stderr",
          "text": [
            "     34/100       1.5G      1.067      1.515      1.413         31        640: 100%|██████████| 1/1 [00:00<00:00,  5.49it/s]\n",
            "                 Class     Images  Instances      Box(P          R      mAP50  mAP50-95): 100%|██████████| 1/1 [00:00<00:00, 11.09it/s]"
          ]
        },
        {
          "output_type": "stream",
          "name": "stdout",
          "text": [
            "                   all          4         17      0.937      0.374      0.499      0.345\n"
          ]
        },
        {
          "output_type": "stream",
          "name": "stderr",
          "text": [
            "\n"
          ]
        },
        {
          "output_type": "stream",
          "name": "stdout",
          "text": [
            "\n",
            "      Epoch    GPU_mem   box_loss   cls_loss   dfl_loss  Instances       Size\n"
          ]
        },
        {
          "output_type": "stream",
          "name": "stderr",
          "text": [
            "     35/100       1.5G     0.7474      0.959       1.21         25        640: 100%|██████████| 1/1 [00:00<00:00,  8.16it/s]\n",
            "                 Class     Images  Instances      Box(P          R      mAP50  mAP50-95): 100%|██████████| 1/1 [00:00<00:00, 19.25it/s]"
          ]
        },
        {
          "output_type": "stream",
          "name": "stdout",
          "text": [
            "                   all          4         17       0.94      0.374      0.497       0.37\n"
          ]
        },
        {
          "output_type": "stream",
          "name": "stderr",
          "text": [
            "\n"
          ]
        },
        {
          "output_type": "stream",
          "name": "stdout",
          "text": [
            "\n",
            "      Epoch    GPU_mem   box_loss   cls_loss   dfl_loss  Instances       Size\n"
          ]
        },
        {
          "output_type": "stream",
          "name": "stderr",
          "text": [
            "     36/100       1.5G      1.002      1.221      1.398         22        640: 100%|██████████| 1/1 [00:00<00:00, 10.36it/s]\n",
            "                 Class     Images  Instances      Box(P          R      mAP50  mAP50-95): 100%|██████████| 1/1 [00:00<00:00, 20.12it/s]"
          ]
        },
        {
          "output_type": "stream",
          "name": "stdout",
          "text": [
            "                   all          4         17       0.94      0.374      0.497       0.37\n"
          ]
        },
        {
          "output_type": "stream",
          "name": "stderr",
          "text": [
            "\n"
          ]
        },
        {
          "output_type": "stream",
          "name": "stdout",
          "text": [
            "\n",
            "      Epoch    GPU_mem   box_loss   cls_loss   dfl_loss  Instances       Size\n"
          ]
        },
        {
          "output_type": "stream",
          "name": "stderr",
          "text": [
            "     37/100       1.5G     0.9426      1.629      1.288         31        640: 100%|██████████| 1/1 [00:00<00:00,  7.99it/s]\n",
            "                 Class     Images  Instances      Box(P          R      mAP50  mAP50-95): 100%|██████████| 1/1 [00:00<00:00, 19.16it/s]\n"
          ]
        },
        {
          "output_type": "stream",
          "name": "stdout",
          "text": [
            "                   all          4         17       0.94      0.374        0.5      0.372\n",
            "\n",
            "      Epoch    GPU_mem   box_loss   cls_loss   dfl_loss  Instances       Size\n"
          ]
        },
        {
          "output_type": "stream",
          "name": "stderr",
          "text": [
            "     38/100       1.5G     0.6722     0.9908      1.152         19        640: 100%|██████████| 1/1 [00:00<00:00,  8.08it/s]\n",
            "                 Class     Images  Instances      Box(P          R      mAP50  mAP50-95): 100%|██████████| 1/1 [00:00<00:00, 11.91it/s]"
          ]
        },
        {
          "output_type": "stream",
          "name": "stdout",
          "text": [
            "                   all          4         17       0.94      0.374        0.5      0.372\n"
          ]
        },
        {
          "output_type": "stream",
          "name": "stderr",
          "text": [
            "\n"
          ]
        },
        {
          "output_type": "stream",
          "name": "stdout",
          "text": [
            "\n",
            "      Epoch    GPU_mem   box_loss   cls_loss   dfl_loss  Instances       Size\n"
          ]
        },
        {
          "output_type": "stream",
          "name": "stderr",
          "text": [
            "     39/100       1.5G      0.718     0.9541      1.115         30        640: 100%|██████████| 1/1 [00:00<00:00,  5.53it/s]\n",
            "                 Class     Images  Instances      Box(P          R      mAP50  mAP50-95): 100%|██████████| 1/1 [00:00<00:00, 11.69it/s]"
          ]
        },
        {
          "output_type": "stream",
          "name": "stdout",
          "text": [
            "                   all          4         17      0.939      0.374      0.499      0.396\n"
          ]
        },
        {
          "output_type": "stream",
          "name": "stderr",
          "text": [
            "\n"
          ]
        },
        {
          "output_type": "stream",
          "name": "stdout",
          "text": [
            "\n",
            "      Epoch    GPU_mem   box_loss   cls_loss   dfl_loss  Instances       Size\n"
          ]
        },
        {
          "output_type": "stream",
          "name": "stderr",
          "text": [
            "     40/100       1.5G     0.8069      1.067      1.197         27        640: 100%|██████████| 1/1 [00:00<00:00,  6.81it/s]\n",
            "                 Class     Images  Instances      Box(P          R      mAP50  mAP50-95): 100%|██████████| 1/1 [00:00<00:00, 11.42it/s]"
          ]
        },
        {
          "output_type": "stream",
          "name": "stdout",
          "text": [
            "                   all          4         17      0.939      0.374      0.499      0.396\n"
          ]
        },
        {
          "output_type": "stream",
          "name": "stderr",
          "text": [
            "\n"
          ]
        },
        {
          "output_type": "stream",
          "name": "stdout",
          "text": [
            "\n",
            "      Epoch    GPU_mem   box_loss   cls_loss   dfl_loss  Instances       Size\n"
          ]
        },
        {
          "output_type": "stream",
          "name": "stderr",
          "text": [
            "     41/100       1.5G     0.8718      1.271      1.217         36        640: 100%|██████████| 1/1 [00:00<00:00,  5.42it/s]\n",
            "                 Class     Images  Instances      Box(P          R      mAP50  mAP50-95): 100%|██████████| 1/1 [00:00<00:00, 12.66it/s]"
          ]
        },
        {
          "output_type": "stream",
          "name": "stdout",
          "text": [
            "                   all          4         17       0.94      0.374      0.471      0.369\n"
          ]
        },
        {
          "output_type": "stream",
          "name": "stderr",
          "text": [
            "\n"
          ]
        },
        {
          "output_type": "stream",
          "name": "stdout",
          "text": [
            "\n",
            "      Epoch    GPU_mem   box_loss   cls_loss   dfl_loss  Instances       Size\n"
          ]
        },
        {
          "output_type": "stream",
          "name": "stderr",
          "text": [
            "     42/100       1.5G     0.7878      1.188       1.28         14        640: 100%|██████████| 1/1 [00:00<00:00,  5.68it/s]\n",
            "                 Class     Images  Instances      Box(P          R      mAP50  mAP50-95): 100%|██████████| 1/1 [00:00<00:00,  7.09it/s]"
          ]
        },
        {
          "output_type": "stream",
          "name": "stdout",
          "text": [
            "                   all          4         17       0.94      0.374      0.471      0.369\n"
          ]
        },
        {
          "output_type": "stream",
          "name": "stderr",
          "text": [
            "\n"
          ]
        },
        {
          "output_type": "stream",
          "name": "stdout",
          "text": [
            "\n",
            "      Epoch    GPU_mem   box_loss   cls_loss   dfl_loss  Instances       Size\n"
          ]
        },
        {
          "output_type": "stream",
          "name": "stderr",
          "text": [
            "     43/100       1.5G     0.8758      1.404      1.201         45        640: 100%|██████████| 1/1 [00:00<00:00,  7.78it/s]\n",
            "                 Class     Images  Instances      Box(P          R      mAP50  mAP50-95): 100%|██████████| 1/1 [00:00<00:00, 18.52it/s]\n"
          ]
        },
        {
          "output_type": "stream",
          "name": "stdout",
          "text": [
            "                   all          4         17      0.938      0.373      0.499      0.388\n",
            "\n",
            "      Epoch    GPU_mem   box_loss   cls_loss   dfl_loss  Instances       Size\n"
          ]
        },
        {
          "output_type": "stream",
          "name": "stderr",
          "text": [
            "     44/100       1.5G     0.8899     0.9965      1.306         19        640: 100%|██████████| 1/1 [00:00<00:00, 10.43it/s]\n",
            "                 Class     Images  Instances      Box(P          R      mAP50  mAP50-95): 100%|██████████| 1/1 [00:00<00:00, 13.11it/s]\n"
          ]
        },
        {
          "output_type": "stream",
          "name": "stdout",
          "text": [
            "                   all          4         17      0.938      0.373      0.499      0.388\n",
            "\n",
            "      Epoch    GPU_mem   box_loss   cls_loss   dfl_loss  Instances       Size\n"
          ]
        },
        {
          "output_type": "stream",
          "name": "stderr",
          "text": [
            "     45/100       1.5G     0.7893     0.8357      1.143         29        640: 100%|██████████| 1/1 [00:00<00:00,  7.14it/s]\n",
            "                 Class     Images  Instances      Box(P          R      mAP50  mAP50-95): 100%|██████████| 1/1 [00:00<00:00,  8.56it/s]"
          ]
        },
        {
          "output_type": "stream",
          "name": "stdout",
          "text": [
            "                   all          4         17      0.933      0.373      0.502      0.397\n"
          ]
        },
        {
          "output_type": "stream",
          "name": "stderr",
          "text": [
            "\n"
          ]
        },
        {
          "output_type": "stream",
          "name": "stdout",
          "text": [
            "\n",
            "      Epoch    GPU_mem   box_loss   cls_loss   dfl_loss  Instances       Size\n"
          ]
        },
        {
          "output_type": "stream",
          "name": "stderr",
          "text": [
            "     46/100       1.5G     0.6744      1.228      1.165         16        640: 100%|██████████| 1/1 [00:00<00:00, 10.06it/s]\n",
            "                 Class     Images  Instances      Box(P          R      mAP50  mAP50-95): 100%|██████████| 1/1 [00:00<00:00, 16.98it/s]"
          ]
        },
        {
          "output_type": "stream",
          "name": "stdout",
          "text": [
            "                   all          4         17      0.933      0.373      0.502      0.397\n"
          ]
        },
        {
          "output_type": "stream",
          "name": "stderr",
          "text": [
            "\n"
          ]
        },
        {
          "output_type": "stream",
          "name": "stdout",
          "text": [
            "\n",
            "      Epoch    GPU_mem   box_loss   cls_loss   dfl_loss  Instances       Size\n"
          ]
        },
        {
          "output_type": "stream",
          "name": "stderr",
          "text": [
            "     47/100       1.5G      0.803      1.255      1.184         17        640: 100%|██████████| 1/1 [00:00<00:00,  8.17it/s]\n",
            "                 Class     Images  Instances      Box(P          R      mAP50  mAP50-95): 100%|██████████| 1/1 [00:00<00:00, 18.40it/s]"
          ]
        },
        {
          "output_type": "stream",
          "name": "stdout",
          "text": [
            "                   all          4         17      0.937      0.373      0.504      0.406\n"
          ]
        },
        {
          "output_type": "stream",
          "name": "stderr",
          "text": [
            "\n"
          ]
        },
        {
          "output_type": "stream",
          "name": "stdout",
          "text": [
            "\n",
            "      Epoch    GPU_mem   box_loss   cls_loss   dfl_loss  Instances       Size\n"
          ]
        },
        {
          "output_type": "stream",
          "name": "stderr",
          "text": [
            "     48/100       1.5G     0.7594     0.8881      1.069         19        640: 100%|██████████| 1/1 [00:00<00:00,  5.10it/s]\n",
            "                 Class     Images  Instances      Box(P          R      mAP50  mAP50-95): 100%|██████████| 1/1 [00:00<00:00, 18.77it/s]"
          ]
        },
        {
          "output_type": "stream",
          "name": "stdout",
          "text": [
            "                   all          4         17      0.937      0.373      0.504      0.406\n"
          ]
        },
        {
          "output_type": "stream",
          "name": "stderr",
          "text": [
            "\n"
          ]
        },
        {
          "output_type": "stream",
          "name": "stdout",
          "text": [
            "\n",
            "      Epoch    GPU_mem   box_loss   cls_loss   dfl_loss  Instances       Size\n"
          ]
        },
        {
          "output_type": "stream",
          "name": "stderr",
          "text": [
            "     49/100       1.5G      1.172      1.534       1.51         18        640: 100%|██████████| 1/1 [00:00<00:00,  8.13it/s]\n",
            "                 Class     Images  Instances      Box(P          R      mAP50  mAP50-95): 100%|██████████| 1/1 [00:00<00:00, 14.19it/s]"
          ]
        },
        {
          "output_type": "stream",
          "name": "stdout",
          "text": [
            "                   all          4         17       0.94      0.373      0.504      0.398\n"
          ]
        },
        {
          "output_type": "stream",
          "name": "stderr",
          "text": [
            "\n"
          ]
        },
        {
          "output_type": "stream",
          "name": "stdout",
          "text": [
            "\n",
            "      Epoch    GPU_mem   box_loss   cls_loss   dfl_loss  Instances       Size\n"
          ]
        },
        {
          "output_type": "stream",
          "name": "stderr",
          "text": [
            "     50/100       1.5G     0.8525      1.226      1.204         50        640: 100%|██████████| 1/1 [00:00<00:00, 10.07it/s]\n",
            "                 Class     Images  Instances      Box(P          R      mAP50  mAP50-95): 100%|██████████| 1/1 [00:00<00:00, 18.88it/s]"
          ]
        },
        {
          "output_type": "stream",
          "name": "stdout",
          "text": [
            "                   all          4         17       0.94      0.373      0.504      0.398\n"
          ]
        },
        {
          "output_type": "stream",
          "name": "stderr",
          "text": [
            "\n"
          ]
        },
        {
          "output_type": "stream",
          "name": "stdout",
          "text": [
            "\n",
            "      Epoch    GPU_mem   box_loss   cls_loss   dfl_loss  Instances       Size\n"
          ]
        },
        {
          "output_type": "stream",
          "name": "stderr",
          "text": [
            "     51/100       1.5G      1.223      1.249       1.79         17        640: 100%|██████████| 1/1 [00:00<00:00,  8.31it/s]\n",
            "                 Class     Images  Instances      Box(P          R      mAP50  mAP50-95): 100%|██████████| 1/1 [00:00<00:00, 12.26it/s]"
          ]
        },
        {
          "output_type": "stream",
          "name": "stdout",
          "text": [
            "                   all          4         17       0.94      0.372      0.508      0.399\n"
          ]
        },
        {
          "output_type": "stream",
          "name": "stderr",
          "text": [
            "\n"
          ]
        },
        {
          "output_type": "stream",
          "name": "stdout",
          "text": [
            "\n",
            "      Epoch    GPU_mem   box_loss   cls_loss   dfl_loss  Instances       Size\n"
          ]
        },
        {
          "output_type": "stream",
          "name": "stderr",
          "text": [
            "     52/100       1.5G     0.5309     0.5233      1.042         24        640: 100%|██████████| 1/1 [00:00<00:00, 10.04it/s]\n",
            "                 Class     Images  Instances      Box(P          R      mAP50  mAP50-95): 100%|██████████| 1/1 [00:00<00:00, 17.83it/s]"
          ]
        },
        {
          "output_type": "stream",
          "name": "stdout",
          "text": [
            "                   all          4         17       0.94      0.372      0.508      0.399\n"
          ]
        },
        {
          "output_type": "stream",
          "name": "stderr",
          "text": [
            "\n"
          ]
        },
        {
          "output_type": "stream",
          "name": "stdout",
          "text": [
            "\n",
            "      Epoch    GPU_mem   box_loss   cls_loss   dfl_loss  Instances       Size\n"
          ]
        },
        {
          "output_type": "stream",
          "name": "stderr",
          "text": [
            "     53/100       1.5G     0.6115     0.8196      1.093         26        640: 100%|██████████| 1/1 [00:00<00:00, 10.19it/s]\n",
            "                 Class     Images  Instances      Box(P          R      mAP50  mAP50-95): 100%|██████████| 1/1 [00:00<00:00, 16.44it/s]"
          ]
        },
        {
          "output_type": "stream",
          "name": "stdout",
          "text": [
            "                   all          4         17       0.94      0.372      0.508      0.399\n"
          ]
        },
        {
          "output_type": "stream",
          "name": "stderr",
          "text": [
            "\n"
          ]
        },
        {
          "output_type": "stream",
          "name": "stdout",
          "text": [
            "\n",
            "      Epoch    GPU_mem   box_loss   cls_loss   dfl_loss  Instances       Size\n"
          ]
        },
        {
          "output_type": "stream",
          "name": "stderr",
          "text": [
            "     54/100       1.5G     0.7884      1.037      1.127         41        640: 100%|██████████| 1/1 [00:00<00:00,  5.12it/s]\n",
            "                 Class     Images  Instances      Box(P          R      mAP50  mAP50-95): 100%|██████████| 1/1 [00:00<00:00, 19.08it/s]"
          ]
        },
        {
          "output_type": "stream",
          "name": "stdout",
          "text": [
            "                   all          4         17      0.944      0.372      0.481      0.371\n"
          ]
        },
        {
          "output_type": "stream",
          "name": "stderr",
          "text": [
            "\n"
          ]
        },
        {
          "output_type": "stream",
          "name": "stdout",
          "text": [
            "\n",
            "      Epoch    GPU_mem   box_loss   cls_loss   dfl_loss  Instances       Size\n"
          ]
        },
        {
          "output_type": "stream",
          "name": "stderr",
          "text": [
            "     55/100       1.5G      0.891      1.088      1.347         25        640: 100%|██████████| 1/1 [00:00<00:00,  8.88it/s]\n",
            "                 Class     Images  Instances      Box(P          R      mAP50  mAP50-95): 100%|██████████| 1/1 [00:00<00:00, 17.76it/s]"
          ]
        },
        {
          "output_type": "stream",
          "name": "stdout",
          "text": [
            "                   all          4         17      0.944      0.372      0.481      0.371\n"
          ]
        },
        {
          "output_type": "stream",
          "name": "stderr",
          "text": [
            "\n"
          ]
        },
        {
          "output_type": "stream",
          "name": "stdout",
          "text": [
            "\n",
            "      Epoch    GPU_mem   box_loss   cls_loss   dfl_loss  Instances       Size\n"
          ]
        },
        {
          "output_type": "stream",
          "name": "stderr",
          "text": [
            "     56/100       1.5G      0.558     0.7934       1.05         41        640: 100%|██████████| 1/1 [00:00<00:00, 10.07it/s]\n",
            "                 Class     Images  Instances      Box(P          R      mAP50  mAP50-95): 100%|██████████| 1/1 [00:00<00:00, 18.87it/s]"
          ]
        },
        {
          "output_type": "stream",
          "name": "stdout",
          "text": [
            "                   all          4         17      0.944      0.372      0.481      0.371\n"
          ]
        },
        {
          "output_type": "stream",
          "name": "stderr",
          "text": [
            "\n"
          ]
        },
        {
          "output_type": "stream",
          "name": "stdout",
          "text": [
            "\n",
            "      Epoch    GPU_mem   box_loss   cls_loss   dfl_loss  Instances       Size\n"
          ]
        },
        {
          "output_type": "stream",
          "name": "stderr",
          "text": [
            "     57/100       1.5G     0.8609      0.826      1.351         16        640: 100%|██████████| 1/1 [00:00<00:00,  1.91it/s]\n",
            "                 Class     Images  Instances      Box(P          R      mAP50  mAP50-95): 100%|██████████| 1/1 [00:00<00:00,  5.31it/s]\n"
          ]
        },
        {
          "output_type": "stream",
          "name": "stdout",
          "text": [
            "                   all          4         17      0.948      0.371      0.469      0.358\n",
            "\n",
            "      Epoch    GPU_mem   box_loss   cls_loss   dfl_loss  Instances       Size\n"
          ]
        },
        {
          "output_type": "stream",
          "name": "stderr",
          "text": [
            "     58/100       1.5G     0.4605     0.6966       1.06         17        640: 100%|██████████| 1/1 [00:00<00:00,  8.81it/s]\n",
            "                 Class     Images  Instances      Box(P          R      mAP50  mAP50-95): 100%|██████████| 1/1 [00:00<00:00, 14.70it/s]"
          ]
        },
        {
          "output_type": "stream",
          "name": "stdout",
          "text": [
            "                   all          4         17      0.948      0.371      0.469      0.358\n"
          ]
        },
        {
          "output_type": "stream",
          "name": "stderr",
          "text": [
            "\n"
          ]
        },
        {
          "output_type": "stream",
          "name": "stdout",
          "text": [
            "\n",
            "      Epoch    GPU_mem   box_loss   cls_loss   dfl_loss  Instances       Size\n"
          ]
        },
        {
          "output_type": "stream",
          "name": "stderr",
          "text": [
            "     59/100       1.5G     0.8448      1.899      1.295         21        640: 100%|██████████| 1/1 [00:00<00:00, 10.16it/s]\n",
            "                 Class     Images  Instances      Box(P          R      mAP50  mAP50-95): 100%|██████████| 1/1 [00:00<00:00, 19.20it/s]"
          ]
        },
        {
          "output_type": "stream",
          "name": "stdout",
          "text": [
            "                   all          4         17      0.948      0.371      0.469      0.358\n"
          ]
        },
        {
          "output_type": "stream",
          "name": "stderr",
          "text": [
            "\n"
          ]
        },
        {
          "output_type": "stream",
          "name": "stdout",
          "text": [
            "\n",
            "      Epoch    GPU_mem   box_loss   cls_loss   dfl_loss  Instances       Size\n"
          ]
        },
        {
          "output_type": "stream",
          "name": "stderr",
          "text": [
            "     60/100       1.5G     0.8648      1.334      1.231         52        640: 100%|██████████| 1/1 [00:00<00:00,  2.73it/s]\n",
            "                 Class     Images  Instances      Box(P          R      mAP50  mAP50-95): 100%|██████████| 1/1 [00:00<00:00, 11.23it/s]"
          ]
        },
        {
          "output_type": "stream",
          "name": "stdout",
          "text": [
            "                   all          4         17      0.954      0.373       0.47      0.361\n"
          ]
        },
        {
          "output_type": "stream",
          "name": "stderr",
          "text": [
            "\n"
          ]
        },
        {
          "output_type": "stream",
          "name": "stdout",
          "text": [
            "\n",
            "      Epoch    GPU_mem   box_loss   cls_loss   dfl_loss  Instances       Size\n"
          ]
        },
        {
          "output_type": "stream",
          "name": "stderr",
          "text": [
            "     61/100       1.5G     0.6242      1.012      1.152         24        640: 100%|██████████| 1/1 [00:00<00:00, 10.06it/s]\n",
            "                 Class     Images  Instances      Box(P          R      mAP50  mAP50-95): 100%|██████████| 1/1 [00:00<00:00, 18.75it/s]"
          ]
        },
        {
          "output_type": "stream",
          "name": "stdout",
          "text": [
            "                   all          4         17      0.954      0.373       0.47      0.361\n"
          ]
        },
        {
          "output_type": "stream",
          "name": "stderr",
          "text": [
            "\n"
          ]
        },
        {
          "output_type": "stream",
          "name": "stdout",
          "text": [
            "\n",
            "      Epoch    GPU_mem   box_loss   cls_loss   dfl_loss  Instances       Size\n"
          ]
        },
        {
          "output_type": "stream",
          "name": "stderr",
          "text": [
            "     62/100       1.5G     0.7108     0.7773        1.1         28        640: 100%|██████████| 1/1 [00:00<00:00,  5.65it/s]\n",
            "                 Class     Images  Instances      Box(P          R      mAP50  mAP50-95): 100%|██████████| 1/1 [00:00<00:00,  5.26it/s]"
          ]
        },
        {
          "output_type": "stream",
          "name": "stdout",
          "text": [
            "                   all          4         17      0.954      0.373       0.47      0.361\n"
          ]
        },
        {
          "output_type": "stream",
          "name": "stderr",
          "text": [
            "\n"
          ]
        },
        {
          "output_type": "stream",
          "name": "stdout",
          "text": [
            "\n",
            "      Epoch    GPU_mem   box_loss   cls_loss   dfl_loss  Instances       Size\n"
          ]
        },
        {
          "output_type": "stream",
          "name": "stderr",
          "text": [
            "     63/100       1.5G     0.6891     0.8005      1.054         30        640: 100%|██████████| 1/1 [00:00<00:00,  5.50it/s]\n",
            "                 Class     Images  Instances      Box(P          R      mAP50  mAP50-95): 100%|██████████| 1/1 [00:00<00:00, 12.42it/s]"
          ]
        },
        {
          "output_type": "stream",
          "name": "stdout",
          "text": [
            "                   all          4         17      0.955       0.37      0.424      0.308\n"
          ]
        },
        {
          "output_type": "stream",
          "name": "stderr",
          "text": [
            "\n"
          ]
        },
        {
          "output_type": "stream",
          "name": "stdout",
          "text": [
            "\n",
            "      Epoch    GPU_mem   box_loss   cls_loss   dfl_loss  Instances       Size\n"
          ]
        },
        {
          "output_type": "stream",
          "name": "stderr",
          "text": [
            "     64/100       1.5G      1.356      2.796      1.519         13        640: 100%|██████████| 1/1 [00:00<00:00,  6.18it/s]\n",
            "                 Class     Images  Instances      Box(P          R      mAP50  mAP50-95): 100%|██████████| 1/1 [00:00<00:00, 12.28it/s]"
          ]
        },
        {
          "output_type": "stream",
          "name": "stdout",
          "text": [
            "                   all          4         17      0.955       0.37      0.424      0.308\n"
          ]
        },
        {
          "output_type": "stream",
          "name": "stderr",
          "text": [
            "\n"
          ]
        },
        {
          "output_type": "stream",
          "name": "stdout",
          "text": [
            "\n",
            "      Epoch    GPU_mem   box_loss   cls_loss   dfl_loss  Instances       Size\n"
          ]
        },
        {
          "output_type": "stream",
          "name": "stderr",
          "text": [
            "     65/100       1.5G     0.9426      1.273      1.341         26        640: 100%|██████████| 1/1 [00:00<00:00,  6.58it/s]\n",
            "                 Class     Images  Instances      Box(P          R      mAP50  mAP50-95): 100%|██████████| 1/1 [00:00<00:00, 15.88it/s]"
          ]
        },
        {
          "output_type": "stream",
          "name": "stdout",
          "text": [
            "                   all          4         17      0.955       0.37      0.424      0.308\n"
          ]
        },
        {
          "output_type": "stream",
          "name": "stderr",
          "text": [
            "\n"
          ]
        },
        {
          "output_type": "stream",
          "name": "stdout",
          "text": [
            "\n",
            "      Epoch    GPU_mem   box_loss   cls_loss   dfl_loss  Instances       Size\n"
          ]
        },
        {
          "output_type": "stream",
          "name": "stderr",
          "text": [
            "     66/100       1.5G      0.553     0.6015      1.016         25        640: 100%|██████████| 1/1 [00:00<00:00,  7.97it/s]\n",
            "                 Class     Images  Instances      Box(P          R      mAP50  mAP50-95): 100%|██████████| 1/1 [00:00<00:00, 19.53it/s]"
          ]
        },
        {
          "output_type": "stream",
          "name": "stdout",
          "text": [
            "                   all          4         17      0.962       0.37      0.426      0.307\n"
          ]
        },
        {
          "output_type": "stream",
          "name": "stderr",
          "text": [
            "\n"
          ]
        },
        {
          "output_type": "stream",
          "name": "stdout",
          "text": [
            "\n",
            "      Epoch    GPU_mem   box_loss   cls_loss   dfl_loss  Instances       Size\n"
          ]
        },
        {
          "output_type": "stream",
          "name": "stderr",
          "text": [
            "     67/100       1.5G      0.785      0.912      1.074         22        640: 100%|██████████| 1/1 [00:00<00:00,  7.74it/s]\n",
            "                 Class     Images  Instances      Box(P          R      mAP50  mAP50-95): 100%|██████████| 1/1 [00:00<00:00, 17.90it/s]"
          ]
        },
        {
          "output_type": "stream",
          "name": "stdout",
          "text": [
            "                   all          4         17      0.962       0.37      0.426      0.307\n"
          ]
        },
        {
          "output_type": "stream",
          "name": "stderr",
          "text": [
            "\n"
          ]
        },
        {
          "output_type": "stream",
          "name": "stdout",
          "text": [
            "\n",
            "      Epoch    GPU_mem   box_loss   cls_loss   dfl_loss  Instances       Size\n"
          ]
        },
        {
          "output_type": "stream",
          "name": "stderr",
          "text": [
            "     68/100       1.5G      0.639     0.6469      1.138         25        640: 100%|██████████| 1/1 [00:00<00:00,  9.60it/s]\n",
            "                 Class     Images  Instances      Box(P          R      mAP50  mAP50-95): 100%|██████████| 1/1 [00:00<00:00, 18.85it/s]"
          ]
        },
        {
          "output_type": "stream",
          "name": "stdout",
          "text": [
            "                   all          4         17      0.962       0.37      0.426      0.307\n"
          ]
        },
        {
          "output_type": "stream",
          "name": "stderr",
          "text": [
            "\n"
          ]
        },
        {
          "output_type": "stream",
          "name": "stdout",
          "text": [
            "\n",
            "      Epoch    GPU_mem   box_loss   cls_loss   dfl_loss  Instances       Size\n"
          ]
        },
        {
          "output_type": "stream",
          "name": "stderr",
          "text": [
            "     69/100       1.5G     0.7203     0.8673      1.106         14        640: 100%|██████████| 1/1 [00:00<00:00,  8.19it/s]\n",
            "                 Class     Images  Instances      Box(P          R      mAP50  mAP50-95): 100%|██████████| 1/1 [00:00<00:00, 17.29it/s]\n"
          ]
        },
        {
          "output_type": "stream",
          "name": "stdout",
          "text": [
            "                   all          4         17      0.962       0.37      0.424      0.308\n",
            "\n",
            "      Epoch    GPU_mem   box_loss   cls_loss   dfl_loss  Instances       Size\n"
          ]
        },
        {
          "output_type": "stream",
          "name": "stderr",
          "text": [
            "     70/100       1.5G     0.6555     0.6809      1.043         34        640: 100%|██████████| 1/1 [00:00<00:00, 10.37it/s]\n",
            "                 Class     Images  Instances      Box(P          R      mAP50  mAP50-95): 100%|██████████| 1/1 [00:00<00:00, 18.60it/s]"
          ]
        },
        {
          "output_type": "stream",
          "name": "stdout",
          "text": [
            "                   all          4         17      0.962       0.37      0.424      0.308\n"
          ]
        },
        {
          "output_type": "stream",
          "name": "stderr",
          "text": [
            "\n"
          ]
        },
        {
          "output_type": "stream",
          "name": "stdout",
          "text": [
            "\n",
            "      Epoch    GPU_mem   box_loss   cls_loss   dfl_loss  Instances       Size\n"
          ]
        },
        {
          "output_type": "stream",
          "name": "stderr",
          "text": [
            "     71/100       1.5G     0.8429      1.096      1.238         43        640: 100%|██████████| 1/1 [00:00<00:00, 10.20it/s]\n",
            "                 Class     Images  Instances      Box(P          R      mAP50  mAP50-95): 100%|██████████| 1/1 [00:00<00:00, 19.12it/s]"
          ]
        },
        {
          "output_type": "stream",
          "name": "stdout",
          "text": [
            "                   all          4         17      0.962       0.37      0.424      0.308\n"
          ]
        },
        {
          "output_type": "stream",
          "name": "stderr",
          "text": [
            "\n"
          ]
        },
        {
          "output_type": "stream",
          "name": "stdout",
          "text": [
            "\n",
            "      Epoch    GPU_mem   box_loss   cls_loss   dfl_loss  Instances       Size\n"
          ]
        },
        {
          "output_type": "stream",
          "name": "stderr",
          "text": [
            "     72/100       1.5G     0.8159      1.459      1.289         21        640: 100%|██████████| 1/1 [00:00<00:00,  7.12it/s]\n",
            "                 Class     Images  Instances      Box(P          R      mAP50  mAP50-95): 100%|██████████| 1/1 [00:00<00:00, 18.44it/s]"
          ]
        },
        {
          "output_type": "stream",
          "name": "stdout",
          "text": [
            "                   all          4         17      0.958      0.368      0.425      0.306\n"
          ]
        },
        {
          "output_type": "stream",
          "name": "stderr",
          "text": [
            "\n"
          ]
        },
        {
          "output_type": "stream",
          "name": "stdout",
          "text": [
            "\n",
            "      Epoch    GPU_mem   box_loss   cls_loss   dfl_loss  Instances       Size\n"
          ]
        },
        {
          "output_type": "stream",
          "name": "stderr",
          "text": [
            "     73/100       1.5G      0.743      1.022      1.205         35        640: 100%|██████████| 1/1 [00:00<00:00, 10.06it/s]\n",
            "                 Class     Images  Instances      Box(P          R      mAP50  mAP50-95): 100%|██████████| 1/1 [00:00<00:00, 19.55it/s]"
          ]
        },
        {
          "output_type": "stream",
          "name": "stdout",
          "text": [
            "                   all          4         17      0.958      0.368      0.425      0.306\n"
          ]
        },
        {
          "output_type": "stream",
          "name": "stderr",
          "text": [
            "\n"
          ]
        },
        {
          "output_type": "stream",
          "name": "stdout",
          "text": [
            "\n",
            "      Epoch    GPU_mem   box_loss   cls_loss   dfl_loss  Instances       Size\n"
          ]
        },
        {
          "output_type": "stream",
          "name": "stderr",
          "text": [
            "     74/100       1.5G      0.768     0.9082       1.14         26        640: 100%|██████████| 1/1 [00:00<00:00,  9.56it/s]\n",
            "                 Class     Images  Instances      Box(P          R      mAP50  mAP50-95): 100%|██████████| 1/1 [00:00<00:00, 15.65it/s]"
          ]
        },
        {
          "output_type": "stream",
          "name": "stdout",
          "text": [
            "                   all          4         17      0.958      0.368      0.425      0.306\n"
          ]
        },
        {
          "output_type": "stream",
          "name": "stderr",
          "text": [
            "\n"
          ]
        },
        {
          "output_type": "stream",
          "name": "stdout",
          "text": [
            "\n",
            "      Epoch    GPU_mem   box_loss   cls_loss   dfl_loss  Instances       Size\n"
          ]
        },
        {
          "output_type": "stream",
          "name": "stderr",
          "text": [
            "     75/100       1.5G     0.6567     0.7807      1.068         34        640: 100%|██████████| 1/1 [00:00<00:00,  8.02it/s]\n",
            "                 Class     Images  Instances      Box(P          R      mAP50  mAP50-95): 100%|██████████| 1/1 [00:00<00:00, 19.80it/s]"
          ]
        },
        {
          "output_type": "stream",
          "name": "stdout",
          "text": [
            "                   all          4         17      0.954      0.381      0.428      0.298\n"
          ]
        },
        {
          "output_type": "stream",
          "name": "stderr",
          "text": [
            "\n"
          ]
        },
        {
          "output_type": "stream",
          "name": "stdout",
          "text": [
            "\n",
            "      Epoch    GPU_mem   box_loss   cls_loss   dfl_loss  Instances       Size\n"
          ]
        },
        {
          "output_type": "stream",
          "name": "stderr",
          "text": [
            "     76/100       1.5G     0.5926     0.7512      1.101         23        640: 100%|██████████| 1/1 [00:00<00:00,  9.45it/s]\n",
            "                 Class     Images  Instances      Box(P          R      mAP50  mAP50-95): 100%|██████████| 1/1 [00:00<00:00, 18.31it/s]"
          ]
        },
        {
          "output_type": "stream",
          "name": "stdout",
          "text": [
            "                   all          4         17      0.954      0.381      0.428      0.298\n"
          ]
        },
        {
          "output_type": "stream",
          "name": "stderr",
          "text": [
            "\n"
          ]
        },
        {
          "output_type": "stream",
          "name": "stdout",
          "text": [
            "\n",
            "      Epoch    GPU_mem   box_loss   cls_loss   dfl_loss  Instances       Size\n"
          ]
        },
        {
          "output_type": "stream",
          "name": "stderr",
          "text": [
            "     77/100       1.5G     0.7864      1.059      1.181         22        640: 100%|██████████| 1/1 [00:00<00:00,  9.36it/s]\n",
            "                 Class     Images  Instances      Box(P          R      mAP50  mAP50-95): 100%|██████████| 1/1 [00:00<00:00, 16.75it/s]"
          ]
        },
        {
          "output_type": "stream",
          "name": "stdout",
          "text": [
            "                   all          4         17      0.954      0.381      0.428      0.298\n"
          ]
        },
        {
          "output_type": "stream",
          "name": "stderr",
          "text": [
            "\n"
          ]
        },
        {
          "output_type": "stream",
          "name": "stdout",
          "text": [
            "\n",
            "      Epoch    GPU_mem   box_loss   cls_loss   dfl_loss  Instances       Size\n"
          ]
        },
        {
          "output_type": "stream",
          "name": "stderr",
          "text": [
            "     78/100       1.5G     0.6034     0.8504      1.094         13        640: 100%|██████████| 1/1 [00:00<00:00,  8.56it/s]\n",
            "                 Class     Images  Instances      Box(P          R      mAP50  mAP50-95): 100%|██████████| 1/1 [00:00<00:00, 19.45it/s]"
          ]
        },
        {
          "output_type": "stream",
          "name": "stdout",
          "text": [
            "                   all          4         17      0.967      0.383      0.432      0.297\n"
          ]
        },
        {
          "output_type": "stream",
          "name": "stderr",
          "text": [
            "\n"
          ]
        },
        {
          "output_type": "stream",
          "name": "stdout",
          "text": [
            "\n",
            "      Epoch    GPU_mem   box_loss   cls_loss   dfl_loss  Instances       Size\n"
          ]
        },
        {
          "output_type": "stream",
          "name": "stderr",
          "text": [
            "     79/100       1.5G      0.629       0.71      1.118         32        640: 100%|██████████| 1/1 [00:00<00:00,  9.49it/s]\n",
            "                 Class     Images  Instances      Box(P          R      mAP50  mAP50-95): 100%|██████████| 1/1 [00:00<00:00, 14.40it/s]\n"
          ]
        },
        {
          "output_type": "stream",
          "name": "stdout",
          "text": [
            "                   all          4         17      0.967      0.383      0.432      0.297\n",
            "\n",
            "      Epoch    GPU_mem   box_loss   cls_loss   dfl_loss  Instances       Size\n"
          ]
        },
        {
          "output_type": "stream",
          "name": "stderr",
          "text": [
            "     80/100       1.5G     0.5254     0.7555      1.086         21        640: 100%|██████████| 1/1 [00:00<00:00, 10.06it/s]\n",
            "                 Class     Images  Instances      Box(P          R      mAP50  mAP50-95): 100%|██████████| 1/1 [00:00<00:00, 19.08it/s]"
          ]
        },
        {
          "output_type": "stream",
          "name": "stdout",
          "text": [
            "                   all          4         17      0.967      0.383      0.432      0.297\n"
          ]
        },
        {
          "output_type": "stream",
          "name": "stderr",
          "text": [
            "\n"
          ]
        },
        {
          "output_type": "stream",
          "name": "stdout",
          "text": [
            "\n",
            "      Epoch    GPU_mem   box_loss   cls_loss   dfl_loss  Instances       Size\n"
          ]
        },
        {
          "output_type": "stream",
          "name": "stderr",
          "text": [
            "     81/100       1.5G     0.6034     0.6075       1.11         21        640: 100%|██████████| 1/1 [00:00<00:00,  8.42it/s]\n",
            "                 Class     Images  Instances      Box(P          R      mAP50  mAP50-95): 100%|██████████| 1/1 [00:00<00:00, 18.67it/s]"
          ]
        },
        {
          "output_type": "stream",
          "name": "stdout",
          "text": [
            "                   all          4         17      0.962      0.394      0.433      0.302\n"
          ]
        },
        {
          "output_type": "stream",
          "name": "stderr",
          "text": [
            "\n"
          ]
        },
        {
          "output_type": "stream",
          "name": "stdout",
          "text": [
            "\n",
            "      Epoch    GPU_mem   box_loss   cls_loss   dfl_loss  Instances       Size\n"
          ]
        },
        {
          "output_type": "stream",
          "name": "stderr",
          "text": [
            "     82/100       1.5G     0.5089     0.7808      1.006         25        640: 100%|██████████| 1/1 [00:00<00:00,  9.56it/s]\n",
            "                 Class     Images  Instances      Box(P          R      mAP50  mAP50-95): 100%|██████████| 1/1 [00:00<00:00, 18.60it/s]"
          ]
        },
        {
          "output_type": "stream",
          "name": "stdout",
          "text": [
            "                   all          4         17      0.962      0.394      0.433      0.302\n"
          ]
        },
        {
          "output_type": "stream",
          "name": "stderr",
          "text": [
            "\n"
          ]
        },
        {
          "output_type": "stream",
          "name": "stdout",
          "text": [
            "\n",
            "      Epoch    GPU_mem   box_loss   cls_loss   dfl_loss  Instances       Size\n"
          ]
        },
        {
          "output_type": "stream",
          "name": "stderr",
          "text": [
            "     83/100       1.5G     0.7653     0.9698      1.106         51        640: 100%|██████████| 1/1 [00:00<00:00,  9.73it/s]\n",
            "                 Class     Images  Instances      Box(P          R      mAP50  mAP50-95): 100%|██████████| 1/1 [00:00<00:00, 19.13it/s]"
          ]
        },
        {
          "output_type": "stream",
          "name": "stdout",
          "text": [
            "                   all          4         17      0.962      0.394      0.433      0.302\n"
          ]
        },
        {
          "output_type": "stream",
          "name": "stderr",
          "text": [
            "\n"
          ]
        },
        {
          "output_type": "stream",
          "name": "stdout",
          "text": [
            "\n",
            "      Epoch    GPU_mem   box_loss   cls_loss   dfl_loss  Instances       Size\n"
          ]
        },
        {
          "output_type": "stream",
          "name": "stderr",
          "text": [
            "     84/100       1.5G     0.6071     0.5519      1.016         24        640: 100%|██████████| 1/1 [00:00<00:00,  7.67it/s]\n",
            "                 Class     Images  Instances      Box(P          R      mAP50  mAP50-95): 100%|██████████| 1/1 [00:00<00:00, 18.82it/s]"
          ]
        },
        {
          "output_type": "stream",
          "name": "stdout",
          "text": [
            "                   all          4         17       0.93        0.4      0.433      0.303\n"
          ]
        },
        {
          "output_type": "stream",
          "name": "stderr",
          "text": [
            "\n"
          ]
        },
        {
          "output_type": "stream",
          "name": "stdout",
          "text": [
            "\n",
            "      Epoch    GPU_mem   box_loss   cls_loss   dfl_loss  Instances       Size\n"
          ]
        },
        {
          "output_type": "stream",
          "name": "stderr",
          "text": [
            "     85/100       1.5G     0.6456     0.8547      1.072         23        640: 100%|██████████| 1/1 [00:00<00:00, 10.05it/s]\n",
            "                 Class     Images  Instances      Box(P          R      mAP50  mAP50-95): 100%|██████████| 1/1 [00:00<00:00, 19.22it/s]"
          ]
        },
        {
          "output_type": "stream",
          "name": "stdout",
          "text": [
            "                   all          4         17       0.93        0.4      0.433      0.303\n"
          ]
        },
        {
          "output_type": "stream",
          "name": "stderr",
          "text": [
            "\n"
          ]
        },
        {
          "output_type": "stream",
          "name": "stdout",
          "text": [
            "\n",
            "      Epoch    GPU_mem   box_loss   cls_loss   dfl_loss  Instances       Size\n"
          ]
        },
        {
          "output_type": "stream",
          "name": "stderr",
          "text": [
            "     86/100       1.5G     0.7129     0.7669      1.214         24        640: 100%|██████████| 1/1 [00:00<00:00, 10.16it/s]\n",
            "                 Class     Images  Instances      Box(P          R      mAP50  mAP50-95): 100%|██████████| 1/1 [00:00<00:00, 18.54it/s]"
          ]
        },
        {
          "output_type": "stream",
          "name": "stdout",
          "text": [
            "                   all          4         17       0.93        0.4      0.433      0.303\n"
          ]
        },
        {
          "output_type": "stream",
          "name": "stderr",
          "text": [
            "\n"
          ]
        },
        {
          "output_type": "stream",
          "name": "stdout",
          "text": [
            "\n",
            "      Epoch    GPU_mem   box_loss   cls_loss   dfl_loss  Instances       Size\n"
          ]
        },
        {
          "output_type": "stream",
          "name": "stderr",
          "text": [
            "     87/100       1.5G     0.7247     0.8475       1.24         24        640: 100%|██████████| 1/1 [00:00<00:00,  6.81it/s]\n",
            "                 Class     Images  Instances      Box(P          R      mAP50  mAP50-95): 100%|██████████| 1/1 [00:00<00:00, 14.91it/s]"
          ]
        },
        {
          "output_type": "stream",
          "name": "stdout",
          "text": [
            "                   all          4         17       0.93        0.4      0.433      0.303\n"
          ]
        },
        {
          "output_type": "stream",
          "name": "stderr",
          "text": [
            "\n"
          ]
        },
        {
          "output_type": "stream",
          "name": "stdout",
          "text": [
            "\n",
            "      Epoch    GPU_mem   box_loss   cls_loss   dfl_loss  Instances       Size\n"
          ]
        },
        {
          "output_type": "stream",
          "name": "stderr",
          "text": [
            "     88/100       1.5G     0.7364     0.7962      1.172         31        640: 100%|██████████| 1/1 [00:00<00:00,  5.30it/s]\n",
            "                 Class     Images  Instances      Box(P          R      mAP50  mAP50-95): 100%|██████████| 1/1 [00:00<00:00, 13.21it/s]"
          ]
        },
        {
          "output_type": "stream",
          "name": "stdout",
          "text": [
            "                   all          4         17      0.936        0.4      0.433      0.287\n"
          ]
        },
        {
          "output_type": "stream",
          "name": "stderr",
          "text": [
            "\n"
          ]
        },
        {
          "output_type": "stream",
          "name": "stdout",
          "text": [
            "\n",
            "      Epoch    GPU_mem   box_loss   cls_loss   dfl_loss  Instances       Size\n"
          ]
        },
        {
          "output_type": "stream",
          "name": "stderr",
          "text": [
            "     89/100       1.5G     0.7395     0.7133      1.056         27        640: 100%|██████████| 1/1 [00:00<00:00,  6.57it/s]\n",
            "                 Class     Images  Instances      Box(P          R      mAP50  mAP50-95): 100%|██████████| 1/1 [00:00<00:00, 10.64it/s]"
          ]
        },
        {
          "output_type": "stream",
          "name": "stdout",
          "text": [
            "                   all          4         17      0.936        0.4      0.433      0.287\n"
          ]
        },
        {
          "output_type": "stream",
          "name": "stderr",
          "text": [
            "\n"
          ]
        },
        {
          "output_type": "stream",
          "name": "stdout",
          "text": [
            "\n",
            "      Epoch    GPU_mem   box_loss   cls_loss   dfl_loss  Instances       Size\n"
          ]
        },
        {
          "output_type": "stream",
          "name": "stderr",
          "text": [
            "     90/100       1.5G     0.7299     0.6876      1.226         25        640: 100%|██████████| 1/1 [00:00<00:00,  5.64it/s]\n",
            "                 Class     Images  Instances      Box(P          R      mAP50  mAP50-95): 100%|██████████| 1/1 [00:00<00:00, 13.81it/s]"
          ]
        },
        {
          "output_type": "stream",
          "name": "stdout",
          "text": [
            "                   all          4         17      0.936        0.4      0.433      0.287\n"
          ]
        },
        {
          "output_type": "stream",
          "name": "stderr",
          "text": [
            "\n"
          ]
        },
        {
          "output_type": "stream",
          "name": "stdout",
          "text": [
            "Closing dataloader mosaic\n",
            "\u001b[34m\u001b[1malbumentations: \u001b[0mBlur(p=0.01, blur_limit=(3, 7)), MedianBlur(p=0.01, blur_limit=(3, 7)), ToGray(p=0.01, num_output_channels=3, method='weighted_average'), CLAHE(p=0.01, clip_limit=(1.0, 4.0), tile_grid_size=(8, 8))\n",
            "\n",
            "      Epoch    GPU_mem   box_loss   cls_loss   dfl_loss  Instances       Size\n"
          ]
        },
        {
          "output_type": "stream",
          "name": "stderr",
          "text": [
            "     91/100       1.5G      0.498     0.5064     0.9498         13        640: 100%|██████████| 1/1 [00:00<00:00,  3.80it/s]\n",
            "                 Class     Images  Instances      Box(P          R      mAP50  mAP50-95): 100%|██████████| 1/1 [00:00<00:00,  4.04it/s]"
          ]
        },
        {
          "output_type": "stream",
          "name": "stdout",
          "text": [
            "                   all          4         17      0.936        0.4      0.433      0.287\n"
          ]
        },
        {
          "output_type": "stream",
          "name": "stderr",
          "text": [
            "\n"
          ]
        },
        {
          "output_type": "stream",
          "name": "stdout",
          "text": [
            "\n",
            "      Epoch    GPU_mem   box_loss   cls_loss   dfl_loss  Instances       Size\n"
          ]
        },
        {
          "output_type": "stream",
          "name": "stderr",
          "text": [
            "     92/100       1.5G      0.522     0.5152     0.9921         13        640: 100%|██████████| 1/1 [00:00<00:00,  7.30it/s]\n",
            "                 Class     Images  Instances      Box(P          R      mAP50  mAP50-95): 100%|██████████| 1/1 [00:00<00:00, 11.35it/s]"
          ]
        },
        {
          "output_type": "stream",
          "name": "stdout",
          "text": [
            "                   all          4         17      0.933      0.398      0.433      0.286\n"
          ]
        },
        {
          "output_type": "stream",
          "name": "stderr",
          "text": [
            "\n"
          ]
        },
        {
          "output_type": "stream",
          "name": "stdout",
          "text": [
            "\n",
            "      Epoch    GPU_mem   box_loss   cls_loss   dfl_loss  Instances       Size\n"
          ]
        },
        {
          "output_type": "stream",
          "name": "stderr",
          "text": [
            "     93/100       1.5G      0.468     0.4824     0.9588         13        640: 100%|██████████| 1/1 [00:00<00:00,  9.49it/s]\n",
            "                 Class     Images  Instances      Box(P          R      mAP50  mAP50-95): 100%|██████████| 1/1 [00:00<00:00, 11.72it/s]"
          ]
        },
        {
          "output_type": "stream",
          "name": "stdout",
          "text": [
            "                   all          4         17      0.933      0.398      0.433      0.286\n"
          ]
        },
        {
          "output_type": "stream",
          "name": "stderr",
          "text": [
            "\n"
          ]
        },
        {
          "output_type": "stream",
          "name": "stdout",
          "text": [
            "\n",
            "      Epoch    GPU_mem   box_loss   cls_loss   dfl_loss  Instances       Size\n"
          ]
        },
        {
          "output_type": "stream",
          "name": "stderr",
          "text": [
            "     94/100       1.5G     0.5287     0.5106     0.9734         13        640: 100%|██████████| 1/1 [00:00<00:00,  8.75it/s]\n",
            "                 Class     Images  Instances      Box(P          R      mAP50  mAP50-95): 100%|██████████| 1/1 [00:00<00:00, 17.26it/s]"
          ]
        },
        {
          "output_type": "stream",
          "name": "stdout",
          "text": [
            "                   all          4         17      0.933      0.398      0.433      0.286\n"
          ]
        },
        {
          "output_type": "stream",
          "name": "stderr",
          "text": [
            "\n"
          ]
        },
        {
          "output_type": "stream",
          "name": "stdout",
          "text": [
            "\n",
            "      Epoch    GPU_mem   box_loss   cls_loss   dfl_loss  Instances       Size\n"
          ]
        },
        {
          "output_type": "stream",
          "name": "stderr",
          "text": [
            "     95/100       1.5G     0.5551     0.4961     0.9474         13        640: 100%|██████████| 1/1 [00:00<00:00,  9.05it/s]\n",
            "                 Class     Images  Instances      Box(P          R      mAP50  mAP50-95): 100%|██████████| 1/1 [00:00<00:00, 19.31it/s]"
          ]
        },
        {
          "output_type": "stream",
          "name": "stdout",
          "text": [
            "                   all          4         17      0.933      0.398      0.433      0.286\n"
          ]
        },
        {
          "output_type": "stream",
          "name": "stderr",
          "text": [
            "\n"
          ]
        },
        {
          "output_type": "stream",
          "name": "stdout",
          "text": [
            "\n",
            "      Epoch    GPU_mem   box_loss   cls_loss   dfl_loss  Instances       Size\n"
          ]
        },
        {
          "output_type": "stream",
          "name": "stderr",
          "text": [
            "     96/100       1.5G     0.5116     0.5023     0.9847         13        640: 100%|██████████| 1/1 [00:00<00:00,  7.17it/s]\n",
            "                 Class     Images  Instances      Box(P          R      mAP50  mAP50-95): 100%|██████████| 1/1 [00:00<00:00, 19.04it/s]"
          ]
        },
        {
          "output_type": "stream",
          "name": "stdout",
          "text": [
            "                   all          4         17      0.909      0.383      0.435      0.302\n"
          ]
        },
        {
          "output_type": "stream",
          "name": "stderr",
          "text": [
            "\n"
          ]
        },
        {
          "output_type": "stream",
          "name": "stdout",
          "text": [
            "\n",
            "      Epoch    GPU_mem   box_loss   cls_loss   dfl_loss  Instances       Size\n"
          ]
        },
        {
          "output_type": "stream",
          "name": "stderr",
          "text": [
            "     97/100       1.5G     0.5513     0.5651     0.9713         13        640: 100%|██████████| 1/1 [00:00<00:00, 10.50it/s]\n",
            "                 Class     Images  Instances      Box(P          R      mAP50  mAP50-95): 100%|██████████| 1/1 [00:00<00:00, 17.84it/s]"
          ]
        },
        {
          "output_type": "stream",
          "name": "stdout",
          "text": [
            "                   all          4         17      0.909      0.383      0.435      0.302\n"
          ]
        },
        {
          "output_type": "stream",
          "name": "stderr",
          "text": [
            "\n"
          ]
        },
        {
          "output_type": "stream",
          "name": "stdout",
          "text": [
            "\n",
            "      Epoch    GPU_mem   box_loss   cls_loss   dfl_loss  Instances       Size\n"
          ]
        },
        {
          "output_type": "stream",
          "name": "stderr",
          "text": [
            "     98/100       1.5G     0.5877     0.5148      1.069         13        640: 100%|██████████| 1/1 [00:00<00:00, 10.28it/s]\n",
            "                 Class     Images  Instances      Box(P          R      mAP50  mAP50-95): 100%|██████████| 1/1 [00:00<00:00, 15.10it/s]"
          ]
        },
        {
          "output_type": "stream",
          "name": "stdout",
          "text": [
            "                   all          4         17      0.909      0.383      0.435      0.302\n"
          ]
        },
        {
          "output_type": "stream",
          "name": "stderr",
          "text": [
            "\n"
          ]
        },
        {
          "output_type": "stream",
          "name": "stdout",
          "text": [
            "\n",
            "      Epoch    GPU_mem   box_loss   cls_loss   dfl_loss  Instances       Size\n"
          ]
        },
        {
          "output_type": "stream",
          "name": "stderr",
          "text": [
            "     99/100       1.5G     0.4385     0.4467     0.9136         13        640: 100%|██████████| 1/1 [00:00<00:00,  9.62it/s]\n",
            "                 Class     Images  Instances      Box(P          R      mAP50  mAP50-95): 100%|██████████| 1/1 [00:00<00:00, 18.05it/s]"
          ]
        },
        {
          "output_type": "stream",
          "name": "stdout",
          "text": [
            "                   all          4         17      0.909      0.383      0.435      0.302\n"
          ]
        },
        {
          "output_type": "stream",
          "name": "stderr",
          "text": [
            "\n"
          ]
        },
        {
          "output_type": "stream",
          "name": "stdout",
          "text": [
            "\n",
            "      Epoch    GPU_mem   box_loss   cls_loss   dfl_loss  Instances       Size\n"
          ]
        },
        {
          "output_type": "stream",
          "name": "stderr",
          "text": [
            "    100/100       1.5G     0.5952      0.641     0.9996         13        640: 100%|██████████| 1/1 [00:00<00:00,  7.63it/s]\n",
            "                 Class     Images  Instances      Box(P          R      mAP50  mAP50-95): 100%|██████████| 1/1 [00:00<00:00, 17.72it/s]"
          ]
        },
        {
          "output_type": "stream",
          "name": "stdout",
          "text": [
            "                   all          4         17      0.918      0.383      0.432      0.303\n"
          ]
        },
        {
          "output_type": "stream",
          "name": "stderr",
          "text": [
            "\n"
          ]
        },
        {
          "output_type": "stream",
          "name": "stdout",
          "text": [
            "\n",
            "100 epochs completed in 0.015 hours.\n",
            "Optimizer stripped from runs/detect/train4/weights/last.pt, 6.5MB\n",
            "Optimizer stripped from runs/detect/train4/weights/best.pt, 6.5MB\n",
            "\n",
            "Validating runs/detect/train4/weights/best.pt...\n",
            "Ultralytics 8.3.116 🚀 Python-3.11.12 torch-2.6.0+cu124 CUDA:0 (Tesla T4, 15095MiB)\n",
            "Model summary (fused): 72 layers, 3,151,904 parameters, 0 gradients, 8.7 GFLOPs\n"
          ]
        },
        {
          "output_type": "stream",
          "name": "stderr",
          "text": [
            "                 Class     Images  Instances      Box(P          R      mAP50  mAP50-95): 100%|██████████| 1/1 [00:00<00:00, 20.75it/s]\n"
          ]
        },
        {
          "output_type": "stream",
          "name": "stdout",
          "text": [
            "                   all          4         17      0.611      0.858      0.888      0.622\n",
            "                person          3         10      0.676        0.5      0.519      0.282\n",
            "                   dog          1          1      0.347          1      0.995      0.597\n",
            "                 horse          1          2       0.74          1      0.995      0.631\n",
            "              elephant          1          2      0.549      0.647      0.828      0.332\n",
            "              umbrella          1          1      0.555          1      0.995      0.995\n",
            "          potted plant          1          1      0.797          1      0.995      0.895\n",
            "Speed: 0.3ms preprocess, 4.4ms inference, 0.0ms loss, 2.0ms postprocess per image\n",
            "Results saved to \u001b[1mruns/detect/train4\u001b[0m\n"
          ]
        }
      ]
    },
    {
      "cell_type": "code",
      "source": [
        "metrics = model.val()"
      ],
      "metadata": {
        "colab": {
          "base_uri": "https://localhost:8080/"
        },
        "id": "gObqsJ1Wxo4X",
        "outputId": "f4257c23-edf0-409d-ae40-d13c482dd96f",
        "collapsed": true
      },
      "execution_count": null,
      "outputs": [
        {
          "output_type": "stream",
          "name": "stdout",
          "text": [
            "Ultralytics 8.3.113 🚀 Python-3.11.12 torch-2.6.0+cpu CPU (Intel Xeon 2.00GHz)\n",
            "Model summary (fused): 72 layers, 3,151,904 parameters, 0 gradients, 8.7 GFLOPs\n",
            "\u001b[34m\u001b[1mval: \u001b[0mFast image access ✅ (ping: 0.0±0.0 ms, read: 1296.5±374.1 MB/s, size: 54.0 KB)\n"
          ]
        },
        {
          "output_type": "stream",
          "name": "stderr",
          "text": [
            "\u001b[34m\u001b[1mval: \u001b[0mScanning /content/datasets/coco8/labels/val.cache... 4 images, 0 backgrounds, 0 corrupt: 100%|██████████| 4/4 [00:00<?, ?it/s]\n",
            "                 Class     Images  Instances      Box(P          R      mAP50  mAP50-95): 100%|██████████| 1/1 [00:00<00:00,  4.25it/s]\n"
          ]
        },
        {
          "output_type": "stream",
          "name": "stdout",
          "text": [
            "                   all          4         17      0.697       0.75      0.894      0.627\n",
            "                person          3         10      0.662        0.5      0.556      0.284\n",
            "                   dog          1          1      0.443          1      0.995      0.697\n",
            "                 horse          1          2      0.728          1      0.995      0.648\n",
            "              elephant          1          2          1          0      0.828      0.242\n",
            "              umbrella          1          1      0.558          1      0.995      0.995\n",
            "          potted plant          1          1       0.79          1      0.995      0.895\n",
            "Speed: 0.4ms preprocess, 51.3ms inference, 0.0ms loss, 1.2ms postprocess per image\n",
            "Results saved to \u001b[1mruns/detect/train2\u001b[0m\n"
          ]
        }
      ]
    },
    {
      "cell_type": "code",
      "source": [
        "metrics.results_dict"
      ],
      "metadata": {
        "colab": {
          "base_uri": "https://localhost:8080/"
        },
        "id": "0_ZdgrD6xx09",
        "outputId": "3af314ef-93ad-4c1f-e3d9-4c7420d6f0ed",
        "collapsed": true
      },
      "execution_count": null,
      "outputs": [
        {
          "output_type": "execute_result",
          "data": {
            "text/plain": [
              "{'metrics/precision(B)': 0.7593137220767193,\n",
              " 'metrics/recall(B)': 0.7477702508626156,\n",
              " 'metrics/mAP50(B)': 0.894264005707554,\n",
              " 'metrics/mAP50-95(B)': 0.6195749362859206,\n",
              " 'fitness': 0.6470438432280841}"
            ]
          },
          "metadata": {},
          "execution_count": 16
        }
      ]
    },
    {
      "cell_type": "markdown",
      "source": [
        "### Test with ONLY regular training"
      ],
      "metadata": {
        "id": "YO1d0Pyd04BW"
      }
    },
    {
      "cell_type": "code",
      "source": [
        "test_file = open(\"/content/sample_data/exdark/test.txt\")"
      ],
      "metadata": {
        "id": "syO8w1az5SON"
      },
      "execution_count": null,
      "outputs": []
    },
    {
      "cell_type": "code",
      "source": [
        "lines = test_file.readlines()"
      ],
      "metadata": {
        "id": "1By1fOts5v1O"
      },
      "execution_count": null,
      "outputs": []
    },
    {
      "cell_type": "code",
      "source": [
        "test_data = [\"/content/sample_data/exdark/JPEGImages/\" + line.strip('\\n').lower() for line in lines]"
      ],
      "metadata": {
        "id": "XCG-3hX-6Md_"
      },
      "execution_count": null,
      "outputs": []
    },
    {
      "cell_type": "code",
      "source": [
        "test_data"
      ],
      "metadata": {
        "colab": {
          "base_uri": "https://localhost:8080/"
        },
        "id": "9OQo9WQB6eDv",
        "outputId": "b58f552d-6c1d-4fa7-d99b-ce903b29011e",
        "collapsed": true
      },
      "execution_count": null,
      "outputs": [
        {
          "output_type": "execute_result",
          "data": {
            "text/plain": [
              "['/content/sample_data/exdark/JPEGImages/2015_00630.jpg',\n",
              " '/content/sample_data/exdark/JPEGImages/2015_07281.jpg',\n",
              " '/content/sample_data/exdark/JPEGImages/2015_05459.jpg',\n",
              " '/content/sample_data/exdark/JPEGImages/2015_01131.jpg',\n",
              " '/content/sample_data/exdark/JPEGImages/2015_02290.jpg',\n",
              " '/content/sample_data/exdark/JPEGImages/2015_02310.jpg',\n",
              " '/content/sample_data/exdark/JPEGImages/2015_05691.png',\n",
              " '/content/sample_data/exdark/JPEGImages/2015_01245.jpg',\n",
              " '/content/sample_data/exdark/JPEGImages/2015_06781.jpg',\n",
              " '/content/sample_data/exdark/JPEGImages/2015_02837.jpg',\n",
              " '/content/sample_data/exdark/JPEGImages/2015_01230.jpg',\n",
              " '/content/sample_data/exdark/JPEGImages/2015_06707.jpg',\n",
              " '/content/sample_data/exdark/JPEGImages/2015_06164.jpg',\n",
              " '/content/sample_data/exdark/JPEGImages/2015_01851.jpg',\n",
              " '/content/sample_data/exdark/JPEGImages/2015_04241.jpg',\n",
              " '/content/sample_data/exdark/JPEGImages/2015_03740.png',\n",
              " '/content/sample_data/exdark/JPEGImages/2015_01329.jpg',\n",
              " '/content/sample_data/exdark/JPEGImages/2015_00508.jpg',\n",
              " '/content/sample_data/exdark/JPEGImages/2015_00599.jpg',\n",
              " '/content/sample_data/exdark/JPEGImages/2015_06165.jpg',\n",
              " '/content/sample_data/exdark/JPEGImages/2015_03007.png',\n",
              " '/content/sample_data/exdark/JPEGImages/2015_02299.jpg',\n",
              " '/content/sample_data/exdark/JPEGImages/2015_00493.jpg',\n",
              " '/content/sample_data/exdark/JPEGImages/2015_00408.jpg',\n",
              " '/content/sample_data/exdark/JPEGImages/2015_02817.jpg',\n",
              " '/content/sample_data/exdark/JPEGImages/2015_01080.jpg',\n",
              " '/content/sample_data/exdark/JPEGImages/2015_06171.jpg',\n",
              " '/content/sample_data/exdark/JPEGImages/2015_01840.jpg',\n",
              " '/content/sample_data/exdark/JPEGImages/2015_01143.jpg',\n",
              " '/content/sample_data/exdark/JPEGImages/2015_07279.jpg',\n",
              " '/content/sample_data/exdark/JPEGImages/2015_03442.jpg',\n",
              " '/content/sample_data/exdark/JPEGImages/2015_05455.jpg',\n",
              " '/content/sample_data/exdark/JPEGImages/2015_06749.jpg',\n",
              " '/content/sample_data/exdark/JPEGImages/2015_03015.png',\n",
              " '/content/sample_data/exdark/JPEGImages/2015_05497.jpeg',\n",
              " '/content/sample_data/exdark/JPEGImages/2015_00422.jpg',\n",
              " '/content/sample_data/exdark/JPEGImages/2015_00641.jpg',\n",
              " '/content/sample_data/exdark/JPEGImages/2015_00561.jpg',\n",
              " '/content/sample_data/exdark/JPEGImages/2015_06717.jpg',\n",
              " '/content/sample_data/exdark/JPEGImages/2015_01118.jpg',\n",
              " '/content/sample_data/exdark/JPEGImages/2015_05432.jpg',\n",
              " '/content/sample_data/exdark/JPEGImages/2015_00476.jpg',\n",
              " '/content/sample_data/exdark/JPEGImages/2015_02892.jpg',\n",
              " '/content/sample_data/exdark/JPEGImages/2015_05617.jpg',\n",
              " '/content/sample_data/exdark/JPEGImages/2015_05457.jpg',\n",
              " '/content/sample_data/exdark/JPEGImages/2015_01116.jpg',\n",
              " '/content/sample_data/exdark/JPEGImages/2015_03020.png',\n",
              " '/content/sample_data/exdark/JPEGImages/2015_01074.jpg',\n",
              " '/content/sample_data/exdark/JPEGImages/2015_00488.jpg',\n",
              " '/content/sample_data/exdark/JPEGImages/2015_02364.jpg',\n",
              " '/content/sample_data/exdark/JPEGImages/2015_02882.jpg',\n",
              " '/content/sample_data/exdark/JPEGImages/2015_00484.jpg',\n",
              " '/content/sample_data/exdark/JPEGImages/2015_02868.jpeg',\n",
              " '/content/sample_data/exdark/JPEGImages/2015_01244.jpg',\n",
              " '/content/sample_data/exdark/JPEGImages/2015_06689.jpg',\n",
              " '/content/sample_data/exdark/JPEGImages/2015_01325.png',\n",
              " '/content/sample_data/exdark/JPEGImages/2015_06239.png',\n",
              " '/content/sample_data/exdark/JPEGImages/2015_00621.jpg',\n",
              " '/content/sample_data/exdark/JPEGImages/2015_02860.jpg',\n",
              " '/content/sample_data/exdark/JPEGImages/2015_05483.jpg',\n",
              " '/content/sample_data/exdark/JPEGImages/2015_02970.jpg',\n",
              " '/content/sample_data/exdark/JPEGImages/2015_05733.jpg',\n",
              " '/content/sample_data/exdark/JPEGImages/2015_07340.png',\n",
              " '/content/sample_data/exdark/JPEGImages/2015_01129.jpg',\n",
              " '/content/sample_data/exdark/JPEGImages/2015_01298.jpg',\n",
              " '/content/sample_data/exdark/JPEGImages/2015_01145.jpg',\n",
              " '/content/sample_data/exdark/JPEGImages/2015_01175.jpeg',\n",
              " '/content/sample_data/exdark/JPEGImages/2015_02982.jpg',\n",
              " '/content/sample_data/exdark/JPEGImages/2015_00453.jpg',\n",
              " '/content/sample_data/exdark/JPEGImages/2015_01180.jpeg',\n",
              " '/content/sample_data/exdark/JPEGImages/2015_07255.jpg',\n",
              " '/content/sample_data/exdark/JPEGImages/2015_02814.jpg',\n",
              " '/content/sample_data/exdark/JPEGImages/2015_02981.jpg',\n",
              " '/content/sample_data/exdark/JPEGImages/2015_06245.jpg',\n",
              " '/content/sample_data/exdark/JPEGImages/2015_06851.jpg',\n",
              " '/content/sample_data/exdark/JPEGImages/2015_01322.png',\n",
              " '/content/sample_data/exdark/JPEGImages/2015_02279.jpg',\n",
              " '/content/sample_data/exdark/JPEGImages/2015_01139.jpg',\n",
              " '/content/sample_data/exdark/JPEGImages/2015_06739.jpg',\n",
              " '/content/sample_data/exdark/JPEGImages/2015_00632.jpg',\n",
              " '/content/sample_data/exdark/JPEGImages/2015_02920.jpg',\n",
              " '/content/sample_data/exdark/JPEGImages/2015_00482.jpg',\n",
              " '/content/sample_data/exdark/JPEGImages/2015_03644.png',\n",
              " '/content/sample_data/exdark/JPEGImages/2015_01269.jpg',\n",
              " '/content/sample_data/exdark/JPEGImages/2015_01222.jpg',\n",
              " '/content/sample_data/exdark/JPEGImages/2015_03578.jpg',\n",
              " '/content/sample_data/exdark/JPEGImages/2015_02852.jpg',\n",
              " '/content/sample_data/exdark/JPEGImages/2015_02358.jpeg',\n",
              " '/content/sample_data/exdark/JPEGImages/2015_01280.jpg',\n",
              " '/content/sample_data/exdark/JPEGImages/2015_01270.jpg',\n",
              " '/content/sample_data/exdark/JPEGImages/2015_00451.jpg',\n",
              " '/content/sample_data/exdark/JPEGImages/2015_06225.png',\n",
              " '/content/sample_data/exdark/JPEGImages/2015_01209.jpg',\n",
              " '/content/sample_data/exdark/JPEGImages/2015_02953.jpg',\n",
              " '/content/sample_data/exdark/JPEGImages/2015_02806.jpg',\n",
              " '/content/sample_data/exdark/JPEGImages/2015_02303.jpg',\n",
              " '/content/sample_data/exdark/JPEGImages/2015_00548.jpg',\n",
              " '/content/sample_data/exdark/JPEGImages/2015_02304.jpg',\n",
              " '/content/sample_data/exdark/JPEGImages/2015_02855.jpg',\n",
              " '/content/sample_data/exdark/JPEGImages/2015_06180.jpg']"
            ]
          },
          "metadata": {},
          "execution_count": 20
        }
      ]
    },
    {
      "cell_type": "code",
      "source": [
        "results = model(test_data)"
      ],
      "metadata": {
        "colab": {
          "base_uri": "https://localhost:8080/",
          "height": 304
        },
        "id": "l2dQuzA66jiP",
        "outputId": "2ae61ac9-c7fd-4d49-ffc2-4b04d3d07cfa"
      },
      "execution_count": null,
      "outputs": [
        {
          "output_type": "stream",
          "name": "stdout",
          "text": [
            "\n"
          ]
        },
        {
          "output_type": "error",
          "ename": "FileNotFoundError",
          "evalue": "[Errno 2] No such file or directory: '/content/sample_data/exdark/JPEGImages2015_00630.jpg'",
          "traceback": [
            "\u001b[0;31m---------------------------------------------------------------------------\u001b[0m",
            "\u001b[0;31mFileNotFoundError\u001b[0m                         Traceback (most recent call last)",
            "\u001b[0;32m<ipython-input-18-f5a4ec491bb9>\u001b[0m in \u001b[0;36m<cell line: 0>\u001b[0;34m()\u001b[0m\n\u001b[0;32m----> 1\u001b[0;31m \u001b[0mresults\u001b[0m \u001b[0;34m=\u001b[0m \u001b[0mmodel\u001b[0m\u001b[0;34m(\u001b[0m\u001b[0mtest_data\u001b[0m\u001b[0;34m)\u001b[0m\u001b[0;34m\u001b[0m\u001b[0;34m\u001b[0m\u001b[0m\n\u001b[0m",
            "\u001b[0;32m/usr/local/lib/python3.11/dist-packages/ultralytics/engine/model.py\u001b[0m in \u001b[0;36m__call__\u001b[0;34m(self, source, stream, **kwargs)\u001b[0m\n\u001b[1;32m    179\u001b[0m             \u001b[0;34m...\u001b[0m     \u001b[0mprint\u001b[0m\u001b[0;34m(\u001b[0m\u001b[0;34mf\"Detected {len(r)} objects in image\"\u001b[0m\u001b[0;34m)\u001b[0m\u001b[0;34m\u001b[0m\u001b[0;34m\u001b[0m\u001b[0m\n\u001b[1;32m    180\u001b[0m         \"\"\"\n\u001b[0;32m--> 181\u001b[0;31m         \u001b[0;32mreturn\u001b[0m \u001b[0mself\u001b[0m\u001b[0;34m.\u001b[0m\u001b[0mpredict\u001b[0m\u001b[0;34m(\u001b[0m\u001b[0msource\u001b[0m\u001b[0;34m,\u001b[0m \u001b[0mstream\u001b[0m\u001b[0;34m,\u001b[0m \u001b[0;34m**\u001b[0m\u001b[0mkwargs\u001b[0m\u001b[0;34m)\u001b[0m\u001b[0;34m\u001b[0m\u001b[0;34m\u001b[0m\u001b[0m\n\u001b[0m\u001b[1;32m    182\u001b[0m \u001b[0;34m\u001b[0m\u001b[0m\n\u001b[1;32m    183\u001b[0m     \u001b[0;34m@\u001b[0m\u001b[0mstaticmethod\u001b[0m\u001b[0;34m\u001b[0m\u001b[0;34m\u001b[0m\u001b[0m\n",
            "\u001b[0;32m/usr/local/lib/python3.11/dist-packages/ultralytics/engine/model.py\u001b[0m in \u001b[0;36mpredict\u001b[0;34m(self, source, stream, predictor, **kwargs)\u001b[0m\n\u001b[1;32m    547\u001b[0m         \u001b[0;32mif\u001b[0m \u001b[0mprompts\u001b[0m \u001b[0;32mand\u001b[0m \u001b[0mhasattr\u001b[0m\u001b[0;34m(\u001b[0m\u001b[0mself\u001b[0m\u001b[0;34m.\u001b[0m\u001b[0mpredictor\u001b[0m\u001b[0;34m,\u001b[0m \u001b[0;34m\"set_prompts\"\u001b[0m\u001b[0;34m)\u001b[0m\u001b[0;34m:\u001b[0m  \u001b[0;31m# for SAM-type models\u001b[0m\u001b[0;34m\u001b[0m\u001b[0;34m\u001b[0m\u001b[0m\n\u001b[1;32m    548\u001b[0m             \u001b[0mself\u001b[0m\u001b[0;34m.\u001b[0m\u001b[0mpredictor\u001b[0m\u001b[0;34m.\u001b[0m\u001b[0mset_prompts\u001b[0m\u001b[0;34m(\u001b[0m\u001b[0mprompts\u001b[0m\u001b[0;34m)\u001b[0m\u001b[0;34m\u001b[0m\u001b[0;34m\u001b[0m\u001b[0m\n\u001b[0;32m--> 549\u001b[0;31m         \u001b[0;32mreturn\u001b[0m \u001b[0mself\u001b[0m\u001b[0;34m.\u001b[0m\u001b[0mpredictor\u001b[0m\u001b[0;34m.\u001b[0m\u001b[0mpredict_cli\u001b[0m\u001b[0;34m(\u001b[0m\u001b[0msource\u001b[0m\u001b[0;34m=\u001b[0m\u001b[0msource\u001b[0m\u001b[0;34m)\u001b[0m \u001b[0;32mif\u001b[0m \u001b[0mis_cli\u001b[0m \u001b[0;32melse\u001b[0m \u001b[0mself\u001b[0m\u001b[0;34m.\u001b[0m\u001b[0mpredictor\u001b[0m\u001b[0;34m(\u001b[0m\u001b[0msource\u001b[0m\u001b[0;34m=\u001b[0m\u001b[0msource\u001b[0m\u001b[0;34m,\u001b[0m \u001b[0mstream\u001b[0m\u001b[0;34m=\u001b[0m\u001b[0mstream\u001b[0m\u001b[0;34m)\u001b[0m\u001b[0;34m\u001b[0m\u001b[0;34m\u001b[0m\u001b[0m\n\u001b[0m\u001b[1;32m    550\u001b[0m \u001b[0;34m\u001b[0m\u001b[0m\n\u001b[1;32m    551\u001b[0m     def track(\n",
            "\u001b[0;32m/usr/local/lib/python3.11/dist-packages/ultralytics/engine/predictor.py\u001b[0m in \u001b[0;36m__call__\u001b[0;34m(self, source, model, stream, *args, **kwargs)\u001b[0m\n\u001b[1;32m    216\u001b[0m             \u001b[0;32mreturn\u001b[0m \u001b[0mself\u001b[0m\u001b[0;34m.\u001b[0m\u001b[0mstream_inference\u001b[0m\u001b[0;34m(\u001b[0m\u001b[0msource\u001b[0m\u001b[0;34m,\u001b[0m \u001b[0mmodel\u001b[0m\u001b[0;34m,\u001b[0m \u001b[0;34m*\u001b[0m\u001b[0margs\u001b[0m\u001b[0;34m,\u001b[0m \u001b[0;34m**\u001b[0m\u001b[0mkwargs\u001b[0m\u001b[0;34m)\u001b[0m\u001b[0;34m\u001b[0m\u001b[0;34m\u001b[0m\u001b[0m\n\u001b[1;32m    217\u001b[0m         \u001b[0;32melse\u001b[0m\u001b[0;34m:\u001b[0m\u001b[0;34m\u001b[0m\u001b[0;34m\u001b[0m\u001b[0m\n\u001b[0;32m--> 218\u001b[0;31m             \u001b[0;32mreturn\u001b[0m \u001b[0mlist\u001b[0m\u001b[0;34m(\u001b[0m\u001b[0mself\u001b[0m\u001b[0;34m.\u001b[0m\u001b[0mstream_inference\u001b[0m\u001b[0;34m(\u001b[0m\u001b[0msource\u001b[0m\u001b[0;34m,\u001b[0m \u001b[0mmodel\u001b[0m\u001b[0;34m,\u001b[0m \u001b[0;34m*\u001b[0m\u001b[0margs\u001b[0m\u001b[0;34m,\u001b[0m \u001b[0;34m**\u001b[0m\u001b[0mkwargs\u001b[0m\u001b[0;34m)\u001b[0m\u001b[0;34m)\u001b[0m  \u001b[0;31m# merge list of Result into one\u001b[0m\u001b[0;34m\u001b[0m\u001b[0;34m\u001b[0m\u001b[0m\n\u001b[0m\u001b[1;32m    219\u001b[0m \u001b[0;34m\u001b[0m\u001b[0m\n\u001b[1;32m    220\u001b[0m     \u001b[0;32mdef\u001b[0m \u001b[0mpredict_cli\u001b[0m\u001b[0;34m(\u001b[0m\u001b[0mself\u001b[0m\u001b[0;34m,\u001b[0m \u001b[0msource\u001b[0m\u001b[0;34m=\u001b[0m\u001b[0;32mNone\u001b[0m\u001b[0;34m,\u001b[0m \u001b[0mmodel\u001b[0m\u001b[0;34m=\u001b[0m\u001b[0;32mNone\u001b[0m\u001b[0;34m)\u001b[0m\u001b[0;34m:\u001b[0m\u001b[0;34m\u001b[0m\u001b[0;34m\u001b[0m\u001b[0m\n",
            "\u001b[0;32m/usr/local/lib/python3.11/dist-packages/torch/utils/_contextlib.py\u001b[0m in \u001b[0;36mgenerator_context\u001b[0;34m(*args, **kwargs)\u001b[0m\n\u001b[1;32m     34\u001b[0m             \u001b[0;31m# Issuing `None` to a generator fires it up\u001b[0m\u001b[0;34m\u001b[0m\u001b[0;34m\u001b[0m\u001b[0m\n\u001b[1;32m     35\u001b[0m             \u001b[0;32mwith\u001b[0m \u001b[0mctx_factory\u001b[0m\u001b[0;34m(\u001b[0m\u001b[0;34m)\u001b[0m\u001b[0;34m:\u001b[0m\u001b[0;34m\u001b[0m\u001b[0;34m\u001b[0m\u001b[0m\n\u001b[0;32m---> 36\u001b[0;31m                 \u001b[0mresponse\u001b[0m \u001b[0;34m=\u001b[0m \u001b[0mgen\u001b[0m\u001b[0;34m.\u001b[0m\u001b[0msend\u001b[0m\u001b[0;34m(\u001b[0m\u001b[0;32mNone\u001b[0m\u001b[0;34m)\u001b[0m\u001b[0;34m\u001b[0m\u001b[0;34m\u001b[0m\u001b[0m\n\u001b[0m\u001b[1;32m     37\u001b[0m \u001b[0;34m\u001b[0m\u001b[0m\n\u001b[1;32m     38\u001b[0m             \u001b[0;32mwhile\u001b[0m \u001b[0;32mTrue\u001b[0m\u001b[0;34m:\u001b[0m\u001b[0;34m\u001b[0m\u001b[0;34m\u001b[0m\u001b[0m\n",
            "\u001b[0;32m/usr/local/lib/python3.11/dist-packages/ultralytics/engine/predictor.py\u001b[0m in \u001b[0;36mstream_inference\u001b[0;34m(self, source, model, *args, **kwargs)\u001b[0m\n\u001b[1;32m    297\u001b[0m         \u001b[0;32mwith\u001b[0m \u001b[0mself\u001b[0m\u001b[0;34m.\u001b[0m\u001b[0m_lock\u001b[0m\u001b[0;34m:\u001b[0m  \u001b[0;31m# for thread-safe inference\u001b[0m\u001b[0;34m\u001b[0m\u001b[0;34m\u001b[0m\u001b[0m\n\u001b[1;32m    298\u001b[0m             \u001b[0;31m# Setup source every time predict is called\u001b[0m\u001b[0;34m\u001b[0m\u001b[0;34m\u001b[0m\u001b[0m\n\u001b[0;32m--> 299\u001b[0;31m             \u001b[0mself\u001b[0m\u001b[0;34m.\u001b[0m\u001b[0msetup_source\u001b[0m\u001b[0;34m(\u001b[0m\u001b[0msource\u001b[0m \u001b[0;32mif\u001b[0m \u001b[0msource\u001b[0m \u001b[0;32mis\u001b[0m \u001b[0;32mnot\u001b[0m \u001b[0;32mNone\u001b[0m \u001b[0;32melse\u001b[0m \u001b[0mself\u001b[0m\u001b[0;34m.\u001b[0m\u001b[0margs\u001b[0m\u001b[0;34m.\u001b[0m\u001b[0msource\u001b[0m\u001b[0;34m)\u001b[0m\u001b[0;34m\u001b[0m\u001b[0;34m\u001b[0m\u001b[0m\n\u001b[0m\u001b[1;32m    300\u001b[0m \u001b[0;34m\u001b[0m\u001b[0m\n\u001b[1;32m    301\u001b[0m             \u001b[0;31m# Check if save_dir/ label file exists\u001b[0m\u001b[0;34m\u001b[0m\u001b[0;34m\u001b[0m\u001b[0m\n",
            "\u001b[0;32m/usr/local/lib/python3.11/dist-packages/ultralytics/engine/predictor.py\u001b[0m in \u001b[0;36msetup_source\u001b[0;34m(self, source)\u001b[0m\n\u001b[1;32m    257\u001b[0m             \u001b[0;32melse\u001b[0m \u001b[0;32mNone\u001b[0m\u001b[0;34m\u001b[0m\u001b[0;34m\u001b[0m\u001b[0m\n\u001b[1;32m    258\u001b[0m         )\n\u001b[0;32m--> 259\u001b[0;31m         self.dataset = load_inference_source(\n\u001b[0m\u001b[1;32m    260\u001b[0m             \u001b[0msource\u001b[0m\u001b[0;34m=\u001b[0m\u001b[0msource\u001b[0m\u001b[0;34m,\u001b[0m\u001b[0;34m\u001b[0m\u001b[0;34m\u001b[0m\u001b[0m\n\u001b[1;32m    261\u001b[0m             \u001b[0mbatch\u001b[0m\u001b[0;34m=\u001b[0m\u001b[0mself\u001b[0m\u001b[0;34m.\u001b[0m\u001b[0margs\u001b[0m\u001b[0;34m.\u001b[0m\u001b[0mbatch\u001b[0m\u001b[0;34m,\u001b[0m\u001b[0;34m\u001b[0m\u001b[0;34m\u001b[0m\u001b[0m\n",
            "\u001b[0;32m/usr/local/lib/python3.11/dist-packages/ultralytics/data/build.py\u001b[0m in \u001b[0;36mload_inference_source\u001b[0;34m(source, batch, vid_stride, buffer)\u001b[0m\n\u001b[1;32m    236\u001b[0m         \u001b[0;34m(\u001b[0m\u001b[0mDataset\u001b[0m\u001b[0;34m)\u001b[0m\u001b[0;34m:\u001b[0m \u001b[0mA\u001b[0m \u001b[0mdataset\u001b[0m \u001b[0mobject\u001b[0m \u001b[0;32mfor\u001b[0m \u001b[0mthe\u001b[0m \u001b[0mspecified\u001b[0m \u001b[0minput\u001b[0m \u001b[0msource\u001b[0m \u001b[0;32mwith\u001b[0m \u001b[0mattached\u001b[0m \u001b[0msource_type\u001b[0m \u001b[0mattribute\u001b[0m\u001b[0;34m.\u001b[0m\u001b[0;34m\u001b[0m\u001b[0;34m\u001b[0m\u001b[0m\n\u001b[1;32m    237\u001b[0m     \"\"\"\n\u001b[0;32m--> 238\u001b[0;31m     \u001b[0msource\u001b[0m\u001b[0;34m,\u001b[0m \u001b[0mstream\u001b[0m\u001b[0;34m,\u001b[0m \u001b[0mscreenshot\u001b[0m\u001b[0;34m,\u001b[0m \u001b[0mfrom_img\u001b[0m\u001b[0;34m,\u001b[0m \u001b[0min_memory\u001b[0m\u001b[0;34m,\u001b[0m \u001b[0mtensor\u001b[0m \u001b[0;34m=\u001b[0m \u001b[0mcheck_source\u001b[0m\u001b[0;34m(\u001b[0m\u001b[0msource\u001b[0m\u001b[0;34m)\u001b[0m\u001b[0;34m\u001b[0m\u001b[0;34m\u001b[0m\u001b[0m\n\u001b[0m\u001b[1;32m    239\u001b[0m     \u001b[0msource_type\u001b[0m \u001b[0;34m=\u001b[0m \u001b[0msource\u001b[0m\u001b[0;34m.\u001b[0m\u001b[0msource_type\u001b[0m \u001b[0;32mif\u001b[0m \u001b[0min_memory\u001b[0m \u001b[0;32melse\u001b[0m \u001b[0mSourceTypes\u001b[0m\u001b[0;34m(\u001b[0m\u001b[0mstream\u001b[0m\u001b[0;34m,\u001b[0m \u001b[0mscreenshot\u001b[0m\u001b[0;34m,\u001b[0m \u001b[0mfrom_img\u001b[0m\u001b[0;34m,\u001b[0m \u001b[0mtensor\u001b[0m\u001b[0;34m)\u001b[0m\u001b[0;34m\u001b[0m\u001b[0;34m\u001b[0m\u001b[0m\n\u001b[1;32m    240\u001b[0m \u001b[0;34m\u001b[0m\u001b[0m\n",
            "\u001b[0;32m/usr/local/lib/python3.11/dist-packages/ultralytics/data/build.py\u001b[0m in \u001b[0;36mcheck_source\u001b[0;34m(source)\u001b[0m\n\u001b[1;32m    211\u001b[0m         \u001b[0min_memory\u001b[0m \u001b[0;34m=\u001b[0m \u001b[0;32mTrue\u001b[0m\u001b[0;34m\u001b[0m\u001b[0;34m\u001b[0m\u001b[0m\n\u001b[1;32m    212\u001b[0m     \u001b[0;32melif\u001b[0m \u001b[0misinstance\u001b[0m\u001b[0;34m(\u001b[0m\u001b[0msource\u001b[0m\u001b[0;34m,\u001b[0m \u001b[0;34m(\u001b[0m\u001b[0mlist\u001b[0m\u001b[0;34m,\u001b[0m \u001b[0mtuple\u001b[0m\u001b[0;34m)\u001b[0m\u001b[0;34m)\u001b[0m\u001b[0;34m:\u001b[0m\u001b[0;34m\u001b[0m\u001b[0;34m\u001b[0m\u001b[0m\n\u001b[0;32m--> 213\u001b[0;31m         \u001b[0msource\u001b[0m \u001b[0;34m=\u001b[0m \u001b[0mautocast_list\u001b[0m\u001b[0;34m(\u001b[0m\u001b[0msource\u001b[0m\u001b[0;34m)\u001b[0m  \u001b[0;31m# convert all list elements to PIL or np arrays\u001b[0m\u001b[0;34m\u001b[0m\u001b[0;34m\u001b[0m\u001b[0m\n\u001b[0m\u001b[1;32m    214\u001b[0m         \u001b[0mfrom_img\u001b[0m \u001b[0;34m=\u001b[0m \u001b[0;32mTrue\u001b[0m\u001b[0;34m\u001b[0m\u001b[0;34m\u001b[0m\u001b[0m\n\u001b[1;32m    215\u001b[0m     \u001b[0;32melif\u001b[0m \u001b[0misinstance\u001b[0m\u001b[0;34m(\u001b[0m\u001b[0msource\u001b[0m\u001b[0;34m,\u001b[0m \u001b[0;34m(\u001b[0m\u001b[0mImage\u001b[0m\u001b[0;34m.\u001b[0m\u001b[0mImage\u001b[0m\u001b[0;34m,\u001b[0m \u001b[0mnp\u001b[0m\u001b[0;34m.\u001b[0m\u001b[0mndarray\u001b[0m\u001b[0;34m)\u001b[0m\u001b[0;34m)\u001b[0m\u001b[0;34m:\u001b[0m\u001b[0;34m\u001b[0m\u001b[0;34m\u001b[0m\u001b[0m\n",
            "\u001b[0;32m/usr/local/lib/python3.11/dist-packages/ultralytics/data/loaders.py\u001b[0m in \u001b[0;36mautocast_list\u001b[0;34m(source)\u001b[0m\n\u001b[1;32m    589\u001b[0m     \u001b[0;32mfor\u001b[0m \u001b[0mim\u001b[0m \u001b[0;32min\u001b[0m \u001b[0msource\u001b[0m\u001b[0;34m:\u001b[0m\u001b[0;34m\u001b[0m\u001b[0;34m\u001b[0m\u001b[0m\n\u001b[1;32m    590\u001b[0m         \u001b[0;32mif\u001b[0m \u001b[0misinstance\u001b[0m\u001b[0;34m(\u001b[0m\u001b[0mim\u001b[0m\u001b[0;34m,\u001b[0m \u001b[0;34m(\u001b[0m\u001b[0mstr\u001b[0m\u001b[0;34m,\u001b[0m \u001b[0mPath\u001b[0m\u001b[0;34m)\u001b[0m\u001b[0;34m)\u001b[0m\u001b[0;34m:\u001b[0m  \u001b[0;31m# filename or uri\u001b[0m\u001b[0;34m\u001b[0m\u001b[0;34m\u001b[0m\u001b[0m\n\u001b[0;32m--> 591\u001b[0;31m             \u001b[0mfiles\u001b[0m\u001b[0;34m.\u001b[0m\u001b[0mappend\u001b[0m\u001b[0;34m(\u001b[0m\u001b[0mImage\u001b[0m\u001b[0;34m.\u001b[0m\u001b[0mopen\u001b[0m\u001b[0;34m(\u001b[0m\u001b[0mrequests\u001b[0m\u001b[0;34m.\u001b[0m\u001b[0mget\u001b[0m\u001b[0;34m(\u001b[0m\u001b[0mim\u001b[0m\u001b[0;34m,\u001b[0m \u001b[0mstream\u001b[0m\u001b[0;34m=\u001b[0m\u001b[0;32mTrue\u001b[0m\u001b[0;34m)\u001b[0m\u001b[0;34m.\u001b[0m\u001b[0mraw\u001b[0m \u001b[0;32mif\u001b[0m \u001b[0mstr\u001b[0m\u001b[0;34m(\u001b[0m\u001b[0mim\u001b[0m\u001b[0;34m)\u001b[0m\u001b[0;34m.\u001b[0m\u001b[0mstartswith\u001b[0m\u001b[0;34m(\u001b[0m\u001b[0;34m\"http\"\u001b[0m\u001b[0;34m)\u001b[0m \u001b[0;32melse\u001b[0m \u001b[0mim\u001b[0m\u001b[0;34m)\u001b[0m\u001b[0;34m)\u001b[0m\u001b[0;34m\u001b[0m\u001b[0;34m\u001b[0m\u001b[0m\n\u001b[0m\u001b[1;32m    592\u001b[0m         \u001b[0;32melif\u001b[0m \u001b[0misinstance\u001b[0m\u001b[0;34m(\u001b[0m\u001b[0mim\u001b[0m\u001b[0;34m,\u001b[0m \u001b[0;34m(\u001b[0m\u001b[0mImage\u001b[0m\u001b[0;34m.\u001b[0m\u001b[0mImage\u001b[0m\u001b[0;34m,\u001b[0m \u001b[0mnp\u001b[0m\u001b[0;34m.\u001b[0m\u001b[0mndarray\u001b[0m\u001b[0;34m)\u001b[0m\u001b[0;34m)\u001b[0m\u001b[0;34m:\u001b[0m  \u001b[0;31m# PIL or np Image\u001b[0m\u001b[0;34m\u001b[0m\u001b[0;34m\u001b[0m\u001b[0m\n\u001b[1;32m    593\u001b[0m             \u001b[0mfiles\u001b[0m\u001b[0;34m.\u001b[0m\u001b[0mappend\u001b[0m\u001b[0;34m(\u001b[0m\u001b[0mim\u001b[0m\u001b[0;34m)\u001b[0m\u001b[0;34m\u001b[0m\u001b[0;34m\u001b[0m\u001b[0m\n",
            "\u001b[0;32m/usr/local/lib/python3.11/dist-packages/PIL/Image.py\u001b[0m in \u001b[0;36mopen\u001b[0;34m(fp, mode, formats)\u001b[0m\n\u001b[1;32m   3463\u001b[0m \u001b[0;34m\u001b[0m\u001b[0m\n\u001b[1;32m   3464\u001b[0m     \u001b[0;32mif\u001b[0m \u001b[0mfilename\u001b[0m\u001b[0;34m:\u001b[0m\u001b[0;34m\u001b[0m\u001b[0;34m\u001b[0m\u001b[0m\n\u001b[0;32m-> 3465\u001b[0;31m         \u001b[0mfp\u001b[0m \u001b[0;34m=\u001b[0m \u001b[0mbuiltins\u001b[0m\u001b[0;34m.\u001b[0m\u001b[0mopen\u001b[0m\u001b[0;34m(\u001b[0m\u001b[0mfilename\u001b[0m\u001b[0;34m,\u001b[0m \u001b[0;34m\"rb\"\u001b[0m\u001b[0;34m)\u001b[0m\u001b[0;34m\u001b[0m\u001b[0;34m\u001b[0m\u001b[0m\n\u001b[0m\u001b[1;32m   3466\u001b[0m         \u001b[0mexclusive_fp\u001b[0m \u001b[0;34m=\u001b[0m \u001b[0;32mTrue\u001b[0m\u001b[0;34m\u001b[0m\u001b[0;34m\u001b[0m\u001b[0m\n\u001b[1;32m   3467\u001b[0m     \u001b[0;32melse\u001b[0m\u001b[0;34m:\u001b[0m\u001b[0;34m\u001b[0m\u001b[0;34m\u001b[0m\u001b[0m\n",
            "\u001b[0;31mFileNotFoundError\u001b[0m: [Errno 2] No such file or directory: '/content/sample_data/exdark/JPEGImages2015_00630.jpg'"
          ]
        }
      ]
    },
    {
      "cell_type": "code",
      "source": [
        "results[98].show()"
      ],
      "metadata": {
        "colab": {
          "base_uri": "https://localhost:8080/",
          "height": 141
        },
        "id": "MlCeY-dK7bqD",
        "outputId": "db2173b8-4092-4896-f788-6d562834b916"
      },
      "execution_count": null,
      "outputs": [
        {
          "output_type": "error",
          "ename": "NameError",
          "evalue": "name 'results' is not defined",
          "traceback": [
            "\u001b[0;31m---------------------------------------------------------------------------\u001b[0m",
            "\u001b[0;31mNameError\u001b[0m                                 Traceback (most recent call last)",
            "\u001b[0;32m<ipython-input-7-ea25e6f3b146>\u001b[0m in \u001b[0;36m<cell line: 0>\u001b[0;34m()\u001b[0m\n\u001b[0;32m----> 1\u001b[0;31m \u001b[0mresults\u001b[0m\u001b[0;34m[\u001b[0m\u001b[0;36m98\u001b[0m\u001b[0;34m]\u001b[0m\u001b[0;34m.\u001b[0m\u001b[0mshow\u001b[0m\u001b[0;34m(\u001b[0m\u001b[0;34m)\u001b[0m\u001b[0;34m\u001b[0m\u001b[0;34m\u001b[0m\u001b[0m\n\u001b[0m",
            "\u001b[0;31mNameError\u001b[0m: name 'results' is not defined"
          ]
        }
      ]
    },
    {
      "cell_type": "markdown",
      "source": [
        "pretrained only on coco8 testing"
      ],
      "metadata": {
        "id": "DiP5GAjZRUPl"
      }
    },
    {
      "cell_type": "code",
      "source": [
        "metrics_coco8 = model_coco8.val(\n",
        "    data=\"/content/test_data.yaml\",\n",
        "    imgsz=640,\n",
        "    device=0\n",
        ")"
      ],
      "metadata": {
        "colab": {
          "base_uri": "https://localhost:8080/"
        },
        "outputId": "c848f284-0b27-4285-b6af-7aec7d3e9198",
        "id": "1hLNPd6FUUgY"
      },
      "execution_count": null,
      "outputs": [
        {
          "output_type": "stream",
          "name": "stdout",
          "text": [
            "Ultralytics 8.3.116 🚀 Python-3.11.12 torch-2.6.0+cu124 CUDA:0 (Tesla T4, 15095MiB)\n",
            "Model summary (fused): 72 layers, 3,151,904 parameters, 0 gradients, 8.7 GFLOPs\n",
            "\u001b[34m\u001b[1mval: \u001b[0mFast image access ✅ (ping: 0.0±0.0 ms, read: 1546.0±790.7 MB/s, size: 445.6 KB)\n"
          ]
        },
        {
          "output_type": "stream",
          "name": "stderr",
          "text": [
            "\u001b[34m\u001b[1mval: \u001b[0mScanning /content/labels/val.cache... 100 images, 0 backgrounds, 0 corrupt: 100%|██████████| 100/100 [00:00<?, ?it/s]\n",
            "                 Class     Images  Instances      Box(P          R      mAP50  mAP50-95): 100%|██████████| 7/7 [00:04<00:00,  1.57it/s]\n"
          ]
        },
        {
          "output_type": "stream",
          "name": "stdout",
          "text": [
            "                   all        100        408     0.0179     0.0546     0.0133    0.00809\n",
            "                person         18         26   0.000473      0.115    0.00229   0.000298\n",
            "               bicycle         18         33    0.00352      0.121    0.00203   0.000484\n",
            "                   car          1          1          0          0          0          0\n",
            "            motorcycle         17         19          0          0          0          0\n",
            "              airplane         34         73      0.122     0.0822      0.105     0.0739\n",
            "                   bus          6          7    0.00323      0.143    0.00186   0.000186\n",
            "                 train          6         13          0          0          0          0\n",
            "                  boat          6          9   0.000889      0.111   0.000511   0.000255\n",
            "         traffic light         21         44          0          0          0          0\n",
            "          fire hydrant         45        177     0.0658     0.0282     0.0349     0.0139\n",
            "             stop sign          4          6          0          0          0          0\n",
            "Speed: 4.6ms preprocess, 9.4ms inference, 0.0ms loss, 6.4ms postprocess per image\n",
            "Results saved to \u001b[1mruns/detect/train42\u001b[0m\n"
          ]
        }
      ]
    },
    {
      "cell_type": "code",
      "source": [
        "metrics_coco8.results_dict"
      ],
      "metadata": {
        "colab": {
          "base_uri": "https://localhost:8080/"
        },
        "outputId": "770de908-fab7-49d8-bfaa-e46632a62d94",
        "id": "dN013xGbUUgZ"
      },
      "execution_count": null,
      "outputs": [
        {
          "output_type": "execute_result",
          "data": {
            "text/plain": [
              "{'metrics/precision(B)': np.float64(0.017850078412720346),\n",
              " 'metrics/recall(B)': np.float64(0.054636850814320896),\n",
              " 'metrics/mAP50(B)': np.float64(0.013334961111794032),\n",
              " 'metrics/mAP50-95(B)': np.float64(0.008085798433428878),\n",
              " 'fitness': np.float64(0.008610714701265393)}"
            ]
          },
          "metadata": {},
          "execution_count": 52
        }
      ]
    },
    {
      "cell_type": "code",
      "source": [
        "results_coco8 = model_coco8.predict(\n",
        "    source=\"/content/atests\",  # folder with your test images\n",
        "    imgsz=640,\n",
        "    conf=0.25,         # confidence threshold (optional)\n",
        "    save=True,         # saves annotated images to disk\n",
        "    device=0\n",
        ")"
      ],
      "metadata": {
        "colab": {
          "base_uri": "https://localhost:8080/"
        },
        "id": "9bWRsC-geb7n",
        "outputId": "e2e4894c-15fc-4c4e-c4f3-3f37fb0edef8"
      },
      "execution_count": null,
      "outputs": [
        {
          "output_type": "stream",
          "name": "stdout",
          "text": [
            "\n",
            "image 1/6 /content/atests/2015_00422.jpg: 448x640 1 bicycle, 2 benchs, 208.4ms\n",
            "image 2/6 /content/atests/2015_00488.jpg: 480x640 1 person, 1 bicycle, 2 cars, 196.8ms\n",
            "image 3/6 /content/atests/2015_01139.jpg: 448x640 1 boat, 42.0ms\n",
            "image 4/6 /content/atests/2015_02852.jpg: 448x640 (no detections), 37.9ms\n",
            "image 5/6 /content/atests/2015_02860.jpg: 480x640 1 car, 42.1ms\n",
            "image 6/6 /content/atests/2015_07279.jpg: 544x640 1 person, 5 chairs, 2 dining tables, 192.2ms\n",
            "Speed: 8.0ms preprocess, 119.9ms inference, 9.4ms postprocess per image at shape (1, 3, 544, 640)\n",
            "Results saved to \u001b[1mruns/detect/train43\u001b[0m\n"
          ]
        }
      ]
    },
    {
      "cell_type": "code",
      "source": [
        "!zip -r pretrained.zip /content/runs/detect/train43"
      ],
      "metadata": {
        "id": "XxqMyw8GjuN8",
        "outputId": "44731b92-2256-4338-b0d3-4b88e5629ba3",
        "colab": {
          "base_uri": "https://localhost:8080/"
        }
      },
      "execution_count": null,
      "outputs": [
        {
          "output_type": "stream",
          "name": "stdout",
          "text": [
            "  adding: content/runs/detect/train43/ (stored 0%)\n",
            "  adding: content/runs/detect/train43/2015_02860.jpg (deflated 7%)\n",
            "  adding: content/runs/detect/train43/2015_01139.jpg (deflated 1%)\n",
            "  adding: content/runs/detect/train43/2015_00422.jpg (deflated 0%)\n",
            "  adding: content/runs/detect/train43/2015_02852.jpg (deflated 3%)\n",
            "  adding: content/runs/detect/train43/2015_07279.jpg (deflated 2%)\n",
            "  adding: content/runs/detect/train43/2015_00488.jpg (deflated 3%)\n"
          ]
        }
      ]
    },
    {
      "cell_type": "markdown",
      "source": [
        "### Testing with FineTuning"
      ],
      "metadata": {
        "id": "ZU3w0KrDvgTw"
      }
    },
    {
      "cell_type": "markdown",
      "source": [
        "#### convert to YOLO format"
      ],
      "metadata": {
        "id": "EWoYWWUHx-9Z"
      }
    },
    {
      "cell_type": "code",
      "source": [
        "import os\n",
        "import xml.etree.ElementTree as ET"
      ],
      "metadata": {
        "id": "0xhhICYQDnqO"
      },
      "execution_count": null,
      "outputs": []
    },
    {
      "cell_type": "code",
      "source": [
        "voc_annotations_dir = \"/content/exdark_outdoor700/Annotations\"  # path to your VOC XML files\n",
        "output_labels_dir = \"/content/labels/\"         # where YOLO .txt files will go\n",
        "class_list = [\"Bicycle\", \"Boat\", \"Bottle\", \"Bus\", \"Car\", \"Cat\", \"Chair\",\n",
        "              \"Cup\", \"Dog\", \"Motorbike\", \"People\", \"Table\"]  # ExDark classes"
      ],
      "metadata": {
        "id": "m8dYudO8DcKU"
      },
      "execution_count": null,
      "outputs": []
    },
    {
      "cell_type": "code",
      "source": [
        "def convert_bbox(size, box):\n",
        "    dw = 1. / size[0]\n",
        "    dh = 1. / size[1]\n",
        "    x = (box[0] + box[2]) / 2.0\n",
        "    y = (box[1] + box[3]) / 2.0\n",
        "    w = box[2] - box[0]\n",
        "    h = box[3] - box[1]\n",
        "    return (x * dw, y * dh, w * dw, h * dh)"
      ],
      "metadata": {
        "id": "ZFNaa6b3-_VT"
      },
      "execution_count": null,
      "outputs": []
    },
    {
      "cell_type": "code",
      "source": [
        "def convert_annotation(xml_file, out_dir_path):\n",
        "    tree = ET.parse(xml_file)\n",
        "    root = tree.getroot()\n",
        "\n",
        "    size = root.find(\"size\")\n",
        "    width = int(size.find(\"width\").text)\n",
        "    height = int(size.find(\"height\").text)\n",
        "\n",
        "    filename = os.path.splitext(root.find(\"filename\").text)[0]\n",
        "    out_file_path = os.path.join(out_dir_path, f\"{filename}.txt\")\n",
        "    if not os.path.exists(out_dir_path):\n",
        "      os.makedirs(out_dir_path, exist_ok=True)\n",
        "    with open(out_file_path, \"w+\") as out_file:\n",
        "        for obj in root.findall(\"object\"):\n",
        "            cls_name = obj.find(\"name\").text\n",
        "            if cls_name not in class_list:\n",
        "                continue\n",
        "            cls_id = class_list.index(cls_name)\n",
        "            xmlbox = obj.find(\"bndbox\")\n",
        "            b = (int(xmlbox.find(\"xmin\").text), int(xmlbox.find(\"ymin\").text),\n",
        "                 int(xmlbox.find(\"xmax\").text), int(xmlbox.find(\"ymax\").text))\n",
        "            bbox = convert_bbox((width, height), b)\n",
        "            out_file.write(f\"{cls_id} {' '.join(format(x, '.6f') for x in bbox)}\\n\")"
      ],
      "metadata": {
        "id": "ykCbWoELCMyn"
      },
      "execution_count": null,
      "outputs": []
    },
    {
      "cell_type": "code",
      "source": [
        "train_file = open(\"/content/exdark_outdoor700/train_outdoor.txt\")\n",
        "train_lines = train_file.readlines()\n",
        "train_lines = [line.split('.')[0] for line in train_lines]\n",
        "\n",
        "val_file = open(\"/content/sample_data/exdark/val.txt\")\n",
        "val_lines = val_file.readlines()\n",
        "val_lines = [line.split('.')[0] for line in val_lines]\n",
        "\n",
        "test_file = open(\"/content/sample_data/exdark/test.txt\")\n",
        "test_lines = test_file.readlines()\n",
        "test_lines = [line.split('.')[0] for line in test_lines]\n",
        "\n"
      ],
      "metadata": {
        "id": "SZxWz8v8LhtZ"
      },
      "execution_count": null,
      "outputs": []
    },
    {
      "cell_type": "code",
      "source": [
        "len(train_lines)"
      ],
      "metadata": {
        "colab": {
          "base_uri": "https://localhost:8080/"
        },
        "id": "AmMWuiMsiR0w",
        "outputId": "afc8d6bc-2afb-4557-ae2f-6df19c4c9043"
      },
      "execution_count": null,
      "outputs": [
        {
          "output_type": "execute_result",
          "data": {
            "text/plain": [
              "700"
            ]
          },
          "metadata": {},
          "execution_count": 13
        }
      ]
    },
    {
      "cell_type": "code",
      "source": [
        "test_file = open(\"/content/sample_data/exdark/test.txt\")"
      ],
      "metadata": {
        "id": "PLc_QMtitjVW"
      },
      "execution_count": null,
      "outputs": []
    },
    {
      "cell_type": "code",
      "source": [
        "with open('test.txt', 'w') as f:\n",
        "  for i in test_lines:\n",
        "    f.write(i.lower().strip('\\n'))\n",
        "    f.write('.xml')\n",
        "    f.write('\\n')"
      ],
      "metadata": {
        "id": "utVxhjIOrTBy"
      },
      "execution_count": null,
      "outputs": []
    },
    {
      "cell_type": "code",
      "source": [
        "# train files\n",
        "i = 0\n",
        "for xml_file in os.listdir(\"/content/exdark_outdoor700/Annotations\"):\n",
        "  if not xml_file.endswith(\".xml\"):\n",
        "    print(f\"affix issue: {xml_file}\")\n",
        "    continue\n",
        "  if not (xml_file.split('.')[0] in train_lines):\n",
        "    # print(f\"placement issue: {xml_file}\")\n",
        "    continue\n",
        "  convert_annotation(os.path.join(voc_annotations_dir, xml_file), \"/content/labels/train/\")\n",
        "  print(f\"Training Data Successfully Converted: {xml_file}\\t{i}\")\n",
        "  i = i + 1"
      ],
      "metadata": {
        "colab": {
          "base_uri": "https://localhost:8080/"
        },
        "collapsed": true,
        "id": "L-vhVgJDCOmm",
        "outputId": "3b572336-4784-47c9-d3a7-53f93ead158f"
      },
      "execution_count": null,
      "outputs": [
        {
          "output_type": "stream",
          "name": "stdout",
          "text": [
            "Training Data Successfully Converted: 2015_00862.jpg.xml\t0\n",
            "Training Data Successfully Converted: 2015_06387.jpg.xml\t1\n",
            "Training Data Successfully Converted: 2015_05994.jpg.xml\t2\n",
            "Training Data Successfully Converted: 2015_02487.jpg.xml\t3\n",
            "Training Data Successfully Converted: 2015_07002.jpg.xml\t4\n",
            "Training Data Successfully Converted: 2015_00116.jpg.xml\t5\n",
            "Training Data Successfully Converted: 2015_02042.jpg.xml\t6\n",
            "Training Data Successfully Converted: 2015_02437.jpg.xml\t7\n",
            "Training Data Successfully Converted: 2015_03860.jpg.xml\t8\n",
            "Training Data Successfully Converted: 2015_04963.jpg.xml\t9\n",
            "Training Data Successfully Converted: 2015_01893.jpg.xml\t10\n",
            "Training Data Successfully Converted: 2015_05126.jpg.xml\t11\n",
            "Training Data Successfully Converted: 2015_04980.jpg.xml\t12\n",
            "Training Data Successfully Converted: 2015_06268.jpg.xml\t13\n",
            "Training Data Successfully Converted: 2015_06392.jpg.xml\t14\n",
            "Training Data Successfully Converted: 2015_00847.jpg.xml\t15\n",
            "Training Data Successfully Converted: 2015_02057.jpg.xml\t16\n",
            "Training Data Successfully Converted: 2015_03999.jpg.xml\t17\n",
            "Training Data Successfully Converted: 2015_06265.jpg.xml\t18\n",
            "Training Data Successfully Converted: 2015_01363.jpg.xml\t19\n",
            "Training Data Successfully Converted: 2015_01535.jpg.xml\t20\n",
            "Training Data Successfully Converted: 2015_05917.jpg.xml\t21\n",
            "Training Data Successfully Converted: 2015_06344.jpg.xml\t22\n",
            "Training Data Successfully Converted: 2015_05866.jpg.xml\t23\n",
            "Training Data Successfully Converted: 2015_02050.jpg.xml\t24\n",
            "Training Data Successfully Converted: 2015_02569.jpg.xml\t25\n",
            "Training Data Successfully Converted: 2015_00760.jpg.xml\t26\n",
            "Training Data Successfully Converted: 2015_02412.jpg.xml\t27\n",
            "Training Data Successfully Converted: 2015_00232.jpg.xml\t28\n",
            "Training Data Successfully Converted: 2015_04598.jpg.xml\t29\n",
            "Training Data Successfully Converted: 2015_06314.jpg.xml\t30\n",
            "Training Data Successfully Converted: 2015_01357.jpg.xml\t31\n",
            "Training Data Successfully Converted: 2015_01984.jpg.xml\t32\n",
            "Training Data Successfully Converted: 2015_05934.jpg.xml\t33\n",
            "Training Data Successfully Converted: 2015_02530.jpg.xml\t34\n",
            "Training Data Successfully Converted: 2015_00787.jpg.xml\t35\n",
            "Training Data Successfully Converted: 2015_00893.jpg.xml\t36\n",
            "Training Data Successfully Converted: 2015_05802.jpg.xml\t37\n",
            "Training Data Successfully Converted: 2015_00011.jpg.xml\t38\n",
            "Training Data Successfully Converted: 2015_02594.jpg.xml\t39\n",
            "Training Data Successfully Converted: 2015_02122.jpg.xml\t40\n",
            "Training Data Successfully Converted: 2015_02529.jpg.xml\t41\n",
            "Training Data Successfully Converted: 2015_06446.jpg.xml\t42\n",
            "Training Data Successfully Converted: 2015_02533.jpg.xml\t43\n",
            "Training Data Successfully Converted: 2015_06459.jpg.xml\t44\n",
            "Training Data Successfully Converted: 2015_06266.jpg.xml\t45\n",
            "Training Data Successfully Converted: 2015_01502.jpg.xml\t46\n",
            "Training Data Successfully Converted: 2015_05001.jpg.xml\t47\n",
            "Training Data Successfully Converted: 2015_02582.jpg.xml\t48\n",
            "Training Data Successfully Converted: 2015_02459.jpg.xml\t49\n",
            "Training Data Successfully Converted: 2015_05829.jpg.xml\t50\n",
            "Training Data Successfully Converted: 2015_06389.jpg.xml\t51\n",
            "Training Data Successfully Converted: 2015_01904.jpg.xml\t52\n",
            "Training Data Successfully Converted: 2015_03250.jpg.xml\t53\n",
            "Training Data Successfully Converted: 2015_06338.jpg.xml\t54\n",
            "Training Data Successfully Converted: 2015_01483.jpg.xml\t55\n",
            "Training Data Successfully Converted: 2015_01899.jpg.xml\t56\n",
            "Training Data Successfully Converted: 2015_00144.jpg.xml\t57\n",
            "Training Data Successfully Converted: 2015_01961.jpg.xml\t58\n",
            "Training Data Successfully Converted: 2015_00235.jpg.xml\t59\n",
            "Training Data Successfully Converted: 2015_01469.jpg.xml\t60\n",
            "Training Data Successfully Converted: 2015_03074.jpg.xml\t61\n",
            "Training Data Successfully Converted: 2015_02495.jpg.xml\t62\n",
            "Training Data Successfully Converted: 2015_06309.jpg.xml\t63\n",
            "Training Data Successfully Converted: 2015_03134.jpg.xml\t64\n",
            "Training Data Successfully Converted: 2015_05009.jpg.xml\t65\n",
            "Training Data Successfully Converted: 2015_00859.jpg.xml\t66\n",
            "Training Data Successfully Converted: 2015_01361.jpg.xml\t67\n",
            "Training Data Successfully Converted: 2015_06379.jpg.xml\t68\n",
            "Training Data Successfully Converted: 2015_00060.jpg.xml\t69\n",
            "Training Data Successfully Converted: 2015_02090.jpg.xml\t70\n",
            "Training Data Successfully Converted: 2015_04959.jpg.xml\t71\n",
            "Training Data Successfully Converted: 2015_05028.jpg.xml\t72\n",
            "Training Data Successfully Converted: 2015_02641.jpg.xml\t73\n",
            "Training Data Successfully Converted: 2015_06333.jpg.xml\t74\n",
            "Training Data Successfully Converted: 2015_05933.jpg.xml\t75\n",
            "Training Data Successfully Converted: 2015_03204.jpg.xml\t76\n",
            "Training Data Successfully Converted: 2015_00868.jpg.xml\t77\n",
            "Training Data Successfully Converted: 2015_00835.jpg.xml\t78\n",
            "Training Data Successfully Converted: 2015_01954.jpg.xml\t79\n",
            "Training Data Successfully Converted: 2015_02531.jpg.xml\t80\n",
            "Training Data Successfully Converted: 2015_03124.jpg.xml\t81\n",
            "Training Data Successfully Converted: 2015_05858.jpg.xml\t82\n",
            "Training Data Successfully Converted: 2015_00822.jpg.xml\t83\n",
            "Training Data Successfully Converted: 2015_01928.jpg.xml\t84\n",
            "Training Data Successfully Converted: 2015_02469.jpg.xml\t85\n",
            "Training Data Successfully Converted: 2015_03820.jpg.xml\t86\n",
            "Training Data Successfully Converted: 2015_03234.jpg.xml\t87\n",
            "Training Data Successfully Converted: 2015_00249.jpg.xml\t88\n",
            "Training Data Successfully Converted: 2015_02066.jpg.xml\t89\n",
            "Training Data Successfully Converted: 2015_03938.jpg.xml\t90\n",
            "Training Data Successfully Converted: 2015_03238.jpg.xml\t91\n",
            "Training Data Successfully Converted: 2015_05988.jpg.xml\t92\n",
            "Training Data Successfully Converted: 2015_00746.jpg.xml\t93\n",
            "Training Data Successfully Converted: 2015_03151.jpg.xml\t94\n",
            "Training Data Successfully Converted: 2015_00055.jpg.xml\t95\n",
            "Training Data Successfully Converted: 2015_05120.jpg.xml\t96\n",
            "Training Data Successfully Converted: 2015_06318.jpg.xml\t97\n",
            "Training Data Successfully Converted: 2015_00107.jpg.xml\t98\n",
            "Training Data Successfully Converted: 2015_03286.jpg.xml\t99\n",
            "Training Data Successfully Converted: 2015_00131.jpg.xml\t100\n",
            "Training Data Successfully Converted: 2015_00212.jpg.xml\t101\n",
            "Training Data Successfully Converted: 2015_00874.jpg.xml\t102\n",
            "Training Data Successfully Converted: 2015_05911.jpg.xml\t103\n",
            "Training Data Successfully Converted: 2015_05855.jpg.xml\t104\n",
            "Training Data Successfully Converted: 2015_00654.jpg.xml\t105\n",
            "Training Data Successfully Converted: 2015_02517.jpg.xml\t106\n",
            "Training Data Successfully Converted: 2015_03874.jpg.xml\t107\n",
            "Training Data Successfully Converted: 2015_05969.jpg.xml\t108\n",
            "Training Data Successfully Converted: 2015_03205.jpg.xml\t109\n",
            "Training Data Successfully Converted: 2015_05932.jpg.xml\t110\n",
            "Training Data Successfully Converted: 2015_05980.jpg.xml\t111\n",
            "Training Data Successfully Converted: 2015_05178.jpg.xml\t112\n",
            "Training Data Successfully Converted: 2015_02603.jpg.xml\t113\n",
            "Training Data Successfully Converted: 2015_00720.jpg.xml\t114\n",
            "Training Data Successfully Converted: 2015_05970.jpg.xml\t115\n",
            "Training Data Successfully Converted: 2015_02600.jpg.xml\t116\n",
            "Training Data Successfully Converted: 2015_05041.jpg.xml\t117\n",
            "Training Data Successfully Converted: 2015_01580.jpg.xml\t118\n",
            "Training Data Successfully Converted: 2015_06358.jpg.xml\t119\n",
            "Training Data Successfully Converted: 2015_00013.jpg.xml\t120\n",
            "Training Data Successfully Converted: 2015_06249.jpg.xml\t121\n",
            "Training Data Successfully Converted: 2015_06271.jpg.xml\t122\n",
            "Training Data Successfully Converted: 2015_05804.jpg.xml\t123\n",
            "Training Data Successfully Converted: 2015_03195.jpg.xml\t124\n",
            "Training Data Successfully Converted: 2015_06395.jpg.xml\t125\n",
            "Training Data Successfully Converted: 2015_06998.jpg.xml\t126\n",
            "Training Data Successfully Converted: 2015_05148.jpg.xml\t127\n",
            "Training Data Successfully Converted: 2015_03159.jpg.xml\t128\n",
            "Training Data Successfully Converted: 2015_02452.jpg.xml\t129\n",
            "Training Data Successfully Converted: 2015_02597.jpg.xml\t130\n",
            "Training Data Successfully Converted: 2015_02461.jpg.xml\t131\n",
            "Training Data Successfully Converted: 2015_02409.jpg.xml\t132\n",
            "Training Data Successfully Converted: 2015_06366.jpg.xml\t133\n",
            "Training Data Successfully Converted: 2015_02063.jpg.xml\t134\n",
            "Training Data Successfully Converted: 2015_03082.jpg.xml\t135\n",
            "Training Data Successfully Converted: 2015_06248.jpg.xml\t136\n",
            "Training Data Successfully Converted: 2015_06394.jpg.xml\t137\n",
            "Training Data Successfully Converted: 2015_05056.jpg.xml\t138\n",
            "Training Data Successfully Converted: 2015_00716.jpg.xml\t139\n",
            "Training Data Successfully Converted: 2015_02423.jpg.xml\t140\n",
            "Training Data Successfully Converted: 2015_00880.jpg.xml\t141\n",
            "Training Data Successfully Converted: 2015_02040.jpg.xml\t142\n",
            "Training Data Successfully Converted: 2015_05922.jpg.xml\t143\n",
            "Training Data Successfully Converted: 2015_00089.jpg.xml\t144\n",
            "Training Data Successfully Converted: 2015_07088.jpg.xml\t145\n",
            "Training Data Successfully Converted: 2015_03966.jpg.xml\t146\n",
            "Training Data Successfully Converted: 2015_00890.jpg.xml\t147\n",
            "Training Data Successfully Converted: 2015_05848.jpg.xml\t148\n",
            "Training Data Successfully Converted: 2015_00067.jpg.xml\t149\n",
            "Training Data Successfully Converted: 2015_02590.jpg.xml\t150\n",
            "Training Data Successfully Converted: 2015_02102.jpg.xml\t151\n",
            "Training Data Successfully Converted: 2015_03273.jpg.xml\t152\n",
            "Training Data Successfully Converted: 2015_00807.jpg.xml\t153\n",
            "Training Data Successfully Converted: 2015_02642.JPG.xml\t154\n",
            "Training Data Successfully Converted: 2015_03136.jpg.xml\t155\n",
            "Training Data Successfully Converted: 2015_04956.jpg.xml\t156\n",
            "Training Data Successfully Converted: 2015_00686.jpg.xml\t157\n",
            "Training Data Successfully Converted: 2015_00719.jpg.xml\t158\n",
            "Training Data Successfully Converted: 2015_01950.jpg.xml\t159\n",
            "Training Data Successfully Converted: 2015_00168.jpg.xml\t160\n",
            "Training Data Successfully Converted: 2015_02455.jpg.xml\t161\n",
            "Training Data Successfully Converted: 2015_00877.jpg.xml\t162\n",
            "Training Data Successfully Converted: 2015_05921.jpg.xml\t163\n",
            "Training Data Successfully Converted: 2015_00087.jpg.xml\t164\n",
            "Training Data Successfully Converted: 2015_01971.jpg.xml\t165\n",
            "Training Data Successfully Converted: 2015_06380.jpg.xml\t166\n",
            "Training Data Successfully Converted: 2015_02570.jpg.xml\t167\n",
            "Training Data Successfully Converted: 2015_02647.JPG.xml\t168\n",
            "Training Data Successfully Converted: 2015_05172.jpg.xml\t169\n",
            "Training Data Successfully Converted: 2015_05929.jpg.xml\t170\n",
            "Training Data Successfully Converted: 2015_00106.jpg.xml\t171\n",
            "Training Data Successfully Converted: 2015_04983.jpg.xml\t172\n",
            "Training Data Successfully Converted: 2015_00804.jpg.xml\t173\n",
            "Training Data Successfully Converted: 2015_06428.jpg.xml\t174\n",
            "Training Data Successfully Converted: 2015_03235.jpg.xml\t175\n",
            "Training Data Successfully Converted: 2015_02118.jpg.xml\t176\n",
            "Training Data Successfully Converted: 2015_05958.jpg.xml\t177\n",
            "Training Data Successfully Converted: 2015_02043.jpg.xml\t178\n",
            "Training Data Successfully Converted: 2015_05959.jpg.xml\t179\n",
            "Training Data Successfully Converted: 2015_02117.jpg.xml\t180\n",
            "Training Data Successfully Converted: 2015_05847.jpg.xml\t181\n",
            "Training Data Successfully Converted: 2015_05843.jpg.xml\t182\n",
            "Training Data Successfully Converted: 2015_03833.jpg.xml\t183\n",
            "Training Data Successfully Converted: 2015_00739.jpg.xml\t184\n",
            "Training Data Successfully Converted: 2015_03062.jpg.xml\t185\n",
            "Training Data Successfully Converted: 2015_02634.jpg.xml\t186\n",
            "Training Data Successfully Converted: 2015_01493.jpg.xml\t187\n",
            "Training Data Successfully Converted: 2015_03144.jpg.xml\t188\n",
            "Training Data Successfully Converted: 2015_01466.jpg.xml\t189\n",
            "Training Data Successfully Converted: 2015_02413.jpg.xml\t190\n",
            "Training Data Successfully Converted: 2015_05161.jpg.xml\t191\n",
            "Training Data Successfully Converted: 2015_05176.jpg.xml\t192\n",
            "Training Data Successfully Converted: 2015_02470.jpg.xml\t193\n",
            "Training Data Successfully Converted: 2015_05143.jpg.xml\t194\n",
            "Training Data Successfully Converted: 2015_00887.jpg.xml\t195\n",
            "Training Data Successfully Converted: 2015_07069.jpg.xml\t196\n",
            "Training Data Successfully Converted: 2015_01966.jpg.xml\t197\n",
            "Training Data Successfully Converted: 2015_05941.jpg.xml\t198\n",
            "Training Data Successfully Converted: 2015_06302.jpg.xml\t199\n",
            "Training Data Successfully Converted: 2015_02007.jpg.xml\t200\n",
            "Training Data Successfully Converted: 2015_00701.jpg.xml\t201\n",
            "Training Data Successfully Converted: 2015_05877.jpg.xml\t202\n",
            "Training Data Successfully Converted: 2015_01355.jpg.xml\t203\n",
            "Training Data Successfully Converted: 2015_00080.jpg.xml\t204\n",
            "Training Data Successfully Converted: 2015_03103.jpg.xml\t205\n",
            "Training Data Successfully Converted: 2015_02632.jpg.xml\t206\n",
            "Training Data Successfully Converted: 2015_05816.jpg.xml\t207\n",
            "Training Data Successfully Converted: 2015_00734.jpg.xml\t208\n",
            "Training Data Successfully Converted: 2015_00120.jpg.xml\t209\n",
            "Training Data Successfully Converted: 2015_02619.JPEG.xml\t210\n",
            "Training Data Successfully Converted: 2015_05147.jpg.xml\t211\n",
            "Training Data Successfully Converted: 2015_02508.jpg.xml\t212\n",
            "Training Data Successfully Converted: 2015_06419.jpg.xml\t213\n",
            "Training Data Successfully Converted: 2015_06397.jpg.xml\t214\n",
            "Training Data Successfully Converted: 2015_03883.jpg.xml\t215\n",
            "Training Data Successfully Converted: 2015_05821.jpg.xml\t216\n",
            "Training Data Successfully Converted: 2015_02004.jpg.xml\t217\n",
            "Training Data Successfully Converted: 2015_05002.jpg.xml\t218\n",
            "Training Data Successfully Converted: 2015_00724.jpg.xml\t219\n",
            "Training Data Successfully Converted: 2015_04978.jpg.xml\t220\n",
            "Training Data Successfully Converted: 2015_01945.jpg.xml\t221\n",
            "Training Data Successfully Converted: 2015_00114.jpg.xml\t222\n",
            "Training Data Successfully Converted: 2015_01901.jpg.xml\t223\n",
            "Training Data Successfully Converted: 2015_05883.jpg.xml\t224\n",
            "Training Data Successfully Converted: 2015_00717.jpg.xml\t225\n",
            "Training Data Successfully Converted: 2015_00125.jpg.xml\t226\n",
            "Training Data Successfully Converted: 2015_03268.jpg.xml\t227\n",
            "Training Data Successfully Converted: 2015_06335.jpg.xml\t228\n",
            "Training Data Successfully Converted: 2015_00190.jpg.xml\t229\n",
            "Training Data Successfully Converted: 2015_05976.jpg.xml\t230\n",
            "Training Data Successfully Converted: 2015_00844.jpg.xml\t231\n",
            "Training Data Successfully Converted: 2015_00802.jpg.xml\t232\n",
            "Training Data Successfully Converted: 2015_02110.jpg.xml\t233\n",
            "Training Data Successfully Converted: 2015_02424.jpg.xml\t234\n",
            "Training Data Successfully Converted: 2015_01906.jpg.xml\t235\n",
            "Training Data Successfully Converted: 2015_00866.jpg.xml\t236\n",
            "Training Data Successfully Converted: 2015_02484.jpg.xml\t237\n",
            "Training Data Successfully Converted: 2015_00884.jpg.xml\t238\n",
            "Training Data Successfully Converted: 2015_05901.jpg.xml\t239\n",
            "Training Data Successfully Converted: 2015_04964.jpg.xml\t240\n",
            "Training Data Successfully Converted: 2015_06894.jpg.xml\t241\n",
            "Training Data Successfully Converted: 2015_05956.jpg.xml\t242\n",
            "Training Data Successfully Converted: 2015_04515.jpg.xml\t243\n",
            "Training Data Successfully Converted: 2015_05895.jpg.xml\t244\n",
            "Training Data Successfully Converted: 2015_05027.jpg.xml\t245\n",
            "Training Data Successfully Converted: 2015_03070.jpg.xml\t246\n",
            "Training Data Successfully Converted: 2015_05030.jpg.xml\t247\n",
            "Training Data Successfully Converted: 2015_02537.jpg.xml\t248\n",
            "Training Data Successfully Converted: 2015_05036.jpg.xml\t249\n",
            "Training Data Successfully Converted: 2015_00713.jpg.xml\t250\n",
            "Training Data Successfully Converted: 2015_05871.jpg.xml\t251\n",
            "Training Data Successfully Converted: 2015_00205.jpg.xml\t252\n",
            "Training Data Successfully Converted: 2015_02081.jpg.xml\t253\n",
            "Training Data Successfully Converted: 2015_00215.jpg.xml\t254\n",
            "Training Data Successfully Converted: 2015_05781.jpg.xml\t255\n",
            "Training Data Successfully Converted: 2015_02468.jpg.xml\t256\n",
            "Training Data Successfully Converted: 2015_00192.jpg.xml\t257\n",
            "Training Data Successfully Converted: 2015_06282.jpg.xml\t258\n",
            "Training Data Successfully Converted: 2015_01448.jpg.xml\t259\n",
            "Training Data Successfully Converted: 2015_00160.jpg.xml\t260\n",
            "Training Data Successfully Converted: 2015_01952.jpg.xml\t261\n",
            "Training Data Successfully Converted: 2015_05867.jpg.xml\t262\n",
            "Training Data Successfully Converted: 2015_05820.jpg.xml\t263\n",
            "Training Data Successfully Converted: 2015_04986.jpg.xml\t264\n",
            "Training Data Successfully Converted: 2015_00832.jpg.xml\t265\n",
            "Training Data Successfully Converted: 2015_00803.jpg.xml\t266\n",
            "Training Data Successfully Converted: 2015_02474.jpg.xml\t267\n",
            "Training Data Successfully Converted: 2015_05766.jpg.xml\t268\n",
            "Training Data Successfully Converted: 2015_02618.JPEG.xml\t269\n",
            "Training Data Successfully Converted: 2015_00860.jpg.xml\t270\n",
            "Training Data Successfully Converted: 2015_05946.jpg.xml\t271\n",
            "Training Data Successfully Converted: 2015_00668.jpg.xml\t272\n",
            "Training Data Successfully Converted: 2015_00182.jpg.xml\t273\n",
            "Training Data Successfully Converted: 2015_05863.jpg.xml\t274\n",
            "Training Data Successfully Converted: 2015_00090.jpg.xml\t275\n",
            "Training Data Successfully Converted: 2015_02018.jpg.xml\t276\n",
            "Training Data Successfully Converted: 2015_01926.jpg.xml\t277\n",
            "Training Data Successfully Converted: 2015_05832.jpg.xml\t278\n",
            "Training Data Successfully Converted: 2015_05015.jpg.xml\t279\n",
            "Training Data Successfully Converted: 2015_00841.jpg.xml\t280\n",
            "Training Data Successfully Converted: 2015_00178.jpg.xml\t281\n",
            "Training Data Successfully Converted: 2015_02126.jpg.xml\t282\n",
            "Training Data Successfully Converted: 2015_01388.jpg.xml\t283\n",
            "Training Data Successfully Converted: 2015_00137.jpg.xml\t284\n",
            "Training Data Successfully Converted: 2015_00870.jpg.xml\t285\n",
            "Training Data Successfully Converted: 2015_03099.jpg.xml\t286\n",
            "Training Data Successfully Converted: 2015_04988.jpg.xml\t287\n",
            "Training Data Successfully Converted: 2015_00810.jpg.xml\t288\n",
            "Training Data Successfully Converted: 2015_00821.jpg.xml\t289\n",
            "Training Data Successfully Converted: 2015_00854.jpg.xml\t290\n",
            "Training Data Successfully Converted: 2015_05983.jpg.xml\t291\n",
            "Training Data Successfully Converted: 2015_00786.jpg.xml\t292\n",
            "Training Data Successfully Converted: 2015_03147.jpg.xml\t293\n",
            "Training Data Successfully Converted: 2015_01430.jpg.xml\t294\n",
            "Training Data Successfully Converted: 2015_02558.jpg.xml\t295\n",
            "Training Data Successfully Converted: 2015_02507.jpg.xml\t296\n",
            "Training Data Successfully Converted: 2015_05789.jpg.xml\t297\n",
            "Training Data Successfully Converted: 2015_03282.jpg.xml\t298\n",
            "Training Data Successfully Converted: 2015_03196.jpg.xml\t299\n",
            "Training Data Successfully Converted: 2015_02021.jpg.xml\t300\n",
            "Training Data Successfully Converted: 2015_03854.jpg.xml\t301\n",
            "Training Data Successfully Converted: 2015_05975.jpg.xml\t302\n",
            "Training Data Successfully Converted: 2015_05791.jpg.xml\t303\n",
            "Training Data Successfully Converted: 2015_01974.jpg.xml\t304\n",
            "Training Data Successfully Converted: 2015_03818.jpg.xml\t305\n",
            "Training Data Successfully Converted: 2015_03986.jpg.xml\t306\n",
            "Training Data Successfully Converted: 2015_05135.jpg.xml\t307\n",
            "Training Data Successfully Converted: 2015_00023.jpg.xml\t308\n",
            "Training Data Successfully Converted: 2015_05957.jpg.xml\t309\n",
            "Training Data Successfully Converted: 2015_05868.jpg.xml\t310\n",
            "Training Data Successfully Converted: 2015_02574.jpg.xml\t311\n",
            "Training Data Successfully Converted: 2015_03829.jpg.xml\t312\n",
            "Training Data Successfully Converted: 2015_03794.jpg.xml\t313\n",
            "Training Data Successfully Converted: 2015_03080.jpg.xml\t314\n",
            "Training Data Successfully Converted: 2015_03817.jpg.xml\t315\n",
            "Training Data Successfully Converted: 2015_06427.jpg.xml\t316\n",
            "Training Data Successfully Converted: 2015_00769.jpg.xml\t317\n",
            "Training Data Successfully Converted: 2015_02435.jpg.xml\t318\n",
            "Training Data Successfully Converted: 2015_00242.jpg.xml\t319\n",
            "Training Data Successfully Converted: 2015_05851.jpg.xml\t320\n",
            "Training Data Successfully Converted: 2015_05949.jpg.xml\t321\n",
            "Training Data Successfully Converted: 2015_00245.jpg.xml\t322\n",
            "Training Data Successfully Converted: 2015_00046.jpg.xml\t323\n",
            "Training Data Successfully Converted: 2015_03850.jpg.xml\t324\n",
            "Training Data Successfully Converted: 2015_00762.jpg.xml\t325\n",
            "Training Data Successfully Converted: 2015_05185.jpg.xml\t326\n",
            "Training Data Successfully Converted: 2015_02510.jpg.xml\t327\n",
            "Training Data Successfully Converted: 2015_02454.jpg.xml\t328\n",
            "Training Data Successfully Converted: 2015_02607.jpg.xml\t329\n",
            "Training Data Successfully Converted: 2015_05129.jpg.xml\t330\n",
            "Training Data Successfully Converted: 2015_05144.jpg.xml\t331\n",
            "Training Data Successfully Converted: 2015_00016.jpg.xml\t332\n",
            "Training Data Successfully Converted: 2015_05139.jpg.xml\t333\n",
            "Training Data Successfully Converted: 2015_05044.jpg.xml\t334\n",
            "Training Data Successfully Converted: 2015_02631.jpg.xml\t335\n",
            "Training Data Successfully Converted: 2015_00082.jpg.xml\t336\n",
            "Training Data Successfully Converted: 2015_05846.jpg.xml\t337\n",
            "Training Data Successfully Converted: 2015_06325.jpg.xml\t338\n",
            "Training Data Successfully Converted: 2015_00058.jpg.xml\t339\n",
            "Training Data Successfully Converted: 2015_05952.jpg.xml\t340\n",
            "Training Data Successfully Converted: 2015_02563.jpg.xml\t341\n",
            "Training Data Successfully Converted: 2015_00220.jpg.xml\t342\n",
            "Training Data Successfully Converted: 2015_05815.jpg.xml\t343\n",
            "Training Data Successfully Converted: 2015_01569.jpg.xml\t344\n",
            "Training Data Successfully Converted: 2015_00718.jpg.xml\t345\n",
            "Training Data Successfully Converted: 2015_05992.jpg.xml\t346\n",
            "Training Data Successfully Converted: 2015_00771.jpg.xml\t347\n",
            "Training Data Successfully Converted: 2015_07035.jpg.xml\t348\n",
            "Training Data Successfully Converted: 2015_02596.jpg.xml\t349\n",
            "Training Data Successfully Converted: 2015_07017.jpg.xml\t350\n",
            "Training Data Successfully Converted: 2015_03084.jpg.xml\t351\n",
            "Training Data Successfully Converted: 2015_00869.jpg.xml\t352\n",
            "Training Data Successfully Converted: 2015_05823.jpg.xml\t353\n",
            "Training Data Successfully Converted: 2015_03158.jpg.xml\t354\n",
            "Training Data Successfully Converted: 2015_03865.jpg.xml\t355\n",
            "Training Data Successfully Converted: 2015_00102.jpg.xml\t356\n",
            "Training Data Successfully Converted: 2015_06474.jpeg.xml\t357\n",
            "Training Data Successfully Converted: 2015_05942.jpg.xml\t358\n",
            "Training Data Successfully Converted: 2015_00659.jpg.xml\t359\n",
            "Training Data Successfully Converted: 2015_03226.jpg.xml\t360\n",
            "Training Data Successfully Converted: 2015_02439.jpg.xml\t361\n",
            "Training Data Successfully Converted: 2015_00790.jpg.xml\t362\n",
            "Training Data Successfully Converted: 2015_03065.jpg.xml\t363\n",
            "Training Data Successfully Converted: 2015_01379.jpg.xml\t364\n",
            "Training Data Successfully Converted: 2015_05110.jpg.xml\t365\n",
            "Training Data Successfully Converted: 2015_05864.jpg.xml\t366\n",
            "Training Data Successfully Converted: 2015_00767.jpg.xml\t367\n",
            "Training Data Successfully Converted: 2015_02640.jpg.xml\t368\n",
            "Training Data Successfully Converted: 2015_02416.png.xml\t369\n",
            "Training Data Successfully Converted: 2015_05101.jpg.xml\t370\n",
            "Training Data Successfully Converted: 2015_01481.jpg.xml\t371\n",
            "Training Data Successfully Converted: 2015_00669.jpg.xml\t372\n",
            "Training Data Successfully Converted: 2015_00735.jpg.xml\t373\n",
            "Training Data Successfully Converted: 2015_02613.jpg.xml\t374\n",
            "Training Data Successfully Converted: 2015_05767.jpg.xml\t375\n",
            "Training Data Successfully Converted: 2015_01573.jpg.xml\t376\n",
            "Training Data Successfully Converted: 2015_00004.jpg.xml\t377\n",
            "Training Data Successfully Converted: 2015_00073.jpg.xml\t378\n",
            "Training Data Successfully Converted: 2015_03806.jpg.xml\t379\n",
            "Training Data Successfully Converted: 2015_05971.jpg.xml\t380\n",
            "Training Data Successfully Converted: 2015_02561.jpg.xml\t381\n",
            "Training Data Successfully Converted: 2015_00033.jpg.xml\t382\n",
            "Training Data Successfully Converted: 2015_02029.jpg.xml\t383\n",
            "Training Data Successfully Converted: 2015_06417.jpg.xml\t384\n",
            "Training Data Successfully Converted: 2015_02430.jpg.xml\t385\n",
            "Training Data Successfully Converted: 2015_01986.jpg.xml\t386\n",
            "Training Data Successfully Converted: 2015_01937.jpg.xml\t387\n",
            "Training Data Successfully Converted: 2015_02650.JPG.xml\t388\n",
            "Training Data Successfully Converted: 2015_00861.jpg.xml\t389\n",
            "Training Data Successfully Converted: 2015_02536.jpg.xml\t390\n",
            "Training Data Successfully Converted: 2015_02605.jpg.xml\t391\n",
            "Training Data Successfully Converted: 2015_00830.jpg.xml\t392\n",
            "Training Data Successfully Converted: 2015_00679.jpg.xml\t393\n",
            "Training Data Successfully Converted: 2015_05107.jpg.xml\t394\n",
            "Training Data Successfully Converted: 2015_00805.jpg.xml\t395\n",
            "Training Data Successfully Converted: 2015_02566.jpg.xml\t396\n",
            "Training Data Successfully Converted: 2015_00777.jpg.xml\t397\n",
            "Training Data Successfully Converted: 2015_05937.jpg.xml\t398\n",
            "Training Data Successfully Converted: 2015_05795.jpg.xml\t399\n",
            "Training Data Successfully Converted: 2015_03255.jpg.xml\t400\n",
            "Training Data Successfully Converted: 2015_04982.jpg.xml\t401\n",
            "Training Data Successfully Converted: 2015_05162.jpg.xml\t402\n",
            "Training Data Successfully Converted: 2015_01980.jpg.xml\t403\n",
            "Training Data Successfully Converted: 2015_05189.jpg.xml\t404\n",
            "Training Data Successfully Converted: 2015_01917.jpg.xml\t405\n",
            "Training Data Successfully Converted: 2015_02449.jpg.xml\t406\n",
            "Training Data Successfully Converted: 2015_00234.jpg.xml\t407\n",
            "Training Data Successfully Converted: 2015_02595.jpg.xml\t408\n",
            "Training Data Successfully Converted: 2015_01994.jpg.xml\t409\n",
            "Training Data Successfully Converted: 2015_02478.jpg.xml\t410\n",
            "Training Data Successfully Converted: 2015_05993.jpg.xml\t411\n",
            "Training Data Successfully Converted: 2015_00808.jpg.xml\t412\n",
            "Training Data Successfully Converted: 2015_01557.jpg.xml\t413\n",
            "Training Data Successfully Converted: 2015_02009.jpg.xml\t414\n",
            "Training Data Successfully Converted: 2015_00051.jpg.xml\t415\n",
            "Training Data Successfully Converted: 2015_02519.jpg.xml\t416\n",
            "Training Data Successfully Converted: 2015_02119.jpg.xml\t417\n",
            "Training Data Successfully Converted: 2015_00706.jpg.xml\t418\n",
            "Training Data Successfully Converted: 2015_00024.JPG.xml\t419\n",
            "Training Data Successfully Converted: 2015_01560.jpg.xml\t420\n",
            "Training Data Successfully Converted: 2015_05066.jpg.xml\t421\n",
            "Training Data Successfully Converted: 2015_03287.jpg.xml\t422\n",
            "Training Data Successfully Converted: 2015_06296.jpg.xml\t423\n",
            "Training Data Successfully Converted: 2015_00727.jpg.xml\t424\n",
            "Training Data Successfully Converted: 2015_02599.jpg.xml\t425\n",
            "Training Data Successfully Converted: 2015_05780.jpg.xml\t426\n",
            "Training Data Successfully Converted: 2015_03941.jpg.xml\t427\n",
            "Training Data Successfully Converted: 2015_02451.jpg.xml\t428\n",
            "Training Data Successfully Converted: 2015_00876.jpg.xml\t429\n",
            "Training Data Successfully Converted: 2015_00233.jpg.xml\t430\n",
            "Training Data Successfully Converted: 2015_01965.jpg.xml\t431\n",
            "Training Data Successfully Converted: 2015_00842.jpg.xml\t432\n",
            "Training Data Successfully Converted: 2015_00813.jpg.xml\t433\n",
            "Training Data Successfully Converted: 2015_02572.jpg.xml\t434\n",
            "Training Data Successfully Converted: 2015_05182.jpg.xml\t435\n",
            "Training Data Successfully Converted: 2015_00714.jpg.xml\t436\n",
            "Training Data Successfully Converted: 2015_02425.jpg.xml\t437\n",
            "Training Data Successfully Converted: 2015_00012.jpg.xml\t438\n",
            "Training Data Successfully Converted: 2015_06974.jpg.xml\t439\n",
            "Training Data Successfully Converted: 2015_04991.jpg.xml\t440\n",
            "Training Data Successfully Converted: 2015_04998.jpg.xml\t441\n",
            "Training Data Successfully Converted: 2015_06261.jpg.xml\t442\n",
            "Training Data Successfully Converted: 2015_02588.jpg.xml\t443\n",
            "Training Data Successfully Converted: 2015_03838.jpg.xml\t444\n",
            "Training Data Successfully Converted: 2015_02547.jpg.xml\t445\n",
            "Training Data Successfully Converted: 2015_02555.jpg.xml\t446\n",
            "Training Data Successfully Converted: 2015_00197.png.xml\t447\n",
            "Training Data Successfully Converted: 2015_06957.jpg.xml\t448\n",
            "Training Data Successfully Converted: 2015_05828.jpg.xml\t449\n",
            "Training Data Successfully Converted: 2015_00895.jpg.xml\t450\n",
            "Training Data Successfully Converted: 2015_05894.jpg.xml\t451\n",
            "Training Data Successfully Converted: 2015_02087.jpg.xml\t452\n",
            "Training Data Successfully Converted: 2015_05981.jpg.xml\t453\n",
            "Training Data Successfully Converted: 2015_00752.jpg.xml\t454\n",
            "Training Data Successfully Converted: 2015_00219.jpg.xml\t455\n",
            "Training Data Successfully Converted: 2015_02113.jpg.xml\t456\n",
            "Training Data Successfully Converted: 2015_04977.jpg.xml\t457\n",
            "Training Data Successfully Converted: 2015_05017.jpg.xml\t458\n",
            "Training Data Successfully Converted: 2015_00671.jpg.xml\t459\n",
            "Training Data Successfully Converted: 2015_03157.jpg.xml\t460\n",
            "Training Data Successfully Converted: 2015_05874.jpg.xml\t461\n",
            "Training Data Successfully Converted: 2015_01992.jpg.xml\t462\n",
            "Training Data Successfully Converted: 2015_00858.jpg.xml\t463\n",
            "Training Data Successfully Converted: 2015_00681.jpg.xml\t464\n",
            "Training Data Successfully Converted: 2015_00199.jpg.xml\t465\n",
            "Training Data Successfully Converted: 2015_00875.jpg.xml\t466\n",
            "Training Data Successfully Converted: 2015_03244.jpg.xml\t467\n",
            "Training Data Successfully Converted: 2015_02609.jpg.xml\t468\n",
            "Training Data Successfully Converted: 2015_02514.jpg.xml\t469\n",
            "Training Data Successfully Converted: 2015_02434.jpg.xml\t470\n",
            "Training Data Successfully Converted: 2015_06308.jpg.xml\t471\n",
            "Training Data Successfully Converted: 2015_05097.jpg.xml\t472\n",
            "Training Data Successfully Converted: 2015_04612.jpg.xml\t473\n",
            "Training Data Successfully Converted: 2015_02612.jpg.xml\t474\n",
            "Training Data Successfully Converted: 2015_00118.jpg.xml\t475\n",
            "Training Data Successfully Converted: 2015_02111.jpg.xml\t476\n",
            "Training Data Successfully Converted: 2015_04969.jpg.xml\t477\n",
            "Training Data Successfully Converted: 2015_02522.jpg.xml\t478\n",
            "Training Data Successfully Converted: 2015_05819.jpg.xml\t479\n",
            "Training Data Successfully Converted: 2015_05773.jpg.xml\t480\n",
            "Training Data Successfully Converted: 2015_03200.jpg.xml\t481\n",
            "Training Data Successfully Converted: 2015_03827.jpg.xml\t482\n",
            "Training Data Successfully Converted: 2015_05974.jpg.xml\t483\n",
            "Training Data Successfully Converted: 2015_01940.jpg.xml\t484\n",
            "Training Data Successfully Converted: 2015_02432.jpg.xml\t485\n",
            "Training Data Successfully Converted: 2015_05759.jpg.xml\t486\n",
            "Training Data Successfully Converted: 2015_00143.jpg.xml\t487\n",
            "Training Data Successfully Converted: 2015_02085.jpg.xml\t488\n",
            "Training Data Successfully Converted: 2015_00899.jpg.xml\t489\n",
            "Training Data Successfully Converted: 2015_01902.jpg.xml\t490\n",
            "Training Data Successfully Converted: 2015_05131.jpg.xml\t491\n",
            "Training Data Successfully Converted: 2015_03964.jpg.xml\t492\n",
            "Training Data Successfully Converted: 2015_05141.jpg.xml\t493\n",
            "Training Data Successfully Converted: 2015_05164.jpg.xml\t494\n",
            "Training Data Successfully Converted: 2015_07041.jpg.xml\t495\n",
            "Training Data Successfully Converted: 2015_02511.jpg.xml\t496\n",
            "Training Data Successfully Converted: 2015_02024.jpg.xml\t497\n",
            "Training Data Successfully Converted: 2015_03983.jpg.xml\t498\n",
            "Training Data Successfully Converted: 2015_02535.jpg.xml\t499\n",
            "Training Data Successfully Converted: 2015_05950.jpg.xml\t500\n",
            "Training Data Successfully Converted: 2015_02020.jpg.xml\t501\n",
            "Training Data Successfully Converted: 2015_00885.jpg.xml\t502\n",
            "Training Data Successfully Converted: 2015_03090.jpg.xml\t503\n",
            "Training Data Successfully Converted: 2015_05103.jpg.xml\t504\n",
            "Training Data Successfully Converted: 2015_02477.jpg.xml\t505\n",
            "Training Data Successfully Converted: 2015_02073.jpg.xml\t506\n",
            "Training Data Successfully Converted: 2015_06252.jpg.xml\t507\n",
            "Training Data Successfully Converted: 2015_04968.jpg.xml\t508\n",
            "Training Data Successfully Converted: 2015_02457.jpg.xml\t509\n",
            "Training Data Successfully Converted: 2015_00047.jpg.xml\t510\n",
            "Training Data Successfully Converted: 2015_00150.jpg.xml\t511\n",
            "Training Data Successfully Converted: 2015_03262.jpg.xml\t512\n",
            "Training Data Successfully Converted: 2015_00189.jpg.xml\t513\n",
            "Training Data Successfully Converted: 2015_02058.jpg.xml\t514\n",
            "Training Data Successfully Converted: 2015_03101.jpg.xml\t515\n",
            "Training Data Successfully Converted: 2015_06259.jpg.xml\t516\n",
            "Training Data Successfully Converted: 2015_01941.jpg.xml\t517\n",
            "Training Data Successfully Converted: 2015_00878.jpg.xml\t518\n",
            "Training Data Successfully Converted: 2015_02549.jpg.xml\t519\n",
            "Training Data Successfully Converted: 2015_00715.jpg.xml\t520\n",
            "Training Data Successfully Converted: 2015_02585.jpg.xml\t521\n",
            "Training Data Successfully Converted: 2015_05192.jpg.xml\t522\n",
            "Training Data Successfully Converted: 2015_05153.jpg.xml\t523\n",
            "Training Data Successfully Converted: 2015_06891.jpg.xml\t524\n",
            "Training Data Successfully Converted: 2015_05893.jpg.xml\t525\n",
            "Training Data Successfully Converted: 2015_03257.jpg.xml\t526\n",
            "Training Data Successfully Converted: 2015_06371.jpg.xml\t527\n",
            "Training Data Successfully Converted: 2015_00674.jpg.xml\t528\n",
            "Training Data Successfully Converted: 2015_05908.jpg.xml\t529\n",
            "Training Data Successfully Converted: 2015_01383.jpg.xml\t530\n",
            "Training Data Successfully Converted: 2015_02445.jpg.xml\t531\n",
            "Training Data Successfully Converted: 2015_01987.jpg.xml\t532\n",
            "Training Data Successfully Converted: 2015_01916.jpg.xml\t533\n",
            "Training Data Successfully Converted: 2015_02008.jpg.xml\t534\n",
            "Training Data Successfully Converted: 2015_02476.jpg.xml\t535\n",
            "Training Data Successfully Converted: 2015_02489.jpg.xml\t536\n",
            "Training Data Successfully Converted: 2015_00692.jpg.xml\t537\n",
            "Training Data Successfully Converted: 2015_01470.jpg.xml\t538\n",
            "Training Data Successfully Converted: 2015_03206.jpg.xml\t539\n",
            "Training Data Successfully Converted: 2015_06353.jpg.xml\t540\n",
            "Training Data Successfully Converted: 2015_00823.jpg.xml\t541\n",
            "Training Data Successfully Converted: 2015_03055.jpg.xml\t542\n",
            "Training Data Successfully Converted: 2015_00799.jpg.xml\t543\n",
            "Training Data Successfully Converted: 2015_05900.jpg.xml\t544\n",
            "Training Data Successfully Converted: 2015_06889.jpg.xml\t545\n",
            "Training Data Successfully Converted: 2015_03179.jpg.xml\t546\n",
            "Training Data Successfully Converted: 2015_00817.jpg.xml\t547\n",
            "Training Data Successfully Converted: 2015_05878.jpg.xml\t548\n",
            "Training Data Successfully Converted: 2015_00174.jpg.xml\t549\n",
            "Training Data Successfully Converted: 2015_02506.jpg.xml\t550\n",
            "Training Data Successfully Converted: 2015_05961.jpg.xml\t551\n",
            "Training Data Successfully Converted: 2015_02546.jpg.xml\t552\n",
            "Training Data Successfully Converted: 2015_06454.jpg.xml\t553\n",
            "Training Data Successfully Converted: 2015_02629.jpg.xml\t554\n",
            "Training Data Successfully Converted: 2015_01995.jpg.xml\t555\n",
            "Training Data Successfully Converted: 2015_02443.jpg.xml\t556\n",
            "Training Data Successfully Converted: 2015_01885.png.xml\t557\n",
            "Training Data Successfully Converted: 2015_05805.jpg.xml\t558\n",
            "Training Data Successfully Converted: 2015_00675.jpg.xml\t559\n",
            "Training Data Successfully Converted: 2015_04528.jpg.xml\t560\n",
            "Training Data Successfully Converted: 2015_06291.jpg.xml\t561\n",
            "Training Data Successfully Converted: 2015_05898.jpg.xml\t562\n",
            "Training Data Successfully Converted: 2015_06342.jpg.xml\t563\n",
            "Training Data Successfully Converted: 2015_06866.jpg.xml\t564\n",
            "Training Data Successfully Converted: 2015_06931.jpg.xml\t565\n",
            "Training Data Successfully Converted: 2015_00064.jpg.xml\t566\n",
            "Training Data Successfully Converted: 2015_06406.jpg.xml\t567\n",
            "Training Data Successfully Converted: 2015_03073.jpg.xml\t568\n",
            "Training Data Successfully Converted: 2015_00662.jpg.xml\t569\n",
            "Training Data Successfully Converted: 2015_02598.jpg.xml\t570\n",
            "Training Data Successfully Converted: 2015_00857.jpg.xml\t571\n",
            "Training Data Successfully Converted: 2015_01956.jpg.xml\t572\n",
            "Training Data Successfully Converted: 2015_02105.jpg.xml\t573\n",
            "Training Data Successfully Converted: 2015_06290.jpg.xml\t574\n",
            "Training Data Successfully Converted: 2015_06966.jpg.xml\t575\n",
            "Training Data Successfully Converted: 2015_06334.jpg.xml\t576\n",
            "Training Data Successfully Converted: 2015_05853.jpg.xml\t577\n",
            "Training Data Successfully Converted: 2015_01452.jpg.xml\t578\n",
            "Training Data Successfully Converted: 2015_02491.jpg.xml\t579\n",
            "Training Data Successfully Converted: 2015_05850.jpg.xml\t580\n",
            "Training Data Successfully Converted: 2015_03167.jpg.xml\t581\n",
            "Training Data Successfully Converted: 2015_01918.jpg.xml\t582\n",
            "Training Data Successfully Converted: 2015_02051.jpg.xml\t583\n",
            "Training Data Successfully Converted: 2015_02060.jpg.xml\t584\n",
            "Training Data Successfully Converted: 2015_06280.jpg.xml\t585\n",
            "Training Data Successfully Converted: 2015_02014.jpg.xml\t586\n",
            "Training Data Successfully Converted: 2015_05154.jpg.xml\t587\n",
            "Training Data Successfully Converted: 2015_00864.jpg.xml\t588\n",
            "Training Data Successfully Converted: 2015_07090.jpg.xml\t589\n",
            "Training Data Successfully Converted: 2015_00829.jpg.xml\t590\n",
            "Training Data Successfully Converted: 2015_05854.jpg.xml\t591\n",
            "Training Data Successfully Converted: 2015_00247.jpg.xml\t592\n",
            "Training Data Successfully Converted: 2015_00691.jpg.xml\t593\n",
            "Training Data Successfully Converted: 2015_06407.jpg.xml\t594\n",
            "Training Data Successfully Converted: 2015_07073.jpg.xml\t595\n",
            "Training Data Successfully Converted: 2015_02093.jpg.xml\t596\n",
            "Training Data Successfully Converted: 2015_06254.jpg.xml\t597\n",
            "Training Data Successfully Converted: 2015_02082.jpg.xml\t598\n",
            "Training Data Successfully Converted: 2015_05094.jpg.xml\t599\n",
            "Training Data Successfully Converted: 2015_00657.jpg.xml\t600\n",
            "Training Data Successfully Converted: 2015_00826.jpg.xml\t601\n",
            "Training Data Successfully Converted: 2015_05860.jpg.xml\t602\n",
            "Training Data Successfully Converted: 2015_01515.jpg.xml\t603\n",
            "Training Data Successfully Converted: 2015_00041.jpg.xml\t604\n",
            "Training Data Successfully Converted: 2015_00158.jpg.xml\t605\n",
            "Training Data Successfully Converted: 2015_02652.JPG.xml\t606\n",
            "Training Data Successfully Converted: 2015_02553.jpg.xml\t607\n",
            "Training Data Successfully Converted: 2015_02496.jpg.xml\t608\n",
            "Training Data Successfully Converted: 2015_01900.jpg.xml\t609\n",
            "Training Data Successfully Converted: 2015_02422.jpg.xml\t610\n",
            "Training Data Successfully Converted: 2015_00135.jpg.xml\t611\n",
            "Training Data Successfully Converted: 2015_06341.jpg.xml\t612\n",
            "Training Data Successfully Converted: 2015_02488.jpg.xml\t613\n",
            "Training Data Successfully Converted: 2015_02441.jpg.xml\t614\n",
            "Training Data Successfully Converted: 2015_04960.jpg.xml\t615\n",
            "Training Data Successfully Converted: 2015_05165.jpg.xml\t616\n",
            "Training Data Successfully Converted: 2015_02061.jpg.xml\t617\n",
            "Training Data Successfully Converted: 2015_01993.jpg.xml\t618\n",
            "Training Data Successfully Converted: 2015_00684.jpg.xml\t619\n",
            "Training Data Successfully Converted: 2015_03094.jpg.xml\t620\n",
            "Training Data Successfully Converted: 2015_02499.jpg.xml\t621\n",
            "Training Data Successfully Converted: 2015_00761.jpg.xml\t622\n",
            "Training Data Successfully Converted: 2015_05181.jpg.xml\t623\n",
            "Training Data Successfully Converted: 2015_02089.jpg.xml\t624\n",
            "Training Data Successfully Converted: 2015_02128.jpg.xml\t625\n",
            "Training Data Successfully Converted: 2015_01490.jpg.xml\t626\n",
            "Training Data Successfully Converted: 2015_00229.jpg.xml\t627\n",
            "Training Data Successfully Converted: 2015_07006.jpg.xml\t628\n",
            "Training Data Successfully Converted: 2015_04509.jpg.xml\t629\n",
            "Training Data Successfully Converted: 2015_00121.jpg.xml\t630\n",
            "Training Data Successfully Converted: 2015_05031.jpg.xml\t631\n",
            "Training Data Successfully Converted: 2015_00077.jpg.xml\t632\n",
            "Training Data Successfully Converted: 2015_02606.jpg.xml\t633\n",
            "Training Data Successfully Converted: 2015_00119.jpg.xml\t634\n",
            "Training Data Successfully Converted: 2015_01575.jpg.xml\t635\n",
            "Training Data Successfully Converted: 2015_03116.jpg.xml\t636\n",
            "Training Data Successfully Converted: 2015_00250.jpg.xml\t637\n",
            "Training Data Successfully Converted: 2015_06272.jpg.xml\t638\n",
            "Training Data Successfully Converted: 2015_05940.jpg.xml\t639\n",
            "Training Data Successfully Converted: 2015_05973.jpg.xml\t640\n",
            "Training Data Successfully Converted: 2015_01553.jpg.xml\t641\n",
            "Training Data Successfully Converted: 2015_05042.jpg.xml\t642\n",
            "Training Data Successfully Converted: 2015_00231.jpg.xml\t643\n",
            "Training Data Successfully Converted: 2015_02463.jpg.xml\t644\n",
            "Training Data Successfully Converted: 2015_05978.jpg.xml\t645\n",
            "Training Data Successfully Converted: 2015_06317.jpg.xml\t646\n",
            "Training Data Successfully Converted: 2015_00788.jpg.xml\t647\n",
            "Training Data Successfully Converted: 2015_01349.jpg.xml\t648\n",
            "Training Data Successfully Converted: 2015_05800.jpg.xml\t649\n",
            "Training Data Successfully Converted: 2015_05070.jpg.xml\t650\n",
            "Training Data Successfully Converted: 2015_06378.jpg.xml\t651\n",
            "Training Data Successfully Converted: 2015_05745.jpg.xml\t652\n",
            "Training Data Successfully Converted: 2015_01951.jpg.xml\t653\n",
            "Training Data Successfully Converted: 2015_00034.jpg.xml\t654\n",
            "Training Data Successfully Converted: 2015_00756.jpg.xml\t655\n",
            "Training Data Successfully Converted: 2015_05787.jpg.xml\t656\n",
            "Training Data Successfully Converted: 2015_03956.jpg.xml\t657\n",
            "Training Data Successfully Converted: 2015_00109.jpg.xml\t658\n",
            "Training Data Successfully Converted: 2015_01978.jpg.xml\t659\n",
            "Training Data Successfully Converted: 2015_05045.jpg.xml\t660\n",
            "Training Data Successfully Converted: 2015_00689.jpg.xml\t661\n",
            "Training Data Successfully Converted: 2015_03934.JPG.xml\t662\n",
            "Training Data Successfully Converted: 2015_00039.jpg.xml\t663\n",
            "Training Data Successfully Converted: 2015_02028.jpg.xml\t664\n",
            "Training Data Successfully Converted: 2015_04470.jpg.xml\t665\n",
            "Training Data Successfully Converted: 2015_01912.jpg.xml\t666\n",
            "Training Data Successfully Converted: 2015_02444.jpg.xml\t667\n",
            "Training Data Successfully Converted: 2015_01957.jpg.xml\t668\n",
            "Training Data Successfully Converted: 2015_00879.jpg.xml\t669\n",
            "Training Data Successfully Converted: 2015_03274.jpg.xml\t670\n",
            "Training Data Successfully Converted: 2015_05090.jpg.xml\t671\n",
            "Training Data Successfully Converted: 2015_05033.jpg.xml\t672\n",
            "Training Data Successfully Converted: 2015_03212.jpg.xml\t673\n",
            "Training Data Successfully Converted: 2015_05943.jpg.xml\t674\n",
            "Training Data Successfully Converted: 2015_02465.jpg.xml\t675\n",
            "Training Data Successfully Converted: 2015_02447.jpg.xml\t676\n",
            "Training Data Successfully Converted: 2015_00056.jpg.xml\t677\n",
            "Training Data Successfully Converted: 2015_00155.jpg.xml\t678\n",
            "Training Data Successfully Converted: 2015_05026.jpg.xml\t679\n",
            "Training Data Successfully Converted: 2015_06327.jpg.xml\t680\n",
            "Training Data Successfully Converted: 2015_03064.jpg.xml\t681\n",
            "Training Data Successfully Converted: 2015_05845.jpg.xml\t682\n",
            "Training Data Successfully Converted: 2015_05083.jpg.xml\t683\n",
            "Training Data Successfully Converted: 2015_02124.jpg.xml\t684\n",
            "Training Data Successfully Converted: 2015_02512.jpg.xml\t685\n",
            "Training Data Successfully Converted: 2015_03058.jpg.xml\t686\n",
            "Training Data Successfully Converted: 2015_03944.jpg.xml\t687\n",
            "Training Data Successfully Converted: 2015_04944.jpg.xml\t688\n",
            "Training Data Successfully Converted: 2015_02645.JPG.xml\t689\n",
            "Training Data Successfully Converted: 2015_05160.jpg.xml\t690\n",
            "Training Data Successfully Converted: 2015_01890.png.xml\t691\n",
            "Training Data Successfully Converted: 2015_05982.jpg.xml\t692\n",
            "Training Data Successfully Converted: 2015_02013.jpg.xml\t693\n",
            "Training Data Successfully Converted: 2015_02623.JPEG.xml\t694\n",
            "Training Data Successfully Converted: 2015_00035.jpg.xml\t695\n",
            "Training Data Successfully Converted: 2015_01930.jpg.xml\t696\n",
            "Training Data Successfully Converted: 2015_06349.jpg.xml\t697\n",
            "Training Data Successfully Converted: 2015_06367.jpg.xml\t698\n",
            "Training Data Successfully Converted: 2015_06351.jpg.xml\t699\n"
          ]
        }
      ]
    },
    {
      "cell_type": "code",
      "source": [
        "# val files\n",
        "i = 0\n",
        "for xml_file in os.listdir(\"/content/sample_data/exdark/Annotations\"):\n",
        "  if not xml_file.endswith(\".xml\"):\n",
        "    print(f\"affix issue: {xml_file}\")\n",
        "    continue\n",
        "  if not (xml_file.split('.')[0] in val_lines):\n",
        "    # print(f\"placement issue: {xml_file}\")\n",
        "    continue\n",
        "  convert_annotation(os.path.join(\"/content/sample_data/exdark/Annotations\", xml_file), \"/content/labels/val/\")\n",
        "  print(f\"Val Data Successfully Converted: {xml_file}\\t{i}\")\n",
        "  i = i + 1"
      ],
      "metadata": {
        "colab": {
          "base_uri": "https://localhost:8080/"
        },
        "collapsed": true,
        "id": "CB9BLu3KTuEs",
        "outputId": "9510f7f3-14a7-4cef-afce-52b310f78ccf"
      },
      "execution_count": null,
      "outputs": [
        {
          "output_type": "stream",
          "name": "stdout",
          "text": [
            "Val Data Successfully Converted: 2015_02152.jpg.xml\t0\n",
            "Val Data Successfully Converted: 2015_06569.jpg.xml\t1\n",
            "Val Data Successfully Converted: 2015_00255.jpg.xml\t2\n",
            "Val Data Successfully Converted: 2015_06006.jpg.xml\t3\n",
            "Val Data Successfully Converted: 2015_02202.jpg.xml\t4\n",
            "Val Data Successfully Converted: 2015_03397.jpg.xml\t5\n",
            "Val Data Successfully Converted: 2015_00393.jpg.xml\t6\n",
            "Val Data Successfully Converted: 2015_00953.jpg.xml\t7\n",
            "Val Data Successfully Converted: 2015_00373.jpg.xml\t8\n",
            "Val Data Successfully Converted: 2015_07197.jpg.xml\t9\n",
            "Val Data Successfully Converted: 2015_04161.jpeg.xml\t10\n",
            "Val Data Successfully Converted: 2015_00922.jpg.xml\t11\n",
            "Val Data Successfully Converted: 2015_06104.jpg.xml\t12\n",
            "Val Data Successfully Converted: 2015_02231.jpg.xml\t13\n",
            "Val Data Successfully Converted: 2015_00270.jpg.xml\t14\n",
            "Val Data Successfully Converted: 2015_03299.jpg.xml\t15\n",
            "Val Data Successfully Converted: 2015_01030.png.xml\t16\n",
            "Val Data Successfully Converted: 2015_00355.jpg.xml\t17\n",
            "Val Data Successfully Converted: 2015_00978.jpg.xml\t18\n",
            "Val Data Successfully Converted: 2015_01042.jpg.xml\t19\n",
            "Val Data Successfully Converted: 2015_02250.jpg.xml\t20\n",
            "Val Data Successfully Converted: 2015_00372.jpg.xml\t21\n",
            "Val Data Successfully Converted: 2015_02701.jpg.xml\t22\n",
            "Val Data Successfully Converted: 2015_02678.jpg.xml\t23\n",
            "Val Data Successfully Converted: 2015_06551.jpg.xml\t24\n",
            "Val Data Successfully Converted: 2015_00967.jpg.xml\t25\n",
            "Val Data Successfully Converted: 2015_02767.jpg.xml\t26\n",
            "Val Data Successfully Converted: 2015_02671.jpg.xml\t27\n",
            "Val Data Successfully Converted: 2015_06049.jpg.xml\t28\n",
            "Val Data Successfully Converted: 2015_03346.jpg.xml\t29\n",
            "Val Data Successfully Converted: 2015_02674.jpg.xml\t30\n",
            "Val Data Successfully Converted: 2015_06082.jpg.xml\t31\n",
            "Val Data Successfully Converted: 2015_06143.jpeg.xml\t32\n",
            "Val Data Successfully Converted: 2015_06125.jpg.xml\t33\n",
            "Val Data Successfully Converted: 2015_02805.jpg.xml\t34\n",
            "Val Data Successfully Converted: 2015_00903.jpg.xml\t35\n",
            "Val Data Successfully Converted: 2015_06117.jpg.xml\t36\n",
            "Val Data Successfully Converted: 2015_06051.jpg.xml\t37\n",
            "Val Data Successfully Converted: 2015_00370.jpg.xml\t38\n",
            "Val Data Successfully Converted: 2015_06608.jpg.xml\t39\n",
            "Val Data Successfully Converted: 2015_06043.jpeg.xml\t40\n",
            "Val Data Successfully Converted: 2015_00369.jpg.xml\t41\n",
            "Val Data Successfully Converted: 2015_06123.jpg.xml\t42\n",
            "Val Data Successfully Converted: 2015_02129.jpg.xml\t43\n",
            "Val Data Successfully Converted: 2015_02740.jpg.xml\t44\n",
            "Val Data Successfully Converted: 2015_06017.jpg.xml\t45\n",
            "Val Data Successfully Converted: 2015_00332.jpg.xml\t46\n",
            "Val Data Successfully Converted: 2015_00905.jpg.xml\t47\n",
            "Val Data Successfully Converted: 2015_02249.jpg.xml\t48\n",
            "Val Data Successfully Converted: 2015_03405.jpg.xml\t49\n",
            "Val Data Successfully Converted: 2015_02697.jpg.xml\t50\n",
            "Val Data Successfully Converted: 2015_06621.jpg.xml\t51\n",
            "Val Data Successfully Converted: 2015_06009.jpg.xml\t52\n",
            "Val Data Successfully Converted: 2015_05314.jpg.xml\t53\n",
            "Val Data Successfully Converted: 2015_06565.jpg.xml\t54\n",
            "Val Data Successfully Converted: 2015_00955.jpg.xml\t55\n",
            "Val Data Successfully Converted: 2015_06011.jpg.xml\t56\n",
            "Val Data Successfully Converted: 2015_06052.jpg.xml\t57\n",
            "Val Data Successfully Converted: 2015_02738.jpg.xml\t58\n",
            "Val Data Successfully Converted: 2015_02706.jpg.xml\t59\n",
            "Val Data Successfully Converted: 2015_01000.jpg.xml\t60\n",
            "Val Data Successfully Converted: 2015_06625.jpg.xml\t61\n",
            "Val Data Successfully Converted: 2015_02149.jpg.xml\t62\n",
            "Val Data Successfully Converted: 2015_05343.jpg.xml\t63\n",
            "Val Data Successfully Converted: 2015_00919.jpg.xml\t64\n",
            "Val Data Successfully Converted: 2015_02135.jpg.xml\t65\n",
            "Val Data Successfully Converted: 2015_00991.jpg.xml\t66\n",
            "Val Data Successfully Converted: 2015_06092.png.xml\t67\n",
            "Val Data Successfully Converted: 2015_02205.jpg.xml\t68\n",
            "Val Data Successfully Converted: 2015_02731.jpg.xml\t69\n",
            "Val Data Successfully Converted: 2015_05217.jpg.xml\t70\n",
            "Val Data Successfully Converted: 2015_01026.jpeg.xml\t71\n",
            "Val Data Successfully Converted: 2015_03298.jpg.xml\t72\n",
            "Val Data Successfully Converted: 2015_00956.jpg.xml\t73\n",
            "Val Data Successfully Converted: 2015_02708.jpg.xml\t74\n",
            "Val Data Successfully Converted: 2015_02201.jpg.xml\t75\n",
            "Val Data Successfully Converted: 2015_02193.jpg.xml\t76\n",
            "Val Data Successfully Converted: 2015_02781.jpg.xml\t77\n",
            "Val Data Successfully Converted: 2015_03395.jpg.xml\t78\n",
            "Val Data Successfully Converted: 2015_05254.jpg.xml\t79\n",
            "Val Data Successfully Converted: 2015_00959.jpg.xml\t80\n",
            "Val Data Successfully Converted: 2015_02258.jpg.xml\t81\n",
            "Val Data Successfully Converted: 2015_06134.jpg.xml\t82\n",
            "Val Data Successfully Converted: 2015_00946.jpg.xml\t83\n",
            "Val Data Successfully Converted: 2015_02780.jpg.xml\t84\n",
            "Val Data Successfully Converted: 2015_02188.jpg.xml\t85\n",
            "Val Data Successfully Converted: 2015_06067.jpg.xml\t86\n",
            "Val Data Successfully Converted: 2015_05203.jpg.xml\t87\n",
            "Val Data Successfully Converted: 2015_00354.jpg.xml\t88\n",
            "Val Data Successfully Converted: 2015_02134.jpg.xml\t89\n",
            "Val Data Successfully Converted: 2015_00267.jpg.xml\t90\n",
            "Val Data Successfully Converted: 2015_00281.jpg.xml\t91\n",
            "Val Data Successfully Converted: 2015_05276.jpg.xml\t92\n",
            "Val Data Successfully Converted: 2015_06541.jpg.xml\t93\n",
            "Val Data Successfully Converted: 2015_00362.jpg.xml\t94\n",
            "Val Data Successfully Converted: 2015_00377.jpg.xml\t95\n",
            "Val Data Successfully Converted: 2015_00392.jpg.xml\t96\n",
            "Val Data Successfully Converted: 2015_01023.jpg.xml\t97\n",
            "Val Data Successfully Converted: 2015_00909.jpg.xml\t98\n",
            "Val Data Successfully Converted: 2015_06026.jpg.xml\t99\n"
          ]
        }
      ]
    },
    {
      "cell_type": "code",
      "source": [
        "# test files\n",
        "i = 0\n",
        "for xml_file in os.listdir(\"/content/sample_data/exdark/Annotations\"):\n",
        "  if not xml_file.endswith(\".xml\"):\n",
        "    print(f\"affix issue: {xml_file}\")\n",
        "    continue\n",
        "  if not (xml_file.split('.')[0] in test_lines):\n",
        "    # print(f\"placement issue: {xml_file}\")\n",
        "    continue\n",
        "  convert_annotation(os.path.join(\"/content/sample_data/exdark/Annotations\", xml_file), \"/content/labels/test/\")\n",
        "  print(f\"Test Data Successfully Converted: {xml_file}\\t{i}\")\n",
        "  i = i + 1"
      ],
      "metadata": {
        "colab": {
          "base_uri": "https://localhost:8080/"
        },
        "id": "-Uje_zUFiXcA",
        "outputId": "8450ffa2-0d47-49a2-aecd-6768180f4129"
      },
      "execution_count": null,
      "outputs": [
        {
          "output_type": "stream",
          "name": "stdout",
          "text": [
            "Test Data Successfully Converted: 2015_02290.jpg.xml\t0\n",
            "Test Data Successfully Converted: 2015_01329.jpg.xml\t1\n",
            "Test Data Successfully Converted: 2015_01074.jpg.xml\t2\n",
            "Test Data Successfully Converted: 2015_05483.jpg.xml\t3\n",
            "Test Data Successfully Converted: 2015_03015.png.xml\t4\n",
            "Test Data Successfully Converted: 2015_04241.jpg.xml\t5\n",
            "Test Data Successfully Converted: 2015_02855.jpg.xml\t6\n",
            "Test Data Successfully Converted: 2015_06851.jpg.xml\t7\n",
            "Test Data Successfully Converted: 2015_03020.png.xml\t8\n",
            "Test Data Successfully Converted: 2015_05457.jpg.xml\t9\n",
            "Test Data Successfully Converted: 2015_03442.jpg.xml\t10\n",
            "Test Data Successfully Converted: 2015_00641.jpg.xml\t11\n",
            "Test Data Successfully Converted: 2015_06245.jpg.xml\t12\n",
            "Test Data Successfully Converted: 2015_01840.jpg.xml\t13\n",
            "Test Data Successfully Converted: 2015_06739.jpg.xml\t14\n",
            "Test Data Successfully Converted: 2015_07255.jpg.xml\t15\n",
            "Test Data Successfully Converted: 2015_06164.jpg.xml\t16\n",
            "Test Data Successfully Converted: 2015_01175.jpeg.xml\t17\n",
            "Test Data Successfully Converted: 2015_01080.jpg.xml\t18\n",
            "Test Data Successfully Converted: 2015_01131.jpg.xml\t19\n",
            "Test Data Successfully Converted: 2015_01245.jpg.xml\t20\n",
            "Test Data Successfully Converted: 2015_02837.jpg.xml\t21\n",
            "Test Data Successfully Converted: 2015_02953.jpg.xml\t22\n",
            "Test Data Successfully Converted: 2015_01270.jpg.xml\t23\n",
            "Test Data Successfully Converted: 2015_01322.png.xml\t24\n",
            "Test Data Successfully Converted: 2015_02814.jpg.xml\t25\n",
            "Test Data Successfully Converted: 2015_05497.jpeg.xml\t26\n",
            "Test Data Successfully Converted: 2015_00561.jpg.xml\t27\n",
            "Test Data Successfully Converted: 2015_05733.jpg.xml\t28\n",
            "Test Data Successfully Converted: 2015_07281.jpg.xml\t29\n",
            "Test Data Successfully Converted: 2015_01129.jpg.xml\t30\n",
            "Test Data Successfully Converted: 2015_00451.jpg.xml\t31\n",
            "Test Data Successfully Converted: 2015_00422.jpg.xml\t32\n",
            "Test Data Successfully Converted: 2015_06781.jpg.xml\t33\n",
            "Test Data Successfully Converted: 2015_05459.jpg.xml\t34\n",
            "Test Data Successfully Converted: 2015_01180.jpeg.xml\t35\n",
            "Test Data Successfully Converted: 2015_06239.png.xml\t36\n",
            "Test Data Successfully Converted: 2015_01230.jpg.xml\t37\n",
            "Test Data Successfully Converted: 2015_03007.png.xml\t38\n",
            "Test Data Successfully Converted: 2015_06717.jpg.xml\t39\n",
            "Test Data Successfully Converted: 2015_00482.jpg.xml\t40\n",
            "Test Data Successfully Converted: 2015_05617.jpg.xml\t41\n",
            "Test Data Successfully Converted: 2015_05455.jpg.xml\t42\n",
            "Test Data Successfully Converted: 2015_06689.jpg.xml\t43\n",
            "Test Data Successfully Converted: 2015_00476.jpg.xml\t44\n",
            "Test Data Successfully Converted: 2015_00632.jpg.xml\t45\n",
            "Test Data Successfully Converted: 2015_00453.jpg.xml\t46\n",
            "Test Data Successfully Converted: 2015_00621.jpg.xml\t47\n",
            "Test Data Successfully Converted: 2015_03740.png.xml\t48\n",
            "Test Data Successfully Converted: 2015_00488.jpg.xml\t49\n",
            "Test Data Successfully Converted: 2015_00548.jpg.xml\t50\n",
            "Test Data Successfully Converted: 2015_02304.jpg.xml\t51\n",
            "Test Data Successfully Converted: 2015_02970.jpg.xml\t52\n",
            "Test Data Successfully Converted: 2015_01851.jpg.xml\t53\n",
            "Test Data Successfully Converted: 2015_01118.jpg.xml\t54\n",
            "Test Data Successfully Converted: 2015_02892.jpg.xml\t55\n",
            "Test Data Successfully Converted: 2015_02882.jpg.xml\t56\n",
            "Test Data Successfully Converted: 2015_02364.jpg.xml\t57\n",
            "Test Data Successfully Converted: 2015_05691.png.xml\t58\n",
            "Test Data Successfully Converted: 2015_06165.jpg.xml\t59\n",
            "Test Data Successfully Converted: 2015_00484.jpg.xml\t60\n",
            "Test Data Successfully Converted: 2015_02806.jpg.xml\t61\n",
            "Test Data Successfully Converted: 2015_02299.jpg.xml\t62\n",
            "Test Data Successfully Converted: 2015_01143.jpg.xml\t63\n",
            "Test Data Successfully Converted: 2015_06171.jpg.xml\t64\n",
            "Test Data Successfully Converted: 2015_02817.jpg.xml\t65\n",
            "Test Data Successfully Converted: 2015_06225.png.xml\t66\n",
            "Test Data Successfully Converted: 2015_00508.jpg.xml\t67\n",
            "Test Data Successfully Converted: 2015_01209.jpg.xml\t68\n",
            "Test Data Successfully Converted: 2015_01298.jpg.xml\t69\n",
            "Test Data Successfully Converted: 2015_02868.jpeg.xml\t70\n",
            "Test Data Successfully Converted: 2015_01145.jpg.xml\t71\n",
            "Test Data Successfully Converted: 2015_02920.jpg.xml\t72\n",
            "Test Data Successfully Converted: 2015_02310.jpg.xml\t73\n",
            "Test Data Successfully Converted: 2015_06749.jpg.xml\t74\n",
            "Test Data Successfully Converted: 2015_01116.jpg.xml\t75\n",
            "Test Data Successfully Converted: 2015_03644.png.xml\t76\n",
            "Test Data Successfully Converted: 2015_02982.jpg.xml\t77\n",
            "Test Data Successfully Converted: 2015_01222.jpg.xml\t78\n",
            "Test Data Successfully Converted: 2015_03578.jpg.xml\t79\n",
            "Test Data Successfully Converted: 2015_07279.jpg.xml\t80\n",
            "Test Data Successfully Converted: 2015_01269.jpg.xml\t81\n",
            "Test Data Successfully Converted: 2015_02981.jpg.xml\t82\n",
            "Test Data Successfully Converted: 2015_01325.png.xml\t83\n",
            "Test Data Successfully Converted: 2015_00630.jpg.xml\t84\n",
            "Test Data Successfully Converted: 2015_02860.jpg.xml\t85\n",
            "Test Data Successfully Converted: 2015_01139.jpg.xml\t86\n",
            "Test Data Successfully Converted: 2015_00493.jpg.xml\t87\n",
            "Test Data Successfully Converted: 2015_02358.jpeg.xml\t88\n",
            "Test Data Successfully Converted: 2015_06707.jpg.xml\t89\n",
            "Test Data Successfully Converted: 2015_05432.jpg.xml\t90\n",
            "Test Data Successfully Converted: 2015_00408.jpg.xml\t91\n",
            "Test Data Successfully Converted: 2015_07340.png.xml\t92\n",
            "Test Data Successfully Converted: 2015_01244.jpg.xml\t93\n",
            "Test Data Successfully Converted: 2015_02279.jpg.xml\t94\n",
            "Test Data Successfully Converted: 2015_02303.jpg.xml\t95\n",
            "Test Data Successfully Converted: 2015_06180.jpg.xml\t96\n",
            "Test Data Successfully Converted: 2015_01280.jpg.xml\t97\n",
            "Test Data Successfully Converted: 2015_02852.jpg.xml\t98\n",
            "Test Data Successfully Converted: 2015_00599.jpg.xml\t99\n"
          ]
        }
      ]
    },
    {
      "cell_type": "code",
      "source": [
        "#!rm -rf /content/labels"
      ],
      "metadata": {
        "id": "csWW75KLPaSt"
      },
      "execution_count": null,
      "outputs": []
    },
    {
      "cell_type": "markdown",
      "source": [
        "#### Images Copying"
      ],
      "metadata": {
        "id": "eOUUCMmDWlBm"
      }
    },
    {
      "cell_type": "code",
      "source": [
        "import shutil"
      ],
      "metadata": {
        "id": "hduhWNdyarEZ"
      },
      "execution_count": null,
      "outputs": []
    },
    {
      "cell_type": "code",
      "source": [
        "os.makedirs('/content/images/train', exist_ok=True)\n",
        "os.makedirs('/content/images/val', exist_ok=True)\n",
        "os.makedirs('/content/images/test', exist_ok=True)"
      ],
      "metadata": {
        "id": "A29V_bmZWny9"
      },
      "execution_count": null,
      "outputs": []
    },
    {
      "cell_type": "code",
      "source": [
        "total = os.listdir(\"/content/exdark_outdoor700/JPEGImages\")"
      ],
      "metadata": {
        "id": "EAfmci3jQ526"
      },
      "execution_count": null,
      "outputs": []
    },
    {
      "cell_type": "code",
      "source": [
        "# training\n",
        "for img in total:\n",
        "  img_tc = img.split('.')[0]\n",
        "  if img_tc in train_lines:\n",
        "    src_path = os.path.join(\"/content/exdark_outdoor700/JPEGImages\", img)\n",
        "    dest_path = \"/content/images/train\"\n",
        "\n",
        "    shutil.copy2(src_path, dest_path)"
      ],
      "metadata": {
        "id": "_Us7T-TsXccn"
      },
      "execution_count": null,
      "outputs": []
    },
    {
      "cell_type": "code",
      "source": [
        "total = os.listdir(\"/content/sample_data/exdark/JPEGImages\")"
      ],
      "metadata": {
        "id": "DIzt2Vpg9zre"
      },
      "execution_count": null,
      "outputs": []
    },
    {
      "cell_type": "code",
      "source": [
        "# val\n",
        "for img in total:\n",
        "  img_tc = img.split('.')[0]\n",
        "  if img_tc in val_lines:\n",
        "    src_path = os.path.join(\"/content/sample_data/exdark/JPEGImages\", img)\n",
        "    dest_path = \"/content/images/val\"\n",
        "\n",
        "    shutil.copy2(src_path, dest_path)"
      ],
      "metadata": {
        "id": "IFvkhXbSbOwf"
      },
      "execution_count": null,
      "outputs": []
    },
    {
      "cell_type": "code",
      "source": [
        "# test\n",
        "for img in total:\n",
        "  img_tc = img.split('.')[0]\n",
        "  if img_tc in test_lines:\n",
        "    src_path = os.path.join(\"/content/sample_data/exdark/JPEGImages\", img)\n",
        "    dest_path = \"/content/images/test\"\n",
        "\n",
        "    shutil.copy2(src_path, dest_path)"
      ],
      "metadata": {
        "id": "u5hB31gzjTzp"
      },
      "execution_count": null,
      "outputs": []
    },
    {
      "cell_type": "code",
      "source": [
        "len(os.listdir(\"/content/images/train\"))"
      ],
      "metadata": {
        "colab": {
          "base_uri": "https://localhost:8080/"
        },
        "collapsed": true,
        "id": "Oeh3lPK1SR46",
        "outputId": "cb83d8eb-7b75-4785-84f8-2231701d7eca"
      },
      "execution_count": null,
      "outputs": [
        {
          "output_type": "execute_result",
          "data": {
            "text/plain": [
              "700"
            ]
          },
          "metadata": {},
          "execution_count": 27
        }
      ]
    },
    {
      "cell_type": "markdown",
      "source": [
        "#### Create .ymal file"
      ],
      "metadata": {
        "id": "wzy5V2bObyS3"
      }
    },
    {
      "cell_type": "code",
      "source": [
        "yaml_text = \"\"\"\n",
        "  path: /content\n",
        "  train: images/train\n",
        "  val: images/val\n",
        "\n",
        "\n",
        "  names:\n",
        "    0: Bicycle\n",
        "    1: Boat\n",
        "    2: Bottle\n",
        "    3: Bus\n",
        "    4: Car\n",
        "    5: Cat\n",
        "    6: Chair\n",
        "    7: Cup\n",
        "    8: Dog\n",
        "    9: Motorbike\n",
        "    10: People\n",
        "    11: Table\n",
        "\"\"\""
      ],
      "metadata": {
        "id": "7FhGsScCbvT4"
      },
      "execution_count": null,
      "outputs": []
    },
    {
      "cell_type": "code",
      "source": [
        "with open(\"data.yaml\", \"w+\") as f:\n",
        "    f.write(yaml_text)"
      ],
      "metadata": {
        "id": "LQl9qwPLct3v"
      },
      "execution_count": null,
      "outputs": []
    },
    {
      "cell_type": "code",
      "source": [
        "test_yaml_text = \"\"\"\n",
        "  path: /content\n",
        "  train: images/train\n",
        "  val: images/val\n",
        "  test: images/test\n",
        "  nc: 12\n",
        "  names:\n",
        "    0: Bicycle\n",
        "    1: Boat\n",
        "    2: Bottle\n",
        "    3: Bus\n",
        "    4: Car\n",
        "    5: Cat\n",
        "    6: Chair\n",
        "    7: Cup\n",
        "    8: Dog\n",
        "    9: Motorbike\n",
        "    10: People\n",
        "    11: Table\n",
        "\"\"\""
      ],
      "metadata": {
        "id": "H6cgGyXJGiK3"
      },
      "execution_count": null,
      "outputs": []
    },
    {
      "cell_type": "code",
      "source": [
        "with open(\"test_data.yaml\", \"w+\") as f:\n",
        "    f.write(test_yaml_text)"
      ],
      "metadata": {
        "id": "HmSxTlT2Gn_7"
      },
      "execution_count": null,
      "outputs": []
    },
    {
      "cell_type": "code",
      "source": [
        "import torch\n",
        "print(torch.cuda.is_available())"
      ],
      "metadata": {
        "id": "Osd1A4IifWoR",
        "outputId": "cc0cf19d-2992-4577-ef0e-f65e721abcd6",
        "colab": {
          "base_uri": "https://localhost:8080/"
        }
      },
      "execution_count": null,
      "outputs": [
        {
          "output_type": "stream",
          "name": "stdout",
          "text": [
            "True\n"
          ]
        }
      ]
    },
    {
      "cell_type": "code",
      "source": [
        "model = YOLO(\"yolov8n.pt\")"
      ],
      "metadata": {
        "collapsed": true,
        "colab": {
          "base_uri": "https://localhost:8080/"
        },
        "outputId": "a9f3ea41-bfab-4597-9d24-e9739ae677f5",
        "id": "WWHwntVm-HGy"
      },
      "execution_count": null,
      "outputs": [
        {
          "output_type": "stream",
          "name": "stdout",
          "text": [
            "Downloading https://github.com/ultralytics/assets/releases/download/v8.3.0/yolov8n.pt to 'yolov8n.pt'...\n"
          ]
        },
        {
          "output_type": "stream",
          "name": "stderr",
          "text": [
            "100%|██████████| 6.25M/6.25M [00:00<00:00, 161MB/s]\n"
          ]
        }
      ]
    },
    {
      "cell_type": "code",
      "source": [
        "train_results = model.train(\n",
        "    data=\"coco8.yaml\",\n",
        "    epochs=100,\n",
        "    imgsz=640,\n",
        "    device=0\n",
        "\n",
        ")"
      ],
      "metadata": {
        "colab": {
          "base_uri": "https://localhost:8080/"
        },
        "outputId": "64a18f02-0d95-480f-dc3c-5ca9700eee73",
        "collapsed": true,
        "id": "k6zyiB9H-HGz"
      },
      "execution_count": null,
      "outputs": [
        {
          "output_type": "stream",
          "name": "stdout",
          "text": [
            "Ultralytics 8.3.116 🚀 Python-3.11.12 torch-2.6.0+cu124 CUDA:0 (Tesla T4, 15095MiB)\n",
            "\u001b[34m\u001b[1mengine/trainer: \u001b[0mtask=detect, mode=train, model=yolov8n.pt, data=coco8.yaml, epochs=100, time=None, patience=100, batch=16, imgsz=640, save=True, save_period=-1, cache=False, device=0, workers=8, project=None, name=train, exist_ok=False, pretrained=True, optimizer=auto, verbose=True, seed=0, deterministic=True, single_cls=False, rect=False, cos_lr=False, close_mosaic=10, resume=False, amp=True, fraction=1.0, profile=False, freeze=None, multi_scale=False, overlap_mask=True, mask_ratio=4, dropout=0.0, val=True, split=val, save_json=False, conf=None, iou=0.7, max_det=300, half=False, dnn=False, plots=True, source=None, vid_stride=1, stream_buffer=False, visualize=False, augment=False, agnostic_nms=False, classes=None, retina_masks=False, embed=None, show=False, save_frames=False, save_txt=False, save_conf=False, save_crop=False, show_labels=True, show_conf=True, show_boxes=True, line_width=None, format=torchscript, keras=False, optimize=False, int8=False, dynamic=False, simplify=True, opset=None, workspace=None, nms=False, lr0=0.01, lrf=0.01, momentum=0.937, weight_decay=0.0005, warmup_epochs=3.0, warmup_momentum=0.8, warmup_bias_lr=0.1, box=7.5, cls=0.5, dfl=1.5, pose=12.0, kobj=1.0, nbs=64, hsv_h=0.015, hsv_s=0.7, hsv_v=0.4, degrees=0.0, translate=0.1, scale=0.5, shear=0.0, perspective=0.0, flipud=0.0, fliplr=0.5, bgr=0.0, mosaic=1.0, mixup=0.0, copy_paste=0.0, copy_paste_mode=flip, auto_augment=randaugment, erasing=0.4, cfg=None, tracker=botsort.yaml, save_dir=runs/detect/train\n",
            "\n",
            "WARNING ⚠️ Dataset 'coco8.yaml' images not found, missing path '/content/datasets/coco8/images/val'\n",
            "Downloading https://ultralytics.com/assets/coco8.zip to '/content/datasets/coco8.zip'...\n"
          ]
        },
        {
          "output_type": "stream",
          "name": "stderr",
          "text": [
            "100%|██████████| 433k/433k [00:00<00:00, 27.8MB/s]\n",
            "Unzipping /content/datasets/coco8.zip to /content/datasets/coco8...: 100%|██████████| 25/25 [00:00<00:00, 4214.36file/s]"
          ]
        },
        {
          "output_type": "stream",
          "name": "stdout",
          "text": [
            "Dataset download success ✅ (0.8s), saved to \u001b[1m/content/datasets\u001b[0m\n",
            "\n"
          ]
        },
        {
          "output_type": "stream",
          "name": "stderr",
          "text": [
            "\n"
          ]
        },
        {
          "output_type": "stream",
          "name": "stdout",
          "text": [
            "Downloading https://ultralytics.com/assets/Arial.ttf to '/root/.config/Ultralytics/Arial.ttf'...\n"
          ]
        },
        {
          "output_type": "stream",
          "name": "stderr",
          "text": [
            "100%|██████████| 755k/755k [00:00<00:00, 45.0MB/s]"
          ]
        },
        {
          "output_type": "stream",
          "name": "stdout",
          "text": [
            "\n",
            "                   from  n    params  module                                       arguments                     \n",
            "  0                  -1  1       464  ultralytics.nn.modules.conv.Conv             [3, 16, 3, 2]                 \n",
            "  1                  -1  1      4672  ultralytics.nn.modules.conv.Conv             [16, 32, 3, 2]                \n",
            "  2                  -1  1      7360  ultralytics.nn.modules.block.C2f             [32, 32, 1, True]             \n",
            "  3                  -1  1     18560  ultralytics.nn.modules.conv.Conv             [32, 64, 3, 2]                \n",
            "  4                  -1  2     49664  ultralytics.nn.modules.block.C2f             [64, 64, 2, True]             \n",
            "  5                  -1  1     73984  ultralytics.nn.modules.conv.Conv             [64, 128, 3, 2]               \n",
            "  6                  -1  2    197632  ultralytics.nn.modules.block.C2f             [128, 128, 2, True]           \n",
            "  7                  -1  1    295424  ultralytics.nn.modules.conv.Conv             [128, 256, 3, 2]              \n",
            "  8                  -1  1    460288  ultralytics.nn.modules.block.C2f             [256, 256, 1, True]           \n",
            "  9                  -1  1    164608  ultralytics.nn.modules.block.SPPF            [256, 256, 5]                 \n",
            " 10                  -1  1         0  torch.nn.modules.upsampling.Upsample         [None, 2, 'nearest']          \n",
            " 11             [-1, 6]  1         0  ultralytics.nn.modules.conv.Concat           [1]                           \n",
            " 12                  -1  1    148224  ultralytics.nn.modules.block.C2f             [384, 128, 1]                 \n",
            " 13                  -1  1         0  torch.nn.modules.upsampling.Upsample         [None, 2, 'nearest']          \n",
            " 14             [-1, 4]  1         0  ultralytics.nn.modules.conv.Concat           [1]                           \n",
            " 15                  -1  1     37248  ultralytics.nn.modules.block.C2f             [192, 64, 1]                  \n",
            " 16                  -1  1     36992  ultralytics.nn.modules.conv.Conv             [64, 64, 3, 2]                \n",
            " 17            [-1, 12]  1         0  ultralytics.nn.modules.conv.Concat           [1]                           \n",
            " 18                  -1  1    123648  ultralytics.nn.modules.block.C2f             [192, 128, 1]                 \n",
            " 19                  -1  1    147712  ultralytics.nn.modules.conv.Conv             [128, 128, 3, 2]              \n",
            " 20             [-1, 9]  1         0  ultralytics.nn.modules.conv.Concat           [1]                           \n",
            " 21                  -1  1    493056  ultralytics.nn.modules.block.C2f             [384, 256, 1]                 \n",
            " 22        [15, 18, 21]  1    897664  ultralytics.nn.modules.head.Detect           [80, [64, 128, 256]]          \n"
          ]
        },
        {
          "output_type": "stream",
          "name": "stderr",
          "text": [
            "\n"
          ]
        },
        {
          "output_type": "stream",
          "name": "stdout",
          "text": [
            "Model summary: 129 layers, 3,157,200 parameters, 3,157,184 gradients, 8.9 GFLOPs\n",
            "\n",
            "Transferred 355/355 items from pretrained weights\n",
            "Freezing layer 'model.22.dfl.conv.weight'\n",
            "\u001b[34m\u001b[1mAMP: \u001b[0mrunning Automatic Mixed Precision (AMP) checks...\n",
            "Downloading https://github.com/ultralytics/assets/releases/download/v8.3.0/yolo11n.pt to 'yolo11n.pt'...\n"
          ]
        },
        {
          "output_type": "stream",
          "name": "stderr",
          "text": [
            "100%|██████████| 5.35M/5.35M [00:00<00:00, 160MB/s]\n"
          ]
        },
        {
          "output_type": "stream",
          "name": "stdout",
          "text": [
            "\u001b[34m\u001b[1mAMP: \u001b[0mchecks passed ✅\n",
            "\u001b[34m\u001b[1mtrain: \u001b[0mFast image access ✅ (ping: 0.0±0.0 ms, read: 693.1±403.6 MB/s, size: 50.0 KB)\n"
          ]
        },
        {
          "output_type": "stream",
          "name": "stderr",
          "text": [
            "\u001b[34m\u001b[1mtrain: \u001b[0mScanning /content/datasets/coco8/labels/train... 4 images, 0 backgrounds, 0 corrupt: 100%|██████████| 4/4 [00:00<00:00, 5551.69it/s]"
          ]
        },
        {
          "output_type": "stream",
          "name": "stdout",
          "text": [
            "\u001b[34m\u001b[1mtrain: \u001b[0mNew cache created: /content/datasets/coco8/labels/train.cache\n"
          ]
        },
        {
          "output_type": "stream",
          "name": "stderr",
          "text": [
            "\n"
          ]
        },
        {
          "output_type": "stream",
          "name": "stdout",
          "text": [
            "\u001b[34m\u001b[1malbumentations: \u001b[0mBlur(p=0.01, blur_limit=(3, 7)), MedianBlur(p=0.01, blur_limit=(3, 7)), ToGray(p=0.01, num_output_channels=3, method='weighted_average'), CLAHE(p=0.01, clip_limit=(1.0, 4.0), tile_grid_size=(8, 8))\n",
            "\u001b[34m\u001b[1mval: \u001b[0mFast image access ✅ (ping: 0.0±0.0 ms, read: 344.5±201.8 MB/s, size: 54.0 KB)\n"
          ]
        },
        {
          "output_type": "stream",
          "name": "stderr",
          "text": [
            "\u001b[34m\u001b[1mval: \u001b[0mScanning /content/datasets/coco8/labels/val... 4 images, 0 backgrounds, 0 corrupt: 100%|██████████| 4/4 [00:00<00:00, 1130.16it/s]"
          ]
        },
        {
          "output_type": "stream",
          "name": "stdout",
          "text": [
            "\u001b[34m\u001b[1mval: \u001b[0mNew cache created: /content/datasets/coco8/labels/val.cache\n"
          ]
        },
        {
          "output_type": "stream",
          "name": "stderr",
          "text": [
            "\n"
          ]
        },
        {
          "output_type": "stream",
          "name": "stdout",
          "text": [
            "Plotting labels to runs/detect/train/labels.jpg... \n",
            "\u001b[34m\u001b[1moptimizer:\u001b[0m 'optimizer=auto' found, ignoring 'lr0=0.01' and 'momentum=0.937' and determining best 'optimizer', 'lr0' and 'momentum' automatically... \n",
            "\u001b[34m\u001b[1moptimizer:\u001b[0m AdamW(lr=0.000119, momentum=0.9) with parameter groups 57 weight(decay=0.0), 64 weight(decay=0.0005), 63 bias(decay=0.0)\n",
            "Image sizes 640 train, 640 val\n",
            "Using 2 dataloader workers\n",
            "Logging results to \u001b[1mruns/detect/train\u001b[0m\n",
            "Starting training for 100 epochs...\n",
            "\n",
            "      Epoch    GPU_mem   box_loss   cls_loss   dfl_loss  Instances       Size\n"
          ]
        },
        {
          "output_type": "stream",
          "name": "stderr",
          "text": [
            "      1/100     0.619G       1.04       2.72      1.291         18        640: 100%|██████████| 1/1 [00:01<00:00,  1.13s/it]\n",
            "                 Class     Images  Instances      Box(P          R      mAP50  mAP50-95): 100%|██████████| 1/1 [00:01<00:00,  1.59s/it]"
          ]
        },
        {
          "output_type": "stream",
          "name": "stdout",
          "text": [
            "                   all          4         17      0.608      0.865      0.888       0.62\n"
          ]
        },
        {
          "output_type": "stream",
          "name": "stderr",
          "text": [
            "\n"
          ]
        },
        {
          "output_type": "stream",
          "name": "stdout",
          "text": [
            "\n",
            "      Epoch    GPU_mem   box_loss   cls_loss   dfl_loss  Instances       Size\n"
          ]
        },
        {
          "output_type": "stream",
          "name": "stderr",
          "text": [
            "      2/100      0.65G      1.251      2.964      1.619         22        640: 100%|██████████| 1/1 [00:00<00:00,  6.00it/s]\n",
            "                 Class     Images  Instances      Box(P          R      mAP50  mAP50-95): 100%|██████████| 1/1 [00:00<00:00,  8.05it/s]"
          ]
        },
        {
          "output_type": "stream",
          "name": "stdout",
          "text": [
            "                   all          4         17      0.581      0.887      0.888      0.617\n"
          ]
        },
        {
          "output_type": "stream",
          "name": "stderr",
          "text": [
            "\n"
          ]
        },
        {
          "output_type": "stream",
          "name": "stdout",
          "text": [
            "\n",
            "      Epoch    GPU_mem   box_loss   cls_loss   dfl_loss  Instances       Size\n"
          ]
        },
        {
          "output_type": "stream",
          "name": "stderr",
          "text": [
            "      3/100     0.656G      1.517      2.958       1.64         27        640: 100%|██████████| 1/1 [00:00<00:00,  8.15it/s]\n",
            "                 Class     Images  Instances      Box(P          R      mAP50  mAP50-95): 100%|██████████| 1/1 [00:00<00:00, 13.06it/s]"
          ]
        },
        {
          "output_type": "stream",
          "name": "stdout",
          "text": [
            "                   all          4         17      0.544      0.833      0.874      0.603\n"
          ]
        },
        {
          "output_type": "stream",
          "name": "stderr",
          "text": [
            "\n"
          ]
        },
        {
          "output_type": "stream",
          "name": "stdout",
          "text": [
            "\n",
            "      Epoch    GPU_mem   box_loss   cls_loss   dfl_loss  Instances       Size\n"
          ]
        },
        {
          "output_type": "stream",
          "name": "stderr",
          "text": [
            "      4/100     0.662G      1.291      2.868      1.567         33        640: 100%|██████████| 1/1 [00:00<00:00,  8.39it/s]\n",
            "                 Class     Images  Instances      Box(P          R      mAP50  mAP50-95): 100%|██████████| 1/1 [00:00<00:00, 20.41it/s]"
          ]
        },
        {
          "output_type": "stream",
          "name": "stdout",
          "text": [
            "                   all          4         17      0.541      0.833      0.872      0.602\n"
          ]
        },
        {
          "output_type": "stream",
          "name": "stderr",
          "text": [
            "\n"
          ]
        },
        {
          "output_type": "stream",
          "name": "stdout",
          "text": [
            "\n",
            "      Epoch    GPU_mem   box_loss   cls_loss   dfl_loss  Instances       Size\n"
          ]
        },
        {
          "output_type": "stream",
          "name": "stderr",
          "text": [
            "      5/100     0.668G      1.013      2.877      1.469         18        640: 100%|██████████| 1/1 [00:00<00:00,  4.61it/s]\n",
            "                 Class     Images  Instances      Box(P          R      mAP50  mAP50-95): 100%|██████████| 1/1 [00:00<00:00, 19.89it/s]"
          ]
        },
        {
          "output_type": "stream",
          "name": "stdout",
          "text": [
            "                   all          4         17      0.574      0.833      0.872      0.585\n"
          ]
        },
        {
          "output_type": "stream",
          "name": "stderr",
          "text": [
            "\n"
          ]
        },
        {
          "output_type": "stream",
          "name": "stdout",
          "text": [
            "\n",
            "      Epoch    GPU_mem   box_loss   cls_loss   dfl_loss  Instances       Size\n"
          ]
        },
        {
          "output_type": "stream",
          "name": "stderr",
          "text": [
            "      6/100     0.707G      1.214      4.189      1.581         23        640: 100%|██████████| 1/1 [00:00<00:00,  7.99it/s]\n",
            "                 Class     Images  Instances      Box(P          R      mAP50  mAP50-95): 100%|██████████| 1/1 [00:00<00:00, 20.31it/s]"
          ]
        },
        {
          "output_type": "stream",
          "name": "stdout",
          "text": [
            "                   all          4         17      0.689      0.583      0.886      0.587\n"
          ]
        },
        {
          "output_type": "stream",
          "name": "stderr",
          "text": [
            "\n"
          ]
        },
        {
          "output_type": "stream",
          "name": "stdout",
          "text": [
            "\n",
            "      Epoch    GPU_mem   box_loss   cls_loss   dfl_loss  Instances       Size\n"
          ]
        },
        {
          "output_type": "stream",
          "name": "stderr",
          "text": [
            "      7/100     0.725G      1.229      3.107      1.547         25        640: 100%|██████████| 1/1 [00:00<00:00,  8.51it/s]\n",
            "                 Class     Images  Instances      Box(P          R      mAP50  mAP50-95): 100%|██████████| 1/1 [00:00<00:00, 19.60it/s]"
          ]
        },
        {
          "output_type": "stream",
          "name": "stdout",
          "text": [
            "                   all          4         17       0.81      0.583      0.859      0.568\n"
          ]
        },
        {
          "output_type": "stream",
          "name": "stderr",
          "text": [
            "\n"
          ]
        },
        {
          "output_type": "stream",
          "name": "stdout",
          "text": [
            "\n",
            "      Epoch    GPU_mem   box_loss   cls_loss   dfl_loss  Instances       Size\n"
          ]
        },
        {
          "output_type": "stream",
          "name": "stderr",
          "text": [
            "      8/100     0.742G      1.391      3.015      1.502         50        640: 100%|██████████| 1/1 [00:00<00:00,  3.40it/s]\n",
            "                 Class     Images  Instances      Box(P          R      mAP50  mAP50-95): 100%|██████████| 1/1 [00:00<00:00, 10.14it/s]"
          ]
        },
        {
          "output_type": "stream",
          "name": "stdout",
          "text": [
            "                   all          4         17      0.779      0.583      0.886      0.559\n"
          ]
        },
        {
          "output_type": "stream",
          "name": "stderr",
          "text": [
            "\n"
          ]
        },
        {
          "output_type": "stream",
          "name": "stdout",
          "text": [
            "\n",
            "      Epoch    GPU_mem   box_loss   cls_loss   dfl_loss  Instances       Size\n"
          ]
        },
        {
          "output_type": "stream",
          "name": "stderr",
          "text": [
            "      9/100      0.76G      1.288       2.85      1.507         38        640: 100%|██████████| 1/1 [00:00<00:00,  8.57it/s]\n",
            "                 Class     Images  Instances      Box(P          R      mAP50  mAP50-95): 100%|██████████| 1/1 [00:00<00:00, 17.91it/s]"
          ]
        },
        {
          "output_type": "stream",
          "name": "stdout",
          "text": [
            "                   all          4         17      0.759      0.583      0.776      0.542\n"
          ]
        },
        {
          "output_type": "stream",
          "name": "stderr",
          "text": [
            "\n"
          ]
        },
        {
          "output_type": "stream",
          "name": "stdout",
          "text": [
            "\n",
            "      Epoch    GPU_mem   box_loss   cls_loss   dfl_loss  Instances       Size\n"
          ]
        },
        {
          "output_type": "stream",
          "name": "stderr",
          "text": [
            "     10/100     0.779G      1.362       2.85      1.487         26        640: 100%|██████████| 1/1 [00:00<00:00,  7.65it/s]\n",
            "                 Class     Images  Instances      Box(P          R      mAP50  mAP50-95): 100%|██████████| 1/1 [00:00<00:00, 18.36it/s]\n"
          ]
        },
        {
          "output_type": "stream",
          "name": "stdout",
          "text": [
            "                   all          4         17      0.721      0.583       0.77      0.518\n",
            "\n",
            "      Epoch    GPU_mem   box_loss   cls_loss   dfl_loss  Instances       Size\n"
          ]
        },
        {
          "output_type": "stream",
          "name": "stderr",
          "text": [
            "     11/100     0.797G     0.9977      2.204      1.215         28        640: 100%|██████████| 1/1 [00:00<00:00,  2.44it/s]\n",
            "                 Class     Images  Instances      Box(P          R      mAP50  mAP50-95): 100%|██████████| 1/1 [00:00<00:00, 19.30it/s]"
          ]
        },
        {
          "output_type": "stream",
          "name": "stdout",
          "text": [
            "                   all          4         17      0.686      0.583      0.744      0.511\n"
          ]
        },
        {
          "output_type": "stream",
          "name": "stderr",
          "text": [
            "\n"
          ]
        },
        {
          "output_type": "stream",
          "name": "stdout",
          "text": [
            "\n",
            "      Epoch    GPU_mem   box_loss   cls_loss   dfl_loss  Instances       Size\n"
          ]
        },
        {
          "output_type": "stream",
          "name": "stderr",
          "text": [
            "     12/100     0.818G     0.9525      2.032      1.447         21        640: 100%|██████████| 1/1 [00:00<00:00,  7.75it/s]\n",
            "                 Class     Images  Instances      Box(P          R      mAP50  mAP50-95): 100%|██████████| 1/1 [00:00<00:00, 19.36it/s]\n"
          ]
        },
        {
          "output_type": "stream",
          "name": "stdout",
          "text": [
            "                   all          4         17      0.673      0.583      0.744       0.51\n",
            "\n",
            "      Epoch    GPU_mem   box_loss   cls_loss   dfl_loss  Instances       Size\n"
          ]
        },
        {
          "output_type": "stream",
          "name": "stderr",
          "text": [
            "     13/100     0.832G     0.9849      2.169      1.336         27        640: 100%|██████████| 1/1 [00:00<00:00,  7.71it/s]\n",
            "                 Class     Images  Instances      Box(P          R      mAP50  mAP50-95): 100%|██████████| 1/1 [00:00<00:00, 20.26it/s]\n"
          ]
        },
        {
          "output_type": "stream",
          "name": "stdout",
          "text": [
            "                   all          4         17      0.666      0.583      0.743      0.511\n",
            "\n",
            "      Epoch    GPU_mem   box_loss   cls_loss   dfl_loss  Instances       Size\n"
          ]
        },
        {
          "output_type": "stream",
          "name": "stderr",
          "text": [
            "     14/100      0.85G     0.9174      2.012      1.329         23        640: 100%|██████████| 1/1 [00:00<00:00,  8.36it/s]\n",
            "                 Class     Images  Instances      Box(P          R      mAP50  mAP50-95): 100%|██████████| 1/1 [00:00<00:00, 19.45it/s]"
          ]
        },
        {
          "output_type": "stream",
          "name": "stdout",
          "text": [
            "                   all          4         17      0.801      0.417      0.743       0.51\n"
          ]
        },
        {
          "output_type": "stream",
          "name": "stderr",
          "text": [
            "\n"
          ]
        },
        {
          "output_type": "stream",
          "name": "stdout",
          "text": [
            "\n",
            "      Epoch    GPU_mem   box_loss   cls_loss   dfl_loss  Instances       Size\n"
          ]
        },
        {
          "output_type": "stream",
          "name": "stderr",
          "text": [
            "     15/100     0.869G      1.078      3.154      1.434         40        640: 100%|██████████| 1/1 [00:00<00:00,  8.17it/s]\n",
            "                 Class     Images  Instances      Box(P          R      mAP50  mAP50-95): 100%|██████████| 1/1 [00:00<00:00, 19.31it/s]"
          ]
        },
        {
          "output_type": "stream",
          "name": "stdout",
          "text": [
            "                   all          4         17      0.944      0.394      0.666      0.486\n"
          ]
        },
        {
          "output_type": "stream",
          "name": "stderr",
          "text": [
            "\n"
          ]
        },
        {
          "output_type": "stream",
          "name": "stdout",
          "text": [
            "\n",
            "      Epoch    GPU_mem   box_loss   cls_loss   dfl_loss  Instances       Size\n"
          ]
        },
        {
          "output_type": "stream",
          "name": "stderr",
          "text": [
            "     16/100     0.889G      0.657      3.209      1.137         14        640: 100%|██████████| 1/1 [00:00<00:00,  9.02it/s]\n",
            "                 Class     Images  Instances      Box(P          R      mAP50  mAP50-95): 100%|██████████| 1/1 [00:00<00:00, 20.37it/s]"
          ]
        },
        {
          "output_type": "stream",
          "name": "stdout",
          "text": [
            "                   all          4         17      0.946      0.392      0.665      0.508\n"
          ]
        },
        {
          "output_type": "stream",
          "name": "stderr",
          "text": [
            "\n"
          ]
        },
        {
          "output_type": "stream",
          "name": "stdout",
          "text": [
            "\n",
            "      Epoch    GPU_mem   box_loss   cls_loss   dfl_loss  Instances       Size\n"
          ]
        },
        {
          "output_type": "stream",
          "name": "stderr",
          "text": [
            "     17/100     0.904G     0.9559      2.904      1.329         40        640: 100%|██████████| 1/1 [00:00<00:00,  8.34it/s]\n",
            "                 Class     Images  Instances      Box(P          R      mAP50  mAP50-95): 100%|██████████| 1/1 [00:00<00:00, 14.66it/s]"
          ]
        },
        {
          "output_type": "stream",
          "name": "stdout",
          "text": [
            "                   all          4         17      0.945      0.393      0.665      0.507\n"
          ]
        },
        {
          "output_type": "stream",
          "name": "stderr",
          "text": [
            "\n"
          ]
        },
        {
          "output_type": "stream",
          "name": "stdout",
          "text": [
            "\n",
            "      Epoch    GPU_mem   box_loss   cls_loss   dfl_loss  Instances       Size\n"
          ]
        },
        {
          "output_type": "stream",
          "name": "stderr",
          "text": [
            "     18/100     0.922G     0.7523      2.032      1.173         29        640: 100%|██████████| 1/1 [00:00<00:00,  8.81it/s]\n",
            "                 Class     Images  Instances      Box(P          R      mAP50  mAP50-95): 100%|██████████| 1/1 [00:00<00:00,  7.93it/s]"
          ]
        },
        {
          "output_type": "stream",
          "name": "stdout",
          "text": [
            "                   all          4         17      0.945      0.393      0.665      0.507\n"
          ]
        },
        {
          "output_type": "stream",
          "name": "stderr",
          "text": [
            "\n"
          ]
        },
        {
          "output_type": "stream",
          "name": "stdout",
          "text": [
            "\n",
            "      Epoch    GPU_mem   box_loss   cls_loss   dfl_loss  Instances       Size\n"
          ]
        },
        {
          "output_type": "stream",
          "name": "stderr",
          "text": [
            "     19/100     0.949G     0.9597      2.181      1.265         29        640: 100%|██████████| 1/1 [00:00<00:00,  8.26it/s]\n",
            "                 Class     Images  Instances      Box(P          R      mAP50  mAP50-95): 100%|██████████| 1/1 [00:00<00:00, 18.65it/s]"
          ]
        },
        {
          "output_type": "stream",
          "name": "stdout",
          "text": [
            "                   all          4         17      0.941      0.374       0.66      0.499\n"
          ]
        },
        {
          "output_type": "stream",
          "name": "stderr",
          "text": [
            "\n"
          ]
        },
        {
          "output_type": "stream",
          "name": "stdout",
          "text": [
            "\n",
            "      Epoch    GPU_mem   box_loss   cls_loss   dfl_loss  Instances       Size\n"
          ]
        },
        {
          "output_type": "stream",
          "name": "stderr",
          "text": [
            "     20/100     0.957G      1.243      2.414      1.435         42        640: 100%|██████████| 1/1 [00:00<00:00,  8.42it/s]\n",
            "                 Class     Images  Instances      Box(P          R      mAP50  mAP50-95): 100%|██████████| 1/1 [00:00<00:00, 12.59it/s]"
          ]
        },
        {
          "output_type": "stream",
          "name": "stdout",
          "text": [
            "                   all          4         17      0.941      0.374       0.66      0.499\n"
          ]
        },
        {
          "output_type": "stream",
          "name": "stderr",
          "text": [
            "\n"
          ]
        },
        {
          "output_type": "stream",
          "name": "stdout",
          "text": [
            "\n",
            "      Epoch    GPU_mem   box_loss   cls_loss   dfl_loss  Instances       Size\n"
          ]
        },
        {
          "output_type": "stream",
          "name": "stderr",
          "text": [
            "     21/100     0.988G      1.212      3.514       1.63         12        640: 100%|██████████| 1/1 [00:00<00:00,  8.32it/s]\n",
            "                 Class     Images  Instances      Box(P          R      mAP50  mAP50-95): 100%|██████████| 1/1 [00:00<00:00, 19.25it/s]"
          ]
        },
        {
          "output_type": "stream",
          "name": "stdout",
          "text": [
            "                   all          4         17      0.938      0.374      0.618      0.448\n"
          ]
        },
        {
          "output_type": "stream",
          "name": "stderr",
          "text": [
            "\n"
          ]
        },
        {
          "output_type": "stream",
          "name": "stdout",
          "text": [
            "\n",
            "      Epoch    GPU_mem   box_loss   cls_loss   dfl_loss  Instances       Size\n"
          ]
        },
        {
          "output_type": "stream",
          "name": "stderr",
          "text": [
            "     22/100     0.994G      1.237      2.602      1.491         43        640: 100%|██████████| 1/1 [00:00<00:00,  9.32it/s]\n",
            "                 Class     Images  Instances      Box(P          R      mAP50  mAP50-95): 100%|██████████| 1/1 [00:00<00:00, 19.15it/s]"
          ]
        },
        {
          "output_type": "stream",
          "name": "stdout",
          "text": [
            "                   all          4         17      0.938      0.374      0.618      0.448\n"
          ]
        },
        {
          "output_type": "stream",
          "name": "stderr",
          "text": [
            "\n"
          ]
        },
        {
          "output_type": "stream",
          "name": "stdout",
          "text": [
            "\n",
            "      Epoch    GPU_mem   box_loss   cls_loss   dfl_loss  Instances       Size\n"
          ]
        },
        {
          "output_type": "stream",
          "name": "stderr",
          "text": [
            "     23/100      1.02G     0.8838      2.272      1.375         33        640: 100%|██████████| 1/1 [00:00<00:00,  8.01it/s]\n",
            "                 Class     Images  Instances      Box(P          R      mAP50  mAP50-95): 100%|██████████| 1/1 [00:00<00:00, 18.98it/s]"
          ]
        },
        {
          "output_type": "stream",
          "name": "stdout",
          "text": [
            "                   all          4         17      0.936      0.374      0.618       0.44\n"
          ]
        },
        {
          "output_type": "stream",
          "name": "stderr",
          "text": [
            "\n"
          ]
        },
        {
          "output_type": "stream",
          "name": "stdout",
          "text": [
            "\n",
            "      Epoch    GPU_mem   box_loss   cls_loss   dfl_loss  Instances       Size\n"
          ]
        },
        {
          "output_type": "stream",
          "name": "stderr",
          "text": [
            "     24/100      1.03G      1.115      2.606      1.497         29        640: 100%|██████████| 1/1 [00:00<00:00,  8.92it/s]\n",
            "                 Class     Images  Instances      Box(P          R      mAP50  mAP50-95): 100%|██████████| 1/1 [00:00<00:00, 14.29it/s]"
          ]
        },
        {
          "output_type": "stream",
          "name": "stdout",
          "text": [
            "                   all          4         17      0.936      0.374      0.618       0.44\n"
          ]
        },
        {
          "output_type": "stream",
          "name": "stderr",
          "text": [
            "\n"
          ]
        },
        {
          "output_type": "stream",
          "name": "stdout",
          "text": [
            "\n",
            "      Epoch    GPU_mem   box_loss   cls_loss   dfl_loss  Instances       Size\n"
          ]
        },
        {
          "output_type": "stream",
          "name": "stderr",
          "text": [
            "     25/100      1.06G     0.9857      1.695      1.436         18        640: 100%|██████████| 1/1 [00:00<00:00,  7.88it/s]\n",
            "                 Class     Images  Instances      Box(P          R      mAP50  mAP50-95): 100%|██████████| 1/1 [00:00<00:00, 14.73it/s]"
          ]
        },
        {
          "output_type": "stream",
          "name": "stdout",
          "text": [
            "                   all          4         17      0.934      0.374      0.617      0.428\n"
          ]
        },
        {
          "output_type": "stream",
          "name": "stderr",
          "text": [
            "\n"
          ]
        },
        {
          "output_type": "stream",
          "name": "stdout",
          "text": [
            "\n",
            "      Epoch    GPU_mem   box_loss   cls_loss   dfl_loss  Instances       Size\n"
          ]
        },
        {
          "output_type": "stream",
          "name": "stderr",
          "text": [
            "     26/100      1.06G     0.7145      1.539      1.126         22        640: 100%|██████████| 1/1 [00:00<00:00,  6.07it/s]\n",
            "                 Class     Images  Instances      Box(P          R      mAP50  mAP50-95): 100%|██████████| 1/1 [00:00<00:00, 12.99it/s]"
          ]
        },
        {
          "output_type": "stream",
          "name": "stdout",
          "text": [
            "                   all          4         17      0.934      0.374      0.617      0.428\n"
          ]
        },
        {
          "output_type": "stream",
          "name": "stderr",
          "text": [
            "\n"
          ]
        },
        {
          "output_type": "stream",
          "name": "stdout",
          "text": [
            "\n",
            "      Epoch    GPU_mem   box_loss   cls_loss   dfl_loss  Instances       Size\n"
          ]
        },
        {
          "output_type": "stream",
          "name": "stderr",
          "text": [
            "     27/100      1.09G     0.7591      1.378      1.161         29        640: 100%|██████████| 1/1 [00:00<00:00,  4.86it/s]\n",
            "                 Class     Images  Instances      Box(P          R      mAP50  mAP50-95): 100%|██████████| 1/1 [00:00<00:00,  9.49it/s]"
          ]
        },
        {
          "output_type": "stream",
          "name": "stdout",
          "text": [
            "                   all          4         17      0.931      0.373      0.575      0.414\n"
          ]
        },
        {
          "output_type": "stream",
          "name": "stderr",
          "text": [
            "\n"
          ]
        },
        {
          "output_type": "stream",
          "name": "stdout",
          "text": [
            "\n",
            "      Epoch    GPU_mem   box_loss   cls_loss   dfl_loss  Instances       Size\n"
          ]
        },
        {
          "output_type": "stream",
          "name": "stderr",
          "text": [
            "     28/100       1.1G     0.9325      1.452      1.296         38        640: 100%|██████████| 1/1 [00:00<00:00,  6.19it/s]\n",
            "                 Class     Images  Instances      Box(P          R      mAP50  mAP50-95): 100%|██████████| 1/1 [00:00<00:00, 10.01it/s]"
          ]
        },
        {
          "output_type": "stream",
          "name": "stdout",
          "text": [
            "                   all          4         17      0.931      0.373      0.575      0.414\n"
          ]
        },
        {
          "output_type": "stream",
          "name": "stderr",
          "text": [
            "\n"
          ]
        },
        {
          "output_type": "stream",
          "name": "stdout",
          "text": [
            "\n",
            "      Epoch    GPU_mem   box_loss   cls_loss   dfl_loss  Instances       Size\n"
          ]
        },
        {
          "output_type": "stream",
          "name": "stderr",
          "text": [
            "     29/100      1.13G     0.7543      1.732      1.161         18        640: 100%|██████████| 1/1 [00:00<00:00,  5.17it/s]\n",
            "                 Class     Images  Instances      Box(P          R      mAP50  mAP50-95): 100%|██████████| 1/1 [00:00<00:00, 10.85it/s]"
          ]
        },
        {
          "output_type": "stream",
          "name": "stdout",
          "text": [
            "                   all          4         17      0.935      0.374      0.575      0.412\n"
          ]
        },
        {
          "output_type": "stream",
          "name": "stderr",
          "text": [
            "\n"
          ]
        },
        {
          "output_type": "stream",
          "name": "stdout",
          "text": [
            "\n",
            "      Epoch    GPU_mem   box_loss   cls_loss   dfl_loss  Instances       Size\n"
          ]
        },
        {
          "output_type": "stream",
          "name": "stderr",
          "text": [
            "     30/100      1.14G     0.6675      1.271      1.145         22        640: 100%|██████████| 1/1 [00:00<00:00,  5.58it/s]\n",
            "                 Class     Images  Instances      Box(P          R      mAP50  mAP50-95): 100%|██████████| 1/1 [00:00<00:00, 12.96it/s]"
          ]
        },
        {
          "output_type": "stream",
          "name": "stdout",
          "text": [
            "                   all          4         17      0.935      0.374      0.575      0.412\n"
          ]
        },
        {
          "output_type": "stream",
          "name": "stderr",
          "text": [
            "\n"
          ]
        },
        {
          "output_type": "stream",
          "name": "stdout",
          "text": [
            "\n",
            "      Epoch    GPU_mem   box_loss   cls_loss   dfl_loss  Instances       Size\n"
          ]
        },
        {
          "output_type": "stream",
          "name": "stderr",
          "text": [
            "     31/100      1.16G      1.063      1.355       1.21         48        640: 100%|██████████| 1/1 [00:00<00:00,  5.53it/s]\n",
            "                 Class     Images  Instances      Box(P          R      mAP50  mAP50-95): 100%|██████████| 1/1 [00:00<00:00, 19.02it/s]"
          ]
        },
        {
          "output_type": "stream",
          "name": "stdout",
          "text": [
            "                   all          4         17      0.939      0.375       0.58      0.412\n"
          ]
        },
        {
          "output_type": "stream",
          "name": "stderr",
          "text": [
            "\n"
          ]
        },
        {
          "output_type": "stream",
          "name": "stdout",
          "text": [
            "\n",
            "      Epoch    GPU_mem   box_loss   cls_loss   dfl_loss  Instances       Size\n"
          ]
        },
        {
          "output_type": "stream",
          "name": "stderr",
          "text": [
            "     32/100      1.17G     0.9368      1.933      1.328         19        640: 100%|██████████| 1/1 [00:00<00:00, 10.46it/s]\n",
            "                 Class     Images  Instances      Box(P          R      mAP50  mAP50-95): 100%|██████████| 1/1 [00:00<00:00, 19.65it/s]"
          ]
        },
        {
          "output_type": "stream",
          "name": "stdout",
          "text": [
            "                   all          4         17      0.939      0.375       0.58      0.412\n"
          ]
        },
        {
          "output_type": "stream",
          "name": "stderr",
          "text": [
            "\n"
          ]
        },
        {
          "output_type": "stream",
          "name": "stdout",
          "text": [
            "\n",
            "      Epoch    GPU_mem   box_loss   cls_loss   dfl_loss  Instances       Size\n"
          ]
        },
        {
          "output_type": "stream",
          "name": "stderr",
          "text": [
            "     33/100       1.2G      1.093      1.375      1.391         34        640: 100%|██████████| 1/1 [00:00<00:00,  7.82it/s]\n",
            "                 Class     Images  Instances      Box(P          R      mAP50  mAP50-95): 100%|██████████| 1/1 [00:00<00:00, 14.89it/s]"
          ]
        },
        {
          "output_type": "stream",
          "name": "stdout",
          "text": [
            "                   all          4         17      0.937      0.374      0.499      0.345\n"
          ]
        },
        {
          "output_type": "stream",
          "name": "stderr",
          "text": [
            "\n"
          ]
        },
        {
          "output_type": "stream",
          "name": "stdout",
          "text": [
            "\n",
            "      Epoch    GPU_mem   box_loss   cls_loss   dfl_loss  Instances       Size\n"
          ]
        },
        {
          "output_type": "stream",
          "name": "stderr",
          "text": [
            "     34/100      1.21G      1.067      1.515      1.413         31        640: 100%|██████████| 1/1 [00:00<00:00, 10.20it/s]\n",
            "                 Class     Images  Instances      Box(P          R      mAP50  mAP50-95): 100%|██████████| 1/1 [00:00<00:00, 18.04it/s]"
          ]
        },
        {
          "output_type": "stream",
          "name": "stdout",
          "text": [
            "                   all          4         17      0.937      0.374      0.499      0.345\n"
          ]
        },
        {
          "output_type": "stream",
          "name": "stderr",
          "text": [
            "\n"
          ]
        },
        {
          "output_type": "stream",
          "name": "stdout",
          "text": [
            "\n",
            "      Epoch    GPU_mem   box_loss   cls_loss   dfl_loss  Instances       Size\n"
          ]
        },
        {
          "output_type": "stream",
          "name": "stderr",
          "text": [
            "     35/100      1.24G     0.7474      0.959       1.21         25        640: 100%|██████████| 1/1 [00:00<00:00,  7.91it/s]\n",
            "                 Class     Images  Instances      Box(P          R      mAP50  mAP50-95): 100%|██████████| 1/1 [00:00<00:00, 19.50it/s]\n"
          ]
        },
        {
          "output_type": "stream",
          "name": "stdout",
          "text": [
            "                   all          4         17       0.94      0.374      0.497       0.37\n",
            "\n",
            "      Epoch    GPU_mem   box_loss   cls_loss   dfl_loss  Instances       Size\n"
          ]
        },
        {
          "output_type": "stream",
          "name": "stderr",
          "text": [
            "     36/100      1.24G      1.002      1.221      1.398         22        640: 100%|██████████| 1/1 [00:00<00:00, 10.36it/s]\n",
            "                 Class     Images  Instances      Box(P          R      mAP50  mAP50-95): 100%|██████████| 1/1 [00:00<00:00, 18.36it/s]"
          ]
        },
        {
          "output_type": "stream",
          "name": "stdout",
          "text": [
            "                   all          4         17       0.94      0.374      0.497       0.37\n"
          ]
        },
        {
          "output_type": "stream",
          "name": "stderr",
          "text": [
            "\n"
          ]
        },
        {
          "output_type": "stream",
          "name": "stdout",
          "text": [
            "\n",
            "      Epoch    GPU_mem   box_loss   cls_loss   dfl_loss  Instances       Size\n"
          ]
        },
        {
          "output_type": "stream",
          "name": "stderr",
          "text": [
            "     37/100      1.27G     0.9426      1.629      1.288         31        640: 100%|██████████| 1/1 [00:00<00:00,  3.94it/s]\n",
            "                 Class     Images  Instances      Box(P          R      mAP50  mAP50-95): 100%|██████████| 1/1 [00:00<00:00, 19.65it/s]"
          ]
        },
        {
          "output_type": "stream",
          "name": "stdout",
          "text": [
            "                   all          4         17       0.94      0.374        0.5      0.372\n"
          ]
        },
        {
          "output_type": "stream",
          "name": "stderr",
          "text": [
            "\n"
          ]
        },
        {
          "output_type": "stream",
          "name": "stdout",
          "text": [
            "\n",
            "      Epoch    GPU_mem   box_loss   cls_loss   dfl_loss  Instances       Size\n"
          ]
        },
        {
          "output_type": "stream",
          "name": "stderr",
          "text": [
            "     38/100      1.28G     0.6722     0.9908      1.152         19        640: 100%|██████████| 1/1 [00:00<00:00, 10.30it/s]\n",
            "                 Class     Images  Instances      Box(P          R      mAP50  mAP50-95): 100%|██████████| 1/1 [00:00<00:00, 18.26it/s]"
          ]
        },
        {
          "output_type": "stream",
          "name": "stdout",
          "text": [
            "                   all          4         17       0.94      0.374        0.5      0.372\n"
          ]
        },
        {
          "output_type": "stream",
          "name": "stderr",
          "text": [
            "\n"
          ]
        },
        {
          "output_type": "stream",
          "name": "stdout",
          "text": [
            "\n",
            "      Epoch    GPU_mem   box_loss   cls_loss   dfl_loss  Instances       Size\n"
          ]
        },
        {
          "output_type": "stream",
          "name": "stderr",
          "text": [
            "     39/100      1.31G      0.718     0.9541      1.115         30        640: 100%|██████████| 1/1 [00:00<00:00,  7.59it/s]\n",
            "                 Class     Images  Instances      Box(P          R      mAP50  mAP50-95): 100%|██████████| 1/1 [00:00<00:00, 18.23it/s]"
          ]
        },
        {
          "output_type": "stream",
          "name": "stdout",
          "text": [
            "                   all          4         17      0.939      0.374      0.499      0.396\n"
          ]
        },
        {
          "output_type": "stream",
          "name": "stderr",
          "text": [
            "\n"
          ]
        },
        {
          "output_type": "stream",
          "name": "stdout",
          "text": [
            "\n",
            "      Epoch    GPU_mem   box_loss   cls_loss   dfl_loss  Instances       Size\n"
          ]
        },
        {
          "output_type": "stream",
          "name": "stderr",
          "text": [
            "     40/100      1.32G     0.8069      1.067      1.197         27        640: 100%|██████████| 1/1 [00:00<00:00,  8.36it/s]\n",
            "                 Class     Images  Instances      Box(P          R      mAP50  mAP50-95): 100%|██████████| 1/1 [00:00<00:00, 14.11it/s]"
          ]
        },
        {
          "output_type": "stream",
          "name": "stdout",
          "text": [
            "                   all          4         17      0.939      0.374      0.499      0.396\n"
          ]
        },
        {
          "output_type": "stream",
          "name": "stderr",
          "text": [
            "\n"
          ]
        },
        {
          "output_type": "stream",
          "name": "stdout",
          "text": [
            "\n",
            "      Epoch    GPU_mem   box_loss   cls_loss   dfl_loss  Instances       Size\n"
          ]
        },
        {
          "output_type": "stream",
          "name": "stderr",
          "text": [
            "     41/100      1.34G     0.8718      1.271      1.217         36        640: 100%|██████████| 1/1 [00:00<00:00,  7.56it/s]\n",
            "                 Class     Images  Instances      Box(P          R      mAP50  mAP50-95): 100%|██████████| 1/1 [00:00<00:00, 18.99it/s]\n"
          ]
        },
        {
          "output_type": "stream",
          "name": "stdout",
          "text": [
            "                   all          4         17       0.94      0.374      0.471      0.369\n",
            "\n",
            "      Epoch    GPU_mem   box_loss   cls_loss   dfl_loss  Instances       Size\n"
          ]
        },
        {
          "output_type": "stream",
          "name": "stderr",
          "text": [
            "     42/100      1.35G     0.7878      1.188       1.28         14        640: 100%|██████████| 1/1 [00:00<00:00, 10.12it/s]\n",
            "                 Class     Images  Instances      Box(P          R      mAP50  mAP50-95): 100%|██████████| 1/1 [00:00<00:00, 19.21it/s]"
          ]
        },
        {
          "output_type": "stream",
          "name": "stdout",
          "text": [
            "                   all          4         17       0.94      0.374      0.471      0.369\n"
          ]
        },
        {
          "output_type": "stream",
          "name": "stderr",
          "text": [
            "\n"
          ]
        },
        {
          "output_type": "stream",
          "name": "stdout",
          "text": [
            "\n",
            "      Epoch    GPU_mem   box_loss   cls_loss   dfl_loss  Instances       Size\n"
          ]
        },
        {
          "output_type": "stream",
          "name": "stderr",
          "text": [
            "     43/100      1.38G     0.8758      1.404      1.201         45        640: 100%|██████████| 1/1 [00:00<00:00,  8.31it/s]\n",
            "                 Class     Images  Instances      Box(P          R      mAP50  mAP50-95): 100%|██████████| 1/1 [00:00<00:00, 19.43it/s]"
          ]
        },
        {
          "output_type": "stream",
          "name": "stdout",
          "text": [
            "                   all          4         17      0.938      0.373      0.499      0.388\n"
          ]
        },
        {
          "output_type": "stream",
          "name": "stderr",
          "text": [
            "\n"
          ]
        },
        {
          "output_type": "stream",
          "name": "stdout",
          "text": [
            "\n",
            "      Epoch    GPU_mem   box_loss   cls_loss   dfl_loss  Instances       Size\n"
          ]
        },
        {
          "output_type": "stream",
          "name": "stderr",
          "text": [
            "     44/100      1.39G     0.8899     0.9965      1.306         19        640: 100%|██████████| 1/1 [00:00<00:00,  9.74it/s]\n",
            "                 Class     Images  Instances      Box(P          R      mAP50  mAP50-95): 100%|██████████| 1/1 [00:00<00:00, 19.91it/s]"
          ]
        },
        {
          "output_type": "stream",
          "name": "stdout",
          "text": [
            "                   all          4         17      0.938      0.373      0.499      0.388\n"
          ]
        },
        {
          "output_type": "stream",
          "name": "stderr",
          "text": [
            "\n"
          ]
        },
        {
          "output_type": "stream",
          "name": "stdout",
          "text": [
            "\n",
            "      Epoch    GPU_mem   box_loss   cls_loss   dfl_loss  Instances       Size\n"
          ]
        },
        {
          "output_type": "stream",
          "name": "stderr",
          "text": [
            "     45/100      1.41G     0.7893     0.8357      1.143         29        640: 100%|██████████| 1/1 [00:00<00:00,  8.43it/s]\n",
            "                 Class     Images  Instances      Box(P          R      mAP50  mAP50-95): 100%|██████████| 1/1 [00:00<00:00, 14.49it/s]"
          ]
        },
        {
          "output_type": "stream",
          "name": "stdout",
          "text": [
            "                   all          4         17      0.933      0.373      0.502      0.397\n"
          ]
        },
        {
          "output_type": "stream",
          "name": "stderr",
          "text": [
            "\n"
          ]
        },
        {
          "output_type": "stream",
          "name": "stdout",
          "text": [
            "\n",
            "      Epoch    GPU_mem   box_loss   cls_loss   dfl_loss  Instances       Size\n"
          ]
        },
        {
          "output_type": "stream",
          "name": "stderr",
          "text": [
            "     46/100      1.43G     0.6744      1.228      1.165         16        640: 100%|██████████| 1/1 [00:00<00:00,  9.62it/s]\n",
            "                 Class     Images  Instances      Box(P          R      mAP50  mAP50-95): 100%|██████████| 1/1 [00:00<00:00, 17.37it/s]"
          ]
        },
        {
          "output_type": "stream",
          "name": "stdout",
          "text": [
            "                   all          4         17      0.933      0.373      0.502      0.397\n"
          ]
        },
        {
          "output_type": "stream",
          "name": "stderr",
          "text": [
            "\n"
          ]
        },
        {
          "output_type": "stream",
          "name": "stdout",
          "text": [
            "\n",
            "      Epoch    GPU_mem   box_loss   cls_loss   dfl_loss  Instances       Size\n"
          ]
        },
        {
          "output_type": "stream",
          "name": "stderr",
          "text": [
            "     47/100      1.45G      0.803      1.255      1.184         17        640: 100%|██████████| 1/1 [00:00<00:00,  8.61it/s]\n",
            "                 Class     Images  Instances      Box(P          R      mAP50  mAP50-95): 100%|██████████| 1/1 [00:00<00:00, 18.62it/s]"
          ]
        },
        {
          "output_type": "stream",
          "name": "stdout",
          "text": [
            "                   all          4         17      0.937      0.373      0.504      0.406\n"
          ]
        },
        {
          "output_type": "stream",
          "name": "stderr",
          "text": [
            "\n"
          ]
        },
        {
          "output_type": "stream",
          "name": "stdout",
          "text": [
            "\n",
            "      Epoch    GPU_mem   box_loss   cls_loss   dfl_loss  Instances       Size\n"
          ]
        },
        {
          "output_type": "stream",
          "name": "stderr",
          "text": [
            "     48/100      1.46G     0.7594     0.8881      1.069         19        640: 100%|██████████| 1/1 [00:00<00:00, 10.63it/s]\n",
            "                 Class     Images  Instances      Box(P          R      mAP50  mAP50-95): 100%|██████████| 1/1 [00:00<00:00, 19.56it/s]"
          ]
        },
        {
          "output_type": "stream",
          "name": "stdout",
          "text": [
            "                   all          4         17      0.937      0.373      0.504      0.406\n"
          ]
        },
        {
          "output_type": "stream",
          "name": "stderr",
          "text": [
            "\n"
          ]
        },
        {
          "output_type": "stream",
          "name": "stdout",
          "text": [
            "\n",
            "      Epoch    GPU_mem   box_loss   cls_loss   dfl_loss  Instances       Size\n"
          ]
        },
        {
          "output_type": "stream",
          "name": "stderr",
          "text": [
            "     49/100      1.49G      1.172      1.534       1.51         18        640: 100%|██████████| 1/1 [00:00<00:00,  8.29it/s]\n",
            "                 Class     Images  Instances      Box(P          R      mAP50  mAP50-95): 100%|██████████| 1/1 [00:00<00:00, 19.21it/s]"
          ]
        },
        {
          "output_type": "stream",
          "name": "stdout",
          "text": [
            "                   all          4         17       0.94      0.373      0.504      0.398\n"
          ]
        },
        {
          "output_type": "stream",
          "name": "stderr",
          "text": [
            "\n"
          ]
        },
        {
          "output_type": "stream",
          "name": "stdout",
          "text": [
            "\n",
            "      Epoch    GPU_mem   box_loss   cls_loss   dfl_loss  Instances       Size\n"
          ]
        },
        {
          "output_type": "stream",
          "name": "stderr",
          "text": [
            "     50/100       1.5G     0.8525      1.226      1.204         50        640: 100%|██████████| 1/1 [00:00<00:00,  9.77it/s]\n",
            "                 Class     Images  Instances      Box(P          R      mAP50  mAP50-95): 100%|██████████| 1/1 [00:00<00:00, 15.27it/s]"
          ]
        },
        {
          "output_type": "stream",
          "name": "stdout",
          "text": [
            "                   all          4         17       0.94      0.373      0.504      0.398\n"
          ]
        },
        {
          "output_type": "stream",
          "name": "stderr",
          "text": [
            "\n"
          ]
        },
        {
          "output_type": "stream",
          "name": "stdout",
          "text": [
            "\n",
            "      Epoch    GPU_mem   box_loss   cls_loss   dfl_loss  Instances       Size\n"
          ]
        },
        {
          "output_type": "stream",
          "name": "stderr",
          "text": [
            "     51/100      1.53G      1.223      1.249       1.79         17        640: 100%|██████████| 1/1 [00:00<00:00,  5.56it/s]\n",
            "                 Class     Images  Instances      Box(P          R      mAP50  mAP50-95): 100%|██████████| 1/1 [00:00<00:00, 15.70it/s]"
          ]
        },
        {
          "output_type": "stream",
          "name": "stdout",
          "text": [
            "                   all          4         17       0.94      0.372      0.508      0.399\n"
          ]
        },
        {
          "output_type": "stream",
          "name": "stderr",
          "text": [
            "\n"
          ]
        },
        {
          "output_type": "stream",
          "name": "stdout",
          "text": [
            "\n",
            "      Epoch    GPU_mem   box_loss   cls_loss   dfl_loss  Instances       Size\n"
          ]
        },
        {
          "output_type": "stream",
          "name": "stderr",
          "text": [
            "     52/100      1.53G     0.5309     0.5233      1.042         24        640: 100%|██████████| 1/1 [00:00<00:00,  5.96it/s]\n",
            "                 Class     Images  Instances      Box(P          R      mAP50  mAP50-95): 100%|██████████| 1/1 [00:00<00:00, 11.73it/s]"
          ]
        },
        {
          "output_type": "stream",
          "name": "stdout",
          "text": [
            "                   all          4         17       0.94      0.372      0.508      0.399\n"
          ]
        },
        {
          "output_type": "stream",
          "name": "stderr",
          "text": [
            "\n"
          ]
        },
        {
          "output_type": "stream",
          "name": "stdout",
          "text": [
            "\n",
            "      Epoch    GPU_mem   box_loss   cls_loss   dfl_loss  Instances       Size\n"
          ]
        },
        {
          "output_type": "stream",
          "name": "stderr",
          "text": [
            "     53/100      1.56G     0.6115     0.8196      1.093         26        640: 100%|██████████| 1/1 [00:00<00:00,  5.01it/s]\n",
            "                 Class     Images  Instances      Box(P          R      mAP50  mAP50-95): 100%|██████████| 1/1 [00:00<00:00, 12.84it/s]"
          ]
        },
        {
          "output_type": "stream",
          "name": "stdout",
          "text": [
            "                   all          4         17       0.94      0.372      0.508      0.399\n"
          ]
        },
        {
          "output_type": "stream",
          "name": "stderr",
          "text": [
            "\n"
          ]
        },
        {
          "output_type": "stream",
          "name": "stdout",
          "text": [
            "\n",
            "      Epoch    GPU_mem   box_loss   cls_loss   dfl_loss  Instances       Size\n"
          ]
        },
        {
          "output_type": "stream",
          "name": "stderr",
          "text": [
            "     54/100      1.58G     0.7884      1.037      1.127         41        640: 100%|██████████| 1/1 [00:00<00:00,  5.27it/s]\n",
            "                 Class     Images  Instances      Box(P          R      mAP50  mAP50-95): 100%|██████████| 1/1 [00:00<00:00, 12.11it/s]"
          ]
        },
        {
          "output_type": "stream",
          "name": "stdout",
          "text": [
            "                   all          4         17      0.944      0.372      0.481      0.371\n"
          ]
        },
        {
          "output_type": "stream",
          "name": "stderr",
          "text": [
            "\n"
          ]
        },
        {
          "output_type": "stream",
          "name": "stdout",
          "text": [
            "\n",
            "      Epoch    GPU_mem   box_loss   cls_loss   dfl_loss  Instances       Size\n"
          ]
        },
        {
          "output_type": "stream",
          "name": "stderr",
          "text": [
            "     55/100      1.59G      0.891      1.088      1.347         25        640: 100%|██████████| 1/1 [00:00<00:00,  9.73it/s]\n",
            "                 Class     Images  Instances      Box(P          R      mAP50  mAP50-95): 100%|██████████| 1/1 [00:00<00:00, 19.03it/s]"
          ]
        },
        {
          "output_type": "stream",
          "name": "stdout",
          "text": [
            "                   all          4         17      0.944      0.372      0.481      0.371\n"
          ]
        },
        {
          "output_type": "stream",
          "name": "stderr",
          "text": [
            "\n"
          ]
        },
        {
          "output_type": "stream",
          "name": "stdout",
          "text": [
            "\n",
            "      Epoch    GPU_mem   box_loss   cls_loss   dfl_loss  Instances       Size\n"
          ]
        },
        {
          "output_type": "stream",
          "name": "stderr",
          "text": [
            "     56/100      1.61G      0.558     0.7934       1.05         41        640: 100%|██████████| 1/1 [00:00<00:00,  3.89it/s]\n",
            "                 Class     Images  Instances      Box(P          R      mAP50  mAP50-95): 100%|██████████| 1/1 [00:00<00:00, 17.33it/s]"
          ]
        },
        {
          "output_type": "stream",
          "name": "stdout",
          "text": [
            "                   all          4         17      0.944      0.372      0.481      0.371\n"
          ]
        },
        {
          "output_type": "stream",
          "name": "stderr",
          "text": [
            "\n"
          ]
        },
        {
          "output_type": "stream",
          "name": "stdout",
          "text": [
            "\n",
            "      Epoch    GPU_mem   box_loss   cls_loss   dfl_loss  Instances       Size\n"
          ]
        },
        {
          "output_type": "stream",
          "name": "stderr",
          "text": [
            "     57/100      1.63G     0.8609      0.826      1.351         16        640: 100%|██████████| 1/1 [00:00<00:00,  8.64it/s]\n",
            "                 Class     Images  Instances      Box(P          R      mAP50  mAP50-95): 100%|██████████| 1/1 [00:00<00:00, 19.26it/s]"
          ]
        },
        {
          "output_type": "stream",
          "name": "stdout",
          "text": [
            "                   all          4         17      0.948      0.371      0.469      0.358\n"
          ]
        },
        {
          "output_type": "stream",
          "name": "stderr",
          "text": [
            "\n"
          ]
        },
        {
          "output_type": "stream",
          "name": "stdout",
          "text": [
            "\n",
            "      Epoch    GPU_mem   box_loss   cls_loss   dfl_loss  Instances       Size\n"
          ]
        },
        {
          "output_type": "stream",
          "name": "stderr",
          "text": [
            "     58/100      1.64G     0.4605     0.6966       1.06         17        640: 100%|██████████| 1/1 [00:00<00:00,  8.90it/s]\n",
            "                 Class     Images  Instances      Box(P          R      mAP50  mAP50-95): 100%|██████████| 1/1 [00:00<00:00, 20.07it/s]"
          ]
        },
        {
          "output_type": "stream",
          "name": "stdout",
          "text": [
            "                   all          4         17      0.948      0.371      0.469      0.358\n"
          ]
        },
        {
          "output_type": "stream",
          "name": "stderr",
          "text": [
            "\n"
          ]
        },
        {
          "output_type": "stream",
          "name": "stdout",
          "text": [
            "\n",
            "      Epoch    GPU_mem   box_loss   cls_loss   dfl_loss  Instances       Size\n"
          ]
        },
        {
          "output_type": "stream",
          "name": "stderr",
          "text": [
            "     59/100      1.67G     0.8448      1.899      1.295         21        640: 100%|██████████| 1/1 [00:00<00:00, 10.38it/s]\n",
            "                 Class     Images  Instances      Box(P          R      mAP50  mAP50-95): 100%|██████████| 1/1 [00:00<00:00, 19.35it/s]"
          ]
        },
        {
          "output_type": "stream",
          "name": "stdout",
          "text": [
            "                   all          4         17      0.948      0.371      0.469      0.358\n"
          ]
        },
        {
          "output_type": "stream",
          "name": "stderr",
          "text": [
            "\n"
          ]
        },
        {
          "output_type": "stream",
          "name": "stdout",
          "text": [
            "\n",
            "      Epoch    GPU_mem   box_loss   cls_loss   dfl_loss  Instances       Size\n"
          ]
        },
        {
          "output_type": "stream",
          "name": "stderr",
          "text": [
            "     60/100      1.68G     0.8648      1.334      1.231         52        640: 100%|██████████| 1/1 [00:00<00:00,  8.60it/s]\n",
            "                 Class     Images  Instances      Box(P          R      mAP50  mAP50-95): 100%|██████████| 1/1 [00:00<00:00, 17.35it/s]\n"
          ]
        },
        {
          "output_type": "stream",
          "name": "stdout",
          "text": [
            "                   all          4         17      0.954      0.373       0.47      0.361\n",
            "\n",
            "      Epoch    GPU_mem   box_loss   cls_loss   dfl_loss  Instances       Size\n"
          ]
        },
        {
          "output_type": "stream",
          "name": "stderr",
          "text": [
            "     61/100      1.69G     0.6242      1.012      1.152         24        640: 100%|██████████| 1/1 [00:00<00:00, 10.12it/s]\n",
            "                 Class     Images  Instances      Box(P          R      mAP50  mAP50-95): 100%|██████████| 1/1 [00:00<00:00, 18.59it/s]"
          ]
        },
        {
          "output_type": "stream",
          "name": "stdout",
          "text": [
            "                   all          4         17      0.954      0.373       0.47      0.361\n"
          ]
        },
        {
          "output_type": "stream",
          "name": "stderr",
          "text": [
            "\n"
          ]
        },
        {
          "output_type": "stream",
          "name": "stdout",
          "text": [
            "\n",
            "      Epoch    GPU_mem   box_loss   cls_loss   dfl_loss  Instances       Size\n"
          ]
        },
        {
          "output_type": "stream",
          "name": "stderr",
          "text": [
            "     62/100      1.72G     0.7108     0.7773        1.1         28        640: 100%|██████████| 1/1 [00:00<00:00,  8.98it/s]\n",
            "                 Class     Images  Instances      Box(P          R      mAP50  mAP50-95): 100%|██████████| 1/1 [00:00<00:00, 19.59it/s]"
          ]
        },
        {
          "output_type": "stream",
          "name": "stdout",
          "text": [
            "                   all          4         17      0.954      0.373       0.47      0.361\n"
          ]
        },
        {
          "output_type": "stream",
          "name": "stderr",
          "text": [
            "\n"
          ]
        },
        {
          "output_type": "stream",
          "name": "stdout",
          "text": [
            "\n",
            "      Epoch    GPU_mem   box_loss   cls_loss   dfl_loss  Instances       Size\n"
          ]
        },
        {
          "output_type": "stream",
          "name": "stderr",
          "text": [
            "     63/100      1.74G     0.6891     0.8005      1.054         30        640: 100%|██████████| 1/1 [00:00<00:00,  7.15it/s]\n",
            "                 Class     Images  Instances      Box(P          R      mAP50  mAP50-95): 100%|██████████| 1/1 [00:00<00:00, 18.31it/s]"
          ]
        },
        {
          "output_type": "stream",
          "name": "stdout",
          "text": [
            "                   all          4         17      0.955       0.37      0.424      0.308\n"
          ]
        },
        {
          "output_type": "stream",
          "name": "stderr",
          "text": [
            "\n"
          ]
        },
        {
          "output_type": "stream",
          "name": "stdout",
          "text": [
            "\n",
            "      Epoch    GPU_mem   box_loss   cls_loss   dfl_loss  Instances       Size\n"
          ]
        },
        {
          "output_type": "stream",
          "name": "stderr",
          "text": [
            "     64/100      1.75G      1.356      2.796      1.519         13        640: 100%|██████████| 1/1 [00:00<00:00,  9.83it/s]\n",
            "                 Class     Images  Instances      Box(P          R      mAP50  mAP50-95): 100%|██████████| 1/1 [00:00<00:00, 19.63it/s]"
          ]
        },
        {
          "output_type": "stream",
          "name": "stdout",
          "text": [
            "                   all          4         17      0.955       0.37      0.424      0.308\n"
          ]
        },
        {
          "output_type": "stream",
          "name": "stderr",
          "text": [
            "\n"
          ]
        },
        {
          "output_type": "stream",
          "name": "stdout",
          "text": [
            "\n",
            "      Epoch    GPU_mem   box_loss   cls_loss   dfl_loss  Instances       Size\n"
          ]
        },
        {
          "output_type": "stream",
          "name": "stderr",
          "text": [
            "     65/100      1.77G     0.9426      1.273      1.341         26        640: 100%|██████████| 1/1 [00:00<00:00,  8.90it/s]\n",
            "                 Class     Images  Instances      Box(P          R      mAP50  mAP50-95): 100%|██████████| 1/1 [00:00<00:00, 19.49it/s]"
          ]
        },
        {
          "output_type": "stream",
          "name": "stdout",
          "text": [
            "                   all          4         17      0.955       0.37      0.424      0.308\n"
          ]
        },
        {
          "output_type": "stream",
          "name": "stderr",
          "text": [
            "\n"
          ]
        },
        {
          "output_type": "stream",
          "name": "stdout",
          "text": [
            "\n",
            "      Epoch    GPU_mem   box_loss   cls_loss   dfl_loss  Instances       Size\n"
          ]
        },
        {
          "output_type": "stream",
          "name": "stderr",
          "text": [
            "     66/100      1.79G      0.553     0.6015      1.016         25        640: 100%|██████████| 1/1 [00:00<00:00,  8.39it/s]\n",
            "                 Class     Images  Instances      Box(P          R      mAP50  mAP50-95): 100%|██████████| 1/1 [00:00<00:00, 19.26it/s]"
          ]
        },
        {
          "output_type": "stream",
          "name": "stdout",
          "text": [
            "                   all          4         17      0.962       0.37      0.426      0.307\n"
          ]
        },
        {
          "output_type": "stream",
          "name": "stderr",
          "text": [
            "\n"
          ]
        },
        {
          "output_type": "stream",
          "name": "stdout",
          "text": [
            "\n",
            "      Epoch    GPU_mem   box_loss   cls_loss   dfl_loss  Instances       Size\n"
          ]
        },
        {
          "output_type": "stream",
          "name": "stderr",
          "text": [
            "     67/100       1.8G      0.785      0.912      1.074         22        640: 100%|██████████| 1/1 [00:00<00:00,  9.79it/s]\n",
            "                 Class     Images  Instances      Box(P          R      mAP50  mAP50-95): 100%|██████████| 1/1 [00:00<00:00, 19.55it/s]"
          ]
        },
        {
          "output_type": "stream",
          "name": "stdout",
          "text": [
            "                   all          4         17      0.962       0.37      0.426      0.307\n"
          ]
        },
        {
          "output_type": "stream",
          "name": "stderr",
          "text": [
            "\n"
          ]
        },
        {
          "output_type": "stream",
          "name": "stdout",
          "text": [
            "\n",
            "      Epoch    GPU_mem   box_loss   cls_loss   dfl_loss  Instances       Size\n"
          ]
        },
        {
          "output_type": "stream",
          "name": "stderr",
          "text": [
            "     68/100      1.83G      0.639     0.6469      1.138         25        640: 100%|██████████| 1/1 [00:00<00:00,  7.05it/s]\n",
            "                 Class     Images  Instances      Box(P          R      mAP50  mAP50-95): 100%|██████████| 1/1 [00:00<00:00, 15.41it/s]"
          ]
        },
        {
          "output_type": "stream",
          "name": "stdout",
          "text": [
            "                   all          4         17      0.962       0.37      0.426      0.307\n"
          ]
        },
        {
          "output_type": "stream",
          "name": "stderr",
          "text": [
            "\n"
          ]
        },
        {
          "output_type": "stream",
          "name": "stdout",
          "text": [
            "\n",
            "      Epoch    GPU_mem   box_loss   cls_loss   dfl_loss  Instances       Size\n"
          ]
        },
        {
          "output_type": "stream",
          "name": "stderr",
          "text": [
            "     69/100      1.85G     0.7203     0.8673      1.106         14        640: 100%|██████████| 1/1 [00:00<00:00,  8.54it/s]\n",
            "                 Class     Images  Instances      Box(P          R      mAP50  mAP50-95): 100%|██████████| 1/1 [00:00<00:00, 18.88it/s]"
          ]
        },
        {
          "output_type": "stream",
          "name": "stdout",
          "text": [
            "                   all          4         17      0.962       0.37      0.424      0.308\n"
          ]
        },
        {
          "output_type": "stream",
          "name": "stderr",
          "text": [
            "\n"
          ]
        },
        {
          "output_type": "stream",
          "name": "stdout",
          "text": [
            "\n",
            "      Epoch    GPU_mem   box_loss   cls_loss   dfl_loss  Instances       Size\n"
          ]
        },
        {
          "output_type": "stream",
          "name": "stderr",
          "text": [
            "     70/100      1.85G     0.6555     0.6809      1.043         34        640: 100%|██████████| 1/1 [00:00<00:00, 10.56it/s]\n",
            "                 Class     Images  Instances      Box(P          R      mAP50  mAP50-95): 100%|██████████| 1/1 [00:00<00:00, 14.44it/s]"
          ]
        },
        {
          "output_type": "stream",
          "name": "stdout",
          "text": [
            "                   all          4         17      0.962       0.37      0.424      0.308\n"
          ]
        },
        {
          "output_type": "stream",
          "name": "stderr",
          "text": [
            "\n"
          ]
        },
        {
          "output_type": "stream",
          "name": "stdout",
          "text": [
            "\n",
            "      Epoch    GPU_mem   box_loss   cls_loss   dfl_loss  Instances       Size\n"
          ]
        },
        {
          "output_type": "stream",
          "name": "stderr",
          "text": [
            "     71/100      1.88G     0.8429      1.096      1.238         43        640: 100%|██████████| 1/1 [00:00<00:00,  9.74it/s]\n",
            "                 Class     Images  Instances      Box(P          R      mAP50  mAP50-95): 100%|██████████| 1/1 [00:00<00:00, 19.98it/s]"
          ]
        },
        {
          "output_type": "stream",
          "name": "stdout",
          "text": [
            "                   all          4         17      0.962       0.37      0.424      0.308\n"
          ]
        },
        {
          "output_type": "stream",
          "name": "stderr",
          "text": [
            "\n"
          ]
        },
        {
          "output_type": "stream",
          "name": "stdout",
          "text": [
            "\n",
            "      Epoch    GPU_mem   box_loss   cls_loss   dfl_loss  Instances       Size\n"
          ]
        },
        {
          "output_type": "stream",
          "name": "stderr",
          "text": [
            "     72/100       1.9G     0.8159      1.459      1.289         21        640: 100%|██████████| 1/1 [00:00<00:00,  8.49it/s]\n",
            "                 Class     Images  Instances      Box(P          R      mAP50  mAP50-95): 100%|██████████| 1/1 [00:00<00:00, 18.40it/s]"
          ]
        },
        {
          "output_type": "stream",
          "name": "stdout",
          "text": [
            "                   all          4         17      0.958      0.368      0.425      0.306\n"
          ]
        },
        {
          "output_type": "stream",
          "name": "stderr",
          "text": [
            "\n"
          ]
        },
        {
          "output_type": "stream",
          "name": "stdout",
          "text": [
            "\n",
            "      Epoch    GPU_mem   box_loss   cls_loss   dfl_loss  Instances       Size\n"
          ]
        },
        {
          "output_type": "stream",
          "name": "stderr",
          "text": [
            "     73/100      1.91G      0.743      1.022      1.205         35        640: 100%|██████████| 1/1 [00:00<00:00,  8.46it/s]\n",
            "                 Class     Images  Instances      Box(P          R      mAP50  mAP50-95): 100%|██████████| 1/1 [00:00<00:00, 17.91it/s]\n"
          ]
        },
        {
          "output_type": "stream",
          "name": "stdout",
          "text": [
            "                   all          4         17      0.958      0.368      0.425      0.306\n",
            "\n",
            "      Epoch    GPU_mem   box_loss   cls_loss   dfl_loss  Instances       Size\n"
          ]
        },
        {
          "output_type": "stream",
          "name": "stderr",
          "text": [
            "     74/100      1.94G      0.768     0.9082       1.14         26        640: 100%|██████████| 1/1 [00:00<00:00,  9.07it/s]\n",
            "                 Class     Images  Instances      Box(P          R      mAP50  mAP50-95): 100%|██████████| 1/1 [00:00<00:00, 18.84it/s]"
          ]
        },
        {
          "output_type": "stream",
          "name": "stdout",
          "text": [
            "                   all          4         17      0.958      0.368      0.425      0.306\n"
          ]
        },
        {
          "output_type": "stream",
          "name": "stderr",
          "text": [
            "\n"
          ]
        },
        {
          "output_type": "stream",
          "name": "stdout",
          "text": [
            "\n",
            "      Epoch    GPU_mem   box_loss   cls_loss   dfl_loss  Instances       Size\n"
          ]
        },
        {
          "output_type": "stream",
          "name": "stderr",
          "text": [
            "     75/100      1.95G     0.6567     0.7807      1.068         34        640: 100%|██████████| 1/1 [00:00<00:00,  8.36it/s]\n",
            "                 Class     Images  Instances      Box(P          R      mAP50  mAP50-95): 100%|██████████| 1/1 [00:00<00:00, 16.97it/s]\n"
          ]
        },
        {
          "output_type": "stream",
          "name": "stdout",
          "text": [
            "                   all          4         17      0.954      0.381      0.428      0.298\n",
            "\n",
            "      Epoch    GPU_mem   box_loss   cls_loss   dfl_loss  Instances       Size\n"
          ]
        },
        {
          "output_type": "stream",
          "name": "stderr",
          "text": [
            "     76/100      1.96G     0.5926     0.7512      1.101         23        640: 100%|██████████| 1/1 [00:00<00:00,  9.73it/s]\n",
            "                 Class     Images  Instances      Box(P          R      mAP50  mAP50-95): 100%|██████████| 1/1 [00:00<00:00, 18.92it/s]"
          ]
        },
        {
          "output_type": "stream",
          "name": "stdout",
          "text": [
            "                   all          4         17      0.954      0.381      0.428      0.298\n"
          ]
        },
        {
          "output_type": "stream",
          "name": "stderr",
          "text": [
            "\n"
          ]
        },
        {
          "output_type": "stream",
          "name": "stdout",
          "text": [
            "\n",
            "      Epoch    GPU_mem   box_loss   cls_loss   dfl_loss  Instances       Size\n"
          ]
        },
        {
          "output_type": "stream",
          "name": "stderr",
          "text": [
            "     77/100      1.99G     0.7864      1.059      1.181         22        640: 100%|██████████| 1/1 [00:00<00:00,  8.28it/s]\n",
            "                 Class     Images  Instances      Box(P          R      mAP50  mAP50-95): 100%|██████████| 1/1 [00:00<00:00, 19.04it/s]"
          ]
        },
        {
          "output_type": "stream",
          "name": "stdout",
          "text": [
            "                   all          4         17      0.954      0.381      0.428      0.298\n"
          ]
        },
        {
          "output_type": "stream",
          "name": "stderr",
          "text": [
            "\n"
          ]
        },
        {
          "output_type": "stream",
          "name": "stdout",
          "text": [
            "\n",
            "      Epoch    GPU_mem   box_loss   cls_loss   dfl_loss  Instances       Size\n"
          ]
        },
        {
          "output_type": "stream",
          "name": "stderr",
          "text": [
            "     78/100      2.01G     0.6034     0.8504      1.094         13        640: 100%|██████████| 1/1 [00:00<00:00,  6.80it/s]\n",
            "                 Class     Images  Instances      Box(P          R      mAP50  mAP50-95): 100%|██████████| 1/1 [00:00<00:00, 19.42it/s]"
          ]
        },
        {
          "output_type": "stream",
          "name": "stdout",
          "text": [
            "                   all          4         17      0.967      0.383      0.432      0.297\n"
          ]
        },
        {
          "output_type": "stream",
          "name": "stderr",
          "text": [
            "\n"
          ]
        },
        {
          "output_type": "stream",
          "name": "stdout",
          "text": [
            "\n",
            "      Epoch    GPU_mem   box_loss   cls_loss   dfl_loss  Instances       Size\n"
          ]
        },
        {
          "output_type": "stream",
          "name": "stderr",
          "text": [
            "     79/100      2.01G      0.629       0.71      1.118         32        640: 100%|██████████| 1/1 [00:00<00:00,  7.37it/s]\n",
            "                 Class     Images  Instances      Box(P          R      mAP50  mAP50-95): 100%|██████████| 1/1 [00:00<00:00, 13.39it/s]"
          ]
        },
        {
          "output_type": "stream",
          "name": "stdout",
          "text": [
            "                   all          4         17      0.967      0.383      0.432      0.297\n"
          ]
        },
        {
          "output_type": "stream",
          "name": "stderr",
          "text": [
            "\n"
          ]
        },
        {
          "output_type": "stream",
          "name": "stdout",
          "text": [
            "\n",
            "      Epoch    GPU_mem   box_loss   cls_loss   dfl_loss  Instances       Size\n"
          ]
        },
        {
          "output_type": "stream",
          "name": "stderr",
          "text": [
            "     80/100      2.04G     0.5254     0.7555      1.086         21        640: 100%|██████████| 1/1 [00:00<00:00,  9.28it/s]\n",
            "                 Class     Images  Instances      Box(P          R      mAP50  mAP50-95): 100%|██████████| 1/1 [00:00<00:00, 12.73it/s]"
          ]
        },
        {
          "output_type": "stream",
          "name": "stdout",
          "text": [
            "                   all          4         17      0.967      0.383      0.432      0.297\n"
          ]
        },
        {
          "output_type": "stream",
          "name": "stderr",
          "text": [
            "\n"
          ]
        },
        {
          "output_type": "stream",
          "name": "stdout",
          "text": [
            "\n",
            "      Epoch    GPU_mem   box_loss   cls_loss   dfl_loss  Instances       Size\n"
          ]
        },
        {
          "output_type": "stream",
          "name": "stderr",
          "text": [
            "     81/100      2.06G     0.6034     0.6075       1.11         21        640: 100%|██████████| 1/1 [00:00<00:00,  5.50it/s]\n",
            "                 Class     Images  Instances      Box(P          R      mAP50  mAP50-95): 100%|██████████| 1/1 [00:00<00:00, 12.77it/s]"
          ]
        },
        {
          "output_type": "stream",
          "name": "stdout",
          "text": [
            "                   all          4         17      0.962      0.394      0.433      0.302\n"
          ]
        },
        {
          "output_type": "stream",
          "name": "stderr",
          "text": [
            "\n"
          ]
        },
        {
          "output_type": "stream",
          "name": "stdout",
          "text": [
            "\n",
            "      Epoch    GPU_mem   box_loss   cls_loss   dfl_loss  Instances       Size\n"
          ]
        },
        {
          "output_type": "stream",
          "name": "stderr",
          "text": [
            "     82/100      2.07G     0.5089     0.7808      1.006         25        640: 100%|██████████| 1/1 [00:00<00:00,  5.89it/s]\n",
            "                 Class     Images  Instances      Box(P          R      mAP50  mAP50-95): 100%|██████████| 1/1 [00:00<00:00, 14.85it/s]"
          ]
        },
        {
          "output_type": "stream",
          "name": "stdout",
          "text": [
            "                   all          4         17      0.962      0.394      0.433      0.302\n"
          ]
        },
        {
          "output_type": "stream",
          "name": "stderr",
          "text": [
            "\n"
          ]
        },
        {
          "output_type": "stream",
          "name": "stdout",
          "text": [
            "\n",
            "      Epoch    GPU_mem   box_loss   cls_loss   dfl_loss  Instances       Size\n"
          ]
        },
        {
          "output_type": "stream",
          "name": "stderr",
          "text": [
            "     83/100       2.1G     0.7653     0.9698      1.106         51        640: 100%|██████████| 1/1 [00:00<00:00,  6.15it/s]\n",
            "                 Class     Images  Instances      Box(P          R      mAP50  mAP50-95): 100%|██████████| 1/1 [00:00<00:00, 18.70it/s]"
          ]
        },
        {
          "output_type": "stream",
          "name": "stdout",
          "text": [
            "                   all          4         17      0.962      0.394      0.433      0.302\n"
          ]
        },
        {
          "output_type": "stream",
          "name": "stderr",
          "text": [
            "\n"
          ]
        },
        {
          "output_type": "stream",
          "name": "stdout",
          "text": [
            "\n",
            "      Epoch    GPU_mem   box_loss   cls_loss   dfl_loss  Instances       Size\n"
          ]
        },
        {
          "output_type": "stream",
          "name": "stderr",
          "text": [
            "     84/100      2.11G     0.6071     0.5519      1.016         24        640: 100%|██████████| 1/1 [00:00<00:00,  7.50it/s]\n",
            "                 Class     Images  Instances      Box(P          R      mAP50  mAP50-95): 100%|██████████| 1/1 [00:00<00:00, 18.60it/s]"
          ]
        },
        {
          "output_type": "stream",
          "name": "stdout",
          "text": [
            "                   all          4         17       0.93        0.4      0.433      0.303\n"
          ]
        },
        {
          "output_type": "stream",
          "name": "stderr",
          "text": [
            "\n"
          ]
        },
        {
          "output_type": "stream",
          "name": "stdout",
          "text": [
            "\n",
            "      Epoch    GPU_mem   box_loss   cls_loss   dfl_loss  Instances       Size\n"
          ]
        },
        {
          "output_type": "stream",
          "name": "stderr",
          "text": [
            "     85/100      2.12G     0.6456     0.8547      1.072         23        640: 100%|██████████| 1/1 [00:00<00:00,  9.39it/s]\n",
            "                 Class     Images  Instances      Box(P          R      mAP50  mAP50-95): 100%|██████████| 1/1 [00:00<00:00, 19.70it/s]"
          ]
        },
        {
          "output_type": "stream",
          "name": "stdout",
          "text": [
            "                   all          4         17       0.93        0.4      0.433      0.303\n"
          ]
        },
        {
          "output_type": "stream",
          "name": "stderr",
          "text": [
            "\n"
          ]
        },
        {
          "output_type": "stream",
          "name": "stdout",
          "text": [
            "\n",
            "      Epoch    GPU_mem   box_loss   cls_loss   dfl_loss  Instances       Size\n"
          ]
        },
        {
          "output_type": "stream",
          "name": "stderr",
          "text": [
            "     86/100      2.15G     0.7129     0.7669      1.214         24        640: 100%|██████████| 1/1 [00:00<00:00,  8.74it/s]\n",
            "                 Class     Images  Instances      Box(P          R      mAP50  mAP50-95): 100%|██████████| 1/1 [00:00<00:00, 18.70it/s]"
          ]
        },
        {
          "output_type": "stream",
          "name": "stdout",
          "text": [
            "                   all          4         17       0.93        0.4      0.433      0.303\n"
          ]
        },
        {
          "output_type": "stream",
          "name": "stderr",
          "text": [
            "\n"
          ]
        },
        {
          "output_type": "stream",
          "name": "stdout",
          "text": [
            "\n",
            "      Epoch    GPU_mem   box_loss   cls_loss   dfl_loss  Instances       Size\n"
          ]
        },
        {
          "output_type": "stream",
          "name": "stderr",
          "text": [
            "     87/100      2.17G     0.7247     0.8475       1.24         24        640: 100%|██████████| 1/1 [00:00<00:00,  8.80it/s]\n",
            "                 Class     Images  Instances      Box(P          R      mAP50  mAP50-95): 100%|██████████| 1/1 [00:00<00:00, 18.67it/s]"
          ]
        },
        {
          "output_type": "stream",
          "name": "stdout",
          "text": [
            "                   all          4         17       0.93        0.4      0.433      0.303\n"
          ]
        },
        {
          "output_type": "stream",
          "name": "stderr",
          "text": [
            "\n"
          ]
        },
        {
          "output_type": "stream",
          "name": "stdout",
          "text": [
            "\n",
            "      Epoch    GPU_mem   box_loss   cls_loss   dfl_loss  Instances       Size\n"
          ]
        },
        {
          "output_type": "stream",
          "name": "stderr",
          "text": [
            "     88/100      2.19G     0.7364     0.7962      1.172         31        640: 100%|██████████| 1/1 [00:00<00:00,  8.56it/s]\n",
            "                 Class     Images  Instances      Box(P          R      mAP50  mAP50-95): 100%|██████████| 1/1 [00:00<00:00, 17.98it/s]"
          ]
        },
        {
          "output_type": "stream",
          "name": "stdout",
          "text": [
            "                   all          4         17      0.936        0.4      0.433      0.287\n"
          ]
        },
        {
          "output_type": "stream",
          "name": "stderr",
          "text": [
            "\n"
          ]
        },
        {
          "output_type": "stream",
          "name": "stdout",
          "text": [
            "\n",
            "      Epoch    GPU_mem   box_loss   cls_loss   dfl_loss  Instances       Size\n"
          ]
        },
        {
          "output_type": "stream",
          "name": "stderr",
          "text": [
            "     89/100      2.19G     0.7395     0.7133      1.056         27        640: 100%|██████████| 1/1 [00:00<00:00,  9.85it/s]\n",
            "                 Class     Images  Instances      Box(P          R      mAP50  mAP50-95): 100%|██████████| 1/1 [00:00<00:00, 18.96it/s]"
          ]
        },
        {
          "output_type": "stream",
          "name": "stdout",
          "text": [
            "                   all          4         17      0.936        0.4      0.433      0.287\n"
          ]
        },
        {
          "output_type": "stream",
          "name": "stderr",
          "text": [
            "\n"
          ]
        },
        {
          "output_type": "stream",
          "name": "stdout",
          "text": [
            "\n",
            "      Epoch    GPU_mem   box_loss   cls_loss   dfl_loss  Instances       Size\n"
          ]
        },
        {
          "output_type": "stream",
          "name": "stderr",
          "text": [
            "     90/100      2.22G     0.7299     0.6876      1.226         25        640: 100%|██████████| 1/1 [00:00<00:00,  6.42it/s]\n",
            "                 Class     Images  Instances      Box(P          R      mAP50  mAP50-95): 100%|██████████| 1/1 [00:00<00:00, 17.45it/s]"
          ]
        },
        {
          "output_type": "stream",
          "name": "stdout",
          "text": [
            "                   all          4         17      0.936        0.4      0.433      0.287\n"
          ]
        },
        {
          "output_type": "stream",
          "name": "stderr",
          "text": [
            "\n"
          ]
        },
        {
          "output_type": "stream",
          "name": "stdout",
          "text": [
            "Closing dataloader mosaic\n",
            "\u001b[34m\u001b[1malbumentations: \u001b[0mBlur(p=0.01, blur_limit=(3, 7)), MedianBlur(p=0.01, blur_limit=(3, 7)), ToGray(p=0.01, num_output_channels=3, method='weighted_average'), CLAHE(p=0.01, clip_limit=(1.0, 4.0), tile_grid_size=(8, 8))\n",
            "\n",
            "      Epoch    GPU_mem   box_loss   cls_loss   dfl_loss  Instances       Size\n"
          ]
        },
        {
          "output_type": "stream",
          "name": "stderr",
          "text": [
            "     91/100      2.24G      0.498     0.5064     0.9498         13        640: 100%|██████████| 1/1 [00:00<00:00,  3.81it/s]\n",
            "                 Class     Images  Instances      Box(P          R      mAP50  mAP50-95): 100%|██████████| 1/1 [00:00<00:00, 12.26it/s]"
          ]
        },
        {
          "output_type": "stream",
          "name": "stdout",
          "text": [
            "                   all          4         17      0.936        0.4      0.433      0.287\n"
          ]
        },
        {
          "output_type": "stream",
          "name": "stderr",
          "text": [
            "\n"
          ]
        },
        {
          "output_type": "stream",
          "name": "stdout",
          "text": [
            "\n",
            "      Epoch    GPU_mem   box_loss   cls_loss   dfl_loss  Instances       Size\n"
          ]
        },
        {
          "output_type": "stream",
          "name": "stderr",
          "text": [
            "     92/100      2.25G      0.522     0.5152     0.9921         13        640: 100%|██████████| 1/1 [00:00<00:00,  7.34it/s]\n",
            "                 Class     Images  Instances      Box(P          R      mAP50  mAP50-95): 100%|██████████| 1/1 [00:00<00:00, 12.82it/s]"
          ]
        },
        {
          "output_type": "stream",
          "name": "stdout",
          "text": [
            "                   all          4         17      0.933      0.398      0.433      0.286\n"
          ]
        },
        {
          "output_type": "stream",
          "name": "stderr",
          "text": [
            "\n"
          ]
        },
        {
          "output_type": "stream",
          "name": "stdout",
          "text": [
            "\n",
            "      Epoch    GPU_mem   box_loss   cls_loss   dfl_loss  Instances       Size\n"
          ]
        },
        {
          "output_type": "stream",
          "name": "stderr",
          "text": [
            "     93/100      2.26G      0.468     0.4824     0.9588         13        640: 100%|██████████| 1/1 [00:00<00:00,  9.42it/s]\n",
            "                 Class     Images  Instances      Box(P          R      mAP50  mAP50-95): 100%|██████████| 1/1 [00:00<00:00, 13.07it/s]"
          ]
        },
        {
          "output_type": "stream",
          "name": "stdout",
          "text": [
            "                   all          4         17      0.933      0.398      0.433      0.286\n"
          ]
        },
        {
          "output_type": "stream",
          "name": "stderr",
          "text": [
            "\n"
          ]
        },
        {
          "output_type": "stream",
          "name": "stdout",
          "text": [
            "\n",
            "      Epoch    GPU_mem   box_loss   cls_loss   dfl_loss  Instances       Size\n"
          ]
        },
        {
          "output_type": "stream",
          "name": "stderr",
          "text": [
            "     94/100      2.29G     0.5287     0.5106     0.9734         13        640: 100%|██████████| 1/1 [00:00<00:00,  9.21it/s]\n",
            "                 Class     Images  Instances      Box(P          R      mAP50  mAP50-95): 100%|██████████| 1/1 [00:00<00:00, 17.53it/s]"
          ]
        },
        {
          "output_type": "stream",
          "name": "stdout",
          "text": [
            "                   all          4         17      0.933      0.398      0.433      0.286\n"
          ]
        },
        {
          "output_type": "stream",
          "name": "stderr",
          "text": [
            "\n"
          ]
        },
        {
          "output_type": "stream",
          "name": "stdout",
          "text": [
            "\n",
            "      Epoch    GPU_mem   box_loss   cls_loss   dfl_loss  Instances       Size\n"
          ]
        },
        {
          "output_type": "stream",
          "name": "stderr",
          "text": [
            "     95/100      2.31G     0.5551     0.4961     0.9474         13        640: 100%|██████████| 1/1 [00:00<00:00,  9.42it/s]\n",
            "                 Class     Images  Instances      Box(P          R      mAP50  mAP50-95): 100%|██████████| 1/1 [00:00<00:00, 18.62it/s]"
          ]
        },
        {
          "output_type": "stream",
          "name": "stdout",
          "text": [
            "                   all          4         17      0.933      0.398      0.433      0.286\n"
          ]
        },
        {
          "output_type": "stream",
          "name": "stderr",
          "text": [
            "\n"
          ]
        },
        {
          "output_type": "stream",
          "name": "stdout",
          "text": [
            "\n",
            "      Epoch    GPU_mem   box_loss   cls_loss   dfl_loss  Instances       Size\n"
          ]
        },
        {
          "output_type": "stream",
          "name": "stderr",
          "text": [
            "     96/100      2.33G     0.5116     0.5023     0.9847         13        640: 100%|██████████| 1/1 [00:00<00:00,  8.30it/s]\n",
            "                 Class     Images  Instances      Box(P          R      mAP50  mAP50-95): 100%|██████████| 1/1 [00:00<00:00, 18.96it/s]"
          ]
        },
        {
          "output_type": "stream",
          "name": "stdout",
          "text": [
            "                   all          4         17      0.909      0.383      0.435      0.302\n"
          ]
        },
        {
          "output_type": "stream",
          "name": "stderr",
          "text": [
            "\n"
          ]
        },
        {
          "output_type": "stream",
          "name": "stdout",
          "text": [
            "\n",
            "      Epoch    GPU_mem   box_loss   cls_loss   dfl_loss  Instances       Size\n"
          ]
        },
        {
          "output_type": "stream",
          "name": "stderr",
          "text": [
            "     97/100      2.33G     0.5513     0.5651     0.9713         13        640: 100%|██████████| 1/1 [00:00<00:00,  7.76it/s]\n",
            "                 Class     Images  Instances      Box(P          R      mAP50  mAP50-95): 100%|██████████| 1/1 [00:00<00:00, 19.27it/s]\n"
          ]
        },
        {
          "output_type": "stream",
          "name": "stdout",
          "text": [
            "                   all          4         17      0.909      0.383      0.435      0.302\n",
            "\n",
            "      Epoch    GPU_mem   box_loss   cls_loss   dfl_loss  Instances       Size\n"
          ]
        },
        {
          "output_type": "stream",
          "name": "stderr",
          "text": [
            "     98/100      2.36G     0.5877     0.5148      1.069         13        640: 100%|██████████| 1/1 [00:00<00:00,  7.95it/s]\n",
            "                 Class     Images  Instances      Box(P          R      mAP50  mAP50-95): 100%|██████████| 1/1 [00:00<00:00, 17.95it/s]"
          ]
        },
        {
          "output_type": "stream",
          "name": "stdout",
          "text": [
            "                   all          4         17      0.909      0.383      0.435      0.302\n"
          ]
        },
        {
          "output_type": "stream",
          "name": "stderr",
          "text": [
            "\n"
          ]
        },
        {
          "output_type": "stream",
          "name": "stdout",
          "text": [
            "\n",
            "      Epoch    GPU_mem   box_loss   cls_loss   dfl_loss  Instances       Size\n"
          ]
        },
        {
          "output_type": "stream",
          "name": "stderr",
          "text": [
            "     99/100      2.38G     0.4385     0.4467     0.9136         13        640: 100%|██████████| 1/1 [00:00<00:00,  9.04it/s]\n",
            "                 Class     Images  Instances      Box(P          R      mAP50  mAP50-95): 100%|██████████| 1/1 [00:00<00:00, 18.05it/s]"
          ]
        },
        {
          "output_type": "stream",
          "name": "stdout",
          "text": [
            "                   all          4         17      0.909      0.383      0.435      0.302\n"
          ]
        },
        {
          "output_type": "stream",
          "name": "stderr",
          "text": [
            "\n"
          ]
        },
        {
          "output_type": "stream",
          "name": "stdout",
          "text": [
            "\n",
            "      Epoch    GPU_mem   box_loss   cls_loss   dfl_loss  Instances       Size\n"
          ]
        },
        {
          "output_type": "stream",
          "name": "stderr",
          "text": [
            "    100/100       2.4G     0.5952      0.641     0.9996         13        640: 100%|██████████| 1/1 [00:00<00:00,  8.04it/s]\n",
            "                 Class     Images  Instances      Box(P          R      mAP50  mAP50-95): 100%|██████████| 1/1 [00:00<00:00, 19.62it/s]"
          ]
        },
        {
          "output_type": "stream",
          "name": "stdout",
          "text": [
            "                   all          4         17      0.918      0.383      0.432      0.303\n"
          ]
        },
        {
          "output_type": "stream",
          "name": "stderr",
          "text": [
            "\n"
          ]
        },
        {
          "output_type": "stream",
          "name": "stdout",
          "text": [
            "\n",
            "100 epochs completed in 0.014 hours.\n",
            "Optimizer stripped from runs/detect/train/weights/last.pt, 6.5MB\n",
            "Optimizer stripped from runs/detect/train/weights/best.pt, 6.5MB\n",
            "\n",
            "Validating runs/detect/train/weights/best.pt...\n",
            "Ultralytics 8.3.116 🚀 Python-3.11.12 torch-2.6.0+cu124 CUDA:0 (Tesla T4, 15095MiB)\n",
            "Model summary (fused): 72 layers, 3,151,904 parameters, 0 gradients, 8.7 GFLOPs\n"
          ]
        },
        {
          "output_type": "stream",
          "name": "stderr",
          "text": [
            "                 Class     Images  Instances      Box(P          R      mAP50  mAP50-95): 100%|██████████| 1/1 [00:00<00:00, 21.17it/s]\n"
          ]
        },
        {
          "output_type": "stream",
          "name": "stdout",
          "text": [
            "                   all          4         17      0.611      0.858      0.888      0.622\n",
            "                person          3         10      0.676        0.5      0.519      0.282\n",
            "                   dog          1          1      0.347          1      0.995      0.597\n",
            "                 horse          1          2       0.74          1      0.995      0.631\n",
            "              elephant          1          2      0.549      0.647      0.828      0.332\n",
            "              umbrella          1          1      0.555          1      0.995      0.995\n",
            "          potted plant          1          1      0.797          1      0.995      0.895\n",
            "Speed: 0.3ms preprocess, 3.8ms inference, 0.0ms loss, 1.5ms postprocess per image\n",
            "Results saved to \u001b[1mruns/detect/train\u001b[0m\n"
          ]
        }
      ]
    },
    {
      "cell_type": "code",
      "source": [
        "train_results = model.train(\n",
        "    data=\"/content/data.yaml\",\n",
        "    epochs=50,\n",
        "    imgsz=640,\n",
        "    device=0\n",
        ")"
      ],
      "metadata": {
        "colab": {
          "base_uri": "https://localhost:8080/"
        },
        "outputId": "8a09447c-d77e-4c51-8de7-0e2a219485ee",
        "id": "Ollrn0PCvjMi",
        "collapsed": true
      },
      "execution_count": null,
      "outputs": [
        {
          "output_type": "stream",
          "name": "stdout",
          "text": [
            "Ultralytics 8.3.116 🚀 Python-3.11.12 torch-2.6.0+cu124 CUDA:0 (Tesla T4, 15095MiB)\n",
            "\u001b[34m\u001b[1mengine/trainer: \u001b[0mtask=detect, mode=train, model=yolov8n.pt, data=/content/data.yaml, epochs=50, time=None, patience=100, batch=16, imgsz=640, save=True, save_period=-1, cache=False, device=0, workers=8, project=None, name=train2, exist_ok=False, pretrained=True, optimizer=auto, verbose=True, seed=0, deterministic=True, single_cls=False, rect=False, cos_lr=False, close_mosaic=10, resume=False, amp=True, fraction=1.0, profile=False, freeze=None, multi_scale=False, overlap_mask=True, mask_ratio=4, dropout=0.0, val=True, split=val, save_json=False, conf=None, iou=0.7, max_det=300, half=False, dnn=False, plots=True, source=None, vid_stride=1, stream_buffer=False, visualize=False, augment=False, agnostic_nms=False, classes=None, retina_masks=False, embed=None, show=False, save_frames=False, save_txt=False, save_conf=False, save_crop=False, show_labels=True, show_conf=True, show_boxes=True, line_width=None, format=torchscript, keras=False, optimize=False, int8=False, dynamic=False, simplify=True, opset=None, workspace=None, nms=False, lr0=0.01, lrf=0.01, momentum=0.937, weight_decay=0.0005, warmup_epochs=3.0, warmup_momentum=0.8, warmup_bias_lr=0.0, box=7.5, cls=0.5, dfl=1.5, pose=12.0, kobj=1.0, nbs=64, hsv_h=0.015, hsv_s=0.7, hsv_v=0.4, degrees=0.0, translate=0.1, scale=0.5, shear=0.0, perspective=0.0, flipud=0.0, fliplr=0.5, bgr=0.0, mosaic=1.0, mixup=0.0, copy_paste=0.0, copy_paste_mode=flip, auto_augment=randaugment, erasing=0.4, cfg=None, tracker=botsort.yaml, save_dir=runs/detect/train2\n",
            "Overriding model.yaml nc=80 with nc=12\n",
            "\n",
            "                   from  n    params  module                                       arguments                     \n",
            "  0                  -1  1       464  ultralytics.nn.modules.conv.Conv             [3, 16, 3, 2]                 \n",
            "  1                  -1  1      4672  ultralytics.nn.modules.conv.Conv             [16, 32, 3, 2]                \n",
            "  2                  -1  1      7360  ultralytics.nn.modules.block.C2f             [32, 32, 1, True]             \n",
            "  3                  -1  1     18560  ultralytics.nn.modules.conv.Conv             [32, 64, 3, 2]                \n",
            "  4                  -1  2     49664  ultralytics.nn.modules.block.C2f             [64, 64, 2, True]             \n",
            "  5                  -1  1     73984  ultralytics.nn.modules.conv.Conv             [64, 128, 3, 2]               \n",
            "  6                  -1  2    197632  ultralytics.nn.modules.block.C2f             [128, 128, 2, True]           \n",
            "  7                  -1  1    295424  ultralytics.nn.modules.conv.Conv             [128, 256, 3, 2]              \n",
            "  8                  -1  1    460288  ultralytics.nn.modules.block.C2f             [256, 256, 1, True]           \n",
            "  9                  -1  1    164608  ultralytics.nn.modules.block.SPPF            [256, 256, 5]                 \n",
            " 10                  -1  1         0  torch.nn.modules.upsampling.Upsample         [None, 2, 'nearest']          \n",
            " 11             [-1, 6]  1         0  ultralytics.nn.modules.conv.Concat           [1]                           \n",
            " 12                  -1  1    148224  ultralytics.nn.modules.block.C2f             [384, 128, 1]                 \n",
            " 13                  -1  1         0  torch.nn.modules.upsampling.Upsample         [None, 2, 'nearest']          \n",
            " 14             [-1, 4]  1         0  ultralytics.nn.modules.conv.Concat           [1]                           \n",
            " 15                  -1  1     37248  ultralytics.nn.modules.block.C2f             [192, 64, 1]                  \n",
            " 16                  -1  1     36992  ultralytics.nn.modules.conv.Conv             [64, 64, 3, 2]                \n",
            " 17            [-1, 12]  1         0  ultralytics.nn.modules.conv.Concat           [1]                           \n",
            " 18                  -1  1    123648  ultralytics.nn.modules.block.C2f             [192, 128, 1]                 \n",
            " 19                  -1  1    147712  ultralytics.nn.modules.conv.Conv             [128, 128, 3, 2]              \n",
            " 20             [-1, 9]  1         0  ultralytics.nn.modules.conv.Concat           [1]                           \n",
            " 21                  -1  1    493056  ultralytics.nn.modules.block.C2f             [384, 256, 1]                 \n",
            " 22        [15, 18, 21]  1    753652  ultralytics.nn.modules.head.Detect           [12, [64, 128, 256]]          \n",
            "Model summary: 129 layers, 3,013,188 parameters, 3,013,172 gradients, 8.2 GFLOPs\n",
            "\n",
            "Transferred 319/355 items from pretrained weights\n",
            "Freezing layer 'model.22.dfl.conv.weight'\n",
            "\u001b[34m\u001b[1mAMP: \u001b[0mrunning Automatic Mixed Precision (AMP) checks...\n",
            "\u001b[34m\u001b[1mAMP: \u001b[0mchecks passed ✅\n",
            "\u001b[34m\u001b[1mtrain: \u001b[0mFast image access ✅ (ping: 0.0±0.0 ms, read: 1333.8±659.1 MB/s, size: 113.0 KB)\n"
          ]
        },
        {
          "output_type": "stream",
          "name": "stderr",
          "text": [
            "\u001b[34m\u001b[1mtrain: \u001b[0mScanning /content/labels/train... 700 images, 1 backgrounds, 0 corrupt: 100%|██████████| 700/700 [00:00<00:00, 932.52it/s]"
          ]
        },
        {
          "output_type": "stream",
          "name": "stdout",
          "text": [
            "\u001b[34m\u001b[1mtrain: \u001b[0m/content/images/train/2015_02634.jpg: corrupt JPEG restored and saved\n",
            "\u001b[34m\u001b[1mtrain: \u001b[0m/content/images/train/2015_02640.jpg: corrupt JPEG restored and saved\n",
            "\u001b[34m\u001b[1mtrain: \u001b[0m/content/images/train/2015_02641.jpg: corrupt JPEG restored and saved\n",
            "\u001b[34m\u001b[1mtrain: \u001b[0mNew cache created: /content/labels/train.cache\n",
            "\u001b[34m\u001b[1malbumentations: \u001b[0mBlur(p=0.01, blur_limit=(3, 7)), MedianBlur(p=0.01, blur_limit=(3, 7)), ToGray(p=0.01, num_output_channels=3, method='weighted_average'), CLAHE(p=0.01, clip_limit=(1.0, 4.0), tile_grid_size=(8, 8))\n"
          ]
        },
        {
          "output_type": "stream",
          "name": "stderr",
          "text": [
            "\n"
          ]
        },
        {
          "output_type": "stream",
          "name": "stdout",
          "text": [
            "\u001b[34m\u001b[1mval: \u001b[0mFast image access ✅ (ping: 0.0±0.0 ms, read: 467.1±151.7 MB/s, size: 308.1 KB)\n"
          ]
        },
        {
          "output_type": "stream",
          "name": "stderr",
          "text": [
            "\u001b[34m\u001b[1mval: \u001b[0mScanning /content/labels/val... 100 images, 0 backgrounds, 0 corrupt: 100%|██████████| 100/100 [00:00<00:00, 926.43it/s]"
          ]
        },
        {
          "output_type": "stream",
          "name": "stdout",
          "text": [
            "\u001b[34m\u001b[1mval: \u001b[0mNew cache created: /content/labels/val.cache\n"
          ]
        },
        {
          "output_type": "stream",
          "name": "stderr",
          "text": [
            "\n"
          ]
        },
        {
          "output_type": "stream",
          "name": "stdout",
          "text": [
            "Plotting labels to runs/detect/train2/labels.jpg... \n",
            "\u001b[34m\u001b[1moptimizer:\u001b[0m 'optimizer=auto' found, ignoring 'lr0=0.01' and 'momentum=0.937' and determining best 'optimizer', 'lr0' and 'momentum' automatically... \n",
            "\u001b[34m\u001b[1moptimizer:\u001b[0m AdamW(lr=0.000625, momentum=0.9) with parameter groups 57 weight(decay=0.0), 64 weight(decay=0.0005), 63 bias(decay=0.0)\n",
            "Image sizes 640 train, 640 val\n",
            "Using 2 dataloader workers\n",
            "Logging results to \u001b[1mruns/detect/train2\u001b[0m\n",
            "Starting training for 50 epochs...\n",
            "\n",
            "      Epoch    GPU_mem   box_loss   cls_loss   dfl_loss  Instances       Size\n"
          ]
        },
        {
          "output_type": "stream",
          "name": "stderr",
          "text": [
            "       1/50      2.35G      1.564      3.563      1.427         72        640: 100%|██████████| 44/44 [00:15<00:00,  2.83it/s]\n",
            "                 Class     Images  Instances      Box(P          R      mAP50  mAP50-95): 100%|██████████| 4/4 [00:01<00:00,  2.13it/s]\n"
          ]
        },
        {
          "output_type": "stream",
          "name": "stdout",
          "text": [
            "                   all        100        408      0.972     0.0452      0.195      0.129\n",
            "\n",
            "      Epoch    GPU_mem   box_loss   cls_loss   dfl_loss  Instances       Size\n"
          ]
        },
        {
          "output_type": "stream",
          "name": "stderr",
          "text": [
            "       2/50      2.85G      1.537      2.448      1.418        124        640: 100%|██████████| 44/44 [00:13<00:00,  3.36it/s]\n",
            "                 Class     Images  Instances      Box(P          R      mAP50  mAP50-95): 100%|██████████| 4/4 [00:01<00:00,  2.80it/s]"
          ]
        },
        {
          "output_type": "stream",
          "name": "stdout",
          "text": [
            "                   all        100        408      0.624      0.255      0.325      0.195\n"
          ]
        },
        {
          "output_type": "stream",
          "name": "stderr",
          "text": [
            "\n"
          ]
        },
        {
          "output_type": "stream",
          "name": "stdout",
          "text": [
            "\n",
            "      Epoch    GPU_mem   box_loss   cls_loss   dfl_loss  Instances       Size\n"
          ]
        },
        {
          "output_type": "stream",
          "name": "stderr",
          "text": [
            "       3/50      2.85G      1.525      2.255      1.425         85        640: 100%|██████████| 44/44 [00:12<00:00,  3.43it/s]\n",
            "                 Class     Images  Instances      Box(P          R      mAP50  mAP50-95): 100%|██████████| 4/4 [00:01<00:00,  2.98it/s]"
          ]
        },
        {
          "output_type": "stream",
          "name": "stdout",
          "text": [
            "                   all        100        408      0.563      0.323      0.378      0.224\n"
          ]
        },
        {
          "output_type": "stream",
          "name": "stderr",
          "text": [
            "\n"
          ]
        },
        {
          "output_type": "stream",
          "name": "stdout",
          "text": [
            "\n",
            "      Epoch    GPU_mem   box_loss   cls_loss   dfl_loss  Instances       Size\n"
          ]
        },
        {
          "output_type": "stream",
          "name": "stderr",
          "text": [
            "       4/50      2.85G      1.496      2.189      1.418        107        640: 100%|██████████| 44/44 [00:12<00:00,  3.44it/s]\n",
            "                 Class     Images  Instances      Box(P          R      mAP50  mAP50-95): 100%|██████████| 4/4 [00:01<00:00,  2.87it/s]"
          ]
        },
        {
          "output_type": "stream",
          "name": "stdout",
          "text": [
            "                   all        100        408      0.321      0.397      0.352      0.216\n"
          ]
        },
        {
          "output_type": "stream",
          "name": "stderr",
          "text": [
            "\n"
          ]
        },
        {
          "output_type": "stream",
          "name": "stdout",
          "text": [
            "\n",
            "      Epoch    GPU_mem   box_loss   cls_loss   dfl_loss  Instances       Size\n"
          ]
        },
        {
          "output_type": "stream",
          "name": "stderr",
          "text": [
            "       5/50      2.85G      1.495      2.017      1.381        108        640: 100%|██████████| 44/44 [00:12<00:00,  3.42it/s]\n",
            "                 Class     Images  Instances      Box(P          R      mAP50  mAP50-95): 100%|██████████| 4/4 [00:01<00:00,  2.75it/s]"
          ]
        },
        {
          "output_type": "stream",
          "name": "stdout",
          "text": [
            "                   all        100        408      0.659       0.35      0.408      0.234\n"
          ]
        },
        {
          "output_type": "stream",
          "name": "stderr",
          "text": [
            "\n"
          ]
        },
        {
          "output_type": "stream",
          "name": "stdout",
          "text": [
            "\n",
            "      Epoch    GPU_mem   box_loss   cls_loss   dfl_loss  Instances       Size\n"
          ]
        },
        {
          "output_type": "stream",
          "name": "stderr",
          "text": [
            "       6/50      2.85G      1.483      1.959      1.386         94        640: 100%|██████████| 44/44 [00:12<00:00,  3.39it/s]\n",
            "                 Class     Images  Instances      Box(P          R      mAP50  mAP50-95): 100%|██████████| 4/4 [00:01<00:00,  2.77it/s]"
          ]
        },
        {
          "output_type": "stream",
          "name": "stdout",
          "text": [
            "                   all        100        408      0.425      0.471      0.424      0.244\n"
          ]
        },
        {
          "output_type": "stream",
          "name": "stderr",
          "text": [
            "\n"
          ]
        },
        {
          "output_type": "stream",
          "name": "stdout",
          "text": [
            "\n",
            "      Epoch    GPU_mem   box_loss   cls_loss   dfl_loss  Instances       Size\n"
          ]
        },
        {
          "output_type": "stream",
          "name": "stderr",
          "text": [
            "       7/50      2.85G      1.443      1.847      1.372         66        640: 100%|██████████| 44/44 [00:12<00:00,  3.42it/s]\n",
            "                 Class     Images  Instances      Box(P          R      mAP50  mAP50-95): 100%|██████████| 4/4 [00:01<00:00,  3.12it/s]"
          ]
        },
        {
          "output_type": "stream",
          "name": "stdout",
          "text": [
            "                   all        100        408      0.483      0.364       0.37      0.203\n"
          ]
        },
        {
          "output_type": "stream",
          "name": "stderr",
          "text": [
            "\n"
          ]
        },
        {
          "output_type": "stream",
          "name": "stdout",
          "text": [
            "\n",
            "      Epoch    GPU_mem   box_loss   cls_loss   dfl_loss  Instances       Size\n"
          ]
        },
        {
          "output_type": "stream",
          "name": "stderr",
          "text": [
            "       8/50      2.85G      1.434      1.786      1.377         53        640: 100%|██████████| 44/44 [00:12<00:00,  3.46it/s]\n",
            "                 Class     Images  Instances      Box(P          R      mAP50  mAP50-95): 100%|██████████| 4/4 [00:02<00:00,  1.91it/s]\n"
          ]
        },
        {
          "output_type": "stream",
          "name": "stdout",
          "text": [
            "                   all        100        408      0.458      0.389      0.413      0.238\n",
            "\n",
            "      Epoch    GPU_mem   box_loss   cls_loss   dfl_loss  Instances       Size\n"
          ]
        },
        {
          "output_type": "stream",
          "name": "stderr",
          "text": [
            "       9/50      2.85G      1.421      1.796      1.373         70        640: 100%|██████████| 44/44 [00:12<00:00,  3.48it/s]\n",
            "                 Class     Images  Instances      Box(P          R      mAP50  mAP50-95): 100%|██████████| 4/4 [00:01<00:00,  2.28it/s]"
          ]
        },
        {
          "output_type": "stream",
          "name": "stdout",
          "text": [
            "                   all        100        408      0.569      0.369      0.433       0.25\n"
          ]
        },
        {
          "output_type": "stream",
          "name": "stderr",
          "text": [
            "\n"
          ]
        },
        {
          "output_type": "stream",
          "name": "stdout",
          "text": [
            "\n",
            "      Epoch    GPU_mem   box_loss   cls_loss   dfl_loss  Instances       Size\n"
          ]
        },
        {
          "output_type": "stream",
          "name": "stderr",
          "text": [
            "      10/50      2.85G      1.428      1.736      1.361         98        640: 100%|██████████| 44/44 [00:12<00:00,  3.47it/s]\n",
            "                 Class     Images  Instances      Box(P          R      mAP50  mAP50-95): 100%|██████████| 4/4 [00:01<00:00,  2.73it/s]"
          ]
        },
        {
          "output_type": "stream",
          "name": "stdout",
          "text": [
            "                   all        100        408      0.422      0.548      0.484      0.287\n"
          ]
        },
        {
          "output_type": "stream",
          "name": "stderr",
          "text": [
            "\n"
          ]
        },
        {
          "output_type": "stream",
          "name": "stdout",
          "text": [
            "\n",
            "      Epoch    GPU_mem   box_loss   cls_loss   dfl_loss  Instances       Size\n"
          ]
        },
        {
          "output_type": "stream",
          "name": "stderr",
          "text": [
            "      11/50      2.85G      1.343      1.606      1.302         70        640: 100%|██████████| 44/44 [00:13<00:00,  3.27it/s]\n",
            "                 Class     Images  Instances      Box(P          R      mAP50  mAP50-95): 100%|██████████| 4/4 [00:01<00:00,  2.24it/s]"
          ]
        },
        {
          "output_type": "stream",
          "name": "stdout",
          "text": [
            "                   all        100        408      0.416       0.39      0.448      0.253\n"
          ]
        },
        {
          "output_type": "stream",
          "name": "stderr",
          "text": [
            "\n"
          ]
        },
        {
          "output_type": "stream",
          "name": "stdout",
          "text": [
            "\n",
            "      Epoch    GPU_mem   box_loss   cls_loss   dfl_loss  Instances       Size\n"
          ]
        },
        {
          "output_type": "stream",
          "name": "stderr",
          "text": [
            "      12/50      2.85G      1.358      1.632      1.325         64        640: 100%|██████████| 44/44 [00:12<00:00,  3.49it/s]\n",
            "                 Class     Images  Instances      Box(P          R      mAP50  mAP50-95): 100%|██████████| 4/4 [00:01<00:00,  2.69it/s]"
          ]
        },
        {
          "output_type": "stream",
          "name": "stdout",
          "text": [
            "                   all        100        408      0.505      0.365      0.426      0.251\n"
          ]
        },
        {
          "output_type": "stream",
          "name": "stderr",
          "text": [
            "\n"
          ]
        },
        {
          "output_type": "stream",
          "name": "stdout",
          "text": [
            "\n",
            "      Epoch    GPU_mem   box_loss   cls_loss   dfl_loss  Instances       Size\n"
          ]
        },
        {
          "output_type": "stream",
          "name": "stderr",
          "text": [
            "      13/50      2.85G      1.352      1.574      1.295         91        640: 100%|██████████| 44/44 [00:12<00:00,  3.49it/s]\n",
            "                 Class     Images  Instances      Box(P          R      mAP50  mAP50-95): 100%|██████████| 4/4 [00:01<00:00,  2.78it/s]"
          ]
        },
        {
          "output_type": "stream",
          "name": "stdout",
          "text": [
            "                   all        100        408      0.642      0.384      0.433      0.245\n"
          ]
        },
        {
          "output_type": "stream",
          "name": "stderr",
          "text": [
            "\n"
          ]
        },
        {
          "output_type": "stream",
          "name": "stdout",
          "text": [
            "\n",
            "      Epoch    GPU_mem   box_loss   cls_loss   dfl_loss  Instances       Size\n"
          ]
        },
        {
          "output_type": "stream",
          "name": "stderr",
          "text": [
            "      14/50      2.85G      1.327      1.503      1.296         57        640: 100%|██████████| 44/44 [00:13<00:00,  3.38it/s]\n",
            "                 Class     Images  Instances      Box(P          R      mAP50  mAP50-95): 100%|██████████| 4/4 [00:01<00:00,  2.51it/s]"
          ]
        },
        {
          "output_type": "stream",
          "name": "stdout",
          "text": [
            "                   all        100        408      0.664      0.462      0.536       0.31\n"
          ]
        },
        {
          "output_type": "stream",
          "name": "stderr",
          "text": [
            "\n"
          ]
        },
        {
          "output_type": "stream",
          "name": "stdout",
          "text": [
            "\n",
            "      Epoch    GPU_mem   box_loss   cls_loss   dfl_loss  Instances       Size\n"
          ]
        },
        {
          "output_type": "stream",
          "name": "stderr",
          "text": [
            "      15/50      2.85G      1.338      1.506       1.29         82        640: 100%|██████████| 44/44 [00:13<00:00,  3.17it/s]\n",
            "                 Class     Images  Instances      Box(P          R      mAP50  mAP50-95): 100%|██████████| 4/4 [00:02<00:00,  1.69it/s]"
          ]
        },
        {
          "output_type": "stream",
          "name": "stdout",
          "text": [
            "                   all        100        408      0.454      0.458      0.501      0.294\n"
          ]
        },
        {
          "output_type": "stream",
          "name": "stderr",
          "text": [
            "\n"
          ]
        },
        {
          "output_type": "stream",
          "name": "stdout",
          "text": [
            "\n",
            "      Epoch    GPU_mem   box_loss   cls_loss   dfl_loss  Instances       Size\n"
          ]
        },
        {
          "output_type": "stream",
          "name": "stderr",
          "text": [
            "      16/50      2.85G       1.32      1.464      1.278         92        640: 100%|██████████| 44/44 [00:14<00:00,  2.99it/s]\n",
            "                 Class     Images  Instances      Box(P          R      mAP50  mAP50-95): 100%|██████████| 4/4 [00:01<00:00,  2.70it/s]\n"
          ]
        },
        {
          "output_type": "stream",
          "name": "stdout",
          "text": [
            "                   all        100        408      0.426      0.537      0.479      0.276\n",
            "\n",
            "      Epoch    GPU_mem   box_loss   cls_loss   dfl_loss  Instances       Size\n"
          ]
        },
        {
          "output_type": "stream",
          "name": "stderr",
          "text": [
            "      17/50      2.87G      1.301      1.449       1.27         87        640: 100%|██████████| 44/44 [00:14<00:00,  3.10it/s]\n",
            "                 Class     Images  Instances      Box(P          R      mAP50  mAP50-95): 100%|██████████| 4/4 [00:01<00:00,  2.57it/s]"
          ]
        },
        {
          "output_type": "stream",
          "name": "stdout",
          "text": [
            "                   all        100        408      0.408      0.403      0.443      0.265\n"
          ]
        },
        {
          "output_type": "stream",
          "name": "stderr",
          "text": [
            "\n"
          ]
        },
        {
          "output_type": "stream",
          "name": "stdout",
          "text": [
            "\n",
            "      Epoch    GPU_mem   box_loss   cls_loss   dfl_loss  Instances       Size\n"
          ]
        },
        {
          "output_type": "stream",
          "name": "stderr",
          "text": [
            "      18/50      2.88G      1.284      1.395      1.245         60        640: 100%|██████████| 44/44 [00:13<00:00,  3.24it/s]\n",
            "                 Class     Images  Instances      Box(P          R      mAP50  mAP50-95): 100%|██████████| 4/4 [00:01<00:00,  2.70it/s]\n"
          ]
        },
        {
          "output_type": "stream",
          "name": "stdout",
          "text": [
            "                   all        100        408      0.442      0.478      0.521      0.324\n",
            "\n",
            "      Epoch    GPU_mem   box_loss   cls_loss   dfl_loss  Instances       Size\n"
          ]
        },
        {
          "output_type": "stream",
          "name": "stderr",
          "text": [
            "      19/50       2.9G      1.271      1.361      1.255         92        640: 100%|██████████| 44/44 [00:13<00:00,  3.21it/s]\n",
            "                 Class     Images  Instances      Box(P          R      mAP50  mAP50-95): 100%|██████████| 4/4 [00:01<00:00,  3.15it/s]"
          ]
        },
        {
          "output_type": "stream",
          "name": "stdout",
          "text": [
            "                   all        100        408      0.438      0.505      0.471      0.287\n"
          ]
        },
        {
          "output_type": "stream",
          "name": "stderr",
          "text": [
            "\n"
          ]
        },
        {
          "output_type": "stream",
          "name": "stdout",
          "text": [
            "\n",
            "      Epoch    GPU_mem   box_loss   cls_loss   dfl_loss  Instances       Size\n"
          ]
        },
        {
          "output_type": "stream",
          "name": "stderr",
          "text": [
            "      20/50      2.92G      1.261      1.326      1.232         81        640: 100%|██████████| 44/44 [00:14<00:00,  3.13it/s]\n",
            "                 Class     Images  Instances      Box(P          R      mAP50  mAP50-95): 100%|██████████| 4/4 [00:02<00:00,  1.51it/s]"
          ]
        },
        {
          "output_type": "stream",
          "name": "stdout",
          "text": [
            "                   all        100        408       0.52      0.365      0.451      0.269\n"
          ]
        },
        {
          "output_type": "stream",
          "name": "stderr",
          "text": [
            "\n"
          ]
        },
        {
          "output_type": "stream",
          "name": "stdout",
          "text": [
            "\n",
            "      Epoch    GPU_mem   box_loss   cls_loss   dfl_loss  Instances       Size\n"
          ]
        },
        {
          "output_type": "stream",
          "name": "stderr",
          "text": [
            "      21/50      2.93G      1.243      1.318      1.234         66        640: 100%|██████████| 44/44 [00:13<00:00,  3.32it/s]\n",
            "                 Class     Images  Instances      Box(P          R      mAP50  mAP50-95): 100%|██████████| 4/4 [00:01<00:00,  2.97it/s]"
          ]
        },
        {
          "output_type": "stream",
          "name": "stdout",
          "text": [
            "                   all        100        408      0.506      0.455      0.471      0.284\n"
          ]
        },
        {
          "output_type": "stream",
          "name": "stderr",
          "text": [
            "\n"
          ]
        },
        {
          "output_type": "stream",
          "name": "stdout",
          "text": [
            "\n",
            "      Epoch    GPU_mem   box_loss   cls_loss   dfl_loss  Instances       Size\n"
          ]
        },
        {
          "output_type": "stream",
          "name": "stderr",
          "text": [
            "      22/50      2.95G      1.218      1.268      1.213         85        640: 100%|██████████| 44/44 [00:13<00:00,  3.29it/s]\n",
            "                 Class     Images  Instances      Box(P          R      mAP50  mAP50-95): 100%|██████████| 4/4 [00:01<00:00,  2.81it/s]"
          ]
        },
        {
          "output_type": "stream",
          "name": "stdout",
          "text": [
            "                   all        100        408      0.627      0.458      0.476       0.28\n"
          ]
        },
        {
          "output_type": "stream",
          "name": "stderr",
          "text": [
            "\n"
          ]
        },
        {
          "output_type": "stream",
          "name": "stdout",
          "text": [
            "\n",
            "      Epoch    GPU_mem   box_loss   cls_loss   dfl_loss  Instances       Size\n"
          ]
        },
        {
          "output_type": "stream",
          "name": "stderr",
          "text": [
            "      23/50      2.97G      1.235      1.269      1.224         76        640: 100%|██████████| 44/44 [00:13<00:00,  3.18it/s]\n",
            "                 Class     Images  Instances      Box(P          R      mAP50  mAP50-95): 100%|██████████| 4/4 [00:01<00:00,  3.17it/s]"
          ]
        },
        {
          "output_type": "stream",
          "name": "stdout",
          "text": [
            "                   all        100        408      0.568      0.423      0.427      0.248\n"
          ]
        },
        {
          "output_type": "stream",
          "name": "stderr",
          "text": [
            "\n"
          ]
        },
        {
          "output_type": "stream",
          "name": "stdout",
          "text": [
            "\n",
            "      Epoch    GPU_mem   box_loss   cls_loss   dfl_loss  Instances       Size\n"
          ]
        },
        {
          "output_type": "stream",
          "name": "stderr",
          "text": [
            "      24/50      2.98G      1.206       1.21       1.21         63        640: 100%|██████████| 44/44 [00:13<00:00,  3.17it/s]\n",
            "                 Class     Images  Instances      Box(P          R      mAP50  mAP50-95): 100%|██████████| 4/4 [00:01<00:00,  2.84it/s]\n"
          ]
        },
        {
          "output_type": "stream",
          "name": "stdout",
          "text": [
            "                   all        100        408      0.472      0.417      0.466      0.271\n",
            "\n",
            "      Epoch    GPU_mem   box_loss   cls_loss   dfl_loss  Instances       Size\n"
          ]
        },
        {
          "output_type": "stream",
          "name": "stderr",
          "text": [
            "      25/50         3G      1.218      1.227      1.217         48        640: 100%|██████████| 44/44 [00:13<00:00,  3.38it/s]\n",
            "                 Class     Images  Instances      Box(P          R      mAP50  mAP50-95): 100%|██████████| 4/4 [00:01<00:00,  2.74it/s]"
          ]
        },
        {
          "output_type": "stream",
          "name": "stdout",
          "text": [
            "                   all        100        408      0.566      0.484      0.529       0.31\n"
          ]
        },
        {
          "output_type": "stream",
          "name": "stderr",
          "text": [
            "\n"
          ]
        },
        {
          "output_type": "stream",
          "name": "stdout",
          "text": [
            "\n",
            "      Epoch    GPU_mem   box_loss   cls_loss   dfl_loss  Instances       Size\n"
          ]
        },
        {
          "output_type": "stream",
          "name": "stderr",
          "text": [
            "      26/50      3.02G      1.195      1.194      1.191        102        640: 100%|██████████| 44/44 [00:13<00:00,  3.35it/s]\n",
            "                 Class     Images  Instances      Box(P          R      mAP50  mAP50-95): 100%|██████████| 4/4 [00:01<00:00,  2.02it/s]"
          ]
        },
        {
          "output_type": "stream",
          "name": "stdout",
          "text": [
            "                   all        100        408      0.579      0.429      0.463      0.276\n"
          ]
        },
        {
          "output_type": "stream",
          "name": "stderr",
          "text": [
            "\n"
          ]
        },
        {
          "output_type": "stream",
          "name": "stdout",
          "text": [
            "\n",
            "      Epoch    GPU_mem   box_loss   cls_loss   dfl_loss  Instances       Size\n"
          ]
        },
        {
          "output_type": "stream",
          "name": "stderr",
          "text": [
            "      27/50      3.04G      1.201      1.181      1.201         85        640: 100%|██████████| 44/44 [00:12<00:00,  3.57it/s]\n",
            "                 Class     Images  Instances      Box(P          R      mAP50  mAP50-95): 100%|██████████| 4/4 [00:02<00:00,  1.86it/s]\n"
          ]
        },
        {
          "output_type": "stream",
          "name": "stdout",
          "text": [
            "                   all        100        408      0.629       0.41      0.509      0.303\n",
            "\n",
            "      Epoch    GPU_mem   box_loss   cls_loss   dfl_loss  Instances       Size\n"
          ]
        },
        {
          "output_type": "stream",
          "name": "stderr",
          "text": [
            "      28/50      3.05G      1.186      1.166      1.193         90        640: 100%|██████████| 44/44 [00:12<00:00,  3.45it/s]\n",
            "                 Class     Images  Instances      Box(P          R      mAP50  mAP50-95): 100%|██████████| 4/4 [00:01<00:00,  2.98it/s]"
          ]
        },
        {
          "output_type": "stream",
          "name": "stdout",
          "text": [
            "                   all        100        408      0.589      0.402      0.482      0.295\n"
          ]
        },
        {
          "output_type": "stream",
          "name": "stderr",
          "text": [
            "\n"
          ]
        },
        {
          "output_type": "stream",
          "name": "stdout",
          "text": [
            "\n",
            "      Epoch    GPU_mem   box_loss   cls_loss   dfl_loss  Instances       Size\n"
          ]
        },
        {
          "output_type": "stream",
          "name": "stderr",
          "text": [
            "      29/50      3.07G      1.174      1.134      1.185         94        640: 100%|██████████| 44/44 [00:13<00:00,  3.30it/s]\n",
            "                 Class     Images  Instances      Box(P          R      mAP50  mAP50-95): 100%|██████████| 4/4 [00:01<00:00,  3.49it/s]"
          ]
        },
        {
          "output_type": "stream",
          "name": "stdout",
          "text": [
            "                   all        100        408      0.594      0.436      0.464      0.285\n"
          ]
        },
        {
          "output_type": "stream",
          "name": "stderr",
          "text": [
            "\n"
          ]
        },
        {
          "output_type": "stream",
          "name": "stdout",
          "text": [
            "\n",
            "      Epoch    GPU_mem   box_loss   cls_loss   dfl_loss  Instances       Size\n"
          ]
        },
        {
          "output_type": "stream",
          "name": "stderr",
          "text": [
            "      30/50      3.09G      1.149      1.112       1.18         59        640: 100%|██████████| 44/44 [00:13<00:00,  3.38it/s]\n",
            "                 Class     Images  Instances      Box(P          R      mAP50  mAP50-95): 100%|██████████| 4/4 [00:01<00:00,  2.92it/s]"
          ]
        },
        {
          "output_type": "stream",
          "name": "stdout",
          "text": [
            "                   all        100        408      0.481      0.452      0.462      0.274\n"
          ]
        },
        {
          "output_type": "stream",
          "name": "stderr",
          "text": [
            "\n"
          ]
        },
        {
          "output_type": "stream",
          "name": "stdout",
          "text": [
            "\n",
            "      Epoch    GPU_mem   box_loss   cls_loss   dfl_loss  Instances       Size\n"
          ]
        },
        {
          "output_type": "stream",
          "name": "stderr",
          "text": [
            "      31/50       3.1G      1.132      1.096      1.178         75        640: 100%|██████████| 44/44 [00:13<00:00,  3.21it/s]\n",
            "                 Class     Images  Instances      Box(P          R      mAP50  mAP50-95): 100%|██████████| 4/4 [00:01<00:00,  2.69it/s]"
          ]
        },
        {
          "output_type": "stream",
          "name": "stdout",
          "text": [
            "                   all        100        408      0.469      0.435      0.441      0.266\n"
          ]
        },
        {
          "output_type": "stream",
          "name": "stderr",
          "text": [
            "\n"
          ]
        },
        {
          "output_type": "stream",
          "name": "stdout",
          "text": [
            "\n",
            "      Epoch    GPU_mem   box_loss   cls_loss   dfl_loss  Instances       Size\n"
          ]
        },
        {
          "output_type": "stream",
          "name": "stderr",
          "text": [
            "      32/50      3.12G      1.125      1.078      1.169         76        640: 100%|██████████| 44/44 [00:13<00:00,  3.31it/s]\n",
            "                 Class     Images  Instances      Box(P          R      mAP50  mAP50-95): 100%|██████████| 4/4 [00:01<00:00,  2.90it/s]"
          ]
        },
        {
          "output_type": "stream",
          "name": "stdout",
          "text": [
            "                   all        100        408      0.524      0.461      0.465      0.285\n"
          ]
        },
        {
          "output_type": "stream",
          "name": "stderr",
          "text": [
            "\n"
          ]
        },
        {
          "output_type": "stream",
          "name": "stdout",
          "text": [
            "\n",
            "      Epoch    GPU_mem   box_loss   cls_loss   dfl_loss  Instances       Size\n"
          ]
        },
        {
          "output_type": "stream",
          "name": "stderr",
          "text": [
            "      33/50      3.14G      1.131      1.078      1.155         99        640: 100%|██████████| 44/44 [00:13<00:00,  3.18it/s]\n",
            "                 Class     Images  Instances      Box(P          R      mAP50  mAP50-95): 100%|██████████| 4/4 [00:02<00:00,  1.53it/s]"
          ]
        },
        {
          "output_type": "stream",
          "name": "stdout",
          "text": [
            "                   all        100        408      0.396      0.447      0.469      0.281\n"
          ]
        },
        {
          "output_type": "stream",
          "name": "stderr",
          "text": [
            "\n"
          ]
        },
        {
          "output_type": "stream",
          "name": "stdout",
          "text": [
            "\n",
            "      Epoch    GPU_mem   box_loss   cls_loss   dfl_loss  Instances       Size\n"
          ]
        },
        {
          "output_type": "stream",
          "name": "stderr",
          "text": [
            "      34/50      3.16G      1.123      1.038      1.142        120        640: 100%|██████████| 44/44 [00:13<00:00,  3.30it/s]\n",
            "                 Class     Images  Instances      Box(P          R      mAP50  mAP50-95): 100%|██████████| 4/4 [00:01<00:00,  2.26it/s]"
          ]
        },
        {
          "output_type": "stream",
          "name": "stdout",
          "text": [
            "                   all        100        408      0.597      0.367      0.472      0.287\n"
          ]
        },
        {
          "output_type": "stream",
          "name": "stderr",
          "text": [
            "\n"
          ]
        },
        {
          "output_type": "stream",
          "name": "stdout",
          "text": [
            "\n",
            "      Epoch    GPU_mem   box_loss   cls_loss   dfl_loss  Instances       Size\n"
          ]
        },
        {
          "output_type": "stream",
          "name": "stderr",
          "text": [
            "      35/50      3.17G      1.095      1.018      1.145         97        640: 100%|██████████| 44/44 [00:13<00:00,  3.34it/s]\n",
            "                 Class     Images  Instances      Box(P          R      mAP50  mAP50-95): 100%|██████████| 4/4 [00:01<00:00,  2.89it/s]"
          ]
        },
        {
          "output_type": "stream",
          "name": "stdout",
          "text": [
            "                   all        100        408      0.489      0.466      0.486      0.298\n"
          ]
        },
        {
          "output_type": "stream",
          "name": "stderr",
          "text": [
            "\n"
          ]
        },
        {
          "output_type": "stream",
          "name": "stdout",
          "text": [
            "\n",
            "      Epoch    GPU_mem   box_loss   cls_loss   dfl_loss  Instances       Size\n"
          ]
        },
        {
          "output_type": "stream",
          "name": "stderr",
          "text": [
            "      36/50      3.19G      1.078      1.014      1.151         48        640: 100%|██████████| 44/44 [00:13<00:00,  3.32it/s]\n",
            "                 Class     Images  Instances      Box(P          R      mAP50  mAP50-95): 100%|██████████| 4/4 [00:01<00:00,  3.20it/s]"
          ]
        },
        {
          "output_type": "stream",
          "name": "stdout",
          "text": [
            "                   all        100        408      0.477      0.489      0.489      0.294\n"
          ]
        },
        {
          "output_type": "stream",
          "name": "stderr",
          "text": [
            "\n"
          ]
        },
        {
          "output_type": "stream",
          "name": "stdout",
          "text": [
            "\n",
            "      Epoch    GPU_mem   box_loss   cls_loss   dfl_loss  Instances       Size\n"
          ]
        },
        {
          "output_type": "stream",
          "name": "stderr",
          "text": [
            "      37/50      3.21G      1.079      1.016      1.139        121        640: 100%|██████████| 44/44 [00:13<00:00,  3.35it/s]\n",
            "                 Class     Images  Instances      Box(P          R      mAP50  mAP50-95): 100%|██████████| 4/4 [00:01<00:00,  3.26it/s]"
          ]
        },
        {
          "output_type": "stream",
          "name": "stdout",
          "text": [
            "                   all        100        408      0.566      0.441      0.496      0.285\n"
          ]
        },
        {
          "output_type": "stream",
          "name": "stderr",
          "text": [
            "\n"
          ]
        },
        {
          "output_type": "stream",
          "name": "stdout",
          "text": [
            "\n",
            "      Epoch    GPU_mem   box_loss   cls_loss   dfl_loss  Instances       Size\n"
          ]
        },
        {
          "output_type": "stream",
          "name": "stderr",
          "text": [
            "      38/50      3.22G       1.09      1.002      1.142         92        640: 100%|██████████| 44/44 [00:14<00:00,  3.03it/s]\n",
            "                 Class     Images  Instances      Box(P          R      mAP50  mAP50-95): 100%|██████████| 4/4 [00:01<00:00,  2.74it/s]"
          ]
        },
        {
          "output_type": "stream",
          "name": "stdout",
          "text": [
            "                   all        100        408      0.555      0.452      0.493      0.289\n"
          ]
        },
        {
          "output_type": "stream",
          "name": "stderr",
          "text": [
            "\n"
          ]
        },
        {
          "output_type": "stream",
          "name": "stdout",
          "text": [
            "\n",
            "      Epoch    GPU_mem   box_loss   cls_loss   dfl_loss  Instances       Size\n"
          ]
        },
        {
          "output_type": "stream",
          "name": "stderr",
          "text": [
            "      39/50      3.24G      1.062     0.9893      1.128         68        640: 100%|██████████| 44/44 [00:12<00:00,  3.40it/s]\n",
            "                 Class     Images  Instances      Box(P          R      mAP50  mAP50-95): 100%|██████████| 4/4 [00:01<00:00,  2.72it/s]"
          ]
        },
        {
          "output_type": "stream",
          "name": "stdout",
          "text": [
            "                   all        100        408      0.417      0.544       0.48      0.283\n"
          ]
        },
        {
          "output_type": "stream",
          "name": "stderr",
          "text": [
            "\n"
          ]
        },
        {
          "output_type": "stream",
          "name": "stdout",
          "text": [
            "\n",
            "      Epoch    GPU_mem   box_loss   cls_loss   dfl_loss  Instances       Size\n"
          ]
        },
        {
          "output_type": "stream",
          "name": "stderr",
          "text": [
            "      40/50      3.26G      1.057      0.964      1.116        108        640: 100%|██████████| 44/44 [00:13<00:00,  3.27it/s]\n",
            "                 Class     Images  Instances      Box(P          R      mAP50  mAP50-95): 100%|██████████| 4/4 [00:01<00:00,  2.36it/s]\n"
          ]
        },
        {
          "output_type": "stream",
          "name": "stdout",
          "text": [
            "                   all        100        408      0.479      0.429      0.453       0.27\n",
            "Closing dataloader mosaic\n",
            "\u001b[34m\u001b[1malbumentations: \u001b[0mBlur(p=0.01, blur_limit=(3, 7)), MedianBlur(p=0.01, blur_limit=(3, 7)), ToGray(p=0.01, num_output_channels=3, method='weighted_average'), CLAHE(p=0.01, clip_limit=(1.0, 4.0), tile_grid_size=(8, 8))\n",
            "\n",
            "      Epoch    GPU_mem   box_loss   cls_loss   dfl_loss  Instances       Size\n"
          ]
        },
        {
          "output_type": "stream",
          "name": "stderr",
          "text": [
            "      41/50      3.28G      1.038      0.976      1.104         26        640: 100%|██████████| 44/44 [00:14<00:00,  3.04it/s]\n",
            "                 Class     Images  Instances      Box(P          R      mAP50  mAP50-95): 100%|██████████| 4/4 [00:01<00:00,  3.09it/s]"
          ]
        },
        {
          "output_type": "stream",
          "name": "stdout",
          "text": [
            "                   all        100        408      0.609      0.371      0.442      0.262\n"
          ]
        },
        {
          "output_type": "stream",
          "name": "stderr",
          "text": [
            "\n"
          ]
        },
        {
          "output_type": "stream",
          "name": "stdout",
          "text": [
            "\n",
            "      Epoch    GPU_mem   box_loss   cls_loss   dfl_loss  Instances       Size\n"
          ]
        },
        {
          "output_type": "stream",
          "name": "stderr",
          "text": [
            "      42/50      3.29G      1.008     0.8996       1.09         40        640: 100%|██████████| 44/44 [00:13<00:00,  3.34it/s]\n",
            "                 Class     Images  Instances      Box(P          R      mAP50  mAP50-95): 100%|██████████| 4/4 [00:01<00:00,  2.44it/s]"
          ]
        },
        {
          "output_type": "stream",
          "name": "stdout",
          "text": [
            "                   all        100        408      0.489      0.389      0.447      0.274\n"
          ]
        },
        {
          "output_type": "stream",
          "name": "stderr",
          "text": [
            "\n"
          ]
        },
        {
          "output_type": "stream",
          "name": "stdout",
          "text": [
            "\n",
            "      Epoch    GPU_mem   box_loss   cls_loss   dfl_loss  Instances       Size\n"
          ]
        },
        {
          "output_type": "stream",
          "name": "stderr",
          "text": [
            "      43/50      3.31G     0.9846     0.8764      1.074         36        640: 100%|██████████| 44/44 [00:12<00:00,  3.49it/s]\n",
            "                 Class     Images  Instances      Box(P          R      mAP50  mAP50-95): 100%|██████████| 4/4 [00:01<00:00,  2.88it/s]"
          ]
        },
        {
          "output_type": "stream",
          "name": "stdout",
          "text": [
            "                   all        100        408      0.429       0.46       0.45      0.277\n"
          ]
        },
        {
          "output_type": "stream",
          "name": "stderr",
          "text": [
            "\n"
          ]
        },
        {
          "output_type": "stream",
          "name": "stdout",
          "text": [
            "\n",
            "      Epoch    GPU_mem   box_loss   cls_loss   dfl_loss  Instances       Size\n"
          ]
        },
        {
          "output_type": "stream",
          "name": "stderr",
          "text": [
            "      44/50      3.33G     0.9861     0.8754      1.073         40        640: 100%|██████████| 44/44 [00:12<00:00,  3.42it/s]\n",
            "                 Class     Images  Instances      Box(P          R      mAP50  mAP50-95): 100%|██████████| 4/4 [00:01<00:00,  3.15it/s]"
          ]
        },
        {
          "output_type": "stream",
          "name": "stdout",
          "text": [
            "                   all        100        408      0.599      0.413      0.475      0.292\n"
          ]
        },
        {
          "output_type": "stream",
          "name": "stderr",
          "text": [
            "\n"
          ]
        },
        {
          "output_type": "stream",
          "name": "stdout",
          "text": [
            "\n",
            "      Epoch    GPU_mem   box_loss   cls_loss   dfl_loss  Instances       Size\n"
          ]
        },
        {
          "output_type": "stream",
          "name": "stderr",
          "text": [
            "      45/50      3.34G     0.9739     0.8394      1.073         49        640: 100%|██████████| 44/44 [00:12<00:00,  3.45it/s]\n",
            "                 Class     Images  Instances      Box(P          R      mAP50  mAP50-95): 100%|██████████| 4/4 [00:01<00:00,  3.26it/s]"
          ]
        },
        {
          "output_type": "stream",
          "name": "stdout",
          "text": [
            "                   all        100        408      0.612       0.42      0.473       0.29\n"
          ]
        },
        {
          "output_type": "stream",
          "name": "stderr",
          "text": [
            "\n"
          ]
        },
        {
          "output_type": "stream",
          "name": "stdout",
          "text": [
            "\n",
            "      Epoch    GPU_mem   box_loss   cls_loss   dfl_loss  Instances       Size\n"
          ]
        },
        {
          "output_type": "stream",
          "name": "stderr",
          "text": [
            "      46/50      3.36G     0.9577     0.8352      1.054         23        640: 100%|██████████| 44/44 [00:12<00:00,  3.52it/s]\n",
            "                 Class     Images  Instances      Box(P          R      mAP50  mAP50-95): 100%|██████████| 4/4 [00:01<00:00,  3.19it/s]"
          ]
        },
        {
          "output_type": "stream",
          "name": "stdout",
          "text": [
            "                   all        100        408      0.633      0.396      0.467      0.284\n"
          ]
        },
        {
          "output_type": "stream",
          "name": "stderr",
          "text": [
            "\n"
          ]
        },
        {
          "output_type": "stream",
          "name": "stdout",
          "text": [
            "\n",
            "      Epoch    GPU_mem   box_loss   cls_loss   dfl_loss  Instances       Size\n"
          ]
        },
        {
          "output_type": "stream",
          "name": "stderr",
          "text": [
            "      47/50      3.38G     0.9474     0.8145      1.059         26        640: 100%|██████████| 44/44 [00:12<00:00,  3.53it/s]\n",
            "                 Class     Images  Instances      Box(P          R      mAP50  mAP50-95): 100%|██████████| 4/4 [00:01<00:00,  2.79it/s]"
          ]
        },
        {
          "output_type": "stream",
          "name": "stdout",
          "text": [
            "                   all        100        408      0.632      0.393      0.477      0.295\n"
          ]
        },
        {
          "output_type": "stream",
          "name": "stderr",
          "text": [
            "\n"
          ]
        },
        {
          "output_type": "stream",
          "name": "stdout",
          "text": [
            "\n",
            "      Epoch    GPU_mem   box_loss   cls_loss   dfl_loss  Instances       Size\n"
          ]
        },
        {
          "output_type": "stream",
          "name": "stderr",
          "text": [
            "      48/50      3.39G     0.9271     0.8058      1.047         39        640: 100%|██████████| 44/44 [00:12<00:00,  3.60it/s]\n",
            "                 Class     Images  Instances      Box(P          R      mAP50  mAP50-95): 100%|██████████| 4/4 [00:01<00:00,  3.02it/s]"
          ]
        },
        {
          "output_type": "stream",
          "name": "stdout",
          "text": [
            "                   all        100        408      0.605      0.406      0.468      0.289\n"
          ]
        },
        {
          "output_type": "stream",
          "name": "stderr",
          "text": [
            "\n"
          ]
        },
        {
          "output_type": "stream",
          "name": "stdout",
          "text": [
            "\n",
            "      Epoch    GPU_mem   box_loss   cls_loss   dfl_loss  Instances       Size\n"
          ]
        },
        {
          "output_type": "stream",
          "name": "stderr",
          "text": [
            "      49/50      3.41G     0.9273     0.7951      1.043         46        640: 100%|██████████| 44/44 [00:12<00:00,  3.46it/s]\n",
            "                 Class     Images  Instances      Box(P          R      mAP50  mAP50-95): 100%|██████████| 4/4 [00:01<00:00,  2.80it/s]"
          ]
        },
        {
          "output_type": "stream",
          "name": "stdout",
          "text": [
            "                   all        100        408      0.446      0.472      0.474      0.294\n"
          ]
        },
        {
          "output_type": "stream",
          "name": "stderr",
          "text": [
            "\n"
          ]
        },
        {
          "output_type": "stream",
          "name": "stdout",
          "text": [
            "\n",
            "      Epoch    GPU_mem   box_loss   cls_loss   dfl_loss  Instances       Size\n"
          ]
        },
        {
          "output_type": "stream",
          "name": "stderr",
          "text": [
            "      50/50      3.43G     0.9238      0.795      1.039         34        640: 100%|██████████| 44/44 [00:12<00:00,  3.46it/s]\n",
            "                 Class     Images  Instances      Box(P          R      mAP50  mAP50-95): 100%|██████████| 4/4 [00:02<00:00,  1.96it/s]\n"
          ]
        },
        {
          "output_type": "stream",
          "name": "stdout",
          "text": [
            "                   all        100        408      0.451      0.484      0.477      0.295\n",
            "\n",
            "50 epochs completed in 0.213 hours.\n",
            "Optimizer stripped from runs/detect/train2/weights/last.pt, 6.2MB\n",
            "Optimizer stripped from runs/detect/train2/weights/best.pt, 6.2MB\n",
            "\n",
            "Validating runs/detect/train2/weights/best.pt...\n",
            "Ultralytics 8.3.116 🚀 Python-3.11.12 torch-2.6.0+cu124 CUDA:0 (Tesla T4, 15095MiB)\n",
            "Model summary (fused): 72 layers, 3,007,988 parameters, 0 gradients, 8.1 GFLOPs\n"
          ]
        },
        {
          "output_type": "stream",
          "name": "stderr",
          "text": [
            "                 Class     Images  Instances      Box(P          R      mAP50  mAP50-95): 100%|██████████| 4/4 [00:02<00:00,  1.66it/s]\n"
          ]
        },
        {
          "output_type": "stream",
          "name": "stdout",
          "text": [
            "                   all        100        408      0.442      0.478      0.521      0.325\n",
            "               Bicycle         18         26      0.504      0.615      0.662        0.4\n",
            "                  Boat         18         33      0.496      0.636        0.6      0.306\n",
            "                Bottle          1          1          1          0      0.995      0.796\n",
            "                   Bus         17         19      0.491      0.632      0.641      0.516\n",
            "                   Car         34         73      0.635      0.589      0.686      0.412\n",
            "                   Cat          6          7      0.295      0.429       0.21      0.122\n",
            "                 Chair          6         13      0.292      0.308       0.18     0.0611\n",
            "                   Dog          6          9      0.127      0.667       0.47      0.344\n",
            "             Motorbike         21         44      0.537      0.773      0.681      0.311\n",
            "                People         45        177      0.487      0.605      0.588      0.293\n",
            "                 Table          4          6          0          0     0.0169    0.00932\n",
            "Speed: 0.2ms preprocess, 3.7ms inference, 0.0ms loss, 5.4ms postprocess per image\n",
            "Results saved to \u001b[1mruns/detect/train2\u001b[0m\n"
          ]
        }
      ]
    },
    {
      "cell_type": "code",
      "source": [
        "metrics = model.val()"
      ],
      "metadata": {
        "colab": {
          "base_uri": "https://localhost:8080/"
        },
        "outputId": "7373a19a-fa35-42e3-e694-2b62100c20f3",
        "id": "esmM8BJ9vjMj",
        "collapsed": true
      },
      "execution_count": null,
      "outputs": [
        {
          "output_type": "stream",
          "name": "stdout",
          "text": [
            "Ultralytics 8.3.116 🚀 Python-3.11.12 torch-2.6.0+cu124 CUDA:0 (Tesla T4, 15095MiB)\n",
            "Model summary (fused): 72 layers, 3,007,988 parameters, 0 gradients, 8.1 GFLOPs\n",
            "\u001b[34m\u001b[1mval: \u001b[0mFast image access ✅ (ping: 0.0±0.0 ms, read: 2089.0±773.4 MB/s, size: 310.3 KB)\n"
          ]
        },
        {
          "output_type": "stream",
          "name": "stderr",
          "text": [
            "\u001b[34m\u001b[1mval: \u001b[0mScanning /content/labels/val.cache... 100 images, 0 backgrounds, 0 corrupt: 100%|██████████| 100/100 [00:00<?, ?it/s]\n",
            "                 Class     Images  Instances      Box(P          R      mAP50  mAP50-95): 100%|██████████| 7/7 [00:03<00:00,  1.85it/s]\n"
          ]
        },
        {
          "output_type": "stream",
          "name": "stdout",
          "text": [
            "                   all        100        408      0.444      0.478      0.522      0.325\n",
            "               Bicycle         18         26      0.509      0.615      0.662        0.4\n",
            "                  Boat         18         33        0.5      0.636      0.599      0.307\n",
            "                Bottle          1          1          1          0      0.995      0.796\n",
            "                   Bus         17         19      0.491      0.632      0.641      0.516\n",
            "                   Car         34         73      0.635      0.589      0.684      0.409\n",
            "                   Cat          6          7        0.3      0.429       0.21      0.121\n",
            "                 Chair          6         13      0.293      0.308      0.179     0.0604\n",
            "                   Dog          6          9      0.128      0.667      0.479      0.351\n",
            "             Motorbike         21         44      0.538      0.773      0.681      0.311\n",
            "                People         45        177      0.486      0.605      0.593      0.294\n",
            "                 Table          4          6          0          0     0.0168    0.00931\n",
            "Speed: 4.7ms preprocess, 9.4ms inference, 0.0ms loss, 4.7ms postprocess per image\n",
            "Results saved to \u001b[1mruns/detect/train22\u001b[0m\n"
          ]
        }
      ]
    },
    {
      "cell_type": "code",
      "source": [
        "metrics.results_dict"
      ],
      "metadata": {
        "colab": {
          "base_uri": "https://localhost:8080/"
        },
        "outputId": "1c94f202-3f89-46ca-a5f7-935c59345d52",
        "collapsed": true,
        "id": "KlF9rqxEvjMj"
      },
      "execution_count": null,
      "outputs": [
        {
          "output_type": "execute_result",
          "data": {
            "text/plain": [
              "{'metrics/precision(B)': np.float64(0.6411101845723626),\n",
              " 'metrics/recall(B)': np.float64(0.5150539216852704),\n",
              " 'metrics/mAP50(B)': np.float64(0.5587718353141529),\n",
              " 'metrics/mAP50-95(B)': np.float64(0.33738508255894306),\n",
              " 'fitness': np.float64(0.35952375783446405)}"
            ]
          },
          "metadata": {},
          "execution_count": 23
        }
      ]
    },
    {
      "cell_type": "code",
      "source": [
        "metrics = model.val(\n",
        "    data=\"/content/test_data.yaml\",\n",
        "    imgsz=640,\n",
        "    device=0\n",
        ")"
      ],
      "metadata": {
        "colab": {
          "base_uri": "https://localhost:8080/"
        },
        "id": "A6HF5sulGsf1",
        "outputId": "060f4584-46b8-4011-8680-10d0bc045e31"
      },
      "execution_count": null,
      "outputs": [
        {
          "output_type": "stream",
          "name": "stdout",
          "text": [
            "Ultralytics 8.3.116 🚀 Python-3.11.12 torch-2.6.0+cu124 CUDA:0 (Tesla T4, 15095MiB)\n",
            "\u001b[34m\u001b[1mval: \u001b[0mFast image access ✅ (ping: 0.0±0.0 ms, read: 1731.9±576.7 MB/s, size: 116.9 KB)\n"
          ]
        },
        {
          "output_type": "stream",
          "name": "stderr",
          "text": [
            "\u001b[34m\u001b[1mval: \u001b[0mScanning /content/labels/val.cache... 100 images, 0 backgrounds, 0 corrupt: 100%|██████████| 100/100 [00:00<?, ?it/s]\n",
            "                 Class     Images  Instances      Box(P          R      mAP50  mAP50-95): 100%|██████████| 7/7 [00:03<00:00,  2.09it/s]\n"
          ]
        },
        {
          "output_type": "stream",
          "name": "stdout",
          "text": [
            "                   all        100        408      0.444      0.478      0.522      0.325\n",
            "               Bicycle         18         26      0.509      0.615      0.662        0.4\n",
            "                  Boat         18         33        0.5      0.636      0.599      0.307\n",
            "                Bottle          1          1          1          0      0.995      0.796\n",
            "                   Bus         17         19      0.491      0.632      0.641      0.516\n",
            "                   Car         34         73      0.635      0.589      0.684      0.409\n",
            "                   Cat          6          7        0.3      0.429       0.21      0.121\n",
            "                 Chair          6         13      0.293      0.308      0.179     0.0604\n",
            "                   Dog          6          9      0.128      0.667      0.479      0.351\n",
            "             Motorbike         21         44      0.538      0.773      0.681      0.311\n",
            "                People         45        177      0.486      0.605      0.593      0.294\n",
            "                 Table          4          6          0          0     0.0168    0.00931\n",
            "Speed: 4.0ms preprocess, 6.3ms inference, 0.0ms loss, 4.7ms postprocess per image\n",
            "Results saved to \u001b[1mruns/detect/train25\u001b[0m\n"
          ]
        }
      ]
    },
    {
      "cell_type": "code",
      "source": [
        "results_ft = model.predict(\n",
        "    source=\"/content/atests\",  # folder with your test images\n",
        "    imgsz=640,\n",
        "    conf=0.25,         # confidence threshold (optional)\n",
        "    save=True,         # saves annotated images to disk\n",
        "    device=0\n",
        ")"
      ],
      "metadata": {
        "colab": {
          "base_uri": "https://localhost:8080/"
        },
        "id": "xe997SaEe_38",
        "outputId": "b04f9d1c-f8e6-4bd4-c28e-1f1e0c1da48f"
      },
      "execution_count": null,
      "outputs": [
        {
          "output_type": "stream",
          "name": "stdout",
          "text": [
            "\n",
            "image 1/6 /content/atests/2015_00422.jpg: 448x640 1 Bicycle, 12.4ms\n",
            "image 2/6 /content/atests/2015_00488.jpg: 480x640 3 Cars, 1 Motorbike, 9.6ms\n",
            "image 3/6 /content/atests/2015_01139.jpg: 448x640 1 Boat, 6.8ms\n",
            "image 4/6 /content/atests/2015_02852.jpg: 448x640 1 Car, 6.3ms\n",
            "image 5/6 /content/atests/2015_02860.jpg: 480x640 1 Car, 7.5ms\n",
            "image 6/6 /content/atests/2015_07279.jpg: 544x640 1 Chair, 2 Tables, 9.9ms\n",
            "Speed: 3.0ms preprocess, 8.7ms inference, 1.5ms postprocess per image at shape (1, 3, 544, 640)\n",
            "Results saved to \u001b[1mruns/detect/train26\u001b[0m\n"
          ]
        }
      ]
    },
    {
      "cell_type": "code",
      "source": [
        "!zip -r ft.zip /content/runs/detect/train26"
      ],
      "metadata": {
        "colab": {
          "base_uri": "https://localhost:8080/"
        },
        "id": "o1z61v7rjjmy",
        "outputId": "070a3492-221a-434b-a353-cbbf526356ef"
      },
      "execution_count": null,
      "outputs": [
        {
          "output_type": "stream",
          "name": "stdout",
          "text": [
            "  adding: content/runs/detect/train26/ (stored 0%)\n",
            "  adding: content/runs/detect/train26/2015_02860.jpg (deflated 7%)\n",
            "  adding: content/runs/detect/train26/2015_01139.jpg (deflated 1%)\n",
            "  adding: content/runs/detect/train26/2015_00422.jpg (deflated 0%)\n",
            "  adding: content/runs/detect/train26/2015_02852.jpg (deflated 3%)\n",
            "  adding: content/runs/detect/train26/2015_07279.jpg (deflated 3%)\n",
            "  adding: content/runs/detect/train26/2015_00488.jpg (deflated 3%)\n"
          ]
        }
      ]
    },
    {
      "cell_type": "markdown",
      "source": [
        "### Training with ExDark only"
      ],
      "metadata": {
        "id": "nYhuinYkhwHc"
      }
    },
    {
      "cell_type": "code",
      "source": [
        "model_exdark = YOLO(\"yolov8n.yaml\")"
      ],
      "metadata": {
        "id": "-ivTxPROiAPv"
      },
      "execution_count": null,
      "outputs": []
    },
    {
      "cell_type": "code",
      "source": [
        "train_results = model_exdark.train(\n",
        "    data=\"/content/test_data.yaml\",\n",
        "    epochs=150,\n",
        "    patience=20,\n",
        "    imgsz=640,\n",
        "    device=0\n",
        "    )"
      ],
      "metadata": {
        "colab": {
          "base_uri": "https://localhost:8080/"
        },
        "id": "WsPqh1U5h2rQ",
        "outputId": "42d5555b-256a-4920-bdb7-5d8897176962",
        "collapsed": true
      },
      "execution_count": null,
      "outputs": [
        {
          "output_type": "stream",
          "name": "stdout",
          "text": [
            "Ultralytics 8.3.116 🚀 Python-3.11.12 torch-2.6.0+cu124 CUDA:0 (Tesla T4, 15095MiB)\n",
            "\u001b[34m\u001b[1mengine/trainer: \u001b[0mtask=detect, mode=train, model=yolov8n.yaml, data=/content/test_data.yaml, epochs=150, time=None, patience=20, batch=16, imgsz=640, save=True, save_period=-1, cache=False, device=0, workers=8, project=None, name=train3, exist_ok=False, pretrained=True, optimizer=auto, verbose=True, seed=0, deterministic=True, single_cls=False, rect=False, cos_lr=False, close_mosaic=10, resume=False, amp=True, fraction=1.0, profile=False, freeze=None, multi_scale=False, overlap_mask=True, mask_ratio=4, dropout=0.0, val=True, split=val, save_json=False, conf=None, iou=0.7, max_det=300, half=False, dnn=False, plots=True, source=None, vid_stride=1, stream_buffer=False, visualize=False, augment=False, agnostic_nms=False, classes=None, retina_masks=False, embed=None, show=False, save_frames=False, save_txt=False, save_conf=False, save_crop=False, show_labels=True, show_conf=True, show_boxes=True, line_width=None, format=torchscript, keras=False, optimize=False, int8=False, dynamic=False, simplify=True, opset=None, workspace=None, nms=False, lr0=0.01, lrf=0.01, momentum=0.937, weight_decay=0.0005, warmup_epochs=3.0, warmup_momentum=0.8, warmup_bias_lr=0.1, box=7.5, cls=0.5, dfl=1.5, pose=12.0, kobj=1.0, nbs=64, hsv_h=0.015, hsv_s=0.7, hsv_v=0.4, degrees=0.0, translate=0.1, scale=0.5, shear=0.0, perspective=0.0, flipud=0.0, fliplr=0.5, bgr=0.0, mosaic=1.0, mixup=0.0, copy_paste=0.0, copy_paste_mode=flip, auto_augment=randaugment, erasing=0.4, cfg=None, tracker=botsort.yaml, save_dir=runs/detect/train3\n",
            "Overriding model.yaml nc=80 with nc=12\n",
            "\n",
            "                   from  n    params  module                                       arguments                     \n",
            "  0                  -1  1       464  ultralytics.nn.modules.conv.Conv             [3, 16, 3, 2]                 \n",
            "  1                  -1  1      4672  ultralytics.nn.modules.conv.Conv             [16, 32, 3, 2]                \n",
            "  2                  -1  1      7360  ultralytics.nn.modules.block.C2f             [32, 32, 1, True]             \n",
            "  3                  -1  1     18560  ultralytics.nn.modules.conv.Conv             [32, 64, 3, 2]                \n",
            "  4                  -1  2     49664  ultralytics.nn.modules.block.C2f             [64, 64, 2, True]             \n",
            "  5                  -1  1     73984  ultralytics.nn.modules.conv.Conv             [64, 128, 3, 2]               \n",
            "  6                  -1  2    197632  ultralytics.nn.modules.block.C2f             [128, 128, 2, True]           \n",
            "  7                  -1  1    295424  ultralytics.nn.modules.conv.Conv             [128, 256, 3, 2]              \n",
            "  8                  -1  1    460288  ultralytics.nn.modules.block.C2f             [256, 256, 1, True]           \n",
            "  9                  -1  1    164608  ultralytics.nn.modules.block.SPPF            [256, 256, 5]                 \n",
            " 10                  -1  1         0  torch.nn.modules.upsampling.Upsample         [None, 2, 'nearest']          \n",
            " 11             [-1, 6]  1         0  ultralytics.nn.modules.conv.Concat           [1]                           \n",
            " 12                  -1  1    148224  ultralytics.nn.modules.block.C2f             [384, 128, 1]                 \n",
            " 13                  -1  1         0  torch.nn.modules.upsampling.Upsample         [None, 2, 'nearest']          \n",
            " 14             [-1, 4]  1         0  ultralytics.nn.modules.conv.Concat           [1]                           \n",
            " 15                  -1  1     37248  ultralytics.nn.modules.block.C2f             [192, 64, 1]                  \n",
            " 16                  -1  1     36992  ultralytics.nn.modules.conv.Conv             [64, 64, 3, 2]                \n",
            " 17            [-1, 12]  1         0  ultralytics.nn.modules.conv.Concat           [1]                           \n",
            " 18                  -1  1    123648  ultralytics.nn.modules.block.C2f             [192, 128, 1]                 \n",
            " 19                  -1  1    147712  ultralytics.nn.modules.conv.Conv             [128, 128, 3, 2]              \n",
            " 20             [-1, 9]  1         0  ultralytics.nn.modules.conv.Concat           [1]                           \n",
            " 21                  -1  1    493056  ultralytics.nn.modules.block.C2f             [384, 256, 1]                 \n",
            " 22        [15, 18, 21]  1    753652  ultralytics.nn.modules.head.Detect           [12, [64, 128, 256]]          \n",
            "YOLOv8n summary: 129 layers, 3,013,188 parameters, 3,013,172 gradients, 8.2 GFLOPs\n",
            "\n",
            "Freezing layer 'model.22.dfl.conv.weight'\n",
            "\u001b[34m\u001b[1mAMP: \u001b[0mrunning Automatic Mixed Precision (AMP) checks...\n",
            "\u001b[34m\u001b[1mAMP: \u001b[0mchecks passed ✅\n",
            "\u001b[34m\u001b[1mtrain: \u001b[0mFast image access ✅ (ping: 0.0±0.0 ms, read: 1642.9±647.5 MB/s, size: 113.0 KB)\n"
          ]
        },
        {
          "output_type": "stream",
          "name": "stderr",
          "text": [
            "\u001b[34m\u001b[1mtrain: \u001b[0mScanning /content/labels/train.cache... 700 images, 1 backgrounds, 0 corrupt: 100%|██████████| 700/700 [00:00<?, ?it/s]"
          ]
        },
        {
          "output_type": "stream",
          "name": "stdout",
          "text": [
            "\u001b[34m\u001b[1mtrain: \u001b[0m/content/images/train/2015_02634.jpg: corrupt JPEG restored and saved\n",
            "\u001b[34m\u001b[1mtrain: \u001b[0m/content/images/train/2015_02640.jpg: corrupt JPEG restored and saved\n",
            "\u001b[34m\u001b[1mtrain: \u001b[0m/content/images/train/2015_02641.jpg: corrupt JPEG restored and saved\n",
            "\u001b[34m\u001b[1malbumentations: \u001b[0mBlur(p=0.01, blur_limit=(3, 7)), MedianBlur(p=0.01, blur_limit=(3, 7)), ToGray(p=0.01, num_output_channels=3, method='weighted_average'), CLAHE(p=0.01, clip_limit=(1.0, 4.0), tile_grid_size=(8, 8))\n"
          ]
        },
        {
          "output_type": "stream",
          "name": "stderr",
          "text": [
            "\n"
          ]
        },
        {
          "output_type": "stream",
          "name": "stdout",
          "text": [
            "\u001b[34m\u001b[1mval: \u001b[0mFast image access ✅ (ping: 0.0±0.0 ms, read: 654.2±311.9 MB/s, size: 308.1 KB)\n"
          ]
        },
        {
          "output_type": "stream",
          "name": "stderr",
          "text": [
            "\u001b[34m\u001b[1mval: \u001b[0mScanning /content/labels/val.cache... 100 images, 0 backgrounds, 0 corrupt: 100%|██████████| 100/100 [00:00<?, ?it/s]\n"
          ]
        },
        {
          "output_type": "stream",
          "name": "stdout",
          "text": [
            "Plotting labels to runs/detect/train3/labels.jpg... \n",
            "\u001b[34m\u001b[1moptimizer:\u001b[0m 'optimizer=auto' found, ignoring 'lr0=0.01' and 'momentum=0.937' and determining best 'optimizer', 'lr0' and 'momentum' automatically... \n",
            "\u001b[34m\u001b[1moptimizer:\u001b[0m AdamW(lr=0.000625, momentum=0.9) with parameter groups 57 weight(decay=0.0), 64 weight(decay=0.0005), 63 bias(decay=0.0)\n",
            "Image sizes 640 train, 640 val\n",
            "Using 2 dataloader workers\n",
            "Logging results to \u001b[1mruns/detect/train3\u001b[0m\n",
            "Starting training for 150 epochs...\n",
            "\n",
            "      Epoch    GPU_mem   box_loss   cls_loss   dfl_loss  Instances       Size\n"
          ]
        },
        {
          "output_type": "stream",
          "name": "stderr",
          "text": [
            "      1/150      2.56G      3.687      5.026      4.223         72        640: 100%|██████████| 44/44 [00:14<00:00,  3.13it/s]\n",
            "                 Class     Images  Instances      Box(P          R      mAP50  mAP50-95): 100%|██████████| 4/4 [00:01<00:00,  2.67it/s]\n"
          ]
        },
        {
          "output_type": "stream",
          "name": "stdout",
          "text": [
            "                   all        100        408   0.000576     0.0917    0.00043   0.000213\n",
            "\n",
            "      Epoch    GPU_mem   box_loss   cls_loss   dfl_loss  Instances       Size\n"
          ]
        },
        {
          "output_type": "stream",
          "name": "stderr",
          "text": [
            "      2/150      2.84G      3.623      4.925      4.145        124        640: 100%|██████████| 44/44 [00:14<00:00,  3.06it/s]\n",
            "                 Class     Images  Instances      Box(P          R      mAP50  mAP50-95): 100%|██████████| 4/4 [00:01<00:00,  2.99it/s]"
          ]
        },
        {
          "output_type": "stream",
          "name": "stdout",
          "text": [
            "                   all        100        408   0.000503     0.0596    0.00037   0.000105\n"
          ]
        },
        {
          "output_type": "stream",
          "name": "stderr",
          "text": [
            "\n"
          ]
        },
        {
          "output_type": "stream",
          "name": "stdout",
          "text": [
            "\n",
            "      Epoch    GPU_mem   box_loss   cls_loss   dfl_loss  Instances       Size\n"
          ]
        },
        {
          "output_type": "stream",
          "name": "stderr",
          "text": [
            "      3/150      2.84G      3.544      4.749      4.004         85        640: 100%|██████████| 44/44 [00:12<00:00,  3.49it/s]\n",
            "                 Class     Images  Instances      Box(P          R      mAP50  mAP50-95): 100%|██████████| 4/4 [00:01<00:00,  3.39it/s]"
          ]
        },
        {
          "output_type": "stream",
          "name": "stdout",
          "text": [
            "                   all        100        408          0          0          0          0\n"
          ]
        },
        {
          "output_type": "stream",
          "name": "stderr",
          "text": [
            "\n"
          ]
        },
        {
          "output_type": "stream",
          "name": "stdout",
          "text": [
            "\n",
            "      Epoch    GPU_mem   box_loss   cls_loss   dfl_loss  Instances       Size\n"
          ]
        },
        {
          "output_type": "stream",
          "name": "stderr",
          "text": [
            "      4/150      2.84G      3.381      4.634      3.755        107        640: 100%|██████████| 44/44 [00:13<00:00,  3.17it/s]\n",
            "                 Class     Images  Instances      Box(P          R      mAP50  mAP50-95): 100%|██████████| 4/4 [00:01<00:00,  2.01it/s]"
          ]
        },
        {
          "output_type": "stream",
          "name": "stdout",
          "text": [
            "                   all        100        408     0.0016      0.136    0.00165   0.000542\n"
          ]
        },
        {
          "output_type": "stream",
          "name": "stderr",
          "text": [
            "\n"
          ]
        },
        {
          "output_type": "stream",
          "name": "stdout",
          "text": [
            "\n",
            "      Epoch    GPU_mem   box_loss   cls_loss   dfl_loss  Instances       Size\n"
          ]
        },
        {
          "output_type": "stream",
          "name": "stderr",
          "text": [
            "      5/150      2.84G      3.316      4.465       3.52        108        640: 100%|██████████| 44/44 [00:12<00:00,  3.45it/s]\n",
            "                 Class     Images  Instances      Box(P          R      mAP50  mAP50-95): 100%|██████████| 4/4 [00:01<00:00,  2.72it/s]"
          ]
        },
        {
          "output_type": "stream",
          "name": "stdout",
          "text": [
            "                   all        100        408    0.00121     0.0697    0.00098   0.000279\n"
          ]
        },
        {
          "output_type": "stream",
          "name": "stderr",
          "text": [
            "\n"
          ]
        },
        {
          "output_type": "stream",
          "name": "stdout",
          "text": [
            "\n",
            "      Epoch    GPU_mem   box_loss   cls_loss   dfl_loss  Instances       Size\n"
          ]
        },
        {
          "output_type": "stream",
          "name": "stderr",
          "text": [
            "      6/150      2.84G      3.184      4.384      3.343         94        640: 100%|██████████| 44/44 [00:13<00:00,  3.24it/s]\n",
            "                 Class     Images  Instances      Box(P          R      mAP50  mAP50-95): 100%|██████████| 4/4 [00:01<00:00,  2.04it/s]"
          ]
        },
        {
          "output_type": "stream",
          "name": "stdout",
          "text": [
            "                   all        100        408      0.189     0.0176    0.00159   0.000403\n"
          ]
        },
        {
          "output_type": "stream",
          "name": "stderr",
          "text": [
            "\n"
          ]
        },
        {
          "output_type": "stream",
          "name": "stdout",
          "text": [
            "\n",
            "      Epoch    GPU_mem   box_loss   cls_loss   dfl_loss  Instances       Size\n"
          ]
        },
        {
          "output_type": "stream",
          "name": "stderr",
          "text": [
            "      7/150      2.84G      3.075      4.294      3.217         66        640: 100%|██████████| 44/44 [00:12<00:00,  3.48it/s]\n",
            "                 Class     Images  Instances      Box(P          R      mAP50  mAP50-95): 100%|██████████| 4/4 [00:01<00:00,  2.68it/s]"
          ]
        },
        {
          "output_type": "stream",
          "name": "stdout",
          "text": [
            "                   all        100        408      0.572     0.0062    0.00705    0.00248\n"
          ]
        },
        {
          "output_type": "stream",
          "name": "stderr",
          "text": [
            "\n"
          ]
        },
        {
          "output_type": "stream",
          "name": "stdout",
          "text": [
            "\n",
            "      Epoch    GPU_mem   box_loss   cls_loss   dfl_loss  Instances       Size\n"
          ]
        },
        {
          "output_type": "stream",
          "name": "stderr",
          "text": [
            "      8/150      2.84G      2.965      4.238      3.117         53        640: 100%|██████████| 44/44 [00:12<00:00,  3.43it/s]\n",
            "                 Class     Images  Instances      Box(P          R      mAP50  mAP50-95): 100%|██████████| 4/4 [00:01<00:00,  2.97it/s]"
          ]
        },
        {
          "output_type": "stream",
          "name": "stdout",
          "text": [
            "                   all        100        408      0.735     0.0103     0.0143     0.0042\n"
          ]
        },
        {
          "output_type": "stream",
          "name": "stderr",
          "text": [
            "\n"
          ]
        },
        {
          "output_type": "stream",
          "name": "stdout",
          "text": [
            "\n",
            "      Epoch    GPU_mem   box_loss   cls_loss   dfl_loss  Instances       Size\n"
          ]
        },
        {
          "output_type": "stream",
          "name": "stderr",
          "text": [
            "      9/150      2.84G      2.904      4.162      3.037         70        640: 100%|██████████| 44/44 [00:12<00:00,  3.49it/s]\n",
            "                 Class     Images  Instances      Box(P          R      mAP50  mAP50-95): 100%|██████████| 4/4 [00:01<00:00,  3.07it/s]"
          ]
        },
        {
          "output_type": "stream",
          "name": "stdout",
          "text": [
            "                   all        100        408     0.0052      0.237     0.0163    0.00566\n"
          ]
        },
        {
          "output_type": "stream",
          "name": "stderr",
          "text": [
            "\n"
          ]
        },
        {
          "output_type": "stream",
          "name": "stdout",
          "text": [
            "\n",
            "      Epoch    GPU_mem   box_loss   cls_loss   dfl_loss  Instances       Size\n"
          ]
        },
        {
          "output_type": "stream",
          "name": "stderr",
          "text": [
            "     10/150      2.84G      2.822       4.08      2.951         98        640: 100%|██████████| 44/44 [00:12<00:00,  3.42it/s]\n",
            "                 Class     Images  Instances      Box(P          R      mAP50  mAP50-95): 100%|██████████| 4/4 [00:01<00:00,  3.48it/s]"
          ]
        },
        {
          "output_type": "stream",
          "name": "stdout",
          "text": [
            "                   all        100        408    0.00508      0.223     0.0133    0.00468\n"
          ]
        },
        {
          "output_type": "stream",
          "name": "stderr",
          "text": [
            "\n"
          ]
        },
        {
          "output_type": "stream",
          "name": "stdout",
          "text": [
            "\n",
            "      Epoch    GPU_mem   box_loss   cls_loss   dfl_loss  Instances       Size\n"
          ]
        },
        {
          "output_type": "stream",
          "name": "stderr",
          "text": [
            "     11/150      2.84G      2.751      3.966       2.91         70        640: 100%|██████████| 44/44 [00:12<00:00,  3.53it/s]\n",
            "                 Class     Images  Instances      Box(P          R      mAP50  mAP50-95): 100%|██████████| 4/4 [00:01<00:00,  2.45it/s]\n"
          ]
        },
        {
          "output_type": "stream",
          "name": "stdout",
          "text": [
            "                   all        100        408    0.00381      0.258    0.00875    0.00288\n",
            "\n",
            "      Epoch    GPU_mem   box_loss   cls_loss   dfl_loss  Instances       Size\n"
          ]
        },
        {
          "output_type": "stream",
          "name": "stderr",
          "text": [
            "     12/150      2.84G       2.65      3.958      2.837         64        640: 100%|██████████| 44/44 [00:12<00:00,  3.54it/s]\n",
            "                 Class     Images  Instances      Box(P          R      mAP50  mAP50-95): 100%|██████████| 4/4 [00:02<00:00,  1.93it/s]"
          ]
        },
        {
          "output_type": "stream",
          "name": "stdout",
          "text": [
            "                   all        100        408    0.00571       0.34     0.0202    0.00909\n"
          ]
        },
        {
          "output_type": "stream",
          "name": "stderr",
          "text": [
            "\n"
          ]
        },
        {
          "output_type": "stream",
          "name": "stdout",
          "text": [
            "\n",
            "      Epoch    GPU_mem   box_loss   cls_loss   dfl_loss  Instances       Size\n"
          ]
        },
        {
          "output_type": "stream",
          "name": "stderr",
          "text": [
            "     13/150      2.84G      2.635      3.877      2.773         91        640: 100%|██████████| 44/44 [00:12<00:00,  3.56it/s]\n",
            "                 Class     Images  Instances      Box(P          R      mAP50  mAP50-95): 100%|██████████| 4/4 [00:01<00:00,  2.79it/s]"
          ]
        },
        {
          "output_type": "stream",
          "name": "stdout",
          "text": [
            "                   all        100        408      0.687     0.0343     0.0335     0.0141\n"
          ]
        },
        {
          "output_type": "stream",
          "name": "stderr",
          "text": [
            "\n"
          ]
        },
        {
          "output_type": "stream",
          "name": "stdout",
          "text": [
            "\n",
            "      Epoch    GPU_mem   box_loss   cls_loss   dfl_loss  Instances       Size\n"
          ]
        },
        {
          "output_type": "stream",
          "name": "stderr",
          "text": [
            "     14/150      2.84G      2.595      3.792      2.712         57        640: 100%|██████████| 44/44 [00:12<00:00,  3.45it/s]\n",
            "                 Class     Images  Instances      Box(P          R      mAP50  mAP50-95): 100%|██████████| 4/4 [00:01<00:00,  2.73it/s]\n"
          ]
        },
        {
          "output_type": "stream",
          "name": "stdout",
          "text": [
            "                   all        100        408    0.00523      0.328     0.0196    0.00649\n",
            "\n",
            "      Epoch    GPU_mem   box_loss   cls_loss   dfl_loss  Instances       Size\n"
          ]
        },
        {
          "output_type": "stream",
          "name": "stderr",
          "text": [
            "     15/150      2.84G      2.543      3.723      2.679         82        640: 100%|██████████| 44/44 [00:12<00:00,  3.56it/s]\n",
            "                 Class     Images  Instances      Box(P          R      mAP50  mAP50-95): 100%|██████████| 4/4 [00:01<00:00,  3.16it/s]"
          ]
        },
        {
          "output_type": "stream",
          "name": "stdout",
          "text": [
            "                   all        100        408      0.521     0.0314     0.0279    0.00831\n"
          ]
        },
        {
          "output_type": "stream",
          "name": "stderr",
          "text": [
            "\n"
          ]
        },
        {
          "output_type": "stream",
          "name": "stdout",
          "text": [
            "\n",
            "      Epoch    GPU_mem   box_loss   cls_loss   dfl_loss  Instances       Size\n"
          ]
        },
        {
          "output_type": "stream",
          "name": "stderr",
          "text": [
            "     16/150      2.84G      2.515      3.678      2.659         92        640: 100%|██████████| 44/44 [00:12<00:00,  3.46it/s]\n",
            "                 Class     Images  Instances      Box(P          R      mAP50  mAP50-95): 100%|██████████| 4/4 [00:01<00:00,  2.83it/s]"
          ]
        },
        {
          "output_type": "stream",
          "name": "stdout",
          "text": [
            "                   all        100        408      0.593     0.0441      0.026    0.00932\n"
          ]
        },
        {
          "output_type": "stream",
          "name": "stderr",
          "text": [
            "\n"
          ]
        },
        {
          "output_type": "stream",
          "name": "stdout",
          "text": [
            "\n",
            "      Epoch    GPU_mem   box_loss   cls_loss   dfl_loss  Instances       Size\n"
          ]
        },
        {
          "output_type": "stream",
          "name": "stderr",
          "text": [
            "     17/150      2.84G      2.484      3.657       2.61         87        640: 100%|██████████| 44/44 [00:12<00:00,  3.50it/s]\n",
            "                 Class     Images  Instances      Box(P          R      mAP50  mAP50-95): 100%|██████████| 4/4 [00:01<00:00,  2.78it/s]"
          ]
        },
        {
          "output_type": "stream",
          "name": "stdout",
          "text": [
            "                   all        100        408      0.575     0.0499     0.0483     0.0192\n"
          ]
        },
        {
          "output_type": "stream",
          "name": "stderr",
          "text": [
            "\n"
          ]
        },
        {
          "output_type": "stream",
          "name": "stdout",
          "text": [
            "\n",
            "      Epoch    GPU_mem   box_loss   cls_loss   dfl_loss  Instances       Size\n"
          ]
        },
        {
          "output_type": "stream",
          "name": "stderr",
          "text": [
            "     18/150      2.84G      2.449      3.578      2.561         60        640: 100%|██████████| 44/44 [00:12<00:00,  3.48it/s]\n",
            "                 Class     Images  Instances      Box(P          R      mAP50  mAP50-95): 100%|██████████| 4/4 [00:01<00:00,  2.89it/s]"
          ]
        },
        {
          "output_type": "stream",
          "name": "stdout",
          "text": [
            "                   all        100        408      0.462     0.0568     0.0499      0.016\n"
          ]
        },
        {
          "output_type": "stream",
          "name": "stderr",
          "text": [
            "\n"
          ]
        },
        {
          "output_type": "stream",
          "name": "stdout",
          "text": [
            "\n",
            "      Epoch    GPU_mem   box_loss   cls_loss   dfl_loss  Instances       Size\n"
          ]
        },
        {
          "output_type": "stream",
          "name": "stderr",
          "text": [
            "     19/150      2.84G      2.423      3.558      2.549         92        640: 100%|██████████| 44/44 [00:12<00:00,  3.52it/s]\n",
            "                 Class     Images  Instances      Box(P          R      mAP50  mAP50-95): 100%|██████████| 4/4 [00:01<00:00,  2.94it/s]"
          ]
        },
        {
          "output_type": "stream",
          "name": "stdout",
          "text": [
            "                   all        100        408      0.607     0.0786     0.0348     0.0115\n"
          ]
        },
        {
          "output_type": "stream",
          "name": "stderr",
          "text": [
            "\n"
          ]
        },
        {
          "output_type": "stream",
          "name": "stdout",
          "text": [
            "\n",
            "      Epoch    GPU_mem   box_loss   cls_loss   dfl_loss  Instances       Size\n"
          ]
        },
        {
          "output_type": "stream",
          "name": "stderr",
          "text": [
            "     20/150      2.84G      2.401      3.549       2.54         81        640: 100%|██████████| 44/44 [00:14<00:00,  3.09it/s]\n",
            "                 Class     Images  Instances      Box(P          R      mAP50  mAP50-95): 100%|██████████| 4/4 [00:02<00:00,  1.70it/s]"
          ]
        },
        {
          "output_type": "stream",
          "name": "stdout",
          "text": [
            "                   all        100        408       0.54     0.0509     0.0477     0.0168\n"
          ]
        },
        {
          "output_type": "stream",
          "name": "stderr",
          "text": [
            "\n"
          ]
        },
        {
          "output_type": "stream",
          "name": "stdout",
          "text": [
            "\n",
            "      Epoch    GPU_mem   box_loss   cls_loss   dfl_loss  Instances       Size\n"
          ]
        },
        {
          "output_type": "stream",
          "name": "stderr",
          "text": [
            "     21/150      2.84G      2.341      3.494      2.499         66        640: 100%|██████████| 44/44 [00:11<00:00,  3.73it/s]\n",
            "                 Class     Images  Instances      Box(P          R      mAP50  mAP50-95): 100%|██████████| 4/4 [00:01<00:00,  2.05it/s]\n"
          ]
        },
        {
          "output_type": "stream",
          "name": "stdout",
          "text": [
            "                   all        100        408      0.477     0.0746     0.0485     0.0177\n",
            "\n",
            "      Epoch    GPU_mem   box_loss   cls_loss   dfl_loss  Instances       Size\n"
          ]
        },
        {
          "output_type": "stream",
          "name": "stderr",
          "text": [
            "     22/150      2.84G      2.305      3.449      2.458         85        640: 100%|██████████| 44/44 [00:12<00:00,  3.52it/s]\n",
            "                 Class     Images  Instances      Box(P          R      mAP50  mAP50-95): 100%|██████████| 4/4 [00:01<00:00,  2.49it/s]"
          ]
        },
        {
          "output_type": "stream",
          "name": "stdout",
          "text": [
            "                   all        100        408      0.441     0.0917      0.052     0.0201\n"
          ]
        },
        {
          "output_type": "stream",
          "name": "stderr",
          "text": [
            "\n"
          ]
        },
        {
          "output_type": "stream",
          "name": "stdout",
          "text": [
            "\n",
            "      Epoch    GPU_mem   box_loss   cls_loss   dfl_loss  Instances       Size\n"
          ]
        },
        {
          "output_type": "stream",
          "name": "stderr",
          "text": [
            "     23/150      2.84G      2.317      3.426      2.445         76        640: 100%|██████████| 44/44 [00:12<00:00,  3.45it/s]\n",
            "                 Class     Images  Instances      Box(P          R      mAP50  mAP50-95): 100%|██████████| 4/4 [00:01<00:00,  2.63it/s]"
          ]
        },
        {
          "output_type": "stream",
          "name": "stdout",
          "text": [
            "                   all        100        408      0.367      0.111      0.058     0.0204\n"
          ]
        },
        {
          "output_type": "stream",
          "name": "stderr",
          "text": [
            "\n"
          ]
        },
        {
          "output_type": "stream",
          "name": "stdout",
          "text": [
            "\n",
            "      Epoch    GPU_mem   box_loss   cls_loss   dfl_loss  Instances       Size\n"
          ]
        },
        {
          "output_type": "stream",
          "name": "stderr",
          "text": [
            "     24/150      2.84G      2.274      3.385      2.423         63        640: 100%|██████████| 44/44 [00:13<00:00,  3.22it/s]\n",
            "                 Class     Images  Instances      Box(P          R      mAP50  mAP50-95): 100%|██████████| 4/4 [00:01<00:00,  2.41it/s]"
          ]
        },
        {
          "output_type": "stream",
          "name": "stdout",
          "text": [
            "                   all        100        408      0.462     0.0913     0.0659     0.0234\n"
          ]
        },
        {
          "output_type": "stream",
          "name": "stderr",
          "text": [
            "\n"
          ]
        },
        {
          "output_type": "stream",
          "name": "stdout",
          "text": [
            "\n",
            "      Epoch    GPU_mem   box_loss   cls_loss   dfl_loss  Instances       Size\n"
          ]
        },
        {
          "output_type": "stream",
          "name": "stderr",
          "text": [
            "     25/150      2.84G      2.267      3.358      2.406         48        640: 100%|██████████| 44/44 [00:12<00:00,  3.61it/s]\n",
            "                 Class     Images  Instances      Box(P          R      mAP50  mAP50-95): 100%|██████████| 4/4 [00:01<00:00,  2.90it/s]"
          ]
        },
        {
          "output_type": "stream",
          "name": "stdout",
          "text": [
            "                   all        100        408      0.487     0.0918     0.0561     0.0181\n"
          ]
        },
        {
          "output_type": "stream",
          "name": "stderr",
          "text": [
            "\n"
          ]
        },
        {
          "output_type": "stream",
          "name": "stdout",
          "text": [
            "\n",
            "      Epoch    GPU_mem   box_loss   cls_loss   dfl_loss  Instances       Size\n"
          ]
        },
        {
          "output_type": "stream",
          "name": "stderr",
          "text": [
            "     26/150      2.84G      2.259      3.252      2.374        102        640: 100%|██████████| 44/44 [00:12<00:00,  3.55it/s]\n",
            "                 Class     Images  Instances      Box(P          R      mAP50  mAP50-95): 100%|██████████| 4/4 [00:01<00:00,  2.52it/s]"
          ]
        },
        {
          "output_type": "stream",
          "name": "stdout",
          "text": [
            "                   all        100        408      0.285      0.111     0.0637     0.0222\n"
          ]
        },
        {
          "output_type": "stream",
          "name": "stderr",
          "text": [
            "\n"
          ]
        },
        {
          "output_type": "stream",
          "name": "stdout",
          "text": [
            "\n",
            "      Epoch    GPU_mem   box_loss   cls_loss   dfl_loss  Instances       Size\n"
          ]
        },
        {
          "output_type": "stream",
          "name": "stderr",
          "text": [
            "     27/150      2.84G      2.269       3.27      2.379         85        640: 100%|██████████| 44/44 [00:12<00:00,  3.47it/s]\n",
            "                 Class     Images  Instances      Box(P          R      mAP50  mAP50-95): 100%|██████████| 4/4 [00:01<00:00,  2.88it/s]"
          ]
        },
        {
          "output_type": "stream",
          "name": "stdout",
          "text": [
            "                   all        100        408      0.373     0.0847     0.0619     0.0235\n"
          ]
        },
        {
          "output_type": "stream",
          "name": "stderr",
          "text": [
            "\n"
          ]
        },
        {
          "output_type": "stream",
          "name": "stdout",
          "text": [
            "\n",
            "      Epoch    GPU_mem   box_loss   cls_loss   dfl_loss  Instances       Size\n"
          ]
        },
        {
          "output_type": "stream",
          "name": "stderr",
          "text": [
            "     28/150      2.84G      2.229      3.241      2.357         90        640: 100%|██████████| 44/44 [00:12<00:00,  3.52it/s]\n",
            "                 Class     Images  Instances      Box(P          R      mAP50  mAP50-95): 100%|██████████| 4/4 [00:02<00:00,  1.94it/s]\n"
          ]
        },
        {
          "output_type": "stream",
          "name": "stdout",
          "text": [
            "                   all        100        408      0.378     0.0825     0.0657     0.0251\n",
            "\n",
            "      Epoch    GPU_mem   box_loss   cls_loss   dfl_loss  Instances       Size\n"
          ]
        },
        {
          "output_type": "stream",
          "name": "stderr",
          "text": [
            "     29/150      2.84G      2.212      3.206      2.348         94        640: 100%|██████████| 44/44 [00:13<00:00,  3.36it/s]\n",
            "                 Class     Images  Instances      Box(P          R      mAP50  mAP50-95): 100%|██████████| 4/4 [00:01<00:00,  2.62it/s]"
          ]
        },
        {
          "output_type": "stream",
          "name": "stdout",
          "text": [
            "                   all        100        408      0.263       0.11     0.0623     0.0227\n"
          ]
        },
        {
          "output_type": "stream",
          "name": "stderr",
          "text": [
            "\n"
          ]
        },
        {
          "output_type": "stream",
          "name": "stdout",
          "text": [
            "\n",
            "      Epoch    GPU_mem   box_loss   cls_loss   dfl_loss  Instances       Size\n"
          ]
        },
        {
          "output_type": "stream",
          "name": "stderr",
          "text": [
            "     30/150      2.84G      2.205      3.152      2.318         59        640: 100%|██████████| 44/44 [00:12<00:00,  3.43it/s]\n",
            "                 Class     Images  Instances      Box(P          R      mAP50  mAP50-95): 100%|██████████| 4/4 [00:01<00:00,  2.75it/s]"
          ]
        },
        {
          "output_type": "stream",
          "name": "stdout",
          "text": [
            "                   all        100        408       0.46      0.136     0.0712     0.0261\n"
          ]
        },
        {
          "output_type": "stream",
          "name": "stderr",
          "text": [
            "\n"
          ]
        },
        {
          "output_type": "stream",
          "name": "stdout",
          "text": [
            "\n",
            "      Epoch    GPU_mem   box_loss   cls_loss   dfl_loss  Instances       Size\n"
          ]
        },
        {
          "output_type": "stream",
          "name": "stderr",
          "text": [
            "     31/150      2.84G      2.196      3.183      2.336         75        640: 100%|██████████| 44/44 [00:13<00:00,  3.37it/s]\n",
            "                 Class     Images  Instances      Box(P          R      mAP50  mAP50-95): 100%|██████████| 4/4 [00:01<00:00,  3.30it/s]"
          ]
        },
        {
          "output_type": "stream",
          "name": "stdout",
          "text": [
            "                   all        100        408      0.381      0.101     0.0791     0.0302\n"
          ]
        },
        {
          "output_type": "stream",
          "name": "stderr",
          "text": [
            "\n"
          ]
        },
        {
          "output_type": "stream",
          "name": "stdout",
          "text": [
            "\n",
            "      Epoch    GPU_mem   box_loss   cls_loss   dfl_loss  Instances       Size\n"
          ]
        },
        {
          "output_type": "stream",
          "name": "stderr",
          "text": [
            "     32/150      2.84G      2.174      3.126      2.314         76        640: 100%|██████████| 44/44 [00:12<00:00,  3.45it/s]\n",
            "                 Class     Images  Instances      Box(P          R      mAP50  mAP50-95): 100%|██████████| 4/4 [00:01<00:00,  2.82it/s]"
          ]
        },
        {
          "output_type": "stream",
          "name": "stdout",
          "text": [
            "                   all        100        408      0.368      0.133     0.0732     0.0257\n"
          ]
        },
        {
          "output_type": "stream",
          "name": "stderr",
          "text": [
            "\n"
          ]
        },
        {
          "output_type": "stream",
          "name": "stdout",
          "text": [
            "\n",
            "      Epoch    GPU_mem   box_loss   cls_loss   dfl_loss  Instances       Size\n"
          ]
        },
        {
          "output_type": "stream",
          "name": "stderr",
          "text": [
            "     33/150      2.84G      2.152      3.122      2.287         99        640: 100%|██████████| 44/44 [00:12<00:00,  3.47it/s]\n",
            "                 Class     Images  Instances      Box(P          R      mAP50  mAP50-95): 100%|██████████| 4/4 [00:01<00:00,  2.45it/s]"
          ]
        },
        {
          "output_type": "stream",
          "name": "stdout",
          "text": [
            "                   all        100        408       0.47      0.123     0.0806     0.0325\n"
          ]
        },
        {
          "output_type": "stream",
          "name": "stderr",
          "text": [
            "\n"
          ]
        },
        {
          "output_type": "stream",
          "name": "stdout",
          "text": [
            "\n",
            "      Epoch    GPU_mem   box_loss   cls_loss   dfl_loss  Instances       Size\n"
          ]
        },
        {
          "output_type": "stream",
          "name": "stderr",
          "text": [
            "     34/150      2.84G      2.141       3.04      2.261        120        640: 100%|██████████| 44/44 [00:12<00:00,  3.47it/s]\n",
            "                 Class     Images  Instances      Box(P          R      mAP50  mAP50-95): 100%|██████████| 4/4 [00:01<00:00,  3.31it/s]"
          ]
        },
        {
          "output_type": "stream",
          "name": "stdout",
          "text": [
            "                   all        100        408      0.403      0.126     0.0913      0.037\n"
          ]
        },
        {
          "output_type": "stream",
          "name": "stderr",
          "text": [
            "\n"
          ]
        },
        {
          "output_type": "stream",
          "name": "stdout",
          "text": [
            "\n",
            "      Epoch    GPU_mem   box_loss   cls_loss   dfl_loss  Instances       Size\n"
          ]
        },
        {
          "output_type": "stream",
          "name": "stderr",
          "text": [
            "     35/150      2.84G      2.113      3.016      2.232         97        640: 100%|██████████| 44/44 [00:12<00:00,  3.41it/s]\n",
            "                 Class     Images  Instances      Box(P          R      mAP50  mAP50-95): 100%|██████████| 4/4 [00:01<00:00,  3.00it/s]"
          ]
        },
        {
          "output_type": "stream",
          "name": "stdout",
          "text": [
            "                   all        100        408      0.475     0.0866      0.061     0.0267\n"
          ]
        },
        {
          "output_type": "stream",
          "name": "stderr",
          "text": [
            "\n"
          ]
        },
        {
          "output_type": "stream",
          "name": "stdout",
          "text": [
            "\n",
            "      Epoch    GPU_mem   box_loss   cls_loss   dfl_loss  Instances       Size\n"
          ]
        },
        {
          "output_type": "stream",
          "name": "stderr",
          "text": [
            "     36/150      2.84G      2.093      3.055      2.247         48        640: 100%|██████████| 44/44 [00:12<00:00,  3.45it/s]\n",
            "                 Class     Images  Instances      Box(P          R      mAP50  mAP50-95): 100%|██████████| 4/4 [00:01<00:00,  2.20it/s]\n"
          ]
        },
        {
          "output_type": "stream",
          "name": "stdout",
          "text": [
            "                   all        100        408      0.374      0.147     0.0746     0.0273\n",
            "\n",
            "      Epoch    GPU_mem   box_loss   cls_loss   dfl_loss  Instances       Size\n"
          ]
        },
        {
          "output_type": "stream",
          "name": "stderr",
          "text": [
            "     37/150      2.84G       2.13      2.979      2.246        121        640: 100%|██████████| 44/44 [00:12<00:00,  3.43it/s]\n",
            "                 Class     Images  Instances      Box(P          R      mAP50  mAP50-95): 100%|██████████| 4/4 [00:01<00:00,  2.29it/s]"
          ]
        },
        {
          "output_type": "stream",
          "name": "stdout",
          "text": [
            "                   all        100        408      0.392      0.139     0.0934     0.0397\n"
          ]
        },
        {
          "output_type": "stream",
          "name": "stderr",
          "text": [
            "\n"
          ]
        },
        {
          "output_type": "stream",
          "name": "stdout",
          "text": [
            "\n",
            "      Epoch    GPU_mem   box_loss   cls_loss   dfl_loss  Instances       Size\n"
          ]
        },
        {
          "output_type": "stream",
          "name": "stderr",
          "text": [
            "     38/150      2.84G       2.11      2.951      2.213         92        640: 100%|██████████| 44/44 [00:12<00:00,  3.44it/s]\n",
            "                 Class     Images  Instances      Box(P          R      mAP50  mAP50-95): 100%|██████████| 4/4 [00:01<00:00,  3.33it/s]"
          ]
        },
        {
          "output_type": "stream",
          "name": "stdout",
          "text": [
            "                   all        100        408      0.401      0.127      0.091     0.0374\n"
          ]
        },
        {
          "output_type": "stream",
          "name": "stderr",
          "text": [
            "\n"
          ]
        },
        {
          "output_type": "stream",
          "name": "stdout",
          "text": [
            "\n",
            "      Epoch    GPU_mem   box_loss   cls_loss   dfl_loss  Instances       Size\n"
          ]
        },
        {
          "output_type": "stream",
          "name": "stderr",
          "text": [
            "     39/150      2.84G      2.075      2.957      2.211         68        640: 100%|██████████| 44/44 [00:13<00:00,  3.26it/s]\n",
            "                 Class     Images  Instances      Box(P          R      mAP50  mAP50-95): 100%|██████████| 4/4 [00:01<00:00,  3.38it/s]"
          ]
        },
        {
          "output_type": "stream",
          "name": "stdout",
          "text": [
            "                   all        100        408      0.383       0.14      0.107     0.0486\n"
          ]
        },
        {
          "output_type": "stream",
          "name": "stderr",
          "text": [
            "\n"
          ]
        },
        {
          "output_type": "stream",
          "name": "stdout",
          "text": [
            "\n",
            "      Epoch    GPU_mem   box_loss   cls_loss   dfl_loss  Instances       Size\n"
          ]
        },
        {
          "output_type": "stream",
          "name": "stderr",
          "text": [
            "     40/150      2.84G      2.081      2.909      2.192        108        640: 100%|██████████| 44/44 [00:12<00:00,  3.47it/s]\n",
            "                 Class     Images  Instances      Box(P          R      mAP50  mAP50-95): 100%|██████████| 4/4 [00:01<00:00,  2.68it/s]"
          ]
        },
        {
          "output_type": "stream",
          "name": "stdout",
          "text": [
            "                   all        100        408      0.436      0.143      0.116     0.0506\n"
          ]
        },
        {
          "output_type": "stream",
          "name": "stderr",
          "text": [
            "\n"
          ]
        },
        {
          "output_type": "stream",
          "name": "stdout",
          "text": [
            "\n",
            "      Epoch    GPU_mem   box_loss   cls_loss   dfl_loss  Instances       Size\n"
          ]
        },
        {
          "output_type": "stream",
          "name": "stderr",
          "text": [
            "     41/150      2.84G      2.074      2.885      2.204         75        640: 100%|██████████| 44/44 [00:12<00:00,  3.41it/s]\n",
            "                 Class     Images  Instances      Box(P          R      mAP50  mAP50-95): 100%|██████████| 4/4 [00:01<00:00,  3.19it/s]"
          ]
        },
        {
          "output_type": "stream",
          "name": "stdout",
          "text": [
            "                   all        100        408      0.358      0.165      0.109     0.0488\n"
          ]
        },
        {
          "output_type": "stream",
          "name": "stderr",
          "text": [
            "\n"
          ]
        },
        {
          "output_type": "stream",
          "name": "stdout",
          "text": [
            "\n",
            "      Epoch    GPU_mem   box_loss   cls_loss   dfl_loss  Instances       Size\n"
          ]
        },
        {
          "output_type": "stream",
          "name": "stderr",
          "text": [
            "     42/150      2.84G      2.039      2.828      2.165         86        640: 100%|██████████| 44/44 [00:13<00:00,  3.18it/s]\n",
            "                 Class     Images  Instances      Box(P          R      mAP50  mAP50-95): 100%|██████████| 4/4 [00:01<00:00,  3.13it/s]"
          ]
        },
        {
          "output_type": "stream",
          "name": "stdout",
          "text": [
            "                   all        100        408      0.352      0.153       0.12     0.0508\n"
          ]
        },
        {
          "output_type": "stream",
          "name": "stderr",
          "text": [
            "\n"
          ]
        },
        {
          "output_type": "stream",
          "name": "stdout",
          "text": [
            "\n",
            "      Epoch    GPU_mem   box_loss   cls_loss   dfl_loss  Instances       Size\n"
          ]
        },
        {
          "output_type": "stream",
          "name": "stderr",
          "text": [
            "     43/150      2.84G      2.101      2.873      2.197         73        640: 100%|██████████| 44/44 [00:12<00:00,  3.39it/s]\n",
            "                 Class     Images  Instances      Box(P          R      mAP50  mAP50-95): 100%|██████████| 4/4 [00:01<00:00,  2.07it/s]\n"
          ]
        },
        {
          "output_type": "stream",
          "name": "stdout",
          "text": [
            "                   all        100        408      0.352      0.174      0.115     0.0522\n",
            "\n",
            "      Epoch    GPU_mem   box_loss   cls_loss   dfl_loss  Instances       Size\n"
          ]
        },
        {
          "output_type": "stream",
          "name": "stderr",
          "text": [
            "     44/150      2.84G      2.044      2.783       2.16         95        640: 100%|██████████| 44/44 [00:11<00:00,  3.68it/s]\n",
            "                 Class     Images  Instances      Box(P          R      mAP50  mAP50-95): 100%|██████████| 4/4 [00:02<00:00,  1.76it/s]\n"
          ]
        },
        {
          "output_type": "stream",
          "name": "stdout",
          "text": [
            "                   all        100        408      0.388      0.199      0.121     0.0512\n",
            "\n",
            "      Epoch    GPU_mem   box_loss   cls_loss   dfl_loss  Instances       Size\n"
          ]
        },
        {
          "output_type": "stream",
          "name": "stderr",
          "text": [
            "     45/150      2.84G      2.035      2.792      2.148         84        640: 100%|██████████| 44/44 [00:12<00:00,  3.54it/s]\n",
            "                 Class     Images  Instances      Box(P          R      mAP50  mAP50-95): 100%|██████████| 4/4 [00:01<00:00,  3.05it/s]"
          ]
        },
        {
          "output_type": "stream",
          "name": "stdout",
          "text": [
            "                   all        100        408       0.44      0.197      0.123     0.0577\n"
          ]
        },
        {
          "output_type": "stream",
          "name": "stderr",
          "text": [
            "\n"
          ]
        },
        {
          "output_type": "stream",
          "name": "stdout",
          "text": [
            "\n",
            "      Epoch    GPU_mem   box_loss   cls_loss   dfl_loss  Instances       Size\n"
          ]
        },
        {
          "output_type": "stream",
          "name": "stderr",
          "text": [
            "     46/150      2.84G      2.036      2.786      2.129         89        640: 100%|██████████| 44/44 [00:12<00:00,  3.44it/s]\n",
            "                 Class     Images  Instances      Box(P          R      mAP50  mAP50-95): 100%|██████████| 4/4 [00:01<00:00,  2.86it/s]\n"
          ]
        },
        {
          "output_type": "stream",
          "name": "stdout",
          "text": [
            "                   all        100        408      0.462      0.149      0.133     0.0617\n",
            "\n",
            "      Epoch    GPU_mem   box_loss   cls_loss   dfl_loss  Instances       Size\n"
          ]
        },
        {
          "output_type": "stream",
          "name": "stderr",
          "text": [
            "     47/150      2.84G      2.025      2.785      2.146         42        640: 100%|██████████| 44/44 [00:13<00:00,  3.22it/s]\n",
            "                 Class     Images  Instances      Box(P          R      mAP50  mAP50-95): 100%|██████████| 4/4 [00:01<00:00,  3.11it/s]"
          ]
        },
        {
          "output_type": "stream",
          "name": "stdout",
          "text": [
            "                   all        100        408      0.582       0.16      0.115     0.0503\n"
          ]
        },
        {
          "output_type": "stream",
          "name": "stderr",
          "text": [
            "\n"
          ]
        },
        {
          "output_type": "stream",
          "name": "stdout",
          "text": [
            "\n",
            "      Epoch    GPU_mem   box_loss   cls_loss   dfl_loss  Instances       Size\n"
          ]
        },
        {
          "output_type": "stream",
          "name": "stderr",
          "text": [
            "     48/150      2.84G      2.008      2.726      2.121         61        640: 100%|██████████| 44/44 [00:12<00:00,  3.49it/s]\n",
            "                 Class     Images  Instances      Box(P          R      mAP50  mAP50-95): 100%|██████████| 4/4 [00:01<00:00,  3.14it/s]"
          ]
        },
        {
          "output_type": "stream",
          "name": "stdout",
          "text": [
            "                   all        100        408      0.288      0.145      0.131     0.0548\n"
          ]
        },
        {
          "output_type": "stream",
          "name": "stderr",
          "text": [
            "\n"
          ]
        },
        {
          "output_type": "stream",
          "name": "stdout",
          "text": [
            "\n",
            "      Epoch    GPU_mem   box_loss   cls_loss   dfl_loss  Instances       Size\n"
          ]
        },
        {
          "output_type": "stream",
          "name": "stderr",
          "text": [
            "     49/150      2.84G      2.014      2.704      2.117        122        640: 100%|██████████| 44/44 [00:12<00:00,  3.52it/s]\n",
            "                 Class     Images  Instances      Box(P          R      mAP50  mAP50-95): 100%|██████████| 4/4 [00:01<00:00,  2.77it/s]"
          ]
        },
        {
          "output_type": "stream",
          "name": "stdout",
          "text": [
            "                   all        100        408      0.298      0.201      0.125     0.0535\n"
          ]
        },
        {
          "output_type": "stream",
          "name": "stderr",
          "text": [
            "\n"
          ]
        },
        {
          "output_type": "stream",
          "name": "stdout",
          "text": [
            "\n",
            "      Epoch    GPU_mem   box_loss   cls_loss   dfl_loss  Instances       Size\n"
          ]
        },
        {
          "output_type": "stream",
          "name": "stderr",
          "text": [
            "     50/150      2.84G      1.999      2.682      2.116         89        640: 100%|██████████| 44/44 [00:12<00:00,  3.44it/s]\n",
            "                 Class     Images  Instances      Box(P          R      mAP50  mAP50-95): 100%|██████████| 4/4 [00:01<00:00,  2.95it/s]"
          ]
        },
        {
          "output_type": "stream",
          "name": "stdout",
          "text": [
            "                   all        100        408      0.249      0.193      0.149     0.0689\n"
          ]
        },
        {
          "output_type": "stream",
          "name": "stderr",
          "text": [
            "\n"
          ]
        },
        {
          "output_type": "stream",
          "name": "stdout",
          "text": [
            "\n",
            "      Epoch    GPU_mem   box_loss   cls_loss   dfl_loss  Instances       Size\n"
          ]
        },
        {
          "output_type": "stream",
          "name": "stderr",
          "text": [
            "     51/150      2.84G      1.993      2.705      2.112         62        640: 100%|██████████| 44/44 [00:12<00:00,  3.48it/s]\n",
            "                 Class     Images  Instances      Box(P          R      mAP50  mAP50-95): 100%|██████████| 4/4 [00:01<00:00,  2.69it/s]\n"
          ]
        },
        {
          "output_type": "stream",
          "name": "stdout",
          "text": [
            "                   all        100        408      0.248      0.174      0.145     0.0637\n",
            "\n",
            "      Epoch    GPU_mem   box_loss   cls_loss   dfl_loss  Instances       Size\n"
          ]
        },
        {
          "output_type": "stream",
          "name": "stderr",
          "text": [
            "     52/150      2.84G       1.99      2.637      2.106         61        640: 100%|██████████| 44/44 [00:12<00:00,  3.56it/s]\n",
            "                 Class     Images  Instances      Box(P          R      mAP50  mAP50-95): 100%|██████████| 4/4 [00:02<00:00,  1.66it/s]"
          ]
        },
        {
          "output_type": "stream",
          "name": "stdout",
          "text": [
            "                   all        100        408      0.415      0.183      0.162     0.0765\n"
          ]
        },
        {
          "output_type": "stream",
          "name": "stderr",
          "text": [
            "\n"
          ]
        },
        {
          "output_type": "stream",
          "name": "stdout",
          "text": [
            "\n",
            "      Epoch    GPU_mem   box_loss   cls_loss   dfl_loss  Instances       Size\n"
          ]
        },
        {
          "output_type": "stream",
          "name": "stderr",
          "text": [
            "     53/150      2.84G      1.945      2.624      2.062        115        640: 100%|██████████| 44/44 [00:12<00:00,  3.41it/s]\n",
            "                 Class     Images  Instances      Box(P          R      mAP50  mAP50-95): 100%|██████████| 4/4 [00:01<00:00,  2.89it/s]"
          ]
        },
        {
          "output_type": "stream",
          "name": "stdout",
          "text": [
            "                   all        100        408      0.271      0.225      0.149     0.0663\n"
          ]
        },
        {
          "output_type": "stream",
          "name": "stderr",
          "text": [
            "\n"
          ]
        },
        {
          "output_type": "stream",
          "name": "stdout",
          "text": [
            "\n",
            "      Epoch    GPU_mem   box_loss   cls_loss   dfl_loss  Instances       Size\n"
          ]
        },
        {
          "output_type": "stream",
          "name": "stderr",
          "text": [
            "     54/150      2.84G      1.972      2.614      2.065         93        640: 100%|██████████| 44/44 [00:13<00:00,  3.38it/s]\n",
            "                 Class     Images  Instances      Box(P          R      mAP50  mAP50-95): 100%|██████████| 4/4 [00:01<00:00,  3.27it/s]"
          ]
        },
        {
          "output_type": "stream",
          "name": "stdout",
          "text": [
            "                   all        100        408      0.456      0.162      0.156     0.0641\n"
          ]
        },
        {
          "output_type": "stream",
          "name": "stderr",
          "text": [
            "\n"
          ]
        },
        {
          "output_type": "stream",
          "name": "stdout",
          "text": [
            "\n",
            "      Epoch    GPU_mem   box_loss   cls_loss   dfl_loss  Instances       Size\n"
          ]
        },
        {
          "output_type": "stream",
          "name": "stderr",
          "text": [
            "     55/150      2.84G      1.951      2.584      2.064         75        640: 100%|██████████| 44/44 [00:12<00:00,  3.39it/s]\n",
            "                 Class     Images  Instances      Box(P          R      mAP50  mAP50-95): 100%|██████████| 4/4 [00:01<00:00,  3.13it/s]"
          ]
        },
        {
          "output_type": "stream",
          "name": "stdout",
          "text": [
            "                   all        100        408      0.519      0.166      0.169     0.0776\n"
          ]
        },
        {
          "output_type": "stream",
          "name": "stderr",
          "text": [
            "\n"
          ]
        },
        {
          "output_type": "stream",
          "name": "stdout",
          "text": [
            "\n",
            "      Epoch    GPU_mem   box_loss   cls_loss   dfl_loss  Instances       Size\n"
          ]
        },
        {
          "output_type": "stream",
          "name": "stderr",
          "text": [
            "     56/150      2.84G      1.973      2.577       2.08         88        640: 100%|██████████| 44/44 [00:12<00:00,  3.51it/s]\n",
            "                 Class     Images  Instances      Box(P          R      mAP50  mAP50-95): 100%|██████████| 4/4 [00:01<00:00,  3.21it/s]"
          ]
        },
        {
          "output_type": "stream",
          "name": "stdout",
          "text": [
            "                   all        100        408      0.375      0.181      0.148     0.0684\n"
          ]
        },
        {
          "output_type": "stream",
          "name": "stderr",
          "text": [
            "\n"
          ]
        },
        {
          "output_type": "stream",
          "name": "stdout",
          "text": [
            "\n",
            "      Epoch    GPU_mem   box_loss   cls_loss   dfl_loss  Instances       Size\n"
          ]
        },
        {
          "output_type": "stream",
          "name": "stderr",
          "text": [
            "     57/150      2.84G          2       2.55      2.092         73        640: 100%|██████████| 44/44 [00:12<00:00,  3.47it/s]\n",
            "                 Class     Images  Instances      Box(P          R      mAP50  mAP50-95): 100%|██████████| 4/4 [00:01<00:00,  2.70it/s]"
          ]
        },
        {
          "output_type": "stream",
          "name": "stdout",
          "text": [
            "                   all        100        408       0.35       0.19      0.138     0.0634\n"
          ]
        },
        {
          "output_type": "stream",
          "name": "stderr",
          "text": [
            "\n"
          ]
        },
        {
          "output_type": "stream",
          "name": "stdout",
          "text": [
            "\n",
            "      Epoch    GPU_mem   box_loss   cls_loss   dfl_loss  Instances       Size\n"
          ]
        },
        {
          "output_type": "stream",
          "name": "stderr",
          "text": [
            "     58/150      2.84G      1.924       2.57      2.045         58        640: 100%|██████████| 44/44 [00:12<00:00,  3.48it/s]\n",
            "                 Class     Images  Instances      Box(P          R      mAP50  mAP50-95): 100%|██████████| 4/4 [00:01<00:00,  3.08it/s]"
          ]
        },
        {
          "output_type": "stream",
          "name": "stdout",
          "text": [
            "                   all        100        408      0.253      0.209      0.152     0.0652\n"
          ]
        },
        {
          "output_type": "stream",
          "name": "stderr",
          "text": [
            "\n"
          ]
        },
        {
          "output_type": "stream",
          "name": "stdout",
          "text": [
            "\n",
            "      Epoch    GPU_mem   box_loss   cls_loss   dfl_loss  Instances       Size\n"
          ]
        },
        {
          "output_type": "stream",
          "name": "stderr",
          "text": [
            "     59/150      2.84G       1.93      2.548      2.047         57        640: 100%|██████████| 44/44 [00:13<00:00,  3.33it/s]\n",
            "                 Class     Images  Instances      Box(P          R      mAP50  mAP50-95): 100%|██████████| 4/4 [00:01<00:00,  3.04it/s]"
          ]
        },
        {
          "output_type": "stream",
          "name": "stdout",
          "text": [
            "                   all        100        408      0.509      0.166      0.176      0.081\n"
          ]
        },
        {
          "output_type": "stream",
          "name": "stderr",
          "text": [
            "\n"
          ]
        },
        {
          "output_type": "stream",
          "name": "stdout",
          "text": [
            "\n",
            "      Epoch    GPU_mem   box_loss   cls_loss   dfl_loss  Instances       Size\n"
          ]
        },
        {
          "output_type": "stream",
          "name": "stderr",
          "text": [
            "     60/150      2.84G       1.91      2.491      2.036         79        640: 100%|██████████| 44/44 [00:12<00:00,  3.50it/s]\n",
            "                 Class     Images  Instances      Box(P          R      mAP50  mAP50-95): 100%|██████████| 4/4 [00:02<00:00,  1.85it/s]"
          ]
        },
        {
          "output_type": "stream",
          "name": "stdout",
          "text": [
            "                   all        100        408      0.471      0.183      0.145     0.0648\n"
          ]
        },
        {
          "output_type": "stream",
          "name": "stderr",
          "text": [
            "\n"
          ]
        },
        {
          "output_type": "stream",
          "name": "stdout",
          "text": [
            "\n",
            "      Epoch    GPU_mem   box_loss   cls_loss   dfl_loss  Instances       Size\n"
          ]
        },
        {
          "output_type": "stream",
          "name": "stderr",
          "text": [
            "     61/150      2.84G      1.923      2.534      2.056         78        640: 100%|██████████| 44/44 [00:12<00:00,  3.40it/s]\n",
            "                 Class     Images  Instances      Box(P          R      mAP50  mAP50-95): 100%|██████████| 4/4 [00:01<00:00,  3.10it/s]\n"
          ]
        },
        {
          "output_type": "stream",
          "name": "stdout",
          "text": [
            "                   all        100        408      0.272      0.217      0.177     0.0801\n",
            "\n",
            "      Epoch    GPU_mem   box_loss   cls_loss   dfl_loss  Instances       Size\n"
          ]
        },
        {
          "output_type": "stream",
          "name": "stderr",
          "text": [
            "     62/150      2.84G      1.922      2.493      2.032         57        640: 100%|██████████| 44/44 [00:12<00:00,  3.40it/s]\n",
            "                 Class     Images  Instances      Box(P          R      mAP50  mAP50-95): 100%|██████████| 4/4 [00:01<00:00,  2.95it/s]"
          ]
        },
        {
          "output_type": "stream",
          "name": "stdout",
          "text": [
            "                   all        100        408      0.432      0.207      0.185     0.0937\n"
          ]
        },
        {
          "output_type": "stream",
          "name": "stderr",
          "text": [
            "\n"
          ]
        },
        {
          "output_type": "stream",
          "name": "stdout",
          "text": [
            "\n",
            "      Epoch    GPU_mem   box_loss   cls_loss   dfl_loss  Instances       Size\n"
          ]
        },
        {
          "output_type": "stream",
          "name": "stderr",
          "text": [
            "     63/150      2.84G       1.91      2.455      1.997         62        640: 100%|██████████| 44/44 [00:13<00:00,  3.36it/s]\n",
            "                 Class     Images  Instances      Box(P          R      mAP50  mAP50-95): 100%|██████████| 4/4 [00:01<00:00,  2.88it/s]\n"
          ]
        },
        {
          "output_type": "stream",
          "name": "stdout",
          "text": [
            "                   all        100        408      0.229      0.238      0.192     0.0823\n",
            "\n",
            "      Epoch    GPU_mem   box_loss   cls_loss   dfl_loss  Instances       Size\n"
          ]
        },
        {
          "output_type": "stream",
          "name": "stderr",
          "text": [
            "     64/150      2.84G      1.909      2.421      2.012         38        640: 100%|██████████| 44/44 [00:14<00:00,  3.09it/s]\n",
            "                 Class     Images  Instances      Box(P          R      mAP50  mAP50-95): 100%|██████████| 4/4 [00:01<00:00,  2.90it/s]"
          ]
        },
        {
          "output_type": "stream",
          "name": "stdout",
          "text": [
            "                   all        100        408      0.344      0.192      0.151     0.0714\n"
          ]
        },
        {
          "output_type": "stream",
          "name": "stderr",
          "text": [
            "\n"
          ]
        },
        {
          "output_type": "stream",
          "name": "stdout",
          "text": [
            "\n",
            "      Epoch    GPU_mem   box_loss   cls_loss   dfl_loss  Instances       Size\n"
          ]
        },
        {
          "output_type": "stream",
          "name": "stderr",
          "text": [
            "     65/150      2.84G      1.891      2.438      2.015         77        640: 100%|██████████| 44/44 [00:12<00:00,  3.39it/s]\n",
            "                 Class     Images  Instances      Box(P          R      mAP50  mAP50-95): 100%|██████████| 4/4 [00:01<00:00,  3.00it/s]\n"
          ]
        },
        {
          "output_type": "stream",
          "name": "stdout",
          "text": [
            "                   all        100        408      0.282      0.217      0.165     0.0781\n",
            "\n",
            "      Epoch    GPU_mem   box_loss   cls_loss   dfl_loss  Instances       Size\n"
          ]
        },
        {
          "output_type": "stream",
          "name": "stderr",
          "text": [
            "     66/150      2.84G      1.905      2.433      2.015         78        640: 100%|██████████| 44/44 [00:13<00:00,  3.36it/s]\n",
            "                 Class     Images  Instances      Box(P          R      mAP50  mAP50-95): 100%|██████████| 4/4 [00:01<00:00,  2.72it/s]\n"
          ]
        },
        {
          "output_type": "stream",
          "name": "stdout",
          "text": [
            "                   all        100        408      0.356      0.218      0.181     0.0803\n",
            "\n",
            "      Epoch    GPU_mem   box_loss   cls_loss   dfl_loss  Instances       Size\n"
          ]
        },
        {
          "output_type": "stream",
          "name": "stderr",
          "text": [
            "     67/150      2.84G       1.91      2.436      2.028         85        640: 100%|██████████| 44/44 [00:12<00:00,  3.48it/s]\n",
            "                 Class     Images  Instances      Box(P          R      mAP50  mAP50-95): 100%|██████████| 4/4 [00:02<00:00,  1.69it/s]\n"
          ]
        },
        {
          "output_type": "stream",
          "name": "stdout",
          "text": [
            "                   all        100        408      0.258       0.22      0.167     0.0767\n",
            "\n",
            "      Epoch    GPU_mem   box_loss   cls_loss   dfl_loss  Instances       Size\n"
          ]
        },
        {
          "output_type": "stream",
          "name": "stderr",
          "text": [
            "     68/150      2.84G        1.9      2.407      2.017         56        640: 100%|██████████| 44/44 [00:13<00:00,  3.28it/s]\n",
            "                 Class     Images  Instances      Box(P          R      mAP50  mAP50-95): 100%|██████████| 4/4 [00:02<00:00,  1.72it/s]\n"
          ]
        },
        {
          "output_type": "stream",
          "name": "stdout",
          "text": [
            "                   all        100        408      0.436      0.162      0.171      0.078\n",
            "\n",
            "      Epoch    GPU_mem   box_loss   cls_loss   dfl_loss  Instances       Size\n"
          ]
        },
        {
          "output_type": "stream",
          "name": "stderr",
          "text": [
            "     69/150      2.84G      1.881      2.363      1.973         64        640: 100%|██████████| 44/44 [00:12<00:00,  3.43it/s]\n",
            "                 Class     Images  Instances      Box(P          R      mAP50  mAP50-95): 100%|██████████| 4/4 [00:01<00:00,  2.79it/s]\n"
          ]
        },
        {
          "output_type": "stream",
          "name": "stdout",
          "text": [
            "                   all        100        408      0.282      0.219      0.168     0.0831\n",
            "\n",
            "      Epoch    GPU_mem   box_loss   cls_loss   dfl_loss  Instances       Size\n"
          ]
        },
        {
          "output_type": "stream",
          "name": "stderr",
          "text": [
            "     70/150      2.84G      1.889      2.387      1.998         77        640: 100%|██████████| 44/44 [00:13<00:00,  3.31it/s]\n",
            "                 Class     Images  Instances      Box(P          R      mAP50  mAP50-95): 100%|██████████| 4/4 [00:01<00:00,  3.26it/s]"
          ]
        },
        {
          "output_type": "stream",
          "name": "stdout",
          "text": [
            "                   all        100        408      0.205      0.206      0.177     0.0827\n"
          ]
        },
        {
          "output_type": "stream",
          "name": "stderr",
          "text": [
            "\n"
          ]
        },
        {
          "output_type": "stream",
          "name": "stdout",
          "text": [
            "\n",
            "      Epoch    GPU_mem   box_loss   cls_loss   dfl_loss  Instances       Size\n"
          ]
        },
        {
          "output_type": "stream",
          "name": "stderr",
          "text": [
            "     71/150      2.84G      1.885      2.344      1.985         60        640: 100%|██████████| 44/44 [00:13<00:00,  3.36it/s]\n",
            "                 Class     Images  Instances      Box(P          R      mAP50  mAP50-95): 100%|██████████| 4/4 [00:01<00:00,  2.92it/s]"
          ]
        },
        {
          "output_type": "stream",
          "name": "stdout",
          "text": [
            "                   all        100        408      0.454      0.204      0.203     0.0912\n"
          ]
        },
        {
          "output_type": "stream",
          "name": "stderr",
          "text": [
            "\n"
          ]
        },
        {
          "output_type": "stream",
          "name": "stdout",
          "text": [
            "\n",
            "      Epoch    GPU_mem   box_loss   cls_loss   dfl_loss  Instances       Size\n"
          ]
        },
        {
          "output_type": "stream",
          "name": "stderr",
          "text": [
            "     72/150      2.84G      1.859      2.318      1.983         70        640: 100%|██████████| 44/44 [00:13<00:00,  3.26it/s]\n",
            "                 Class     Images  Instances      Box(P          R      mAP50  mAP50-95): 100%|██████████| 4/4 [00:01<00:00,  2.60it/s]\n"
          ]
        },
        {
          "output_type": "stream",
          "name": "stdout",
          "text": [
            "                   all        100        408      0.353      0.212      0.192      0.087\n",
            "\n",
            "      Epoch    GPU_mem   box_loss   cls_loss   dfl_loss  Instances       Size\n"
          ]
        },
        {
          "output_type": "stream",
          "name": "stderr",
          "text": [
            "     73/150      2.84G      1.869      2.325      1.973         89        640: 100%|██████████| 44/44 [00:12<00:00,  3.43it/s]\n",
            "                 Class     Images  Instances      Box(P          R      mAP50  mAP50-95): 100%|██████████| 4/4 [00:01<00:00,  2.73it/s]\n"
          ]
        },
        {
          "output_type": "stream",
          "name": "stdout",
          "text": [
            "                   all        100        408      0.173      0.235      0.184     0.0853\n",
            "\n",
            "      Epoch    GPU_mem   box_loss   cls_loss   dfl_loss  Instances       Size\n"
          ]
        },
        {
          "output_type": "stream",
          "name": "stderr",
          "text": [
            "     74/150      2.84G      1.857      2.372      1.978         69        640: 100%|██████████| 44/44 [00:13<00:00,  3.30it/s]\n",
            "                 Class     Images  Instances      Box(P          R      mAP50  mAP50-95): 100%|██████████| 4/4 [00:02<00:00,  1.87it/s]"
          ]
        },
        {
          "output_type": "stream",
          "name": "stdout",
          "text": [
            "                   all        100        408       0.48      0.192      0.213        0.1\n"
          ]
        },
        {
          "output_type": "stream",
          "name": "stderr",
          "text": [
            "\n"
          ]
        },
        {
          "output_type": "stream",
          "name": "stdout",
          "text": [
            "\n",
            "      Epoch    GPU_mem   box_loss   cls_loss   dfl_loss  Instances       Size\n"
          ]
        },
        {
          "output_type": "stream",
          "name": "stderr",
          "text": [
            "     75/150      2.84G       1.85      2.297      1.953         79        640: 100%|██████████| 44/44 [00:13<00:00,  3.33it/s]\n",
            "                 Class     Images  Instances      Box(P          R      mAP50  mAP50-95): 100%|██████████| 4/4 [00:01<00:00,  3.04it/s]"
          ]
        },
        {
          "output_type": "stream",
          "name": "stdout",
          "text": [
            "                   all        100        408       0.24      0.224      0.185     0.0828\n"
          ]
        },
        {
          "output_type": "stream",
          "name": "stderr",
          "text": [
            "\n"
          ]
        },
        {
          "output_type": "stream",
          "name": "stdout",
          "text": [
            "\n",
            "      Epoch    GPU_mem   box_loss   cls_loss   dfl_loss  Instances       Size\n"
          ]
        },
        {
          "output_type": "stream",
          "name": "stderr",
          "text": [
            "     76/150      2.84G      1.829      2.272      1.955         63        640: 100%|██████████| 44/44 [00:13<00:00,  3.32it/s]\n",
            "                 Class     Images  Instances      Box(P          R      mAP50  mAP50-95): 100%|██████████| 4/4 [00:01<00:00,  2.42it/s]"
          ]
        },
        {
          "output_type": "stream",
          "name": "stdout",
          "text": [
            "                   all        100        408      0.196      0.252      0.184     0.0878\n"
          ]
        },
        {
          "output_type": "stream",
          "name": "stderr",
          "text": [
            "\n"
          ]
        },
        {
          "output_type": "stream",
          "name": "stdout",
          "text": [
            "\n",
            "      Epoch    GPU_mem   box_loss   cls_loss   dfl_loss  Instances       Size\n"
          ]
        },
        {
          "output_type": "stream",
          "name": "stderr",
          "text": [
            "     77/150      2.84G      1.823      2.255      1.935         78        640: 100%|██████████| 44/44 [00:13<00:00,  3.38it/s]\n",
            "                 Class     Images  Instances      Box(P          R      mAP50  mAP50-95): 100%|██████████| 4/4 [00:01<00:00,  3.04it/s]"
          ]
        },
        {
          "output_type": "stream",
          "name": "stdout",
          "text": [
            "                   all        100        408        0.4      0.229       0.19     0.0875\n"
          ]
        },
        {
          "output_type": "stream",
          "name": "stderr",
          "text": [
            "\n"
          ]
        },
        {
          "output_type": "stream",
          "name": "stdout",
          "text": [
            "\n",
            "      Epoch    GPU_mem   box_loss   cls_loss   dfl_loss  Instances       Size\n"
          ]
        },
        {
          "output_type": "stream",
          "name": "stderr",
          "text": [
            "     78/150      2.84G      1.842      2.321      1.948         76        640: 100%|██████████| 44/44 [00:13<00:00,  3.37it/s]\n",
            "                 Class     Images  Instances      Box(P          R      mAP50  mAP50-95): 100%|██████████| 4/4 [00:01<00:00,  3.62it/s]"
          ]
        },
        {
          "output_type": "stream",
          "name": "stdout",
          "text": [
            "                   all        100        408      0.212      0.205       0.19      0.089\n"
          ]
        },
        {
          "output_type": "stream",
          "name": "stderr",
          "text": [
            "\n"
          ]
        },
        {
          "output_type": "stream",
          "name": "stdout",
          "text": [
            "\n",
            "      Epoch    GPU_mem   box_loss   cls_loss   dfl_loss  Instances       Size\n"
          ]
        },
        {
          "output_type": "stream",
          "name": "stderr",
          "text": [
            "     79/150      2.84G      1.796      2.211       1.92         78        640: 100%|██████████| 44/44 [00:13<00:00,  3.33it/s]\n",
            "                 Class     Images  Instances      Box(P          R      mAP50  mAP50-95): 100%|██████████| 4/4 [00:01<00:00,  2.83it/s]"
          ]
        },
        {
          "output_type": "stream",
          "name": "stdout",
          "text": [
            "                   all        100        408      0.359       0.21      0.199      0.094\n"
          ]
        },
        {
          "output_type": "stream",
          "name": "stderr",
          "text": [
            "\n"
          ]
        },
        {
          "output_type": "stream",
          "name": "stdout",
          "text": [
            "\n",
            "      Epoch    GPU_mem   box_loss   cls_loss   dfl_loss  Instances       Size\n"
          ]
        },
        {
          "output_type": "stream",
          "name": "stderr",
          "text": [
            "     80/150      2.84G      1.808      2.218      1.939         54        640: 100%|██████████| 44/44 [00:13<00:00,  3.35it/s]\n",
            "                 Class     Images  Instances      Box(P          R      mAP50  mAP50-95): 100%|██████████| 4/4 [00:01<00:00,  2.02it/s]\n"
          ]
        },
        {
          "output_type": "stream",
          "name": "stdout",
          "text": [
            "                   all        100        408      0.251      0.255      0.189     0.0888\n",
            "\n",
            "      Epoch    GPU_mem   box_loss   cls_loss   dfl_loss  Instances       Size\n"
          ]
        },
        {
          "output_type": "stream",
          "name": "stderr",
          "text": [
            "     81/150      2.84G      1.808      2.217      1.909         71        640: 100%|██████████| 44/44 [00:13<00:00,  3.24it/s]\n",
            "                 Class     Images  Instances      Box(P          R      mAP50  mAP50-95): 100%|██████████| 4/4 [00:01<00:00,  3.21it/s]"
          ]
        },
        {
          "output_type": "stream",
          "name": "stdout",
          "text": [
            "                   all        100        408      0.214      0.217      0.172       0.08\n"
          ]
        },
        {
          "output_type": "stream",
          "name": "stderr",
          "text": [
            "\n"
          ]
        },
        {
          "output_type": "stream",
          "name": "stdout",
          "text": [
            "\n",
            "      Epoch    GPU_mem   box_loss   cls_loss   dfl_loss  Instances       Size\n"
          ]
        },
        {
          "output_type": "stream",
          "name": "stderr",
          "text": [
            "     82/150      2.84G      1.807      2.227      1.904        114        640: 100%|██████████| 44/44 [00:12<00:00,  3.41it/s]\n",
            "                 Class     Images  Instances      Box(P          R      mAP50  mAP50-95): 100%|██████████| 4/4 [00:01<00:00,  3.15it/s]"
          ]
        },
        {
          "output_type": "stream",
          "name": "stdout",
          "text": [
            "                   all        100        408      0.539      0.218       0.22      0.105\n"
          ]
        },
        {
          "output_type": "stream",
          "name": "stderr",
          "text": [
            "\n"
          ]
        },
        {
          "output_type": "stream",
          "name": "stdout",
          "text": [
            "\n",
            "      Epoch    GPU_mem   box_loss   cls_loss   dfl_loss  Instances       Size\n"
          ]
        },
        {
          "output_type": "stream",
          "name": "stderr",
          "text": [
            "     83/150      2.84G      1.792      2.232      1.915         55        640: 100%|██████████| 44/44 [00:13<00:00,  3.30it/s]\n",
            "                 Class     Images  Instances      Box(P          R      mAP50  mAP50-95): 100%|██████████| 4/4 [00:01<00:00,  2.58it/s]"
          ]
        },
        {
          "output_type": "stream",
          "name": "stdout",
          "text": [
            "                   all        100        408      0.242      0.223      0.175     0.0821\n"
          ]
        },
        {
          "output_type": "stream",
          "name": "stderr",
          "text": [
            "\n"
          ]
        },
        {
          "output_type": "stream",
          "name": "stdout",
          "text": [
            "\n",
            "      Epoch    GPU_mem   box_loss   cls_loss   dfl_loss  Instances       Size\n"
          ]
        },
        {
          "output_type": "stream",
          "name": "stderr",
          "text": [
            "     84/150      2.84G      1.787      2.208      1.904         58        640: 100%|██████████| 44/44 [00:12<00:00,  3.40it/s]\n",
            "                 Class     Images  Instances      Box(P          R      mAP50  mAP50-95): 100%|██████████| 4/4 [00:01<00:00,  2.67it/s]"
          ]
        },
        {
          "output_type": "stream",
          "name": "stdout",
          "text": [
            "                   all        100        408      0.333      0.251      0.193      0.088\n"
          ]
        },
        {
          "output_type": "stream",
          "name": "stderr",
          "text": [
            "\n"
          ]
        },
        {
          "output_type": "stream",
          "name": "stdout",
          "text": [
            "\n",
            "      Epoch    GPU_mem   box_loss   cls_loss   dfl_loss  Instances       Size\n"
          ]
        },
        {
          "output_type": "stream",
          "name": "stderr",
          "text": [
            "     85/150      2.84G      1.788      2.153      1.914         92        640: 100%|██████████| 44/44 [00:12<00:00,  3.39it/s]\n",
            "                 Class     Images  Instances      Box(P          R      mAP50  mAP50-95): 100%|██████████| 4/4 [00:01<00:00,  3.03it/s]\n"
          ]
        },
        {
          "output_type": "stream",
          "name": "stdout",
          "text": [
            "                   all        100        408      0.215      0.255        0.2     0.0954\n",
            "\n",
            "      Epoch    GPU_mem   box_loss   cls_loss   dfl_loss  Instances       Size\n"
          ]
        },
        {
          "output_type": "stream",
          "name": "stderr",
          "text": [
            "     86/150      2.84G      1.766      2.132      1.885         67        640: 100%|██████████| 44/44 [00:14<00:00,  3.04it/s]\n",
            "                 Class     Images  Instances      Box(P          R      mAP50  mAP50-95): 100%|██████████| 4/4 [00:01<00:00,  2.91it/s]"
          ]
        },
        {
          "output_type": "stream",
          "name": "stdout",
          "text": [
            "                   all        100        408      0.254       0.23      0.212      0.106\n"
          ]
        },
        {
          "output_type": "stream",
          "name": "stderr",
          "text": [
            "\n"
          ]
        },
        {
          "output_type": "stream",
          "name": "stdout",
          "text": [
            "\n",
            "      Epoch    GPU_mem   box_loss   cls_loss   dfl_loss  Instances       Size\n"
          ]
        },
        {
          "output_type": "stream",
          "name": "stderr",
          "text": [
            "     87/150      2.84G      1.774       2.19      1.895         84        640: 100%|██████████| 44/44 [00:12<00:00,  3.44it/s]\n",
            "                 Class     Images  Instances      Box(P          R      mAP50  mAP50-95): 100%|██████████| 4/4 [00:02<00:00,  1.65it/s]"
          ]
        },
        {
          "output_type": "stream",
          "name": "stdout",
          "text": [
            "                   all        100        408      0.263      0.255      0.212     0.0988\n"
          ]
        },
        {
          "output_type": "stream",
          "name": "stderr",
          "text": [
            "\n"
          ]
        },
        {
          "output_type": "stream",
          "name": "stdout",
          "text": [
            "\n",
            "      Epoch    GPU_mem   box_loss   cls_loss   dfl_loss  Instances       Size\n"
          ]
        },
        {
          "output_type": "stream",
          "name": "stderr",
          "text": [
            "     88/150      2.84G      1.775      2.121      1.897         65        640: 100%|██████████| 44/44 [00:12<00:00,  3.46it/s]\n",
            "                 Class     Images  Instances      Box(P          R      mAP50  mAP50-95): 100%|██████████| 4/4 [00:01<00:00,  3.15it/s]"
          ]
        },
        {
          "output_type": "stream",
          "name": "stdout",
          "text": [
            "                   all        100        408      0.218      0.254      0.222      0.105\n"
          ]
        },
        {
          "output_type": "stream",
          "name": "stderr",
          "text": [
            "\n"
          ]
        },
        {
          "output_type": "stream",
          "name": "stdout",
          "text": [
            "\n",
            "      Epoch    GPU_mem   box_loss   cls_loss   dfl_loss  Instances       Size\n"
          ]
        },
        {
          "output_type": "stream",
          "name": "stderr",
          "text": [
            "     89/150      2.84G      1.792      2.115      1.887         54        640: 100%|██████████| 44/44 [00:13<00:00,  3.34it/s]\n",
            "                 Class     Images  Instances      Box(P          R      mAP50  mAP50-95): 100%|██████████| 4/4 [00:01<00:00,  3.01it/s]"
          ]
        },
        {
          "output_type": "stream",
          "name": "stdout",
          "text": [
            "                   all        100        408      0.203      0.247      0.197     0.0932\n"
          ]
        },
        {
          "output_type": "stream",
          "name": "stderr",
          "text": [
            "\n"
          ]
        },
        {
          "output_type": "stream",
          "name": "stdout",
          "text": [
            "\n",
            "      Epoch    GPU_mem   box_loss   cls_loss   dfl_loss  Instances       Size\n"
          ]
        },
        {
          "output_type": "stream",
          "name": "stderr",
          "text": [
            "     90/150      2.84G      1.774      2.133      1.892         85        640: 100%|██████████| 44/44 [00:14<00:00,  2.99it/s]\n",
            "                 Class     Images  Instances      Box(P          R      mAP50  mAP50-95): 100%|██████████| 4/4 [00:01<00:00,  3.11it/s]"
          ]
        },
        {
          "output_type": "stream",
          "name": "stdout",
          "text": [
            "                   all        100        408      0.204      0.248      0.212     0.0995\n"
          ]
        },
        {
          "output_type": "stream",
          "name": "stderr",
          "text": [
            "\n"
          ]
        },
        {
          "output_type": "stream",
          "name": "stdout",
          "text": [
            "\n",
            "      Epoch    GPU_mem   box_loss   cls_loss   dfl_loss  Instances       Size\n"
          ]
        },
        {
          "output_type": "stream",
          "name": "stderr",
          "text": [
            "     91/150      2.84G      1.753      2.134      1.867         79        640: 100%|██████████| 44/44 [00:12<00:00,  3.43it/s]\n",
            "                 Class     Images  Instances      Box(P          R      mAP50  mAP50-95): 100%|██████████| 4/4 [00:01<00:00,  2.35it/s]"
          ]
        },
        {
          "output_type": "stream",
          "name": "stdout",
          "text": [
            "                   all        100        408      0.423      0.196      0.208      0.102\n"
          ]
        },
        {
          "output_type": "stream",
          "name": "stderr",
          "text": [
            "\n"
          ]
        },
        {
          "output_type": "stream",
          "name": "stdout",
          "text": [
            "\n",
            "      Epoch    GPU_mem   box_loss   cls_loss   dfl_loss  Instances       Size\n"
          ]
        },
        {
          "output_type": "stream",
          "name": "stderr",
          "text": [
            "     92/150      2.84G      1.758      2.125      1.879         63        640: 100%|██████████| 44/44 [00:12<00:00,  3.46it/s]\n",
            "                 Class     Images  Instances      Box(P          R      mAP50  mAP50-95): 100%|██████████| 4/4 [00:01<00:00,  3.00it/s]"
          ]
        },
        {
          "output_type": "stream",
          "name": "stdout",
          "text": [
            "                   all        100        408      0.362      0.202      0.224      0.111\n"
          ]
        },
        {
          "output_type": "stream",
          "name": "stderr",
          "text": [
            "\n"
          ]
        },
        {
          "output_type": "stream",
          "name": "stdout",
          "text": [
            "\n",
            "      Epoch    GPU_mem   box_loss   cls_loss   dfl_loss  Instances       Size\n"
          ]
        },
        {
          "output_type": "stream",
          "name": "stderr",
          "text": [
            "     93/150      2.84G      1.753      2.094      1.871         70        640: 100%|██████████| 44/44 [00:12<00:00,  3.46it/s]\n",
            "                 Class     Images  Instances      Box(P          R      mAP50  mAP50-95): 100%|██████████| 4/4 [00:01<00:00,  2.94it/s]"
          ]
        },
        {
          "output_type": "stream",
          "name": "stdout",
          "text": [
            "                   all        100        408      0.261      0.242      0.207      0.102\n"
          ]
        },
        {
          "output_type": "stream",
          "name": "stderr",
          "text": [
            "\n"
          ]
        },
        {
          "output_type": "stream",
          "name": "stdout",
          "text": [
            "\n",
            "      Epoch    GPU_mem   box_loss   cls_loss   dfl_loss  Instances       Size\n"
          ]
        },
        {
          "output_type": "stream",
          "name": "stderr",
          "text": [
            "     94/150      2.84G      1.721      2.051      1.857         73        640: 100%|██████████| 44/44 [00:12<00:00,  3.45it/s]\n",
            "                 Class     Images  Instances      Box(P          R      mAP50  mAP50-95): 100%|██████████| 4/4 [00:01<00:00,  2.15it/s]"
          ]
        },
        {
          "output_type": "stream",
          "name": "stdout",
          "text": [
            "                   all        100        408      0.369      0.211      0.215      0.105\n"
          ]
        },
        {
          "output_type": "stream",
          "name": "stderr",
          "text": [
            "\n"
          ]
        },
        {
          "output_type": "stream",
          "name": "stdout",
          "text": [
            "\n",
            "      Epoch    GPU_mem   box_loss   cls_loss   dfl_loss  Instances       Size\n"
          ]
        },
        {
          "output_type": "stream",
          "name": "stderr",
          "text": [
            "     95/150      2.84G      1.762      2.029       1.87         78        640: 100%|██████████| 44/44 [00:12<00:00,  3.51it/s]\n",
            "                 Class     Images  Instances      Box(P          R      mAP50  mAP50-95): 100%|██████████| 4/4 [00:02<00:00,  1.81it/s]\n"
          ]
        },
        {
          "output_type": "stream",
          "name": "stdout",
          "text": [
            "                   all        100        408       0.32      0.267      0.225      0.119\n",
            "\n",
            "      Epoch    GPU_mem   box_loss   cls_loss   dfl_loss  Instances       Size\n"
          ]
        },
        {
          "output_type": "stream",
          "name": "stderr",
          "text": [
            "     96/150      2.84G      1.769      2.081      1.862         60        640: 100%|██████████| 44/44 [00:13<00:00,  3.28it/s]\n",
            "                 Class     Images  Instances      Box(P          R      mAP50  mAP50-95): 100%|██████████| 4/4 [00:01<00:00,  3.33it/s]\n"
          ]
        },
        {
          "output_type": "stream",
          "name": "stdout",
          "text": [
            "                   all        100        408      0.255      0.287       0.22      0.109\n",
            "\n",
            "      Epoch    GPU_mem   box_loss   cls_loss   dfl_loss  Instances       Size\n"
          ]
        },
        {
          "output_type": "stream",
          "name": "stderr",
          "text": [
            "     97/150      2.84G      1.718      2.032      1.851         55        640: 100%|██████████| 44/44 [00:12<00:00,  3.47it/s]\n",
            "                 Class     Images  Instances      Box(P          R      mAP50  mAP50-95): 100%|██████████| 4/4 [00:01<00:00,  3.08it/s]"
          ]
        },
        {
          "output_type": "stream",
          "name": "stdout",
          "text": [
            "                   all        100        408      0.281      0.272       0.21        0.1\n"
          ]
        },
        {
          "output_type": "stream",
          "name": "stderr",
          "text": [
            "\n"
          ]
        },
        {
          "output_type": "stream",
          "name": "stdout",
          "text": [
            "\n",
            "      Epoch    GPU_mem   box_loss   cls_loss   dfl_loss  Instances       Size\n"
          ]
        },
        {
          "output_type": "stream",
          "name": "stderr",
          "text": [
            "     98/150      2.84G       1.73       2.03      1.844         97        640: 100%|██████████| 44/44 [00:12<00:00,  3.39it/s]\n",
            "                 Class     Images  Instances      Box(P          R      mAP50  mAP50-95): 100%|██████████| 4/4 [00:01<00:00,  2.81it/s]"
          ]
        },
        {
          "output_type": "stream",
          "name": "stdout",
          "text": [
            "                   all        100        408       0.26      0.235      0.202     0.0972\n"
          ]
        },
        {
          "output_type": "stream",
          "name": "stderr",
          "text": [
            "\n"
          ]
        },
        {
          "output_type": "stream",
          "name": "stdout",
          "text": [
            "\n",
            "      Epoch    GPU_mem   box_loss   cls_loss   dfl_loss  Instances       Size\n"
          ]
        },
        {
          "output_type": "stream",
          "name": "stderr",
          "text": [
            "     99/150      2.84G      1.734      1.998      1.842         67        640: 100%|██████████| 44/44 [00:12<00:00,  3.53it/s]\n",
            "                 Class     Images  Instances      Box(P          R      mAP50  mAP50-95): 100%|██████████| 4/4 [00:01<00:00,  2.82it/s]"
          ]
        },
        {
          "output_type": "stream",
          "name": "stdout",
          "text": [
            "                   all        100        408      0.262      0.273       0.21      0.095\n"
          ]
        },
        {
          "output_type": "stream",
          "name": "stderr",
          "text": [
            "\n"
          ]
        },
        {
          "output_type": "stream",
          "name": "stdout",
          "text": [
            "\n",
            "      Epoch    GPU_mem   box_loss   cls_loss   dfl_loss  Instances       Size\n"
          ]
        },
        {
          "output_type": "stream",
          "name": "stderr",
          "text": [
            "    100/150      2.84G      1.712      1.979      1.835         71        640: 100%|██████████| 44/44 [00:12<00:00,  3.43it/s]\n",
            "                 Class     Images  Instances      Box(P          R      mAP50  mAP50-95): 100%|██████████| 4/4 [00:01<00:00,  2.95it/s]"
          ]
        },
        {
          "output_type": "stream",
          "name": "stdout",
          "text": [
            "                   all        100        408      0.321       0.25      0.197      0.098\n"
          ]
        },
        {
          "output_type": "stream",
          "name": "stderr",
          "text": [
            "\n"
          ]
        },
        {
          "output_type": "stream",
          "name": "stdout",
          "text": [
            "\n",
            "      Epoch    GPU_mem   box_loss   cls_loss   dfl_loss  Instances       Size\n"
          ]
        },
        {
          "output_type": "stream",
          "name": "stderr",
          "text": [
            "    101/150      2.84G      1.721      1.991       1.83         89        640: 100%|██████████| 44/44 [00:12<00:00,  3.44it/s]\n",
            "                 Class     Images  Instances      Box(P          R      mAP50  mAP50-95): 100%|██████████| 4/4 [00:01<00:00,  2.89it/s]"
          ]
        },
        {
          "output_type": "stream",
          "name": "stdout",
          "text": [
            "                   all        100        408      0.296      0.243      0.215      0.104\n"
          ]
        },
        {
          "output_type": "stream",
          "name": "stderr",
          "text": [
            "\n"
          ]
        },
        {
          "output_type": "stream",
          "name": "stdout",
          "text": [
            "\n",
            "      Epoch    GPU_mem   box_loss   cls_loss   dfl_loss  Instances       Size\n"
          ]
        },
        {
          "output_type": "stream",
          "name": "stderr",
          "text": [
            "    102/150      2.84G      1.692      1.945      1.801         79        640: 100%|██████████| 44/44 [00:12<00:00,  3.45it/s]\n",
            "                 Class     Images  Instances      Box(P          R      mAP50  mAP50-95): 100%|██████████| 4/4 [00:01<00:00,  3.36it/s]\n"
          ]
        },
        {
          "output_type": "stream",
          "name": "stdout",
          "text": [
            "                   all        100        408      0.348      0.251        0.2     0.0954\n",
            "\n",
            "      Epoch    GPU_mem   box_loss   cls_loss   dfl_loss  Instances       Size\n"
          ]
        },
        {
          "output_type": "stream",
          "name": "stderr",
          "text": [
            "    103/150      2.84G      1.687      1.973      1.814         99        640: 100%|██████████| 44/44 [00:12<00:00,  3.52it/s]\n",
            "                 Class     Images  Instances      Box(P          R      mAP50  mAP50-95): 100%|██████████| 4/4 [00:02<00:00,  1.70it/s]"
          ]
        },
        {
          "output_type": "stream",
          "name": "stdout",
          "text": [
            "                   all        100        408      0.226      0.244      0.207      0.103\n"
          ]
        },
        {
          "output_type": "stream",
          "name": "stderr",
          "text": [
            "\n"
          ]
        },
        {
          "output_type": "stream",
          "name": "stdout",
          "text": [
            "\n",
            "      Epoch    GPU_mem   box_loss   cls_loss   dfl_loss  Instances       Size\n"
          ]
        },
        {
          "output_type": "stream",
          "name": "stderr",
          "text": [
            "    104/150      2.84G      1.708      1.995      1.828         69        640: 100%|██████████| 44/44 [00:12<00:00,  3.57it/s]\n",
            "                 Class     Images  Instances      Box(P          R      mAP50  mAP50-95): 100%|██████████| 4/4 [00:01<00:00,  2.14it/s]"
          ]
        },
        {
          "output_type": "stream",
          "name": "stdout",
          "text": [
            "                   all        100        408      0.329      0.192      0.225      0.111\n"
          ]
        },
        {
          "output_type": "stream",
          "name": "stderr",
          "text": [
            "\n"
          ]
        },
        {
          "output_type": "stream",
          "name": "stdout",
          "text": [
            "\n",
            "      Epoch    GPU_mem   box_loss   cls_loss   dfl_loss  Instances       Size\n"
          ]
        },
        {
          "output_type": "stream",
          "name": "stderr",
          "text": [
            "    105/150      2.84G      1.677      1.986      1.808         69        640: 100%|██████████| 44/44 [00:12<00:00,  3.45it/s]\n",
            "                 Class     Images  Instances      Box(P          R      mAP50  mAP50-95): 100%|██████████| 4/4 [00:01<00:00,  2.90it/s]\n"
          ]
        },
        {
          "output_type": "stream",
          "name": "stdout",
          "text": [
            "                   all        100        408      0.298      0.249      0.238       0.12\n",
            "\n",
            "      Epoch    GPU_mem   box_loss   cls_loss   dfl_loss  Instances       Size\n"
          ]
        },
        {
          "output_type": "stream",
          "name": "stderr",
          "text": [
            "    106/150      2.84G      1.704       1.96      1.824         84        640: 100%|██████████| 44/44 [00:13<00:00,  3.36it/s]\n",
            "                 Class     Images  Instances      Box(P          R      mAP50  mAP50-95): 100%|██████████| 4/4 [00:01<00:00,  2.84it/s]"
          ]
        },
        {
          "output_type": "stream",
          "name": "stdout",
          "text": [
            "                   all        100        408      0.277      0.222      0.241      0.118\n"
          ]
        },
        {
          "output_type": "stream",
          "name": "stderr",
          "text": [
            "\n"
          ]
        },
        {
          "output_type": "stream",
          "name": "stdout",
          "text": [
            "\n",
            "      Epoch    GPU_mem   box_loss   cls_loss   dfl_loss  Instances       Size\n"
          ]
        },
        {
          "output_type": "stream",
          "name": "stderr",
          "text": [
            "    107/150      2.84G      1.672       1.95      1.793         61        640: 100%|██████████| 44/44 [00:12<00:00,  3.48it/s]\n",
            "                 Class     Images  Instances      Box(P          R      mAP50  mAP50-95): 100%|██████████| 4/4 [00:01<00:00,  3.32it/s]"
          ]
        },
        {
          "output_type": "stream",
          "name": "stdout",
          "text": [
            "                   all        100        408      0.258      0.254      0.213      0.109\n"
          ]
        },
        {
          "output_type": "stream",
          "name": "stderr",
          "text": [
            "\n"
          ]
        },
        {
          "output_type": "stream",
          "name": "stdout",
          "text": [
            "\n",
            "      Epoch    GPU_mem   box_loss   cls_loss   dfl_loss  Instances       Size\n"
          ]
        },
        {
          "output_type": "stream",
          "name": "stderr",
          "text": [
            "    108/150      2.84G      1.664      1.908      1.782         79        640: 100%|██████████| 44/44 [00:13<00:00,  3.37it/s]\n",
            "                 Class     Images  Instances      Box(P          R      mAP50  mAP50-95): 100%|██████████| 4/4 [00:01<00:00,  3.25it/s]"
          ]
        },
        {
          "output_type": "stream",
          "name": "stdout",
          "text": [
            "                   all        100        408      0.273      0.248      0.207      0.101\n"
          ]
        },
        {
          "output_type": "stream",
          "name": "stderr",
          "text": [
            "\n"
          ]
        },
        {
          "output_type": "stream",
          "name": "stdout",
          "text": [
            "\n",
            "      Epoch    GPU_mem   box_loss   cls_loss   dfl_loss  Instances       Size\n"
          ]
        },
        {
          "output_type": "stream",
          "name": "stderr",
          "text": [
            "    109/150      2.84G      1.676      1.942      1.805         80        640: 100%|██████████| 44/44 [00:14<00:00,  3.11it/s]\n",
            "                 Class     Images  Instances      Box(P          R      mAP50  mAP50-95): 100%|██████████| 4/4 [00:01<00:00,  2.93it/s]"
          ]
        },
        {
          "output_type": "stream",
          "name": "stdout",
          "text": [
            "                   all        100        408      0.239      0.237      0.206     0.0986\n"
          ]
        },
        {
          "output_type": "stream",
          "name": "stderr",
          "text": [
            "\n"
          ]
        },
        {
          "output_type": "stream",
          "name": "stdout",
          "text": [
            "\n",
            "      Epoch    GPU_mem   box_loss   cls_loss   dfl_loss  Instances       Size\n"
          ]
        },
        {
          "output_type": "stream",
          "name": "stderr",
          "text": [
            "    110/150      2.84G      1.676      1.934       1.81        118        640: 100%|██████████| 44/44 [00:13<00:00,  3.30it/s]\n",
            "                 Class     Images  Instances      Box(P          R      mAP50  mAP50-95): 100%|██████████| 4/4 [00:01<00:00,  3.06it/s]\n"
          ]
        },
        {
          "output_type": "stream",
          "name": "stdout",
          "text": [
            "                   all        100        408      0.231      0.262      0.221      0.111\n",
            "\n",
            "      Epoch    GPU_mem   box_loss   cls_loss   dfl_loss  Instances       Size\n"
          ]
        },
        {
          "output_type": "stream",
          "name": "stderr",
          "text": [
            "    111/150      2.84G      1.682      1.921      1.791         88        640: 100%|██████████| 44/44 [00:12<00:00,  3.41it/s]\n",
            "                 Class     Images  Instances      Box(P          R      mAP50  mAP50-95): 100%|██████████| 4/4 [00:01<00:00,  2.09it/s]\n"
          ]
        },
        {
          "output_type": "stream",
          "name": "stdout",
          "text": [
            "                   all        100        408      0.239      0.251       0.22      0.114\n",
            "\n",
            "      Epoch    GPU_mem   box_loss   cls_loss   dfl_loss  Instances       Size\n"
          ]
        },
        {
          "output_type": "stream",
          "name": "stderr",
          "text": [
            "    112/150      2.84G       1.67      1.881       1.78         89        640: 100%|██████████| 44/44 [00:12<00:00,  3.48it/s]\n",
            "                 Class     Images  Instances      Box(P          R      mAP50  mAP50-95): 100%|██████████| 4/4 [00:01<00:00,  2.19it/s]\n"
          ]
        },
        {
          "output_type": "stream",
          "name": "stdout",
          "text": [
            "                   all        100        408      0.213       0.26      0.222      0.113\n",
            "\n",
            "      Epoch    GPU_mem   box_loss   cls_loss   dfl_loss  Instances       Size\n"
          ]
        },
        {
          "output_type": "stream",
          "name": "stderr",
          "text": [
            "    113/150      2.84G      1.636       1.88      1.786        116        640: 100%|██████████| 44/44 [00:14<00:00,  3.06it/s]\n",
            "                 Class     Images  Instances      Box(P          R      mAP50  mAP50-95): 100%|██████████| 4/4 [00:01<00:00,  3.21it/s]"
          ]
        },
        {
          "output_type": "stream",
          "name": "stdout",
          "text": [
            "                   all        100        408      0.262      0.226      0.222      0.109\n"
          ]
        },
        {
          "output_type": "stream",
          "name": "stderr",
          "text": [
            "\n"
          ]
        },
        {
          "output_type": "stream",
          "name": "stdout",
          "text": [
            "\n",
            "      Epoch    GPU_mem   box_loss   cls_loss   dfl_loss  Instances       Size\n"
          ]
        },
        {
          "output_type": "stream",
          "name": "stderr",
          "text": [
            "    114/150      2.84G      1.676      1.894      1.786         88        640: 100%|██████████| 44/44 [00:12<00:00,  3.42it/s]\n",
            "                 Class     Images  Instances      Box(P          R      mAP50  mAP50-95): 100%|██████████| 4/4 [00:01<00:00,  3.04it/s]"
          ]
        },
        {
          "output_type": "stream",
          "name": "stdout",
          "text": [
            "                   all        100        408      0.247      0.278      0.221      0.114\n"
          ]
        },
        {
          "output_type": "stream",
          "name": "stderr",
          "text": [
            "\n"
          ]
        },
        {
          "output_type": "stream",
          "name": "stdout",
          "text": [
            "\n",
            "      Epoch    GPU_mem   box_loss   cls_loss   dfl_loss  Instances       Size\n"
          ]
        },
        {
          "output_type": "stream",
          "name": "stderr",
          "text": [
            "    115/150      2.84G      1.656       1.87      1.785         73        640: 100%|██████████| 44/44 [00:13<00:00,  3.33it/s]\n",
            "                 Class     Images  Instances      Box(P          R      mAP50  mAP50-95): 100%|██████████| 4/4 [00:01<00:00,  2.39it/s]\n"
          ]
        },
        {
          "output_type": "stream",
          "name": "stdout",
          "text": [
            "                   all        100        408      0.313      0.225      0.231      0.116\n",
            "\n",
            "      Epoch    GPU_mem   box_loss   cls_loss   dfl_loss  Instances       Size\n"
          ]
        },
        {
          "output_type": "stream",
          "name": "stderr",
          "text": [
            "    116/150      2.84G      1.661      1.879      1.778         75        640: 100%|██████████| 44/44 [00:13<00:00,  3.36it/s]\n",
            "                 Class     Images  Instances      Box(P          R      mAP50  mAP50-95): 100%|██████████| 4/4 [00:01<00:00,  2.97it/s]"
          ]
        },
        {
          "output_type": "stream",
          "name": "stdout",
          "text": [
            "                   all        100        408      0.279       0.24      0.233      0.115\n"
          ]
        },
        {
          "output_type": "stream",
          "name": "stderr",
          "text": [
            "\n"
          ]
        },
        {
          "output_type": "stream",
          "name": "stdout",
          "text": [
            "\n",
            "      Epoch    GPU_mem   box_loss   cls_loss   dfl_loss  Instances       Size\n"
          ]
        },
        {
          "output_type": "stream",
          "name": "stderr",
          "text": [
            "    117/150      2.84G      1.659      1.923      1.784         50        640: 100%|██████████| 44/44 [00:12<00:00,  3.40it/s]\n",
            "                 Class     Images  Instances      Box(P          R      mAP50  mAP50-95): 100%|██████████| 4/4 [00:01<00:00,  2.63it/s]\n"
          ]
        },
        {
          "output_type": "stream",
          "name": "stdout",
          "text": [
            "                   all        100        408      0.344      0.224      0.231      0.121\n",
            "\n",
            "      Epoch    GPU_mem   box_loss   cls_loss   dfl_loss  Instances       Size\n"
          ]
        },
        {
          "output_type": "stream",
          "name": "stderr",
          "text": [
            "    118/150      2.84G      1.619      1.867       1.77         65        640: 100%|██████████| 44/44 [00:12<00:00,  3.49it/s]\n",
            "                 Class     Images  Instances      Box(P          R      mAP50  mAP50-95): 100%|██████████| 4/4 [00:02<00:00,  1.66it/s]"
          ]
        },
        {
          "output_type": "stream",
          "name": "stdout",
          "text": [
            "                   all        100        408      0.401      0.187      0.219      0.106\n"
          ]
        },
        {
          "output_type": "stream",
          "name": "stderr",
          "text": [
            "\n"
          ]
        },
        {
          "output_type": "stream",
          "name": "stdout",
          "text": [
            "\n",
            "      Epoch    GPU_mem   box_loss   cls_loss   dfl_loss  Instances       Size\n"
          ]
        },
        {
          "output_type": "stream",
          "name": "stderr",
          "text": [
            "    119/150      2.84G      1.681      1.901      1.778         79        640: 100%|██████████| 44/44 [00:12<00:00,  3.43it/s]\n",
            "                 Class     Images  Instances      Box(P          R      mAP50  mAP50-95): 100%|██████████| 4/4 [00:01<00:00,  3.20it/s]"
          ]
        },
        {
          "output_type": "stream",
          "name": "stdout",
          "text": [
            "                   all        100        408      0.268      0.235      0.215      0.107\n"
          ]
        },
        {
          "output_type": "stream",
          "name": "stderr",
          "text": [
            "\n"
          ]
        },
        {
          "output_type": "stream",
          "name": "stdout",
          "text": [
            "\n",
            "      Epoch    GPU_mem   box_loss   cls_loss   dfl_loss  Instances       Size\n"
          ]
        },
        {
          "output_type": "stream",
          "name": "stderr",
          "text": [
            "    120/150      2.84G      1.619      1.851      1.746         59        640: 100%|██████████| 44/44 [00:13<00:00,  3.30it/s]\n",
            "                 Class     Images  Instances      Box(P          R      mAP50  mAP50-95): 100%|██████████| 4/4 [00:01<00:00,  3.13it/s]"
          ]
        },
        {
          "output_type": "stream",
          "name": "stdout",
          "text": [
            "                   all        100        408      0.268      0.249      0.228      0.111\n"
          ]
        },
        {
          "output_type": "stream",
          "name": "stderr",
          "text": [
            "\n"
          ]
        },
        {
          "output_type": "stream",
          "name": "stdout",
          "text": [
            "\n",
            "      Epoch    GPU_mem   box_loss   cls_loss   dfl_loss  Instances       Size\n"
          ]
        },
        {
          "output_type": "stream",
          "name": "stderr",
          "text": [
            "    121/150      2.84G      1.653      1.836      1.781         63        640: 100%|██████████| 44/44 [00:13<00:00,  3.38it/s]\n",
            "                 Class     Images  Instances      Box(P          R      mAP50  mAP50-95): 100%|██████████| 4/4 [00:01<00:00,  3.17it/s]"
          ]
        },
        {
          "output_type": "stream",
          "name": "stdout",
          "text": [
            "                   all        100        408      0.247      0.272      0.218      0.107\n"
          ]
        },
        {
          "output_type": "stream",
          "name": "stderr",
          "text": [
            "\n"
          ]
        },
        {
          "output_type": "stream",
          "name": "stdout",
          "text": [
            "\n",
            "      Epoch    GPU_mem   box_loss   cls_loss   dfl_loss  Instances       Size\n"
          ]
        },
        {
          "output_type": "stream",
          "name": "stderr",
          "text": [
            "    122/150      2.84G      1.615      1.831      1.757         82        640: 100%|██████████| 44/44 [00:13<00:00,  3.22it/s]\n",
            "                 Class     Images  Instances      Box(P          R      mAP50  mAP50-95): 100%|██████████| 4/4 [00:01<00:00,  2.77it/s]"
          ]
        },
        {
          "output_type": "stream",
          "name": "stdout",
          "text": [
            "                   all        100        408      0.274      0.227      0.231      0.112\n"
          ]
        },
        {
          "output_type": "stream",
          "name": "stderr",
          "text": [
            "\n"
          ]
        },
        {
          "output_type": "stream",
          "name": "stdout",
          "text": [
            "\n",
            "      Epoch    GPU_mem   box_loss   cls_loss   dfl_loss  Instances       Size\n"
          ]
        },
        {
          "output_type": "stream",
          "name": "stderr",
          "text": [
            "    123/150      2.84G      1.595      1.827      1.748         49        640: 100%|██████████| 44/44 [00:12<00:00,  3.44it/s]\n",
            "                 Class     Images  Instances      Box(P          R      mAP50  mAP50-95): 100%|██████████| 4/4 [00:01<00:00,  3.26it/s]"
          ]
        },
        {
          "output_type": "stream",
          "name": "stdout",
          "text": [
            "                   all        100        408      0.313      0.233      0.236      0.116\n"
          ]
        },
        {
          "output_type": "stream",
          "name": "stderr",
          "text": [
            "\n"
          ]
        },
        {
          "output_type": "stream",
          "name": "stdout",
          "text": [
            "\n",
            "      Epoch    GPU_mem   box_loss   cls_loss   dfl_loss  Instances       Size\n"
          ]
        },
        {
          "output_type": "stream",
          "name": "stderr",
          "text": [
            "    124/150      2.84G      1.637      1.826      1.748         95        640: 100%|██████████| 44/44 [00:12<00:00,  3.41it/s]\n",
            "                 Class     Images  Instances      Box(P          R      mAP50  mAP50-95): 100%|██████████| 4/4 [00:01<00:00,  2.28it/s]"
          ]
        },
        {
          "output_type": "stream",
          "name": "stdout",
          "text": [
            "                   all        100        408       0.44      0.217      0.232      0.121\n"
          ]
        },
        {
          "output_type": "stream",
          "name": "stderr",
          "text": [
            "\n"
          ]
        },
        {
          "output_type": "stream",
          "name": "stdout",
          "text": [
            "\n",
            "      Epoch    GPU_mem   box_loss   cls_loss   dfl_loss  Instances       Size\n"
          ]
        },
        {
          "output_type": "stream",
          "name": "stderr",
          "text": [
            "    125/150      2.84G      1.625      1.808      1.744         82        640: 100%|██████████| 44/44 [00:12<00:00,  3.61it/s]\n",
            "                 Class     Images  Instances      Box(P          R      mAP50  mAP50-95): 100%|██████████| 4/4 [00:02<00:00,  1.98it/s]"
          ]
        },
        {
          "output_type": "stream",
          "name": "stdout",
          "text": [
            "                   all        100        408       0.33      0.216      0.219       0.11\n"
          ]
        },
        {
          "output_type": "stream",
          "name": "stderr",
          "text": [
            "\n"
          ]
        },
        {
          "output_type": "stream",
          "name": "stdout",
          "text": [
            "\n",
            "      Epoch    GPU_mem   box_loss   cls_loss   dfl_loss  Instances       Size\n"
          ]
        },
        {
          "output_type": "stream",
          "name": "stderr",
          "text": [
            "    126/150      2.84G      1.637      1.819      1.755        105        640: 100%|██████████| 44/44 [00:12<00:00,  3.55it/s]\n",
            "                 Class     Images  Instances      Box(P          R      mAP50  mAP50-95): 100%|██████████| 4/4 [00:01<00:00,  2.21it/s]\n"
          ]
        },
        {
          "output_type": "stream",
          "name": "stdout",
          "text": [
            "                   all        100        408      0.277      0.241      0.232      0.114\n",
            "\n",
            "      Epoch    GPU_mem   box_loss   cls_loss   dfl_loss  Instances       Size\n"
          ]
        },
        {
          "output_type": "stream",
          "name": "stderr",
          "text": [
            "    127/150      2.84G      1.611      1.827      1.752         80        640: 100%|██████████| 44/44 [00:12<00:00,  3.48it/s]\n",
            "                 Class     Images  Instances      Box(P          R      mAP50  mAP50-95): 100%|██████████| 4/4 [00:01<00:00,  2.20it/s]"
          ]
        },
        {
          "output_type": "stream",
          "name": "stdout",
          "text": [
            "                   all        100        408      0.289      0.223      0.214      0.107\n"
          ]
        },
        {
          "output_type": "stream",
          "name": "stderr",
          "text": [
            "\n"
          ]
        },
        {
          "output_type": "stream",
          "name": "stdout",
          "text": [
            "\n",
            "      Epoch    GPU_mem   box_loss   cls_loss   dfl_loss  Instances       Size\n"
          ]
        },
        {
          "output_type": "stream",
          "name": "stderr",
          "text": [
            "    128/150      2.84G      1.638      1.802      1.741         79        640: 100%|██████████| 44/44 [00:12<00:00,  3.43it/s]\n",
            "                 Class     Images  Instances      Box(P          R      mAP50  mAP50-95): 100%|██████████| 4/4 [00:01<00:00,  2.71it/s]"
          ]
        },
        {
          "output_type": "stream",
          "name": "stdout",
          "text": [
            "                   all        100        408      0.292      0.219      0.218      0.109\n"
          ]
        },
        {
          "output_type": "stream",
          "name": "stderr",
          "text": [
            "\n"
          ]
        },
        {
          "output_type": "stream",
          "name": "stdout",
          "text": [
            "\n",
            "      Epoch    GPU_mem   box_loss   cls_loss   dfl_loss  Instances       Size\n"
          ]
        },
        {
          "output_type": "stream",
          "name": "stderr",
          "text": [
            "    129/150      2.84G      1.594      1.781      1.733         68        640: 100%|██████████| 44/44 [00:12<00:00,  3.49it/s]\n",
            "                 Class     Images  Instances      Box(P          R      mAP50  mAP50-95): 100%|██████████| 4/4 [00:01<00:00,  2.89it/s]"
          ]
        },
        {
          "output_type": "stream",
          "name": "stdout",
          "text": [
            "                   all        100        408      0.271       0.23       0.24      0.118\n"
          ]
        },
        {
          "output_type": "stream",
          "name": "stderr",
          "text": [
            "\n"
          ]
        },
        {
          "output_type": "stream",
          "name": "stdout",
          "text": [
            "\n",
            "      Epoch    GPU_mem   box_loss   cls_loss   dfl_loss  Instances       Size\n"
          ]
        },
        {
          "output_type": "stream",
          "name": "stderr",
          "text": [
            "    130/150      2.84G        1.6      1.756       1.73        107        640: 100%|██████████| 44/44 [00:13<00:00,  3.37it/s]\n",
            "                 Class     Images  Instances      Box(P          R      mAP50  mAP50-95): 100%|██████████| 4/4 [00:01<00:00,  3.23it/s]"
          ]
        },
        {
          "output_type": "stream",
          "name": "stdout",
          "text": [
            "                   all        100        408      0.315      0.228      0.244      0.121\n"
          ]
        },
        {
          "output_type": "stream",
          "name": "stderr",
          "text": [
            "\n"
          ]
        },
        {
          "output_type": "stream",
          "name": "stdout",
          "text": [
            "\n",
            "      Epoch    GPU_mem   box_loss   cls_loss   dfl_loss  Instances       Size\n"
          ]
        },
        {
          "output_type": "stream",
          "name": "stderr",
          "text": [
            "    131/150      2.84G      1.582      1.743      1.709         50        640: 100%|██████████| 44/44 [00:13<00:00,  3.17it/s]\n",
            "                 Class     Images  Instances      Box(P          R      mAP50  mAP50-95): 100%|██████████| 4/4 [00:01<00:00,  2.92it/s]"
          ]
        },
        {
          "output_type": "stream",
          "name": "stdout",
          "text": [
            "                   all        100        408      0.408      0.223      0.254      0.129\n"
          ]
        },
        {
          "output_type": "stream",
          "name": "stderr",
          "text": [
            "\n"
          ]
        },
        {
          "output_type": "stream",
          "name": "stdout",
          "text": [
            "\n",
            "      Epoch    GPU_mem   box_loss   cls_loss   dfl_loss  Instances       Size\n"
          ]
        },
        {
          "output_type": "stream",
          "name": "stderr",
          "text": [
            "    132/150      2.84G      1.577      1.774      1.713         59        640: 100%|██████████| 44/44 [00:13<00:00,  3.34it/s]\n",
            "                 Class     Images  Instances      Box(P          R      mAP50  mAP50-95): 100%|██████████| 4/4 [00:01<00:00,  3.03it/s]\n"
          ]
        },
        {
          "output_type": "stream",
          "name": "stdout",
          "text": [
            "                   all        100        408      0.249      0.285      0.237      0.116\n",
            "\n",
            "      Epoch    GPU_mem   box_loss   cls_loss   dfl_loss  Instances       Size\n"
          ]
        },
        {
          "output_type": "stream",
          "name": "stderr",
          "text": [
            "    133/150      2.84G      1.601      1.732      1.729         66        640: 100%|██████████| 44/44 [00:12<00:00,  3.48it/s]\n",
            "                 Class     Images  Instances      Box(P          R      mAP50  mAP50-95): 100%|██████████| 4/4 [00:01<00:00,  2.34it/s]\n"
          ]
        },
        {
          "output_type": "stream",
          "name": "stdout",
          "text": [
            "                   all        100        408      0.311       0.22       0.23      0.113\n",
            "\n",
            "      Epoch    GPU_mem   box_loss   cls_loss   dfl_loss  Instances       Size\n"
          ]
        },
        {
          "output_type": "stream",
          "name": "stderr",
          "text": [
            "    134/150      2.84G       1.59      1.798       1.73        105        640: 100%|██████████| 44/44 [00:12<00:00,  3.43it/s]\n",
            "                 Class     Images  Instances      Box(P          R      mAP50  mAP50-95): 100%|██████████| 4/4 [00:02<00:00,  1.49it/s]"
          ]
        },
        {
          "output_type": "stream",
          "name": "stdout",
          "text": [
            "                   all        100        408      0.303      0.224      0.245      0.122\n"
          ]
        },
        {
          "output_type": "stream",
          "name": "stderr",
          "text": [
            "\n"
          ]
        },
        {
          "output_type": "stream",
          "name": "stdout",
          "text": [
            "\n",
            "      Epoch    GPU_mem   box_loss   cls_loss   dfl_loss  Instances       Size\n"
          ]
        },
        {
          "output_type": "stream",
          "name": "stderr",
          "text": [
            "    135/150      2.84G      1.597      1.767      1.723         41        640: 100%|██████████| 44/44 [00:12<00:00,  3.55it/s]\n",
            "                 Class     Images  Instances      Box(P          R      mAP50  mAP50-95): 100%|██████████| 4/4 [00:01<00:00,  2.36it/s]"
          ]
        },
        {
          "output_type": "stream",
          "name": "stdout",
          "text": [
            "                   all        100        408      0.338      0.253      0.242      0.119\n"
          ]
        },
        {
          "output_type": "stream",
          "name": "stderr",
          "text": [
            "\n"
          ]
        },
        {
          "output_type": "stream",
          "name": "stdout",
          "text": [
            "\n",
            "      Epoch    GPU_mem   box_loss   cls_loss   dfl_loss  Instances       Size\n"
          ]
        },
        {
          "output_type": "stream",
          "name": "stderr",
          "text": [
            "    136/150      2.84G      1.562      1.734      1.708         60        640: 100%|██████████| 44/44 [00:13<00:00,  3.32it/s]\n",
            "                 Class     Images  Instances      Box(P          R      mAP50  mAP50-95): 100%|██████████| 4/4 [00:01<00:00,  2.59it/s]"
          ]
        },
        {
          "output_type": "stream",
          "name": "stdout",
          "text": [
            "                   all        100        408      0.337      0.284      0.249      0.122\n"
          ]
        },
        {
          "output_type": "stream",
          "name": "stderr",
          "text": [
            "\n"
          ]
        },
        {
          "output_type": "stream",
          "name": "stdout",
          "text": [
            "\n",
            "      Epoch    GPU_mem   box_loss   cls_loss   dfl_loss  Instances       Size\n"
          ]
        },
        {
          "output_type": "stream",
          "name": "stderr",
          "text": [
            "    137/150      2.84G      1.605      1.761      1.729         70        640: 100%|██████████| 44/44 [00:12<00:00,  3.42it/s]\n",
            "                 Class     Images  Instances      Box(P          R      mAP50  mAP50-95): 100%|██████████| 4/4 [00:01<00:00,  2.84it/s]"
          ]
        },
        {
          "output_type": "stream",
          "name": "stdout",
          "text": [
            "                   all        100        408      0.323      0.257      0.242      0.121\n"
          ]
        },
        {
          "output_type": "stream",
          "name": "stderr",
          "text": [
            "\n"
          ]
        },
        {
          "output_type": "stream",
          "name": "stdout",
          "text": [
            "\n",
            "      Epoch    GPU_mem   box_loss   cls_loss   dfl_loss  Instances       Size\n"
          ]
        },
        {
          "output_type": "stream",
          "name": "stderr",
          "text": [
            "    138/150      2.84G      1.581      1.739       1.72         58        640: 100%|██████████| 44/44 [00:12<00:00,  3.42it/s]\n",
            "                 Class     Images  Instances      Box(P          R      mAP50  mAP50-95): 100%|██████████| 4/4 [00:01<00:00,  3.11it/s]"
          ]
        },
        {
          "output_type": "stream",
          "name": "stdout",
          "text": [
            "                   all        100        408      0.291      0.251      0.243      0.117\n"
          ]
        },
        {
          "output_type": "stream",
          "name": "stderr",
          "text": [
            "\n"
          ]
        },
        {
          "output_type": "stream",
          "name": "stdout",
          "text": [
            "\n",
            "      Epoch    GPU_mem   box_loss   cls_loss   dfl_loss  Instances       Size\n"
          ]
        },
        {
          "output_type": "stream",
          "name": "stderr",
          "text": [
            "    139/150      2.84G       1.57      1.726       1.71         97        640: 100%|██████████| 44/44 [00:12<00:00,  3.40it/s]\n",
            "                 Class     Images  Instances      Box(P          R      mAP50  mAP50-95): 100%|██████████| 4/4 [00:01<00:00,  3.10it/s]\n"
          ]
        },
        {
          "output_type": "stream",
          "name": "stdout",
          "text": [
            "                   all        100        408       0.32      0.254      0.244      0.121\n",
            "\n",
            "      Epoch    GPU_mem   box_loss   cls_loss   dfl_loss  Instances       Size\n"
          ]
        },
        {
          "output_type": "stream",
          "name": "stderr",
          "text": [
            "    140/150      2.84G      1.559      1.713      1.706         82        640: 100%|██████████| 44/44 [00:12<00:00,  3.45it/s]\n",
            "                 Class     Images  Instances      Box(P          R      mAP50  mAP50-95): 100%|██████████| 4/4 [00:01<00:00,  3.21it/s]\n"
          ]
        },
        {
          "output_type": "stream",
          "name": "stdout",
          "text": [
            "                   all        100        408      0.362      0.244      0.244      0.124\n",
            "Closing dataloader mosaic\n",
            "\u001b[34m\u001b[1malbumentations: \u001b[0mBlur(p=0.01, blur_limit=(3, 7)), MedianBlur(p=0.01, blur_limit=(3, 7)), ToGray(p=0.01, num_output_channels=3, method='weighted_average'), CLAHE(p=0.01, clip_limit=(1.0, 4.0), tile_grid_size=(8, 8))\n",
            "\n",
            "      Epoch    GPU_mem   box_loss   cls_loss   dfl_loss  Instances       Size\n"
          ]
        },
        {
          "output_type": "stream",
          "name": "stderr",
          "text": [
            "    141/150      2.84G      1.518      1.689      1.718         37        640: 100%|██████████| 44/44 [00:13<00:00,  3.15it/s]\n",
            "                 Class     Images  Instances      Box(P          R      mAP50  mAP50-95): 100%|██████████| 4/4 [00:01<00:00,  2.03it/s]\n"
          ]
        },
        {
          "output_type": "stream",
          "name": "stdout",
          "text": [
            "                   all        100        408      0.269      0.279      0.226      0.111\n",
            "\n",
            "      Epoch    GPU_mem   box_loss   cls_loss   dfl_loss  Instances       Size\n"
          ]
        },
        {
          "output_type": "stream",
          "name": "stderr",
          "text": [
            "    142/150      2.84G      1.467      1.561      1.668         41        640: 100%|██████████| 44/44 [00:11<00:00,  3.69it/s]\n",
            "                 Class     Images  Instances      Box(P          R      mAP50  mAP50-95): 100%|██████████| 4/4 [00:02<00:00,  1.90it/s]"
          ]
        },
        {
          "output_type": "stream",
          "name": "stdout",
          "text": [
            "                   all        100        408      0.312      0.233      0.225       0.11\n"
          ]
        },
        {
          "output_type": "stream",
          "name": "stderr",
          "text": [
            "\n"
          ]
        },
        {
          "output_type": "stream",
          "name": "stdout",
          "text": [
            "\n",
            "      Epoch    GPU_mem   box_loss   cls_loss   dfl_loss  Instances       Size\n"
          ]
        },
        {
          "output_type": "stream",
          "name": "stderr",
          "text": [
            "    143/150      2.84G      1.499      1.565      1.692         50        640: 100%|██████████| 44/44 [00:12<00:00,  3.66it/s]\n",
            "                 Class     Images  Instances      Box(P          R      mAP50  mAP50-95): 100%|██████████| 4/4 [00:01<00:00,  2.75it/s]"
          ]
        },
        {
          "output_type": "stream",
          "name": "stdout",
          "text": [
            "                   all        100        408       0.27      0.266      0.222       0.11\n"
          ]
        },
        {
          "output_type": "stream",
          "name": "stderr",
          "text": [
            "\n"
          ]
        },
        {
          "output_type": "stream",
          "name": "stdout",
          "text": [
            "\n",
            "      Epoch    GPU_mem   box_loss   cls_loss   dfl_loss  Instances       Size\n"
          ]
        },
        {
          "output_type": "stream",
          "name": "stderr",
          "text": [
            "    144/150      2.84G      1.466      1.505      1.665         52        640: 100%|██████████| 44/44 [00:12<00:00,  3.59it/s]\n",
            "                 Class     Images  Instances      Box(P          R      mAP50  mAP50-95): 100%|██████████| 4/4 [00:01<00:00,  3.12it/s]"
          ]
        },
        {
          "output_type": "stream",
          "name": "stdout",
          "text": [
            "                   all        100        408       0.28      0.237      0.218       0.11\n"
          ]
        },
        {
          "output_type": "stream",
          "name": "stderr",
          "text": [
            "\n"
          ]
        },
        {
          "output_type": "stream",
          "name": "stdout",
          "text": [
            "\n",
            "      Epoch    GPU_mem   box_loss   cls_loss   dfl_loss  Instances       Size\n"
          ]
        },
        {
          "output_type": "stream",
          "name": "stderr",
          "text": [
            "    145/150      2.84G       1.44      1.462       1.66         43        640: 100%|██████████| 44/44 [00:12<00:00,  3.60it/s]\n",
            "                 Class     Images  Instances      Box(P          R      mAP50  mAP50-95): 100%|██████████| 4/4 [00:01<00:00,  2.93it/s]\n"
          ]
        },
        {
          "output_type": "stream",
          "name": "stdout",
          "text": [
            "                   all        100        408      0.268      0.253      0.221      0.111\n",
            "\n",
            "      Epoch    GPU_mem   box_loss   cls_loss   dfl_loss  Instances       Size\n"
          ]
        },
        {
          "output_type": "stream",
          "name": "stderr",
          "text": [
            "    146/150      2.84G      1.457       1.51      1.656         31        640: 100%|██████████| 44/44 [00:12<00:00,  3.57it/s]\n",
            "                 Class     Images  Instances      Box(P          R      mAP50  mAP50-95): 100%|██████████| 4/4 [00:01<00:00,  3.19it/s]"
          ]
        },
        {
          "output_type": "stream",
          "name": "stdout",
          "text": [
            "                   all        100        408      0.321      0.235      0.224      0.114\n"
          ]
        },
        {
          "output_type": "stream",
          "name": "stderr",
          "text": [
            "\n"
          ]
        },
        {
          "output_type": "stream",
          "name": "stdout",
          "text": [
            "\n",
            "      Epoch    GPU_mem   box_loss   cls_loss   dfl_loss  Instances       Size\n"
          ]
        },
        {
          "output_type": "stream",
          "name": "stderr",
          "text": [
            "    147/150      2.84G      1.435      1.479      1.645         41        640: 100%|██████████| 44/44 [00:12<00:00,  3.57it/s]\n",
            "                 Class     Images  Instances      Box(P          R      mAP50  mAP50-95): 100%|██████████| 4/4 [00:01<00:00,  3.28it/s]"
          ]
        },
        {
          "output_type": "stream",
          "name": "stdout",
          "text": [
            "                   all        100        408      0.316       0.24      0.237      0.117\n"
          ]
        },
        {
          "output_type": "stream",
          "name": "stderr",
          "text": [
            "\n"
          ]
        },
        {
          "output_type": "stream",
          "name": "stdout",
          "text": [
            "\n",
            "      Epoch    GPU_mem   box_loss   cls_loss   dfl_loss  Instances       Size\n"
          ]
        },
        {
          "output_type": "stream",
          "name": "stderr",
          "text": [
            "    148/150      2.84G      1.433      1.465      1.646         32        640: 100%|██████████| 44/44 [00:12<00:00,  3.54it/s]\n",
            "                 Class     Images  Instances      Box(P          R      mAP50  mAP50-95): 100%|██████████| 4/4 [00:01<00:00,  3.12it/s]"
          ]
        },
        {
          "output_type": "stream",
          "name": "stdout",
          "text": [
            "                   all        100        408      0.321      0.231       0.23      0.118\n"
          ]
        },
        {
          "output_type": "stream",
          "name": "stderr",
          "text": [
            "\n"
          ]
        },
        {
          "output_type": "stream",
          "name": "stdout",
          "text": [
            "\n",
            "      Epoch    GPU_mem   box_loss   cls_loss   dfl_loss  Instances       Size\n"
          ]
        },
        {
          "output_type": "stream",
          "name": "stderr",
          "text": [
            "    149/150      2.84G      1.427      1.473      1.651         42        640: 100%|██████████| 44/44 [00:12<00:00,  3.54it/s]\n",
            "                 Class     Images  Instances      Box(P          R      mAP50  mAP50-95): 100%|██████████| 4/4 [00:01<00:00,  3.00it/s]\n"
          ]
        },
        {
          "output_type": "stream",
          "name": "stdout",
          "text": [
            "                   all        100        408      0.318      0.243       0.24      0.118\n",
            "\n",
            "      Epoch    GPU_mem   box_loss   cls_loss   dfl_loss  Instances       Size\n"
          ]
        },
        {
          "output_type": "stream",
          "name": "stderr",
          "text": [
            "    150/150      2.84G      1.445      1.481      1.653         51        640: 100%|██████████| 44/44 [00:12<00:00,  3.60it/s]\n",
            "                 Class     Images  Instances      Box(P          R      mAP50  mAP50-95): 100%|██████████| 4/4 [00:01<00:00,  3.19it/s]"
          ]
        },
        {
          "output_type": "stream",
          "name": "stdout",
          "text": [
            "                   all        100        408      0.272      0.245      0.231      0.117\n"
          ]
        },
        {
          "output_type": "stream",
          "name": "stderr",
          "text": [
            "\n"
          ]
        },
        {
          "output_type": "stream",
          "name": "stdout",
          "text": [
            "\n",
            "150 epochs completed in 0.624 hours.\n",
            "Optimizer stripped from runs/detect/train3/weights/last.pt, 6.2MB\n",
            "Optimizer stripped from runs/detect/train3/weights/best.pt, 6.2MB\n",
            "\n",
            "Validating runs/detect/train3/weights/best.pt...\n",
            "Ultralytics 8.3.116 🚀 Python-3.11.12 torch-2.6.0+cu124 CUDA:0 (Tesla T4, 15095MiB)\n",
            "YOLOv8n summary (fused): 72 layers, 3,007,988 parameters, 0 gradients, 8.1 GFLOPs\n"
          ]
        },
        {
          "output_type": "stream",
          "name": "stderr",
          "text": [
            "                 Class     Images  Instances      Box(P          R      mAP50  mAP50-95): 100%|██████████| 4/4 [00:02<00:00,  1.65it/s]\n"
          ]
        },
        {
          "output_type": "stream",
          "name": "stdout",
          "text": [
            "                   all        100        408      0.405      0.222      0.255       0.13\n",
            "               Bicycle         18         26      0.609      0.462      0.503      0.256\n",
            "                  Boat         18         33      0.534      0.152      0.197     0.0644\n",
            "                Bottle          1          1          0          0    0.00454   0.000909\n",
            "                   Bus         17         19      0.431      0.316      0.393      0.235\n",
            "                   Car         34         73      0.619      0.288      0.387       0.19\n",
            "                   Cat          6          7          0          0     0.0528     0.0288\n",
            "                 Chair          6         13          0          0     0.0125    0.00575\n",
            "                   Dog          6          9      0.576      0.444       0.44      0.248\n",
            "             Motorbike         21         44      0.694      0.361      0.389      0.181\n",
            "                People         45        177      0.731      0.249      0.338      0.143\n",
            "                 Table          4          6      0.266      0.167     0.0872     0.0761\n",
            "Speed: 0.2ms preprocess, 3.1ms inference, 0.0ms loss, 6.3ms postprocess per image\n",
            "Results saved to \u001b[1mruns/detect/train3\u001b[0m\n"
          ]
        }
      ]
    },
    {
      "cell_type": "code",
      "source": [
        "metrics = model_exdark.val(\n",
        "    data=\"/content/test_data.yaml\",\n",
        "    imgsz=640,\n",
        "    device=0\n",
        ")"
      ],
      "metadata": {
        "colab": {
          "base_uri": "https://localhost:8080/"
        },
        "outputId": "a747adb0-82db-4fdb-a831-9063e9ec8a5f",
        "id": "-jtRenaji233"
      },
      "execution_count": null,
      "outputs": [
        {
          "output_type": "stream",
          "name": "stdout",
          "text": [
            "Ultralytics 8.3.116 🚀 Python-3.11.12 torch-2.6.0+cu124 CUDA:0 (Tesla T4, 15095MiB)\n",
            "YOLOv8n summary (fused): 72 layers, 3,007,988 parameters, 0 gradients, 8.1 GFLOPs\n",
            "\u001b[34m\u001b[1mval: \u001b[0mFast image access ✅ (ping: 0.0±0.0 ms, read: 1823.9±876.8 MB/s, size: 310.3 KB)\n"
          ]
        },
        {
          "output_type": "stream",
          "name": "stderr",
          "text": [
            "\u001b[34m\u001b[1mval: \u001b[0mScanning /content/labels/val.cache... 100 images, 0 backgrounds, 0 corrupt: 100%|██████████| 100/100 [00:00<?, ?it/s]\n",
            "                 Class     Images  Instances      Box(P          R      mAP50  mAP50-95): 100%|██████████| 7/7 [00:03<00:00,  1.94it/s]\n"
          ]
        },
        {
          "output_type": "stream",
          "name": "stdout",
          "text": [
            "                   all        100        408      0.408      0.222      0.256      0.129\n",
            "               Bicycle         18         26      0.608      0.462      0.502      0.256\n",
            "                  Boat         18         33      0.531      0.152      0.197     0.0621\n",
            "                Bottle          1          1          0          0    0.00456   0.000913\n",
            "                   Bus         17         19      0.431      0.316      0.393      0.235\n",
            "                   Car         34         73       0.62      0.288      0.388      0.188\n",
            "                   Cat          6          7          0          0     0.0528     0.0288\n",
            "                 Chair          6         13          0          0     0.0126     0.0058\n",
            "                   Dog          6          9      0.575      0.444       0.44      0.239\n",
            "             Motorbike         21         44      0.726      0.361        0.4      0.182\n",
            "                People         45        177       0.73      0.249      0.338      0.143\n",
            "                 Table          4          6      0.266      0.167     0.0871     0.0759\n",
            "Speed: 3.0ms preprocess, 5.7ms inference, 0.0ms loss, 3.7ms postprocess per image\n",
            "Results saved to \u001b[1mruns/detect/train32\u001b[0m\n"
          ]
        }
      ]
    },
    {
      "cell_type": "code",
      "source": [
        "metrics.results_dict"
      ],
      "metadata": {
        "colab": {
          "base_uri": "https://localhost:8080/"
        },
        "outputId": "b60a86e3-33be-4403-92ed-b4e448b500be",
        "id": "X9EzKKf9i234"
      },
      "execution_count": null,
      "outputs": [
        {
          "output_type": "execute_result",
          "data": {
            "text/plain": [
              "{'metrics/precision(B)': np.float64(0.407804365831443),\n",
              " 'metrics/recall(B)': np.float64(0.2215936285012795),\n",
              " 'metrics/mAP50(B)': np.float64(0.25594697672359257),\n",
              " 'metrics/mAP50-95(B)': np.float64(0.12873756623322552),\n",
              " 'fitness': np.float64(0.14145850728226222)}"
            ]
          },
          "metadata": {},
          "execution_count": 48
        }
      ]
    },
    {
      "cell_type": "code",
      "source": [
        "results_exdark = model_exdark.predict(\n",
        "    source=\"/content/atests\",  # folder with your test images\n",
        "    imgsz=640,\n",
        "    conf=0.25,         # confidence threshold (optional)\n",
        "    save=True,         # saves annotated images to disk\n",
        "    device=0\n",
        ")"
      ],
      "metadata": {
        "colab": {
          "base_uri": "https://localhost:8080/"
        },
        "id": "2Jv_NmNwfVei",
        "outputId": "62f3a08d-f99b-49a5-d2a8-41c283d9f88a"
      },
      "execution_count": null,
      "outputs": [
        {
          "output_type": "stream",
          "name": "stdout",
          "text": [
            "\n",
            "image 1/6 /content/atests/2015_00422.jpg: 448x640 1 Motorbike, 8.7ms\n",
            "image 2/6 /content/atests/2015_00488.jpg: 480x640 1 Bicycle, 1 People, 7.0ms\n",
            "image 3/6 /content/atests/2015_01139.jpg: 448x640 (no detections), 6.9ms\n",
            "image 4/6 /content/atests/2015_02852.jpg: 448x640 1 Car, 6.1ms\n",
            "image 5/6 /content/atests/2015_02860.jpg: 480x640 2 Cars, 6.9ms\n",
            "image 6/6 /content/atests/2015_07279.jpg: 544x640 1 Bus, 1 Car, 1 Table, 8.0ms\n",
            "Speed: 2.6ms preprocess, 7.2ms inference, 1.6ms postprocess per image at shape (1, 3, 544, 640)\n",
            "Results saved to \u001b[1mruns/detect/train33\u001b[0m\n"
          ]
        }
      ]
    },
    {
      "cell_type": "code",
      "source": [
        "!zip -r exdark_only.zip /content/runs/detect/train33"
      ],
      "metadata": {
        "colab": {
          "base_uri": "https://localhost:8080/"
        },
        "id": "qeUzpaFejBoP",
        "outputId": "1ad880ac-806d-4e12-ea64-b3183dd9cfd8"
      },
      "execution_count": null,
      "outputs": [
        {
          "output_type": "stream",
          "name": "stdout",
          "text": [
            "  adding: content/runs/detect/train33/ (stored 0%)\n",
            "  adding: content/runs/detect/train33/2015_02860.jpg (deflated 7%)\n",
            "  adding: content/runs/detect/train33/2015_01139.jpg (deflated 0%)\n",
            "  adding: content/runs/detect/train33/2015_00422.jpg (deflated 0%)\n",
            "  adding: content/runs/detect/train33/2015_02852.jpg (deflated 3%)\n",
            "  adding: content/runs/detect/train33/2015_07279.jpg (deflated 3%)\n",
            "  adding: content/runs/detect/train33/2015_00488.jpg (deflated 3%)\n"
          ]
        }
      ]
    }
  ]
}